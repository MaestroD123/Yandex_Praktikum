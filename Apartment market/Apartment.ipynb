{
 "cells": [
  {
   "cell_type": "markdown",
   "metadata": {},
   "source": [
    "# Исследование объявлений о продаже квартир\n",
    "\n",
    "В вашем распоряжении данные сервиса Яндекс.Недвижимость — архив объявлений о продаже квартир в Санкт-Петербурге и соседних населённых пунктов за несколько лет. Нужно научиться определять рыночную стоимость объектов недвижимости. Ваша задача — установить параметры. Это позволит построить автоматизированную систему: она отследит аномалии и мошенническую деятельность. \n",
    "\n",
    "По каждой квартире на продажу доступны два вида данных. Первые вписаны пользователем, вторые — получены автоматически на основе картографических данных. Например, расстояние до центра, аэропорта, ближайшего парка и водоёма. "
   ]
  },
  {
   "cell_type": "markdown",
   "metadata": {},
   "source": [
    "<b>Шаг 1. Откройте файл с данными и изучите общую информацию</b>\n",
    "\n",
    "Путь к файлу: /datasets/real_estate_data.csv\n",
    " - Скачать датасет\n",
    " - Загрузите данные из файла в датафрейм.\n",
    " - Изучите общую информацию о полученном датафрейме.\n",
    " - Постройте общую гистограмму для всех числовых столбцов таблицы. Например, для датафрейма data это можно сделать командой data.hist(figsize=(15, 20)).\n",
    " \n",
    "<b>Шаг 2. Предобработка данных</b>\n",
    "\n",
    "Найдите и изучите пропущенные значения в столбцах:\n",
    " - Определите, в каких столбцах есть пропуски.\n",
    " - Заполните пропущенные значения там, где это возможно. Например, если продавец не указал число балконов, то, скорее всего, в его квартире их нет. Такие пропуски правильно заменить на 0. Если логичную замену предложить невозможно, то оставьте эти значения пустыми. Пропуски — тоже важный сигнал, который нужно учитывать.\n",
    " - В ячейке с типом markdown укажите причины, которые могли привести к пропускам в данных.\n",
    " \n",
    "Рассмотрите типы данных в каждом столбце:\n",
    " - Найдите столбцы, в которых нужно изменить тип данных.\n",
    " - Преобразуйте тип данных в выбранных столбцах.\n",
    " - В ячейке с типом markdown поясните, почему нужно изменить тип данных.\n",
    " - Изучите уникальные значения в столбце с названиями и устраните неявные дубликаты. Например, «поселок Рябово» и «поселок городского типа Рябово», «поселок Тельмана» и «посёлок Тельмана» — это обозначения одних и тех же населённых пунктов. Вы можете заменить названия в существующем столбце или создать новый с названиями без дубликатов.\n",
    " - Найдите и устраните редкие и выбивающиеся значения. Например, в столбце ceiling_height может быть указана высота потолков 25 м и 32 м. Логично предположить, что на самом деле это вещественные значения: 2.5 м и 3.2 м. Попробуйте обработать аномалии в этом и других столбцах. \n",
    " - Если природа аномалии понятна и данные действительно искажены, то восстановите корректное значение.\n",
    " - В противном случае удалите редкие и выбивающиеся значения.\n",
    " - В ячейке с типом markdown опишите, какие особенности в данных вы обнаружили.\n",
    " \n",
    "<b>Шаг 3. Добавьте в таблицу новые столбцы со следующими параметрами: </b>\n",
    "\n",
    " - цена одного квадратного метра;\n",
    " - день недели публикации объявления (0 — понедельник, 1 — вторник и так далее);\n",
    " - месяц публикации объявления;\n",
    " - год публикации объявления;\n",
    " - тип этажа квартиры (значения — «первый», «последний», «другой»);\n",
    " - расстояние до центра города в километрах (переведите из м в км и округлите до целых значений).\n",
    " \n",
    "<b>Шаг 4. Проведите исследовательский анализ данных:</b>\n",
    "\n",
    "Изучите следующие параметры объектов:\n",
    " - общая площадь;\n",
    " - жилая площадь;\n",
    " - площадь кухни;\n",
    " - цена объекта;\n",
    " - количество комнат;\n",
    " - высота потолков;\n",
    " - этаж квартиры;\n",
    " - тип этажа квартиры («первый», «последний», «другой»);\n",
    " - общее количество этажей в доме;\n",
    " - расстояние до центра города в метрах;\n",
    " - расстояние до ближайшего аэропорта;\n",
    " - расстояние до ближайшего парка;\n",
    " - день и месяц публикации объявления.\n",
    " - Постройте отдельные гистограммы для каждого из этих параметров. Опишите все ваши наблюдения по параметрам в ячейке с типом markdown.\n",
    " - Изучите, как быстро продавались квартиры (столбец days_exposition). Этот параметр показывает, сколько дней было размещено каждое объявление.  \n",
    " - Постройте гистограмму.\n",
    " - Посчитайте среднее и медиану.\n",
    " - В ячейке типа markdown опишите, сколько времени обычно занимает продажа. Какие продажи можно считать быстрыми, а какие — необычно долгими?\n",
    " - Какие факторы больше всего влияют на общую (полную) стоимость объекта?\n",
    " \n",
    " Изучите, зависит ли цена от:\n",
    " - общей площади;\n",
    " - жилой площади;\n",
    " - площади кухни;\n",
    " - количества комнат;\n",
    " - этажа, на котором расположена квартира (первый, последний, другой);\n",
    " - даты размещения (день недели, месяц, год).\n",
    " - Постройте графики, которые покажут зависимость цены от указанных выше параметров. Для подготовки данных перед визуализацией вы можете использовать сводные таблицы.\n",
    " - Посчитайте среднюю цену одного квадратного метра в 10 населённых пунктах с наибольшим числом объявлений. Выделите населённые пункты с самой высокой и низкой стоимостью квадратного метра. Эти данные можно найти по имени в столбце locality_name.\n",
    " - Ранее вы посчитали расстояние до центра в километрах. Теперь выделите квартиры в Санкт-Петербурге с помощью столбца locality_name и вычислите среднюю цену каждого километра. Опишите, как стоимость объектов зависит от расстояния до центра города.\n",
    " \n",
    "<b>Шаг 5. Напишите общий вывод</b>\n",
    "\n",
    " - Опишите полученные результаты и зафиксируйте основной вывод проведённого исследования."
   ]
  },
  {
   "cell_type": "markdown",
   "metadata": {},
   "source": [
    "### Откройте файл с данными и изучите общую информацию. "
   ]
  },
  {
   "cell_type": "markdown",
   "metadata": {},
   "source": [
    "#### На первом этапе откроем файл и посмотрим первые 10 строк"
   ]
  },
  {
   "cell_type": "code",
   "execution_count": 1,
   "metadata": {
    "scrolled": true
   },
   "outputs": [
    {
     "data": {
      "text/html": [
       "<div>\n",
       "<style scoped>\n",
       "    .dataframe tbody tr th:only-of-type {\n",
       "        vertical-align: middle;\n",
       "    }\n",
       "\n",
       "    .dataframe tbody tr th {\n",
       "        vertical-align: top;\n",
       "    }\n",
       "\n",
       "    .dataframe thead th {\n",
       "        text-align: right;\n",
       "    }\n",
       "</style>\n",
       "<table border=\"1\" class=\"dataframe\">\n",
       "  <thead>\n",
       "    <tr style=\"text-align: right;\">\n",
       "      <th></th>\n",
       "      <th>total_images</th>\n",
       "      <th>last_price</th>\n",
       "      <th>total_area</th>\n",
       "      <th>first_day_exposition</th>\n",
       "      <th>rooms</th>\n",
       "      <th>ceiling_height</th>\n",
       "      <th>floors_total</th>\n",
       "      <th>living_area</th>\n",
       "      <th>floor</th>\n",
       "      <th>is_apartment</th>\n",
       "      <th>...</th>\n",
       "      <th>kitchen_area</th>\n",
       "      <th>balcony</th>\n",
       "      <th>locality_name</th>\n",
       "      <th>airports_nearest</th>\n",
       "      <th>cityCenters_nearest</th>\n",
       "      <th>parks_around3000</th>\n",
       "      <th>parks_nearest</th>\n",
       "      <th>ponds_around3000</th>\n",
       "      <th>ponds_nearest</th>\n",
       "      <th>days_exposition</th>\n",
       "    </tr>\n",
       "  </thead>\n",
       "  <tbody>\n",
       "    <tr>\n",
       "      <th>0</th>\n",
       "      <td>20</td>\n",
       "      <td>13000000.0</td>\n",
       "      <td>108.00</td>\n",
       "      <td>2019-03-07T00:00:00</td>\n",
       "      <td>3</td>\n",
       "      <td>2.70</td>\n",
       "      <td>16.0</td>\n",
       "      <td>51.00</td>\n",
       "      <td>8</td>\n",
       "      <td>NaN</td>\n",
       "      <td>...</td>\n",
       "      <td>25.00</td>\n",
       "      <td>NaN</td>\n",
       "      <td>Санкт-Петербург</td>\n",
       "      <td>18863.0</td>\n",
       "      <td>16028.0</td>\n",
       "      <td>1.0</td>\n",
       "      <td>482.0</td>\n",
       "      <td>2.0</td>\n",
       "      <td>755.0</td>\n",
       "      <td>NaN</td>\n",
       "    </tr>\n",
       "    <tr>\n",
       "      <th>1</th>\n",
       "      <td>7</td>\n",
       "      <td>3350000.0</td>\n",
       "      <td>40.40</td>\n",
       "      <td>2018-12-04T00:00:00</td>\n",
       "      <td>1</td>\n",
       "      <td>NaN</td>\n",
       "      <td>11.0</td>\n",
       "      <td>18.60</td>\n",
       "      <td>1</td>\n",
       "      <td>NaN</td>\n",
       "      <td>...</td>\n",
       "      <td>11.00</td>\n",
       "      <td>2.0</td>\n",
       "      <td>посёлок Шушары</td>\n",
       "      <td>12817.0</td>\n",
       "      <td>18603.0</td>\n",
       "      <td>0.0</td>\n",
       "      <td>NaN</td>\n",
       "      <td>0.0</td>\n",
       "      <td>NaN</td>\n",
       "      <td>81.0</td>\n",
       "    </tr>\n",
       "    <tr>\n",
       "      <th>2</th>\n",
       "      <td>10</td>\n",
       "      <td>5196000.0</td>\n",
       "      <td>56.00</td>\n",
       "      <td>2015-08-20T00:00:00</td>\n",
       "      <td>2</td>\n",
       "      <td>NaN</td>\n",
       "      <td>5.0</td>\n",
       "      <td>34.30</td>\n",
       "      <td>4</td>\n",
       "      <td>NaN</td>\n",
       "      <td>...</td>\n",
       "      <td>8.30</td>\n",
       "      <td>0.0</td>\n",
       "      <td>Санкт-Петербург</td>\n",
       "      <td>21741.0</td>\n",
       "      <td>13933.0</td>\n",
       "      <td>1.0</td>\n",
       "      <td>90.0</td>\n",
       "      <td>2.0</td>\n",
       "      <td>574.0</td>\n",
       "      <td>558.0</td>\n",
       "    </tr>\n",
       "    <tr>\n",
       "      <th>3</th>\n",
       "      <td>0</td>\n",
       "      <td>64900000.0</td>\n",
       "      <td>159.00</td>\n",
       "      <td>2015-07-24T00:00:00</td>\n",
       "      <td>3</td>\n",
       "      <td>NaN</td>\n",
       "      <td>14.0</td>\n",
       "      <td>NaN</td>\n",
       "      <td>9</td>\n",
       "      <td>NaN</td>\n",
       "      <td>...</td>\n",
       "      <td>NaN</td>\n",
       "      <td>0.0</td>\n",
       "      <td>Санкт-Петербург</td>\n",
       "      <td>28098.0</td>\n",
       "      <td>6800.0</td>\n",
       "      <td>2.0</td>\n",
       "      <td>84.0</td>\n",
       "      <td>3.0</td>\n",
       "      <td>234.0</td>\n",
       "      <td>424.0</td>\n",
       "    </tr>\n",
       "    <tr>\n",
       "      <th>4</th>\n",
       "      <td>2</td>\n",
       "      <td>10000000.0</td>\n",
       "      <td>100.00</td>\n",
       "      <td>2018-06-19T00:00:00</td>\n",
       "      <td>2</td>\n",
       "      <td>3.03</td>\n",
       "      <td>14.0</td>\n",
       "      <td>32.00</td>\n",
       "      <td>13</td>\n",
       "      <td>NaN</td>\n",
       "      <td>...</td>\n",
       "      <td>41.00</td>\n",
       "      <td>NaN</td>\n",
       "      <td>Санкт-Петербург</td>\n",
       "      <td>31856.0</td>\n",
       "      <td>8098.0</td>\n",
       "      <td>2.0</td>\n",
       "      <td>112.0</td>\n",
       "      <td>1.0</td>\n",
       "      <td>48.0</td>\n",
       "      <td>121.0</td>\n",
       "    </tr>\n",
       "    <tr>\n",
       "      <th>5</th>\n",
       "      <td>10</td>\n",
       "      <td>2890000.0</td>\n",
       "      <td>30.40</td>\n",
       "      <td>2018-09-10T00:00:00</td>\n",
       "      <td>1</td>\n",
       "      <td>NaN</td>\n",
       "      <td>12.0</td>\n",
       "      <td>14.40</td>\n",
       "      <td>5</td>\n",
       "      <td>NaN</td>\n",
       "      <td>...</td>\n",
       "      <td>9.10</td>\n",
       "      <td>NaN</td>\n",
       "      <td>городской посёлок Янино-1</td>\n",
       "      <td>NaN</td>\n",
       "      <td>NaN</td>\n",
       "      <td>NaN</td>\n",
       "      <td>NaN</td>\n",
       "      <td>NaN</td>\n",
       "      <td>NaN</td>\n",
       "      <td>55.0</td>\n",
       "    </tr>\n",
       "    <tr>\n",
       "      <th>6</th>\n",
       "      <td>6</td>\n",
       "      <td>3700000.0</td>\n",
       "      <td>37.30</td>\n",
       "      <td>2017-11-02T00:00:00</td>\n",
       "      <td>1</td>\n",
       "      <td>NaN</td>\n",
       "      <td>26.0</td>\n",
       "      <td>10.60</td>\n",
       "      <td>6</td>\n",
       "      <td>NaN</td>\n",
       "      <td>...</td>\n",
       "      <td>14.40</td>\n",
       "      <td>1.0</td>\n",
       "      <td>посёлок Парголово</td>\n",
       "      <td>52996.0</td>\n",
       "      <td>19143.0</td>\n",
       "      <td>0.0</td>\n",
       "      <td>NaN</td>\n",
       "      <td>0.0</td>\n",
       "      <td>NaN</td>\n",
       "      <td>155.0</td>\n",
       "    </tr>\n",
       "    <tr>\n",
       "      <th>7</th>\n",
       "      <td>5</td>\n",
       "      <td>7915000.0</td>\n",
       "      <td>71.60</td>\n",
       "      <td>2019-04-18T00:00:00</td>\n",
       "      <td>2</td>\n",
       "      <td>NaN</td>\n",
       "      <td>24.0</td>\n",
       "      <td>NaN</td>\n",
       "      <td>22</td>\n",
       "      <td>NaN</td>\n",
       "      <td>...</td>\n",
       "      <td>18.90</td>\n",
       "      <td>2.0</td>\n",
       "      <td>Санкт-Петербург</td>\n",
       "      <td>23982.0</td>\n",
       "      <td>11634.0</td>\n",
       "      <td>0.0</td>\n",
       "      <td>NaN</td>\n",
       "      <td>0.0</td>\n",
       "      <td>NaN</td>\n",
       "      <td>NaN</td>\n",
       "    </tr>\n",
       "    <tr>\n",
       "      <th>8</th>\n",
       "      <td>20</td>\n",
       "      <td>2900000.0</td>\n",
       "      <td>33.16</td>\n",
       "      <td>2018-05-23T00:00:00</td>\n",
       "      <td>1</td>\n",
       "      <td>NaN</td>\n",
       "      <td>27.0</td>\n",
       "      <td>15.43</td>\n",
       "      <td>26</td>\n",
       "      <td>NaN</td>\n",
       "      <td>...</td>\n",
       "      <td>8.81</td>\n",
       "      <td>NaN</td>\n",
       "      <td>посёлок Мурино</td>\n",
       "      <td>NaN</td>\n",
       "      <td>NaN</td>\n",
       "      <td>NaN</td>\n",
       "      <td>NaN</td>\n",
       "      <td>NaN</td>\n",
       "      <td>NaN</td>\n",
       "      <td>189.0</td>\n",
       "    </tr>\n",
       "    <tr>\n",
       "      <th>9</th>\n",
       "      <td>18</td>\n",
       "      <td>5400000.0</td>\n",
       "      <td>61.00</td>\n",
       "      <td>2017-02-26T00:00:00</td>\n",
       "      <td>3</td>\n",
       "      <td>2.50</td>\n",
       "      <td>9.0</td>\n",
       "      <td>43.60</td>\n",
       "      <td>7</td>\n",
       "      <td>NaN</td>\n",
       "      <td>...</td>\n",
       "      <td>6.50</td>\n",
       "      <td>2.0</td>\n",
       "      <td>Санкт-Петербург</td>\n",
       "      <td>50898.0</td>\n",
       "      <td>15008.0</td>\n",
       "      <td>0.0</td>\n",
       "      <td>NaN</td>\n",
       "      <td>0.0</td>\n",
       "      <td>NaN</td>\n",
       "      <td>289.0</td>\n",
       "    </tr>\n",
       "  </tbody>\n",
       "</table>\n",
       "<p>10 rows × 22 columns</p>\n",
       "</div>"
      ],
      "text/plain": [
       "   total_images  last_price  total_area first_day_exposition  rooms  \\\n",
       "0            20  13000000.0      108.00  2019-03-07T00:00:00      3   \n",
       "1             7   3350000.0       40.40  2018-12-04T00:00:00      1   \n",
       "2            10   5196000.0       56.00  2015-08-20T00:00:00      2   \n",
       "3             0  64900000.0      159.00  2015-07-24T00:00:00      3   \n",
       "4             2  10000000.0      100.00  2018-06-19T00:00:00      2   \n",
       "5            10   2890000.0       30.40  2018-09-10T00:00:00      1   \n",
       "6             6   3700000.0       37.30  2017-11-02T00:00:00      1   \n",
       "7             5   7915000.0       71.60  2019-04-18T00:00:00      2   \n",
       "8            20   2900000.0       33.16  2018-05-23T00:00:00      1   \n",
       "9            18   5400000.0       61.00  2017-02-26T00:00:00      3   \n",
       "\n",
       "   ceiling_height  floors_total  living_area  floor is_apartment  ...  \\\n",
       "0            2.70          16.0        51.00      8          NaN  ...   \n",
       "1             NaN          11.0        18.60      1          NaN  ...   \n",
       "2             NaN           5.0        34.30      4          NaN  ...   \n",
       "3             NaN          14.0          NaN      9          NaN  ...   \n",
       "4            3.03          14.0        32.00     13          NaN  ...   \n",
       "5             NaN          12.0        14.40      5          NaN  ...   \n",
       "6             NaN          26.0        10.60      6          NaN  ...   \n",
       "7             NaN          24.0          NaN     22          NaN  ...   \n",
       "8             NaN          27.0        15.43     26          NaN  ...   \n",
       "9            2.50           9.0        43.60      7          NaN  ...   \n",
       "\n",
       "   kitchen_area  balcony              locality_name  airports_nearest  \\\n",
       "0         25.00      NaN            Санкт-Петербург           18863.0   \n",
       "1         11.00      2.0             посёлок Шушары           12817.0   \n",
       "2          8.30      0.0            Санкт-Петербург           21741.0   \n",
       "3           NaN      0.0            Санкт-Петербург           28098.0   \n",
       "4         41.00      NaN            Санкт-Петербург           31856.0   \n",
       "5          9.10      NaN  городской посёлок Янино-1               NaN   \n",
       "6         14.40      1.0          посёлок Парголово           52996.0   \n",
       "7         18.90      2.0            Санкт-Петербург           23982.0   \n",
       "8          8.81      NaN             посёлок Мурино               NaN   \n",
       "9          6.50      2.0            Санкт-Петербург           50898.0   \n",
       "\n",
       "  cityCenters_nearest  parks_around3000  parks_nearest  ponds_around3000  \\\n",
       "0             16028.0               1.0          482.0               2.0   \n",
       "1             18603.0               0.0            NaN               0.0   \n",
       "2             13933.0               1.0           90.0               2.0   \n",
       "3              6800.0               2.0           84.0               3.0   \n",
       "4              8098.0               2.0          112.0               1.0   \n",
       "5                 NaN               NaN            NaN               NaN   \n",
       "6             19143.0               0.0            NaN               0.0   \n",
       "7             11634.0               0.0            NaN               0.0   \n",
       "8                 NaN               NaN            NaN               NaN   \n",
       "9             15008.0               0.0            NaN               0.0   \n",
       "\n",
       "   ponds_nearest  days_exposition  \n",
       "0          755.0              NaN  \n",
       "1            NaN             81.0  \n",
       "2          574.0            558.0  \n",
       "3          234.0            424.0  \n",
       "4           48.0            121.0  \n",
       "5            NaN             55.0  \n",
       "6            NaN            155.0  \n",
       "7            NaN              NaN  \n",
       "8            NaN            189.0  \n",
       "9            NaN            289.0  \n",
       "\n",
       "[10 rows x 22 columns]"
      ]
     },
     "metadata": {},
     "output_type": "display_data"
    }
   ],
   "source": [
    "#Открытие файла и просмотр первых 5-ти строк\n",
    "import pandas as pd\n",
    "import matplotlib.pyplot as plt\n",
    "data = pd.read_csv('/datasets/real_estate_data.csv', sep='\\t') # Добавляем тип разделителя для файла формата csv\n",
    "display(data.head(10)) ## Просмотр первых 10 строк"
   ]
  },
  {
   "cell_type": "markdown",
   "metadata": {},
   "source": [
    "#### Просмотрим общую информацию о данных и построим гистограммы для понимания"
   ]
  },
  {
   "cell_type": "code",
   "execution_count": 2,
   "metadata": {},
   "outputs": [
    {
     "name": "stdout",
     "output_type": "stream",
     "text": [
      "<class 'pandas.core.frame.DataFrame'>\n",
      "RangeIndex: 23699 entries, 0 to 23698\n",
      "Data columns (total 22 columns):\n",
      " #   Column                Non-Null Count  Dtype  \n",
      "---  ------                --------------  -----  \n",
      " 0   total_images          23699 non-null  int64  \n",
      " 1   last_price            23699 non-null  float64\n",
      " 2   total_area            23699 non-null  float64\n",
      " 3   first_day_exposition  23699 non-null  object \n",
      " 4   rooms                 23699 non-null  int64  \n",
      " 5   ceiling_height        14504 non-null  float64\n",
      " 6   floors_total          23613 non-null  float64\n",
      " 7   living_area           21796 non-null  float64\n",
      " 8   floor                 23699 non-null  int64  \n",
      " 9   is_apartment          2775 non-null   object \n",
      " 10  studio                23699 non-null  bool   \n",
      " 11  open_plan             23699 non-null  bool   \n",
      " 12  kitchen_area          21421 non-null  float64\n",
      " 13  balcony               12180 non-null  float64\n",
      " 14  locality_name         23650 non-null  object \n",
      " 15  airports_nearest      18157 non-null  float64\n",
      " 16  cityCenters_nearest   18180 non-null  float64\n",
      " 17  parks_around3000      18181 non-null  float64\n",
      " 18  parks_nearest         8079 non-null   float64\n",
      " 19  ponds_around3000      18181 non-null  float64\n",
      " 20  ponds_nearest         9110 non-null   float64\n",
      " 21  days_exposition       20518 non-null  float64\n",
      "dtypes: bool(2), float64(14), int64(3), object(3)\n",
      "memory usage: 3.7+ MB\n"
     ]
    }
   ],
   "source": [
    "#Просмотр общей информации о полученом датафрейме \n",
    "data.info()"
   ]
  },
  {
   "cell_type": "markdown",
   "metadata": {},
   "source": [
    "**Вывод:** Судя по информации в датафрейме есть пропущенные значения в следующих столбцах: ceiling_height,  floors_total, living_area, is_apartment, kitchen_area, balcony, locality_name,airports_nearest, cityCenters_nearest, parks_around3000, parks_nearest, ponds_around3000, ponds_nearest, days_exposition (далее будет проверка метобом isna()). Присутствуют типы даных int, float, bool и object (str)"
   ]
  },
  {
   "cell_type": "code",
   "execution_count": 3,
   "metadata": {},
   "outputs": [
    {
     "data": {
      "image/png": "[encoded data removed]",
      "text/plain": [
       "<Figure size 1080x1440 with 20 Axes>"
      ]
     },
     "metadata": {
      "needs_background": "light"
     },
     "output_type": "display_data"
    }
   ],
   "source": [
    "data.hist(figsize=(15, 20));"
   ]
  },
  {
   "cell_type": "markdown",
   "metadata": {},
   "source": [
    "### Предобработка данных"
   ]
  },
  {
   "cell_type": "markdown",
   "metadata": {},
   "source": [
    "#### Выполним поиск пропусков"
   ]
  },
  {
   "cell_type": "code",
   "execution_count": 4,
   "metadata": {},
   "outputs": [
    {
     "name": "stdout",
     "output_type": "stream",
     "text": [
      "total_images                0\n",
      "last_price                  0\n",
      "total_area                  0\n",
      "first_day_exposition        0\n",
      "rooms                       0\n",
      "ceiling_height           9195\n",
      "floors_total               86\n",
      "living_area              1903\n",
      "floor                       0\n",
      "is_apartment            20924\n",
      "studio                      0\n",
      "open_plan                   0\n",
      "kitchen_area             2278\n",
      "balcony                 11519\n",
      "locality_name              49\n",
      "airports_nearest         5542\n",
      "cityCenters_nearest      5519\n",
      "parks_around3000         5518\n",
      "parks_nearest           15620\n",
      "ponds_around3000         5518\n",
      "ponds_nearest           14589\n",
      "days_exposition          3181\n",
      "dtype: int64\n"
     ]
    },
    {
     "data": {
      "text/html": [
       "<style  type=\"text/css\" >\n",
       "#T_abe21_row0_col0,#T_abe21_row1_col0,#T_abe21_row2_col0,#T_abe21_row3_col0,#T_abe21_row4_col0,#T_abe21_row6_col0,#T_abe21_row8_col0,#T_abe21_row10_col0,#T_abe21_row11_col0,#T_abe21_row14_col0{\n",
       "            background-color:  #3b4cc0;\n",
       "            color:  #f1f1f1;\n",
       "        }#T_abe21_row5_col0{\n",
       "            background-color:  #cdd9ec;\n",
       "            color:  #000000;\n",
       "        }#T_abe21_row7_col0{\n",
       "            background-color:  #5673e0;\n",
       "            color:  #000000;\n",
       "        }#T_abe21_row9_col0{\n",
       "            background-color:  #b40426;\n",
       "            color:  #f1f1f1;\n",
       "        }#T_abe21_row12_col0{\n",
       "            background-color:  #5e7de7;\n",
       "            color:  #000000;\n",
       "        }#T_abe21_row13_col0{\n",
       "            background-color:  #ead4c8;\n",
       "            color:  #000000;\n",
       "        }#T_abe21_row15_col0,#T_abe21_row16_col0,#T_abe21_row17_col0,#T_abe21_row19_col0{\n",
       "            background-color:  #90b2fe;\n",
       "            color:  #000000;\n",
       "        }#T_abe21_row18_col0{\n",
       "            background-color:  #f4987a;\n",
       "            color:  #000000;\n",
       "        }#T_abe21_row20_col0{\n",
       "            background-color:  #f7aa8c;\n",
       "            color:  #000000;\n",
       "        }#T_abe21_row21_col0{\n",
       "            background-color:  #688aef;\n",
       "            color:  #000000;\n",
       "        }</style><table id=\"T_abe21_\" ><thead>    <tr>        <th class=\"blank level0\" ></th>        <th class=\"col_heading level0 col0\" >0</th>    </tr></thead><tbody>\n",
       "                <tr>\n",
       "                        <th id=\"T_abe21_level0_row0\" class=\"row_heading level0 row0\" >total_images</th>\n",
       "                        <td id=\"T_abe21_row0_col0\" class=\"data row0 col0\" >0.000000</td>\n",
       "            </tr>\n",
       "            <tr>\n",
       "                        <th id=\"T_abe21_level0_row1\" class=\"row_heading level0 row1\" >last_price</th>\n",
       "                        <td id=\"T_abe21_row1_col0\" class=\"data row1 col0\" >0.000000</td>\n",
       "            </tr>\n",
       "            <tr>\n",
       "                        <th id=\"T_abe21_level0_row2\" class=\"row_heading level0 row2\" >total_area</th>\n",
       "                        <td id=\"T_abe21_row2_col0\" class=\"data row2 col0\" >0.000000</td>\n",
       "            </tr>\n",
       "            <tr>\n",
       "                        <th id=\"T_abe21_level0_row3\" class=\"row_heading level0 row3\" >first_day_exposition</th>\n",
       "                        <td id=\"T_abe21_row3_col0\" class=\"data row3 col0\" >0.000000</td>\n",
       "            </tr>\n",
       "            <tr>\n",
       "                        <th id=\"T_abe21_level0_row4\" class=\"row_heading level0 row4\" >rooms</th>\n",
       "                        <td id=\"T_abe21_row4_col0\" class=\"data row4 col0\" >0.000000</td>\n",
       "            </tr>\n",
       "            <tr>\n",
       "                        <th id=\"T_abe21_level0_row5\" class=\"row_heading level0 row5\" >ceiling_height</th>\n",
       "                        <td id=\"T_abe21_row5_col0\" class=\"data row5 col0\" >39.000000</td>\n",
       "            </tr>\n",
       "            <tr>\n",
       "                        <th id=\"T_abe21_level0_row6\" class=\"row_heading level0 row6\" >floors_total</th>\n",
       "                        <td id=\"T_abe21_row6_col0\" class=\"data row6 col0\" >0.000000</td>\n",
       "            </tr>\n",
       "            <tr>\n",
       "                        <th id=\"T_abe21_level0_row7\" class=\"row_heading level0 row7\" >living_area</th>\n",
       "                        <td id=\"T_abe21_row7_col0\" class=\"data row7 col0\" >8.000000</td>\n",
       "            </tr>\n",
       "            <tr>\n",
       "                        <th id=\"T_abe21_level0_row8\" class=\"row_heading level0 row8\" >floor</th>\n",
       "                        <td id=\"T_abe21_row8_col0\" class=\"data row8 col0\" >0.000000</td>\n",
       "            </tr>\n",
       "            <tr>\n",
       "                        <th id=\"T_abe21_level0_row9\" class=\"row_heading level0 row9\" >is_apartment</th>\n",
       "                        <td id=\"T_abe21_row9_col0\" class=\"data row9 col0\" >88.000000</td>\n",
       "            </tr>\n",
       "            <tr>\n",
       "                        <th id=\"T_abe21_level0_row10\" class=\"row_heading level0 row10\" >studio</th>\n",
       "                        <td id=\"T_abe21_row10_col0\" class=\"data row10 col0\" >0.000000</td>\n",
       "            </tr>\n",
       "            <tr>\n",
       "                        <th id=\"T_abe21_level0_row11\" class=\"row_heading level0 row11\" >open_plan</th>\n",
       "                        <td id=\"T_abe21_row11_col0\" class=\"data row11 col0\" >0.000000</td>\n",
       "            </tr>\n",
       "            <tr>\n",
       "                        <th id=\"T_abe21_level0_row12\" class=\"row_heading level0 row12\" >kitchen_area</th>\n",
       "                        <td id=\"T_abe21_row12_col0\" class=\"data row12 col0\" >10.000000</td>\n",
       "            </tr>\n",
       "            <tr>\n",
       "                        <th id=\"T_abe21_level0_row13\" class=\"row_heading level0 row13\" >balcony</th>\n",
       "                        <td id=\"T_abe21_row13_col0\" class=\"data row13 col0\" >49.000000</td>\n",
       "            </tr>\n",
       "            <tr>\n",
       "                        <th id=\"T_abe21_level0_row14\" class=\"row_heading level0 row14\" >locality_name</th>\n",
       "                        <td id=\"T_abe21_row14_col0\" class=\"data row14 col0\" >0.000000</td>\n",
       "            </tr>\n",
       "            <tr>\n",
       "                        <th id=\"T_abe21_level0_row15\" class=\"row_heading level0 row15\" >airports_nearest</th>\n",
       "                        <td id=\"T_abe21_row15_col0\" class=\"data row15 col0\" >23.000000</td>\n",
       "            </tr>\n",
       "            <tr>\n",
       "                        <th id=\"T_abe21_level0_row16\" class=\"row_heading level0 row16\" >cityCenters_nearest</th>\n",
       "                        <td id=\"T_abe21_row16_col0\" class=\"data row16 col0\" >23.000000</td>\n",
       "            </tr>\n",
       "            <tr>\n",
       "                        <th id=\"T_abe21_level0_row17\" class=\"row_heading level0 row17\" >parks_around3000</th>\n",
       "                        <td id=\"T_abe21_row17_col0\" class=\"data row17 col0\" >23.000000</td>\n",
       "            </tr>\n",
       "            <tr>\n",
       "                        <th id=\"T_abe21_level0_row18\" class=\"row_heading level0 row18\" >parks_nearest</th>\n",
       "                        <td id=\"T_abe21_row18_col0\" class=\"data row18 col0\" >66.000000</td>\n",
       "            </tr>\n",
       "            <tr>\n",
       "                        <th id=\"T_abe21_level0_row19\" class=\"row_heading level0 row19\" >ponds_around3000</th>\n",
       "                        <td id=\"T_abe21_row19_col0\" class=\"data row19 col0\" >23.000000</td>\n",
       "            </tr>\n",
       "            <tr>\n",
       "                        <th id=\"T_abe21_level0_row20\" class=\"row_heading level0 row20\" >ponds_nearest</th>\n",
       "                        <td id=\"T_abe21_row20_col0\" class=\"data row20 col0\" >62.000000</td>\n",
       "            </tr>\n",
       "            <tr>\n",
       "                        <th id=\"T_abe21_level0_row21\" class=\"row_heading level0 row21\" >days_exposition</th>\n",
       "                        <td id=\"T_abe21_row21_col0\" class=\"data row21 col0\" >13.000000</td>\n",
       "            </tr>\n",
       "    </tbody></table>"
      ],
      "text/plain": [
       "<pandas.io.formats.style.Styler at 0x7fcf228c9ca0>"
      ]
     },
     "execution_count": 4,
     "metadata": {},
     "output_type": "execute_result"
    }
   ],
   "source": [
    "#Поиск столбцов с пропущенными значениями и их кол-во\n",
    "print(data.isna().sum()) # Получаем информацию с пропускками в столбцах\n",
    "pd.DataFrame(round(data.isna().mean()*100,)).style.background_gradient('coolwarm') #Добавляем информирование по процентам пропусков с тепловым обозначением"
   ]
  },
  {
   "cell_type": "markdown",
   "metadata": {},
   "source": [
    "#### Процедура замены возможных пропусков в данных"
   ]
  },
  {
   "cell_type": "code",
   "execution_count": 5,
   "metadata": {},
   "outputs": [
    {
     "name": "stdout",
     "output_type": "stream",
     "text": [
      "1.837601318697115\n",
      "5.990629144981599\n"
     ]
    },
    {
     "data": {
      "text/html": [
       "<div>\n",
       "<style scoped>\n",
       "    .dataframe tbody tr th:only-of-type {\n",
       "        vertical-align: middle;\n",
       "    }\n",
       "\n",
       "    .dataframe tbody tr th {\n",
       "        vertical-align: top;\n",
       "    }\n",
       "\n",
       "    .dataframe thead th {\n",
       "        text-align: right;\n",
       "    }\n",
       "</style>\n",
       "<table border=\"1\" class=\"dataframe\">\n",
       "  <thead>\n",
       "    <tr style=\"text-align: right;\">\n",
       "      <th></th>\n",
       "      <th>total_images</th>\n",
       "      <th>last_price</th>\n",
       "      <th>total_area</th>\n",
       "      <th>first_day_exposition</th>\n",
       "      <th>rooms</th>\n",
       "      <th>ceiling_height</th>\n",
       "      <th>floors_total</th>\n",
       "      <th>living_area</th>\n",
       "      <th>floor</th>\n",
       "      <th>is_apartment</th>\n",
       "      <th>...</th>\n",
       "      <th>kitchen_area</th>\n",
       "      <th>balcony</th>\n",
       "      <th>locality_name</th>\n",
       "      <th>airports_nearest</th>\n",
       "      <th>cityCenters_nearest</th>\n",
       "      <th>parks_around3000</th>\n",
       "      <th>parks_nearest</th>\n",
       "      <th>ponds_around3000</th>\n",
       "      <th>ponds_nearest</th>\n",
       "      <th>days_exposition</th>\n",
       "    </tr>\n",
       "  </thead>\n",
       "  <tbody>\n",
       "    <tr>\n",
       "      <th>0</th>\n",
       "      <td>20</td>\n",
       "      <td>13000000.0</td>\n",
       "      <td>108.0</td>\n",
       "      <td>2019-03-07T00:00:00</td>\n",
       "      <td>3</td>\n",
       "      <td>2.70</td>\n",
       "      <td>16.0</td>\n",
       "      <td>51.000000</td>\n",
       "      <td>8</td>\n",
       "      <td>NaN</td>\n",
       "      <td>...</td>\n",
       "      <td>25.000000</td>\n",
       "      <td>NaN</td>\n",
       "      <td>Санкт-Петербург</td>\n",
       "      <td>18863.0</td>\n",
       "      <td>16028.0</td>\n",
       "      <td>1.0</td>\n",
       "      <td>482.0</td>\n",
       "      <td>2.0</td>\n",
       "      <td>755.0</td>\n",
       "      <td>NaN</td>\n",
       "    </tr>\n",
       "    <tr>\n",
       "      <th>1</th>\n",
       "      <td>7</td>\n",
       "      <td>3350000.0</td>\n",
       "      <td>40.4</td>\n",
       "      <td>2018-12-04T00:00:00</td>\n",
       "      <td>1</td>\n",
       "      <td>NaN</td>\n",
       "      <td>11.0</td>\n",
       "      <td>18.600000</td>\n",
       "      <td>1</td>\n",
       "      <td>NaN</td>\n",
       "      <td>...</td>\n",
       "      <td>11.000000</td>\n",
       "      <td>2.0</td>\n",
       "      <td>посёлок Шушары</td>\n",
       "      <td>12817.0</td>\n",
       "      <td>18603.0</td>\n",
       "      <td>0.0</td>\n",
       "      <td>NaN</td>\n",
       "      <td>0.0</td>\n",
       "      <td>NaN</td>\n",
       "      <td>81.0</td>\n",
       "    </tr>\n",
       "    <tr>\n",
       "      <th>2</th>\n",
       "      <td>10</td>\n",
       "      <td>5196000.0</td>\n",
       "      <td>56.0</td>\n",
       "      <td>2015-08-20T00:00:00</td>\n",
       "      <td>2</td>\n",
       "      <td>NaN</td>\n",
       "      <td>5.0</td>\n",
       "      <td>34.300000</td>\n",
       "      <td>4</td>\n",
       "      <td>NaN</td>\n",
       "      <td>...</td>\n",
       "      <td>8.300000</td>\n",
       "      <td>0.0</td>\n",
       "      <td>Санкт-Петербург</td>\n",
       "      <td>21741.0</td>\n",
       "      <td>13933.0</td>\n",
       "      <td>1.0</td>\n",
       "      <td>90.0</td>\n",
       "      <td>2.0</td>\n",
       "      <td>574.0</td>\n",
       "      <td>558.0</td>\n",
       "    </tr>\n",
       "    <tr>\n",
       "      <th>3</th>\n",
       "      <td>0</td>\n",
       "      <td>64900000.0</td>\n",
       "      <td>159.0</td>\n",
       "      <td>2015-07-24T00:00:00</td>\n",
       "      <td>3</td>\n",
       "      <td>NaN</td>\n",
       "      <td>14.0</td>\n",
       "      <td>86.525841</td>\n",
       "      <td>9</td>\n",
       "      <td>NaN</td>\n",
       "      <td>...</td>\n",
       "      <td>26.541453</td>\n",
       "      <td>0.0</td>\n",
       "      <td>Санкт-Петербург</td>\n",
       "      <td>28098.0</td>\n",
       "      <td>6800.0</td>\n",
       "      <td>2.0</td>\n",
       "      <td>84.0</td>\n",
       "      <td>3.0</td>\n",
       "      <td>234.0</td>\n",
       "      <td>424.0</td>\n",
       "    </tr>\n",
       "    <tr>\n",
       "      <th>4</th>\n",
       "      <td>2</td>\n",
       "      <td>10000000.0</td>\n",
       "      <td>100.0</td>\n",
       "      <td>2018-06-19T00:00:00</td>\n",
       "      <td>2</td>\n",
       "      <td>3.03</td>\n",
       "      <td>14.0</td>\n",
       "      <td>32.000000</td>\n",
       "      <td>13</td>\n",
       "      <td>NaN</td>\n",
       "      <td>...</td>\n",
       "      <td>41.000000</td>\n",
       "      <td>NaN</td>\n",
       "      <td>Санкт-Петербург</td>\n",
       "      <td>31856.0</td>\n",
       "      <td>8098.0</td>\n",
       "      <td>2.0</td>\n",
       "      <td>112.0</td>\n",
       "      <td>1.0</td>\n",
       "      <td>48.0</td>\n",
       "      <td>121.0</td>\n",
       "    </tr>\n",
       "  </tbody>\n",
       "</table>\n",
       "<p>5 rows × 22 columns</p>\n",
       "</div>"
      ],
      "text/plain": [
       "   total_images  last_price  total_area first_day_exposition  rooms  \\\n",
       "0            20  13000000.0       108.0  2019-03-07T00:00:00      3   \n",
       "1             7   3350000.0        40.4  2018-12-04T00:00:00      1   \n",
       "2            10   5196000.0        56.0  2015-08-20T00:00:00      2   \n",
       "3             0  64900000.0       159.0  2015-07-24T00:00:00      3   \n",
       "4             2  10000000.0       100.0  2018-06-19T00:00:00      2   \n",
       "\n",
       "   ceiling_height  floors_total  living_area  floor is_apartment  ...  \\\n",
       "0            2.70          16.0    51.000000      8          NaN  ...   \n",
       "1             NaN          11.0    18.600000      1          NaN  ...   \n",
       "2             NaN           5.0    34.300000      4          NaN  ...   \n",
       "3             NaN          14.0    86.525841      9          NaN  ...   \n",
       "4            3.03          14.0    32.000000     13          NaN  ...   \n",
       "\n",
       "   kitchen_area  balcony    locality_name  airports_nearest  \\\n",
       "0     25.000000      NaN  Санкт-Петербург           18863.0   \n",
       "1     11.000000      2.0   посёлок Шушары           12817.0   \n",
       "2      8.300000      0.0  Санкт-Петербург           21741.0   \n",
       "3     26.541453      0.0  Санкт-Петербург           28098.0   \n",
       "4     41.000000      NaN  Санкт-Петербург           31856.0   \n",
       "\n",
       "  cityCenters_nearest  parks_around3000  parks_nearest  ponds_around3000  \\\n",
       "0             16028.0               1.0          482.0               2.0   \n",
       "1             18603.0               0.0            NaN               0.0   \n",
       "2             13933.0               1.0           90.0               2.0   \n",
       "3              6800.0               2.0           84.0               3.0   \n",
       "4              8098.0               2.0          112.0               1.0   \n",
       "\n",
       "   ponds_nearest  days_exposition  \n",
       "0          755.0              NaN  \n",
       "1            NaN             81.0  \n",
       "2          574.0            558.0  \n",
       "3          234.0            424.0  \n",
       "4           48.0            121.0  \n",
       "\n",
       "[5 rows x 22 columns]"
      ]
     },
     "metadata": {},
     "output_type": "display_data"
    }
   ],
   "source": [
    "#Выполняем расчеты для заполнения пропусков в столбце living_area, kitchen_area\n",
    "total_area_mean = data['total_area'].where(data['living_area'].isna()).mean() #средняя площадь для квартир где пропущена жилая площадь\n",
    "living_area_mean = data['living_area'].where(data['living_area'].notna()).mean() #средняя жилая площадь по заполненным данным\n",
    "coeff_living_area = total_area_mean/living_area_mean # коэффициент отнощения общей площади к жилой\n",
    "print(coeff_living_area)\n",
    "kitchen_area_mean = data['kitchen_area'].where(data['kitchen_area'].notna()).mean() #средняя кухонная площадь по заполненным данным\n",
    "coeff_kitchen_area = total_area_mean/kitchen_area_mean # коэффициент отнощения общей площади к кухне\n",
    "print(coeff_kitchen_area)\n",
    "data['living_area'] = data['living_area'].fillna(data['total_area']/coeff_living_area) #заменяем пропуски в жилой площади на отношение общей к коэффициенту жилой\n",
    "data['kitchen_area'] = data['kitchen_area'].fillna(data['total_area']/coeff_kitchen_area) #заменяем пропуски в жилой площади на отношение общей к коэффициенту кухонной\n",
    "display(data.head())"
   ]
  },
  {
   "cell_type": "code",
   "execution_count": 6,
   "metadata": {},
   "outputs": [],
   "source": [
    "#Замена пропусков в столбце is_apartment на значение False, так как скорее всего если значение, что это апартаменты не проставлено значит квартира не является апартаментами\n",
    "data['is_apartment'] = data['is_apartment'].fillna(False)"
   ]
  },
  {
   "cell_type": "code",
   "execution_count": 7,
   "metadata": {},
   "outputs": [],
   "source": [
    "data['balcony'] = data['balcony'].fillna(0) #Замена пропусков в столбце balcony на 0, так как скорее всего если значение не проставлено то балкона нет\n",
    "data['parks_around3000'] = data['parks_around3000'].fillna(0) #Замена пропусков в столбце parks_around3000 на 0, так как скорее всего если значение не проставлено то их нет\n",
    "data['ponds_around3000'] = data['ponds_around3000'].fillna(0) #Замена пропусков в столбце 'ponds_around3000' на 0, так как скорее всего если значение не проставлено то их нет\n"
   ]
  },
  {
   "cell_type": "code",
   "execution_count": 8,
   "metadata": {},
   "outputs": [
    {
     "name": "stdout",
     "output_type": "stream",
     "text": [
      "2.77149889685604\n",
      "2.65\n"
     ]
    }
   ],
   "source": [
    "#Замена пропусков в столбце ceiling_height\n",
    "print(data['ceiling_height'].mean()) #Определяем среднее значение\n",
    "print(data['ceiling_height'].median()) #Определяем медианное значение\n",
    "data['ceiling_height'] = data['ceiling_height'].fillna(data['ceiling_height'].median()) #Заменяем пропуски на медианное значение"
   ]
  },
  {
   "cell_type": "code",
   "execution_count": 9,
   "metadata": {},
   "outputs": [],
   "source": [
    "data['floors_total'] = data['floors_total'].fillna(data['floor']) #Замена на этаж продаваемой квартиры, так как этажность дома точно не может быть ниже, если выше то не страшно, так как таких объявлений всего 86"
   ]
  },
  {
   "cell_type": "code",
   "execution_count": 10,
   "metadata": {},
   "outputs": [
    {
     "data": {
      "text/plain": [
       "total_images                0\n",
       "last_price                  0\n",
       "total_area                  0\n",
       "first_day_exposition        0\n",
       "rooms                       0\n",
       "ceiling_height              0\n",
       "floors_total                0\n",
       "living_area                 0\n",
       "floor                       0\n",
       "is_apartment                0\n",
       "studio                      0\n",
       "open_plan                   0\n",
       "kitchen_area                0\n",
       "balcony                     0\n",
       "locality_name              49\n",
       "airports_nearest         5542\n",
       "cityCenters_nearest      5519\n",
       "parks_around3000            0\n",
       "parks_nearest           15620\n",
       "ponds_around3000            0\n",
       "ponds_nearest           14589\n",
       "days_exposition          3181\n",
       "dtype: int64"
      ]
     },
     "execution_count": 10,
     "metadata": {},
     "output_type": "execute_result"
    }
   ],
   "source": [
    "#Проверяем столбцы с пропущенными значениями\n",
    "data.isna().sum()"
   ]
  },
  {
   "cell_type": "markdown",
   "metadata": {},
   "source": [
    "**Вывод:** Пропуски в столбцах с картографическими данными можно оставить, так как точно их заполнить нет возможности. Также нет возможности заполнить пропуски в наименование локации и дней сколько было размещено объявление, так как раз есть пропуск, то скорее всего предложение еще не снято. Остальные пропуски заполнены, описание к методу заполнения добавлены к каждому шагу."
   ]
  },
  {
   "cell_type": "markdown",
   "metadata": {},
   "source": [
    "#### Изменяем (если можно и необходимо) типы данных"
   ]
  },
  {
   "cell_type": "code",
   "execution_count": 11,
   "metadata": {},
   "outputs": [
    {
     "name": "stdout",
     "output_type": "stream",
     "text": [
      "<class 'pandas.core.frame.DataFrame'>\n",
      "RangeIndex: 23699 entries, 0 to 23698\n",
      "Data columns (total 22 columns):\n",
      " #   Column                Non-Null Count  Dtype  \n",
      "---  ------                --------------  -----  \n",
      " 0   total_images          23699 non-null  int64  \n",
      " 1   last_price            23699 non-null  float64\n",
      " 2   total_area            23699 non-null  float64\n",
      " 3   first_day_exposition  23699 non-null  object \n",
      " 4   rooms                 23699 non-null  int64  \n",
      " 5   ceiling_height        23699 non-null  float64\n",
      " 6   floors_total          23699 non-null  float64\n",
      " 7   living_area           23699 non-null  float64\n",
      " 8   floor                 23699 non-null  int64  \n",
      " 9   is_apartment          23699 non-null  bool   \n",
      " 10  studio                23699 non-null  bool   \n",
      " 11  open_plan             23699 non-null  bool   \n",
      " 12  kitchen_area          23699 non-null  float64\n",
      " 13  balcony               23699 non-null  float64\n",
      " 14  locality_name         23650 non-null  object \n",
      " 15  airports_nearest      18157 non-null  float64\n",
      " 16  cityCenters_nearest   18180 non-null  float64\n",
      " 17  parks_around3000      23699 non-null  float64\n",
      " 18  parks_nearest         8079 non-null   float64\n",
      " 19  ponds_around3000      23699 non-null  float64\n",
      " 20  ponds_nearest         9110 non-null   float64\n",
      " 21  days_exposition       20518 non-null  float64\n",
      "dtypes: bool(3), float64(14), int64(3), object(2)\n",
      "memory usage: 3.5+ MB\n"
     ]
    }
   ],
   "source": [
    "#Просмотр общей информации о полученом датафрейме \n",
    "data.info()"
   ]
  },
  {
   "cell_type": "code",
   "execution_count": 12,
   "metadata": {},
   "outputs": [],
   "source": [
    "#Изменение типов данных\n",
    "data['first_day_exposition']= pd.to_datetime(data['first_day_exposition'], format='%Y.%m.%dT%H:%M:%S') #Изменяем first_day_exposition с типом object на datetime64\n",
    "data['balcony'] = data['balcony'].astype('int64') #Изменяем тип переменной balcony, так как балконов может быть только целое число\n",
    "data['parks_around3000'] = data['parks_around3000'].astype('int64') #Изменяем тип переменной parks_around3000, так как их может быть только целое число\n",
    "data['ponds_around3000'] = data['ponds_around3000'].astype('int64') #Изменяем тип переменной ponds_around3000, так как их может быть только целое число\n",
    "data['floors_total'] = data['floors_total'].astype('int64') #Кол-во этажей может быть только целым числом\n",
    "data['last_price'] = data['last_price'].astype('int64')"
   ]
  },
  {
   "cell_type": "code",
   "execution_count": 13,
   "metadata": {},
   "outputs": [
    {
     "name": "stdout",
     "output_type": "stream",
     "text": [
      "<class 'pandas.core.frame.DataFrame'>\n",
      "RangeIndex: 23699 entries, 0 to 23698\n",
      "Data columns (total 22 columns):\n",
      " #   Column                Non-Null Count  Dtype         \n",
      "---  ------                --------------  -----         \n",
      " 0   total_images          23699 non-null  int64         \n",
      " 1   last_price            23699 non-null  int64         \n",
      " 2   total_area            23699 non-null  float64       \n",
      " 3   first_day_exposition  23699 non-null  datetime64[ns]\n",
      " 4   rooms                 23699 non-null  int64         \n",
      " 5   ceiling_height        23699 non-null  float64       \n",
      " 6   floors_total          23699 non-null  int64         \n",
      " 7   living_area           23699 non-null  float64       \n",
      " 8   floor                 23699 non-null  int64         \n",
      " 9   is_apartment          23699 non-null  bool          \n",
      " 10  studio                23699 non-null  bool          \n",
      " 11  open_plan             23699 non-null  bool          \n",
      " 12  kitchen_area          23699 non-null  float64       \n",
      " 13  balcony               23699 non-null  int64         \n",
      " 14  locality_name         23650 non-null  object        \n",
      " 15  airports_nearest      18157 non-null  float64       \n",
      " 16  cityCenters_nearest   18180 non-null  float64       \n",
      " 17  parks_around3000      23699 non-null  int64         \n",
      " 18  parks_nearest         8079 non-null   float64       \n",
      " 19  ponds_around3000      23699 non-null  int64         \n",
      " 20  ponds_nearest         9110 non-null   float64       \n",
      " 21  days_exposition       20518 non-null  float64       \n",
      "dtypes: bool(3), datetime64[ns](1), float64(9), int64(8), object(1)\n",
      "memory usage: 3.5+ MB\n"
     ]
    }
   ],
   "source": [
    "#Проверка применимости новых форматов\n",
    "data.info()"
   ]
  },
  {
   "cell_type": "markdown",
   "metadata": {},
   "source": [
    "**Вывод:** Тип данных изменен у first_day_exposition, balcony, floors_total, parks_around3000, ponds_around3000. Описание к принципу замены приведены в комментариях выше."
   ]
  },
  {
   "cell_type": "code",
   "execution_count": 14,
   "metadata": {},
   "outputs": [
    {
     "data": {
      "text/plain": [
       "array(['Санкт-Петербург', 'Шушары', 'Янино-1', 'Парголово', 'Мурино',\n",
       "       'Ломоносов', 'Сертолово', 'Петергоф', 'Пушкин', 'Кудрово',\n",
       "       'Коммунар', 'Колпино', 'Красный Бор', 'Гатчина', 'Федоровское',\n",
       "       'Выборг', 'Кронштадт', 'Кировск', 'Новое Девяткино',\n",
       "       'Металлострой', 'Лебяжье', 'Сиверский', 'Молодцово',\n",
       "       'Кузьмоловский', 'Новая Ропша', 'Павловск', 'Пикколово',\n",
       "       'Всеволожск', 'Волхов', 'Кингисепп', 'Приозерск', 'Сестрорецк',\n",
       "       'Куттузи', 'Аннино', 'Ефимовский', 'Плодовое', 'Заклинье',\n",
       "       'Торковичи', 'Первомайское', 'Красное Село', 'Понтонный',\n",
       "       'Сясьстрой', 'Старая', 'Лесколово', 'Новый Свет', 'Сланцы',\n",
       "       'Путилово', 'Ивангород', 'Шлиссельбург', 'Никольское',\n",
       "       'Зеленогорск', 'Сосновый Бор', 'Оржицы', 'Кальтино', 'Романовка',\n",
       "       'Бугры', 'Рощино', 'Кириши', 'Луга', 'Волосово', 'Отрадное',\n",
       "       'Павлово', 'Оредеж', 'Копорье', 'Молодежное', 'Тихвин', 'Победа',\n",
       "       'Нурма', 'Синявино', 'Тосно', 'Стрельна', 'Бокситогорск',\n",
       "       'Александровская', 'Лопухинка', 'Пикалево', 'Терволово',\n",
       "       'Советский', 'Подпорожье', 'Петровское', 'Токсово', 'Сельцо',\n",
       "       'Вырица', 'Кипень', 'Келози', 'Вартемяги', 'Тельмана',\n",
       "       'Севастьяново', 'Большая Ижора', nan, 'Агалатово', 'Новогорелово',\n",
       "       'Лесогорский', 'Лаголово', 'Цвелодубово', 'Рахья', 'Белогорка',\n",
       "       'Заводской', 'Новоселье', 'Большие Колпаны', 'Горбунки', 'Батово',\n",
       "       'Заневка', 'Иссад', 'Приморск', 'Мистолово', 'Новая Ладога',\n",
       "       'Зимитицы', 'Барышево', 'Разметелево', 'Свердлова', 'Пеники',\n",
       "       'Рябово', 'Пудомяги', 'Корнево', 'Низино', 'Бегуницы', 'Поляны',\n",
       "       'Мга', 'Елизаветино', 'Кузнечное', 'Колтуши', 'Запорожское',\n",
       "       'Гостилицы', 'Малое Карлино', 'Мичуринское', 'Морозова',\n",
       "       'Песочный', 'Сосново', 'Аро', 'Ильичево', 'Тайцы', 'Малое Верево',\n",
       "       'Извара', 'Вещево', 'Паша', 'Калитино', 'Ульяновка', 'Чудской Бор',\n",
       "       'Дубровка', 'Мины', 'Войсковицы', 'Коркино', 'Ропша',\n",
       "       'Приладожский', 'Щеглово', 'Гаврилово', 'Лодейное Поле',\n",
       "       'Рабитицы', 'Никольский', 'Кузьмолово', 'Малые Колпаны',\n",
       "       'Петро-Славянка', 'Назия', 'Репино', 'Углово', 'Старая Малукса',\n",
       "       'Меньково', 'Старые Бегуницы', 'Саперный', 'Семрино', 'Глажево',\n",
       "       'Кобринское', 'Гарболово', 'Юкки', 'Приветнинское', 'Мануйлово',\n",
       "       'Пчева', 'Цвылево', 'Мельниково', 'Пудость', 'Усть-Луга',\n",
       "       'Светогорск', 'Любань', 'Селезнево', 'Каменногорск', 'Кривко',\n",
       "       'Глебычево', 'Парицы', 'Жил', 'Войскорово', 'Стеклянный', 'Важины',\n",
       "       'Мыза-Ивановка', 'Русско-Высоцкое', 'Форносово', 'Старая Ладога',\n",
       "       'Житково', 'Виллози', 'Лампово', 'Шпаньково', 'Лаврики', 'Сумино',\n",
       "       'Возрождение', 'Старосиверская', 'Кикерино', 'Старое Хинколово',\n",
       "       'Пригородный', 'Торфяное', 'Будогощь', 'Суходолье',\n",
       "       'Красная Долина', 'Хапо-Ое', 'Дружная Горка', 'Лисий Нос',\n",
       "       'Яльгелево', 'Рождествено', 'Старополье', 'Левашово', 'Сяськелево',\n",
       "       'Камышовка', 'Лесная Поляна', 'Хязельки', 'Жилгородок', 'Ялгино',\n",
       "       'Новый Учхоз', 'Гончарово', 'Почап', 'Саперное',\n",
       "       'Платформа 69-й километр', 'Каложицы', 'Фалилеево', 'Пельгора',\n",
       "       'Торошковичи', 'Белоостров', 'Алексеевка', 'Серебрянский',\n",
       "       'Лукаши', 'Тарасово', 'Кингисеппский', 'Ушаки', 'Котлы', 'Сижно',\n",
       "       'Торосово', 'Форт Красная Горка', 'Новолисино', 'Громово',\n",
       "       'Глинка', 'Старая Пустошь', 'Коммунары', 'Починок', 'Вознесенье',\n",
       "       'Разбегаево', 'Гладкое', 'Тесово-4', 'Бор', 'Коробицыно',\n",
       "       'Большая Вруда', 'Курковицы', 'Кобралово', 'Суоранда',\n",
       "       'Кондратьево', 'Счастье', 'Реброво', 'Тойворово', 'Семиозерье',\n",
       "       'Лесное', 'Совхозный', 'Ленинское', 'Суйда', 'Нижние Осельки',\n",
       "       'Свирь', 'Перово', 'Высоцк', 'Шум', 'Котельский', 'Лужайка',\n",
       "       'Большая Пустомержа', 'Красносельское', 'Вахнова Кара', 'Пижма',\n",
       "       'Кивеннапа Север', 'Ромашки', 'Каськово', 'Куровицы', 'Плоское',\n",
       "       'Кирпичное', 'Ям-Тесово', 'Раздолье', 'Терпилицы', 'Шугозеро',\n",
       "       'Ваганово', 'Пушное', 'Садко', 'Усть-Ижора', 'Выскатка',\n",
       "       'Свирьстрой', 'Кисельня', 'Трубников Бор', 'Высокоключевой',\n",
       "       'Пансионат Зеленый Бор', 'Ненимяки', 'Снегиревка', 'Рапполово',\n",
       "       'Пустынка', 'Большой Сабск', 'Русско', 'Лупполово',\n",
       "       'Большое Рейзино', 'Малая Романовка', 'Дружноселье', 'Пчевжа',\n",
       "       'Володарское', 'Нижняя', 'Тихковицы', 'Борисова Грива',\n",
       "       'Дзержинского'], dtype=object)"
      ]
     },
     "execution_count": 14,
     "metadata": {},
     "output_type": "execute_result"
    }
   ],
   "source": [
    "#Поиск и замена неявных дубликатов\n",
    "#Замена вснего что не связано с названием непосредственно на пробелы\n",
    "data['locality_name'] = data['locality_name'].str.replace('посёлок','')\n",
    "data['locality_name'] = data['locality_name'].str.replace('поселок','')\n",
    "data['locality_name'] = data['locality_name'].str.replace('деревня','')\n",
    "data['locality_name'] = data['locality_name'].str.replace('городского типа','')\n",
    "data['locality_name'] = data['locality_name'].str.replace('городской','')\n",
    "data['locality_name'] = data['locality_name'].str.replace('садовое товарищество','')\n",
    "data['locality_name'] = data['locality_name'].str.replace('село','')\n",
    "data['locality_name'] = data['locality_name'].str.replace('садоводческое некоммерческое товарищество','')\n",
    "data['locality_name'] = data['locality_name'].str.replace('имени','')\n",
    "data['locality_name'] = data['locality_name'].str.replace('при железнодорожной станции','')\n",
    "data['locality_name'] = data['locality_name'].str.replace('станции','')\n",
    "data['locality_name'] = data['locality_name'].str.replace('коттеджный','')\n",
    "data['locality_name'] = data['locality_name'].str.replace('ё','е')\n",
    "data['locality_name'] = data['locality_name'].str.strip() #Удаление полученных в результате пробелов в начале и в конце нназваний\n",
    "data['locality_name'].unique()"
   ]
  },
  {
   "cell_type": "markdown",
   "metadata": {},
   "source": [
    "#### Устраняем аномалии в данных"
   ]
  },
  {
   "cell_type": "markdown",
   "metadata": {},
   "source": [
    "Напишем циклы и выведем на экран для просмотра уникальных значений по всем столбцам, а так же описание основных параметров по всем столбцам, для корректного определения возможных видимых выбросов."
   ]
  },
  {
   "cell_type": "code",
   "execution_count": 15,
   "metadata": {},
   "outputs": [
    {
     "data": {
      "text/plain": [
       "'total_images'"
      ]
     },
     "metadata": {},
     "output_type": "display_data"
    },
    {
     "data": {
      "text/plain": [
       "array([ 0,  1,  2,  3,  4,  5,  6,  7,  8,  9, 10, 11, 12, 13, 14, 15, 16,\n",
       "       17, 18, 19, 20, 21, 22, 23, 24, 25, 26, 27, 28, 29, 30, 31, 32, 35,\n",
       "       37, 39, 42, 50])"
      ]
     },
     "metadata": {},
     "output_type": "display_data"
    },
    {
     "data": {
      "text/plain": [
       "'last_price'"
      ]
     },
     "metadata": {},
     "output_type": "display_data"
    },
    {
     "data": {
      "text/plain": [
       "array([    12190,    430000,    440000, ..., 401300000, 420000000,\n",
       "       763000000])"
      ]
     },
     "metadata": {},
     "output_type": "display_data"
    },
    {
     "data": {
      "text/plain": [
       "'total_area'"
      ]
     },
     "metadata": {},
     "output_type": "display_data"
    },
    {
     "data": {
      "text/plain": [
       "array([ 12. ,  13. ,  13.2, ..., 631. , 631.2, 900. ])"
      ]
     },
     "metadata": {},
     "output_type": "display_data"
    },
    {
     "data": {
      "text/plain": [
       "'first_day_exposition'"
      ]
     },
     "metadata": {},
     "output_type": "display_data"
    },
    {
     "data": {
      "text/plain": [
       "array(['2014-11-27T00:00:00.000000000', '2014-11-29T00:00:00.000000000',\n",
       "       '2014-12-04T00:00:00.000000000', ...,\n",
       "       '2019-05-01T00:00:00.000000000', '2019-05-02T00:00:00.000000000',\n",
       "       '2019-05-03T00:00:00.000000000'], dtype='datetime64[ns]')"
      ]
     },
     "metadata": {},
     "output_type": "display_data"
    },
    {
     "data": {
      "text/plain": [
       "'rooms'"
      ]
     },
     "metadata": {},
     "output_type": "display_data"
    },
    {
     "data": {
      "text/plain": [
       "array([ 0,  1,  2,  3,  4,  5,  6,  7,  8,  9, 10, 11, 12, 14, 15, 16, 19])"
      ]
     },
     "metadata": {},
     "output_type": "display_data"
    },
    {
     "data": {
      "text/plain": [
       "'ceiling_height'"
      ]
     },
     "metadata": {},
     "output_type": "display_data"
    },
    {
     "data": {
      "text/plain": [
       "array([  1.  ,   1.2 ,   1.75,   2.  ,   2.2 ,   2.25,   2.3 ,   2.34,\n",
       "         2.4 ,   2.45,   2.46,   2.47,   2.48,   2.49,   2.5 ,   2.51,\n",
       "         2.52,   2.53,   2.54,   2.55,   2.56,   2.57,   2.58,   2.59,\n",
       "         2.6 ,   2.61,   2.62,   2.63,   2.64,   2.65,   2.66,   2.67,\n",
       "         2.68,   2.69,   2.7 ,   2.71,   2.72,   2.73,   2.74,   2.75,\n",
       "         2.76,   2.77,   2.78,   2.79,   2.8 ,   2.81,   2.82,   2.83,\n",
       "         2.84,   2.85,   2.86,   2.87,   2.88,   2.89,   2.9 ,   2.91,\n",
       "         2.92,   2.93,   2.94,   2.95,   2.96,   2.97,   2.98,   2.99,\n",
       "         3.  ,   3.01,   3.02,   3.03,   3.04,   3.05,   3.06,   3.07,\n",
       "         3.08,   3.09,   3.1 ,   3.11,   3.12,   3.13,   3.14,   3.15,\n",
       "         3.16,   3.17,   3.18,   3.2 ,   3.21,   3.22,   3.23,   3.24,\n",
       "         3.25,   3.26,   3.27,   3.28,   3.29,   3.3 ,   3.31,   3.32,\n",
       "         3.33,   3.34,   3.35,   3.36,   3.37,   3.38,   3.39,   3.4 ,\n",
       "         3.42,   3.43,   3.44,   3.45,   3.46,   3.47,   3.48,   3.49,\n",
       "         3.5 ,   3.51,   3.52,   3.53,   3.54,   3.55,   3.56,   3.57,\n",
       "         3.58,   3.59,   3.6 ,   3.62,   3.63,   3.65,   3.66,   3.67,\n",
       "         3.68,   3.69,   3.7 ,   3.75,   3.76,   3.78,   3.8 ,   3.82,\n",
       "         3.83,   3.84,   3.85,   3.86,   3.87,   3.88,   3.9 ,   3.93,\n",
       "         3.95,   3.98,   4.  ,   4.06,   4.1 ,   4.14,   4.15,   4.19,\n",
       "         4.2 ,   4.25,   4.3 ,   4.37,   4.4 ,   4.45,   4.5 ,   4.65,\n",
       "         4.7 ,   4.8 ,   4.9 ,   5.  ,   5.2 ,   5.3 ,   5.5 ,   5.6 ,\n",
       "         5.8 ,   6.  ,   8.  ,   8.3 ,  10.3 ,  14.  ,  20.  ,  22.6 ,\n",
       "        24.  ,  25.  ,  26.  ,  27.  ,  27.5 ,  32.  , 100.  ])"
      ]
     },
     "metadata": {},
     "output_type": "display_data"
    },
    {
     "data": {
      "text/plain": [
       "'floors_total'"
      ]
     },
     "metadata": {},
     "output_type": "display_data"
    },
    {
     "data": {
      "text/plain": [
       "array([ 1,  2,  3,  4,  5,  6,  7,  8,  9, 10, 11, 12, 13, 14, 15, 16, 17,\n",
       "       18, 19, 20, 21, 22, 23, 24, 25, 26, 27, 28, 29, 33, 34, 35, 36, 37,\n",
       "       52, 60])"
      ]
     },
     "metadata": {},
     "output_type": "display_data"
    },
    {
     "data": {
      "text/plain": [
       "'living_area'"
      ]
     },
     "metadata": {},
     "output_type": "display_data"
    },
    {
     "data": {
      "text/plain": [
       "array([  2. ,   3. ,   5. , ..., 347.5, 409. , 409.7])"
      ]
     },
     "metadata": {},
     "output_type": "display_data"
    },
    {
     "data": {
      "text/plain": [
       "'floor'"
      ]
     },
     "metadata": {},
     "output_type": "display_data"
    },
    {
     "data": {
      "text/plain": [
       "array([ 1,  2,  3,  4,  5,  6,  7,  8,  9, 10, 11, 12, 13, 14, 15, 16, 17,\n",
       "       18, 19, 20, 21, 22, 23, 24, 25, 26, 27, 28, 29, 30, 31, 32, 33])"
      ]
     },
     "metadata": {},
     "output_type": "display_data"
    },
    {
     "data": {
      "text/plain": [
       "'is_apartment'"
      ]
     },
     "metadata": {},
     "output_type": "display_data"
    },
    {
     "data": {
      "text/plain": [
       "array([False,  True])"
      ]
     },
     "metadata": {},
     "output_type": "display_data"
    },
    {
     "data": {
      "text/plain": [
       "'studio'"
      ]
     },
     "metadata": {},
     "output_type": "display_data"
    },
    {
     "data": {
      "text/plain": [
       "array([False,  True])"
      ]
     },
     "metadata": {},
     "output_type": "display_data"
    },
    {
     "data": {
      "text/plain": [
       "'open_plan'"
      ]
     },
     "metadata": {},
     "output_type": "display_data"
    },
    {
     "data": {
      "text/plain": [
       "array([False,  True])"
      ]
     },
     "metadata": {},
     "output_type": "display_data"
    },
    {
     "data": {
      "text/plain": [
       "'kitchen_area'"
      ]
     },
     "metadata": {},
     "output_type": "display_data"
    },
    {
     "data": {
      "text/plain": [
       "array([  1.3      ,   2.       ,   2.0031285, ..., 100.7      ,\n",
       "       107.       , 112.       ])"
      ]
     },
     "metadata": {},
     "output_type": "display_data"
    },
    {
     "data": {
      "text/plain": [
       "'balcony'"
      ]
     },
     "metadata": {},
     "output_type": "display_data"
    },
    {
     "data": {
      "text/plain": [
       "array([0, 1, 2, 3, 4, 5])"
      ]
     },
     "metadata": {},
     "output_type": "display_data"
    },
    {
     "data": {
      "text/plain": [
       "'locality_name'"
      ]
     },
     "metadata": {},
     "output_type": "display_data"
    },
    {
     "data": {
      "text/plain": [
       "array(['Агалатово', 'Александровская', 'Алексеевка', 'Аннино', 'Аро',\n",
       "       'Барышево', 'Батово', 'Бегуницы', 'Белогорка', 'Белоостров',\n",
       "       'Бокситогорск', 'Большая Вруда', 'Большая Ижора',\n",
       "       'Большая Пустомержа', 'Большие Колпаны', 'Большое Рейзино',\n",
       "       'Большой Сабск', 'Бор', 'Борисова Грива', 'Бугры', 'Будогощь',\n",
       "       'Ваганово', 'Важины', 'Вартемяги', 'Вахнова Кара', 'Вещево',\n",
       "       'Виллози', 'Вознесенье', 'Возрождение', 'Войсковицы', 'Войскорово',\n",
       "       'Володарское', 'Волосово', 'Волхов', 'Всеволожск', 'Выборг',\n",
       "       'Вырица', 'Выскатка', 'Высокоключевой', 'Высоцк', 'Гаврилово',\n",
       "       'Гарболово', 'Гатчина', 'Гладкое', 'Глажево', 'Глебычево',\n",
       "       'Глинка', 'Гончарово', 'Горбунки', 'Гостилицы', 'Громово',\n",
       "       'Дзержинского', 'Дружная Горка', 'Дружноселье', 'Дубровка',\n",
       "       'Елизаветино', 'Ефимовский', 'Жил', 'Жилгородок', 'Житково',\n",
       "       'Заводской', 'Заклинье', 'Заневка', 'Запорожское', 'Зеленогорск',\n",
       "       'Зимитицы', 'Ивангород', 'Извара', 'Ильичево', 'Иссад', 'Калитино',\n",
       "       'Каложицы', 'Кальтино', 'Каменногорск', 'Камышовка', 'Каськово',\n",
       "       'Келози', 'Кивеннапа Север', 'Кикерино', 'Кингисепп',\n",
       "       'Кингисеппский', 'Кипень', 'Кириши', 'Кировск', 'Кирпичное',\n",
       "       'Кисельня', 'Кобралово', 'Кобринское', 'Колпино', 'Колтуши',\n",
       "       'Коммунар', 'Коммунары', 'Кондратьево', 'Копорье', 'Коркино',\n",
       "       'Корнево', 'Коробицыно', 'Котельский', 'Котлы', 'Красная Долина',\n",
       "       'Красное Село', 'Красносельское', 'Красный Бор', 'Кривко',\n",
       "       'Кронштадт', 'Кудрово', 'Кузнечное', 'Кузьмолово', 'Кузьмоловский',\n",
       "       'Курковицы', 'Куровицы', 'Куттузи', 'Лаврики', 'Лаголово',\n",
       "       'Лампово', 'Лебяжье', 'Левашово', 'Ленинское', 'Лесколово',\n",
       "       'Лесная Поляна', 'Лесное', 'Лесогорский', 'Лисий Нос',\n",
       "       'Лодейное Поле', 'Ломоносов', 'Лопухинка', 'Луга', 'Лужайка',\n",
       "       'Лукаши', 'Лупполово', 'Любань', 'Малая Романовка', 'Малое Верево',\n",
       "       'Малое Карлино', 'Малые Колпаны', 'Мануйлово', 'Мга', 'Мельниково',\n",
       "       'Меньково', 'Металлострой', 'Мины', 'Мистолово', 'Мичуринское',\n",
       "       'Молодежное', 'Молодцово', 'Морозова', 'Мурино', 'Мыза-Ивановка',\n",
       "       'Назия', 'Ненимяки', 'Нижние Осельки', 'Нижняя', 'Низино',\n",
       "       'Никольский', 'Никольское', 'Новая Ладога', 'Новая Ропша',\n",
       "       'Новогорелово', 'Новое Девяткино', 'Новолисино', 'Новоселье',\n",
       "       'Новый Свет', 'Новый Учхоз', 'Нурма', 'Оредеж', 'Оржицы',\n",
       "       'Отрадное', 'Павлово', 'Павловск', 'Пансионат Зеленый Бор',\n",
       "       'Парголово', 'Парицы', 'Паша', 'Пельгора', 'Пеники',\n",
       "       'Первомайское', 'Перово', 'Песочный', 'Петергоф', 'Петро-Славянка',\n",
       "       'Петровское', 'Пижма', 'Пикалево', 'Пикколово',\n",
       "       'Платформа 69-й километр', 'Плодовое', 'Плоское', 'Победа',\n",
       "       'Подпорожье', 'Поляны', 'Понтонный', 'Почап', 'Починок',\n",
       "       'Приветнинское', 'Пригородный', 'Приладожский', 'Приморск',\n",
       "       'Приозерск', 'Пудомяги', 'Пудость', 'Пустынка', 'Путилово',\n",
       "       'Пушкин', 'Пушное', 'Пчева', 'Пчевжа', 'Рабитицы', 'Разбегаево',\n",
       "       'Раздолье', 'Разметелево', 'Рапполово', 'Рахья', 'Реброво',\n",
       "       'Репино', 'Рождествено', 'Романовка', 'Ромашки', 'Ропша', 'Рощино',\n",
       "       'Русско', 'Русско-Высоцкое', 'Рябово', 'Садко', 'Санкт-Петербург',\n",
       "       'Саперное', 'Саперный', 'Свердлова', 'Светогорск', 'Свирь',\n",
       "       'Свирьстрой', 'Севастьяново', 'Селезнево', 'Сельцо', 'Семиозерье',\n",
       "       'Семрино', 'Серебрянский', 'Сертолово', 'Сестрорецк', 'Сиверский',\n",
       "       'Сижно', 'Синявино', 'Сланцы', 'Снегиревка', 'Советский',\n",
       "       'Совхозный', 'Сосново', 'Сосновый Бор', 'Старая', 'Старая Ладога',\n",
       "       'Старая Малукса', 'Старая Пустошь', 'Старое Хинколово',\n",
       "       'Старополье', 'Старосиверская', 'Старые Бегуницы', 'Стеклянный',\n",
       "       'Стрельна', 'Суйда', 'Сумино', 'Суоранда', 'Суходолье', 'Счастье',\n",
       "       'Сяськелево', 'Сясьстрой', 'Тайцы', 'Тарасово', 'Тельмана',\n",
       "       'Терволово', 'Терпилицы', 'Тесово-4', 'Тихвин', 'Тихковицы',\n",
       "       'Тойворово', 'Токсово', 'Торковичи', 'Торосово', 'Торошковичи',\n",
       "       'Торфяное', 'Тосно', 'Трубников Бор', 'Углово', 'Ульяновка',\n",
       "       'Усть-Ижора', 'Усть-Луга', 'Ушаки', 'Фалилеево', 'Федоровское',\n",
       "       'Форносово', 'Форт Красная Горка', 'Хапо-Ое', 'Хязельки',\n",
       "       'Цвелодубово', 'Цвылево', 'Чудской Бор', 'Шлиссельбург',\n",
       "       'Шпаньково', 'Шугозеро', 'Шум', 'Шушары', 'Щеглово', 'Юкки',\n",
       "       'Ялгино', 'Яльгелево', 'Ям-Тесово', 'Янино-1', nan], dtype=object)"
      ]
     },
     "metadata": {},
     "output_type": "display_data"
    },
    {
     "data": {
      "text/plain": [
       "'airports_nearest'"
      ]
     },
     "metadata": {},
     "output_type": "display_data"
    },
    {
     "data": {
      "text/plain": [
       "array([    0.,  6450.,  6914., ..., 84853., 84869.,    nan])"
      ]
     },
     "metadata": {},
     "output_type": "display_data"
    },
    {
     "data": {
      "text/plain": [
       "'cityCenters_nearest'"
      ]
     },
     "metadata": {},
     "output_type": "display_data"
    },
    {
     "data": {
      "text/plain": [
       "array([  181.,   208.,   215., ..., 65952., 65968.,    nan])"
      ]
     },
     "metadata": {},
     "output_type": "display_data"
    },
    {
     "data": {
      "text/plain": [
       "'parks_around3000'"
      ]
     },
     "metadata": {},
     "output_type": "display_data"
    },
    {
     "data": {
      "text/plain": [
       "array([0, 1, 2, 3])"
      ]
     },
     "metadata": {},
     "output_type": "display_data"
    },
    {
     "data": {
      "text/plain": [
       "'parks_nearest'"
      ]
     },
     "metadata": {},
     "output_type": "display_data"
    },
    {
     "data": {
      "text/plain": [
       "array([1.000e+00, 3.000e+00, 4.000e+00, 7.000e+00, 9.000e+00, 1.000e+01,\n",
       "       1.100e+01, 1.200e+01, 1.300e+01, 1.400e+01, 1.500e+01, 1.600e+01,\n",
       "       1.700e+01, 1.800e+01, 1.900e+01, 2.000e+01, 2.100e+01, 2.200e+01,\n",
       "       2.300e+01, 2.400e+01, 2.700e+01, 2.800e+01, 3.000e+01, 3.200e+01,\n",
       "       3.300e+01, 3.400e+01, 3.500e+01, 3.600e+01, 3.700e+01, 3.800e+01,\n",
       "       3.900e+01, 4.000e+01, 4.100e+01, 4.200e+01, 4.300e+01, 4.400e+01,\n",
       "       4.500e+01, 4.600e+01, 4.700e+01, 4.800e+01, 4.900e+01, 5.000e+01,\n",
       "       5.100e+01, 5.200e+01, 5.300e+01, 5.400e+01, 5.500e+01, 5.600e+01,\n",
       "       5.700e+01, 5.800e+01, 5.900e+01, 6.000e+01, 6.100e+01, 6.200e+01,\n",
       "       6.300e+01, 6.400e+01, 6.500e+01, 6.600e+01, 6.700e+01, 6.800e+01,\n",
       "       6.900e+01, 7.100e+01, 7.200e+01, 7.300e+01, 7.400e+01, 7.500e+01,\n",
       "       7.600e+01, 7.700e+01, 7.800e+01, 8.000e+01, 8.100e+01, 8.200e+01,\n",
       "       8.300e+01, 8.400e+01, 8.500e+01, 8.600e+01, 8.700e+01, 8.800e+01,\n",
       "       9.000e+01, 9.100e+01, 9.200e+01, 9.300e+01, 9.400e+01, 9.500e+01,\n",
       "       9.600e+01, 9.700e+01, 9.800e+01, 9.900e+01, 1.000e+02, 1.010e+02,\n",
       "       1.020e+02, 1.030e+02, 1.040e+02, 1.050e+02, 1.060e+02, 1.070e+02,\n",
       "       1.080e+02, 1.090e+02, 1.100e+02, 1.120e+02, 1.130e+02, 1.140e+02,\n",
       "       1.150e+02, 1.160e+02, 1.170e+02, 1.180e+02, 1.190e+02, 1.200e+02,\n",
       "       1.210e+02, 1.220e+02, 1.230e+02, 1.240e+02, 1.250e+02, 1.260e+02,\n",
       "       1.270e+02, 1.280e+02, 1.290e+02, 1.300e+02, 1.310e+02, 1.320e+02,\n",
       "       1.330e+02, 1.340e+02, 1.350e+02, 1.360e+02, 1.370e+02, 1.380e+02,\n",
       "       1.390e+02, 1.400e+02, 1.410e+02, 1.420e+02, 1.440e+02, 1.450e+02,\n",
       "       1.460e+02, 1.470e+02, 1.480e+02, 1.490e+02, 1.500e+02, 1.510e+02,\n",
       "       1.520e+02, 1.530e+02, 1.540e+02, 1.550e+02, 1.560e+02, 1.570e+02,\n",
       "       1.580e+02, 1.590e+02, 1.600e+02, 1.610e+02, 1.620e+02, 1.630e+02,\n",
       "       1.640e+02, 1.650e+02, 1.660e+02, 1.670e+02, 1.680e+02, 1.690e+02,\n",
       "       1.700e+02, 1.710e+02, 1.720e+02, 1.730e+02, 1.740e+02, 1.750e+02,\n",
       "       1.760e+02, 1.770e+02, 1.780e+02, 1.790e+02, 1.800e+02, 1.810e+02,\n",
       "       1.820e+02, 1.830e+02, 1.840e+02, 1.850e+02, 1.860e+02, 1.870e+02,\n",
       "       1.880e+02, 1.890e+02, 1.900e+02, 1.910e+02, 1.920e+02, 1.930e+02,\n",
       "       1.940e+02, 1.950e+02, 1.960e+02, 1.970e+02, 1.980e+02, 1.990e+02,\n",
       "       2.000e+02, 2.010e+02, 2.020e+02, 2.030e+02, 2.040e+02, 2.050e+02,\n",
       "       2.060e+02, 2.070e+02, 2.080e+02, 2.090e+02, 2.100e+02, 2.110e+02,\n",
       "       2.120e+02, 2.130e+02, 2.150e+02, 2.160e+02, 2.170e+02, 2.180e+02,\n",
       "       2.190e+02, 2.200e+02, 2.210e+02, 2.220e+02, 2.230e+02, 2.240e+02,\n",
       "       2.250e+02, 2.260e+02, 2.270e+02, 2.280e+02, 2.290e+02, 2.300e+02,\n",
       "       2.310e+02, 2.320e+02, 2.330e+02, 2.340e+02, 2.350e+02, 2.360e+02,\n",
       "       2.370e+02, 2.380e+02, 2.390e+02, 2.400e+02, 2.410e+02, 2.420e+02,\n",
       "       2.430e+02, 2.440e+02, 2.450e+02, 2.460e+02, 2.470e+02, 2.480e+02,\n",
       "       2.490e+02, 2.500e+02, 2.510e+02, 2.520e+02, 2.530e+02, 2.540e+02,\n",
       "       2.550e+02, 2.560e+02, 2.570e+02, 2.580e+02, 2.590e+02, 2.600e+02,\n",
       "       2.610e+02, 2.620e+02, 2.630e+02, 2.640e+02, 2.650e+02, 2.660e+02,\n",
       "       2.670e+02, 2.680e+02, 2.690e+02, 2.700e+02, 2.710e+02, 2.720e+02,\n",
       "       2.730e+02, 2.740e+02, 2.750e+02, 2.760e+02, 2.770e+02, 2.780e+02,\n",
       "       2.790e+02, 2.800e+02, 2.810e+02, 2.820e+02, 2.830e+02, 2.840e+02,\n",
       "       2.850e+02, 2.860e+02, 2.870e+02, 2.880e+02, 2.890e+02, 2.900e+02,\n",
       "       2.910e+02, 2.920e+02, 2.930e+02, 2.940e+02, 2.950e+02, 2.960e+02,\n",
       "       2.970e+02, 2.980e+02, 2.990e+02, 3.000e+02, 3.010e+02, 3.020e+02,\n",
       "       3.030e+02, 3.040e+02, 3.050e+02, 3.060e+02, 3.070e+02, 3.080e+02,\n",
       "       3.090e+02, 3.100e+02, 3.110e+02, 3.120e+02, 3.130e+02, 3.140e+02,\n",
       "       3.150e+02, 3.160e+02, 3.170e+02, 3.180e+02, 3.190e+02, 3.200e+02,\n",
       "       3.210e+02, 3.220e+02, 3.230e+02, 3.240e+02, 3.250e+02, 3.260e+02,\n",
       "       3.270e+02, 3.280e+02, 3.290e+02, 3.300e+02, 3.310e+02, 3.320e+02,\n",
       "       3.330e+02, 3.340e+02, 3.350e+02, 3.360e+02, 3.370e+02, 3.380e+02,\n",
       "       3.390e+02, 3.400e+02, 3.410e+02, 3.420e+02, 3.430e+02, 3.440e+02,\n",
       "       3.450e+02, 3.460e+02, 3.470e+02, 3.480e+02, 3.490e+02, 3.500e+02,\n",
       "       3.510e+02, 3.520e+02, 3.530e+02, 3.540e+02, 3.550e+02, 3.560e+02,\n",
       "       3.570e+02, 3.580e+02, 3.590e+02, 3.600e+02, 3.610e+02, 3.620e+02,\n",
       "       3.630e+02, 3.640e+02, 3.650e+02, 3.660e+02, 3.670e+02, 3.680e+02,\n",
       "       3.690e+02, 3.700e+02, 3.710e+02, 3.720e+02, 3.730e+02, 3.740e+02,\n",
       "       3.750e+02, 3.760e+02, 3.770e+02, 3.780e+02, 3.790e+02, 3.800e+02,\n",
       "       3.810e+02, 3.820e+02, 3.830e+02, 3.840e+02, 3.850e+02, 3.860e+02,\n",
       "       3.870e+02, 3.880e+02, 3.890e+02, 3.900e+02, 3.910e+02, 3.920e+02,\n",
       "       3.930e+02, 3.940e+02, 3.950e+02, 3.960e+02, 3.970e+02, 3.980e+02,\n",
       "       3.990e+02, 4.000e+02, 4.010e+02, 4.020e+02, 4.030e+02, 4.040e+02,\n",
       "       4.050e+02, 4.060e+02, 4.070e+02, 4.080e+02, 4.090e+02, 4.100e+02,\n",
       "       4.110e+02, 4.120e+02, 4.130e+02, 4.140e+02, 4.150e+02, 4.160e+02,\n",
       "       4.170e+02, 4.180e+02, 4.190e+02, 4.200e+02, 4.210e+02, 4.220e+02,\n",
       "       4.230e+02, 4.240e+02, 4.250e+02, 4.260e+02, 4.270e+02, 4.280e+02,\n",
       "       4.290e+02, 4.300e+02, 4.310e+02, 4.320e+02, 4.330e+02, 4.340e+02,\n",
       "       4.350e+02, 4.360e+02, 4.370e+02, 4.380e+02, 4.390e+02, 4.400e+02,\n",
       "       4.410e+02, 4.420e+02, 4.430e+02, 4.440e+02, 4.450e+02, 4.460e+02,\n",
       "       4.470e+02, 4.480e+02, 4.490e+02, 4.500e+02, 4.510e+02, 4.520e+02,\n",
       "       4.530e+02, 4.540e+02, 4.550e+02, 4.560e+02, 4.570e+02, 4.580e+02,\n",
       "       4.590e+02, 4.600e+02, 4.610e+02, 4.620e+02, 4.630e+02, 4.640e+02,\n",
       "       4.650e+02, 4.660e+02, 4.670e+02, 4.680e+02, 4.690e+02, 4.700e+02,\n",
       "       4.710e+02, 4.720e+02, 4.730e+02, 4.740e+02, 4.750e+02, 4.760e+02,\n",
       "       4.770e+02, 4.780e+02, 4.790e+02, 4.800e+02, 4.810e+02, 4.820e+02,\n",
       "       4.830e+02, 4.840e+02, 4.850e+02, 4.860e+02, 4.870e+02, 4.880e+02,\n",
       "       4.890e+02, 4.900e+02, 4.910e+02, 4.920e+02, 4.930e+02, 4.940e+02,\n",
       "       4.950e+02, 4.960e+02, 4.970e+02, 4.980e+02, 4.990e+02, 5.000e+02,\n",
       "       5.010e+02, 5.020e+02, 5.030e+02, 5.040e+02, 5.050e+02, 5.060e+02,\n",
       "       5.070e+02, 5.080e+02, 5.090e+02, 5.100e+02, 5.110e+02, 5.120e+02,\n",
       "       5.130e+02, 5.140e+02, 5.150e+02, 5.160e+02, 5.170e+02, 5.180e+02,\n",
       "       5.190e+02, 5.200e+02, 5.210e+02, 5.220e+02, 5.230e+02, 5.240e+02,\n",
       "       5.250e+02, 5.260e+02, 5.270e+02, 5.280e+02, 5.290e+02, 5.300e+02,\n",
       "       5.310e+02, 5.320e+02, 5.330e+02, 5.340e+02, 5.350e+02, 5.360e+02,\n",
       "       5.370e+02, 5.380e+02, 5.390e+02, 5.400e+02, 5.410e+02, 5.420e+02,\n",
       "       5.430e+02, 5.440e+02, 5.450e+02, 5.460e+02, 5.470e+02, 5.480e+02,\n",
       "       5.490e+02, 5.500e+02, 5.510e+02, 5.520e+02, 5.530e+02, 5.540e+02,\n",
       "       5.550e+02, 5.560e+02, 5.570e+02, 5.580e+02, 5.590e+02, 5.600e+02,\n",
       "       5.610e+02, 5.620e+02, 5.630e+02, 5.640e+02, 5.650e+02, 5.660e+02,\n",
       "       5.670e+02, 5.680e+02, 5.690e+02, 5.700e+02, 5.710e+02, 5.720e+02,\n",
       "       5.730e+02, 5.740e+02, 5.750e+02, 5.760e+02, 5.770e+02, 5.780e+02,\n",
       "       5.790e+02, 5.800e+02, 5.810e+02, 5.820e+02, 5.830e+02, 5.840e+02,\n",
       "       5.850e+02, 5.860e+02, 5.870e+02, 5.880e+02, 5.890e+02, 5.900e+02,\n",
       "       5.910e+02, 5.920e+02, 5.930e+02, 5.940e+02, 5.950e+02, 5.960e+02,\n",
       "       5.970e+02, 5.980e+02, 5.990e+02, 6.000e+02, 6.010e+02, 6.020e+02,\n",
       "       6.030e+02, 6.040e+02, 6.050e+02, 6.060e+02, 6.070e+02, 6.080e+02,\n",
       "       6.090e+02, 6.100e+02, 6.110e+02, 6.120e+02, 6.130e+02, 6.140e+02,\n",
       "       6.150e+02, 6.160e+02, 6.170e+02, 6.180e+02, 6.190e+02, 6.200e+02,\n",
       "       6.210e+02, 6.220e+02, 6.230e+02, 6.240e+02, 6.250e+02, 6.260e+02,\n",
       "       6.270e+02, 6.280e+02, 6.290e+02, 6.300e+02, 6.310e+02, 6.320e+02,\n",
       "       6.330e+02, 6.340e+02, 6.350e+02, 6.360e+02, 6.370e+02, 6.380e+02,\n",
       "       6.390e+02, 6.400e+02, 6.410e+02, 6.420e+02, 6.430e+02, 6.440e+02,\n",
       "       6.450e+02, 6.460e+02, 6.470e+02, 6.480e+02, 6.490e+02, 6.500e+02,\n",
       "       6.510e+02, 6.520e+02, 6.530e+02, 6.540e+02, 6.550e+02, 6.560e+02,\n",
       "       6.570e+02, 6.580e+02, 6.590e+02, 6.600e+02, 6.610e+02, 6.620e+02,\n",
       "       6.630e+02, 6.640e+02, 6.650e+02, 6.660e+02, 6.670e+02, 6.680e+02,\n",
       "       6.690e+02, 6.700e+02, 6.710e+02, 6.720e+02, 6.730e+02, 6.740e+02,\n",
       "       6.750e+02, 6.760e+02, 6.770e+02, 6.780e+02, 6.790e+02, 6.800e+02,\n",
       "       6.810e+02, 6.820e+02, 6.830e+02, 6.840e+02, 6.850e+02, 6.860e+02,\n",
       "       6.870e+02, 6.880e+02, 6.890e+02, 6.900e+02, 6.910e+02, 6.920e+02,\n",
       "       6.930e+02, 6.940e+02, 6.950e+02, 6.960e+02, 6.970e+02, 6.980e+02,\n",
       "       6.990e+02, 7.000e+02, 7.010e+02, 7.020e+02, 7.030e+02, 7.040e+02,\n",
       "       7.050e+02, 7.060e+02, 7.070e+02, 7.080e+02, 7.090e+02, 7.100e+02,\n",
       "       7.110e+02, 7.120e+02, 7.130e+02, 7.140e+02, 7.150e+02, 7.160e+02,\n",
       "       7.170e+02, 7.180e+02, 7.190e+02, 7.210e+02, 7.220e+02, 7.230e+02,\n",
       "       7.240e+02, 7.250e+02, 7.260e+02, 7.270e+02, 7.280e+02, 7.290e+02,\n",
       "       7.300e+02, 7.310e+02, 7.320e+02, 7.330e+02, 7.350e+02, 7.360e+02,\n",
       "       7.370e+02, 7.380e+02, 7.390e+02, 7.400e+02, 7.410e+02, 7.420e+02,\n",
       "       7.440e+02, 7.450e+02, 7.460e+02, 7.480e+02, 7.490e+02, 7.510e+02,\n",
       "       7.530e+02, 7.540e+02, 7.550e+02, 7.560e+02, 7.570e+02, 7.580e+02,\n",
       "       7.590e+02, 7.600e+02, 7.610e+02, 7.620e+02, 7.630e+02, 7.640e+02,\n",
       "       7.650e+02, 7.660e+02, 7.670e+02, 7.680e+02, 7.690e+02, 7.700e+02,\n",
       "       7.710e+02, 7.750e+02, 7.780e+02, 7.790e+02, 7.800e+02, 7.820e+02,\n",
       "       7.830e+02, 7.840e+02, 7.860e+02, 7.870e+02, 7.880e+02, 7.890e+02,\n",
       "       7.900e+02, 7.910e+02, 7.920e+02, 7.930e+02, 7.940e+02, 7.960e+02,\n",
       "       7.970e+02, 7.980e+02, 7.990e+02, 8.000e+02, 8.010e+02, 8.020e+02,\n",
       "       8.030e+02, 8.040e+02, 8.050e+02, 8.060e+02, 8.080e+02, 8.090e+02,\n",
       "       8.110e+02, 8.120e+02, 8.140e+02, 8.160e+02, 8.170e+02, 8.200e+02,\n",
       "       8.220e+02, 8.230e+02, 8.260e+02, 8.270e+02, 8.280e+02, 8.290e+02,\n",
       "       8.300e+02, 8.310e+02, 8.320e+02, 8.340e+02, 8.350e+02, 8.390e+02,\n",
       "       8.410e+02, 8.420e+02, 8.430e+02, 8.450e+02, 8.460e+02, 8.470e+02,\n",
       "       8.480e+02, 8.500e+02, 8.520e+02, 8.530e+02, 8.560e+02, 8.580e+02,\n",
       "       8.590e+02, 8.600e+02, 8.610e+02, 8.620e+02, 8.630e+02, 8.660e+02,\n",
       "       8.670e+02, 8.680e+02, 8.690e+02, 8.700e+02, 8.730e+02, 8.750e+02,\n",
       "       8.790e+02, 8.850e+02, 8.860e+02, 8.870e+02, 8.880e+02, 8.890e+02,\n",
       "       8.900e+02, 8.930e+02, 8.980e+02, 9.030e+02, 9.040e+02, 9.060e+02,\n",
       "       9.090e+02, 9.130e+02, 9.150e+02, 9.160e+02, 9.170e+02, 9.190e+02,\n",
       "       9.200e+02, 9.210e+02, 9.270e+02, 9.290e+02, 9.320e+02, 9.330e+02,\n",
       "       9.340e+02, 9.360e+02, 9.370e+02, 9.380e+02, 9.410e+02, 9.420e+02,\n",
       "       9.430e+02, 9.450e+02, 9.510e+02, 9.520e+02, 9.560e+02, 9.610e+02,\n",
       "       9.630e+02, 9.650e+02, 9.660e+02, 9.670e+02, 9.680e+02, 9.690e+02,\n",
       "       9.730e+02, 9.740e+02, 9.790e+02, 9.800e+02, 9.810e+02, 9.850e+02,\n",
       "       9.930e+02, 9.970e+02, 1.007e+03, 1.008e+03, 1.011e+03, 1.021e+03,\n",
       "       1.022e+03, 1.028e+03, 1.040e+03, 1.041e+03, 1.049e+03, 1.053e+03,\n",
       "       1.057e+03, 1.061e+03, 1.064e+03, 1.065e+03, 1.069e+03, 1.073e+03,\n",
       "       1.074e+03, 1.077e+03, 1.079e+03, 1.086e+03, 1.094e+03, 1.097e+03,\n",
       "       1.098e+03, 1.103e+03, 1.114e+03, 1.120e+03, 1.133e+03, 1.145e+03,\n",
       "       1.148e+03, 1.150e+03, 1.167e+03, 1.181e+03, 1.186e+03, 1.188e+03,\n",
       "       1.190e+03, 1.191e+03, 1.199e+03, 1.200e+03, 1.205e+03, 1.211e+03,\n",
       "       1.213e+03, 1.215e+03, 1.228e+03, 1.248e+03, 1.256e+03, 1.262e+03,\n",
       "       1.264e+03, 1.270e+03, 1.272e+03, 1.299e+03, 1.304e+03, 1.312e+03,\n",
       "       1.326e+03, 1.329e+03, 1.342e+03, 1.354e+03, 1.361e+03, 1.362e+03,\n",
       "       1.364e+03, 1.400e+03, 1.416e+03, 1.423e+03, 1.424e+03, 1.443e+03,\n",
       "       1.477e+03, 1.481e+03, 1.496e+03, 1.499e+03, 1.501e+03, 1.510e+03,\n",
       "       1.514e+03, 1.562e+03, 1.564e+03, 1.568e+03, 1.586e+03, 1.596e+03,\n",
       "       1.620e+03, 1.648e+03, 1.657e+03, 1.722e+03, 1.731e+03, 1.756e+03,\n",
       "       1.767e+03, 1.790e+03, 1.798e+03, 1.802e+03, 1.809e+03, 1.887e+03,\n",
       "       1.909e+03, 1.942e+03, 1.951e+03, 2.009e+03, 2.026e+03, 2.066e+03,\n",
       "       2.102e+03, 2.131e+03, 2.137e+03, 2.209e+03, 2.218e+03, 2.245e+03,\n",
       "       2.276e+03, 2.295e+03, 2.348e+03, 2.409e+03, 2.416e+03, 2.427e+03,\n",
       "       2.467e+03, 2.489e+03, 2.532e+03, 2.555e+03, 2.633e+03, 2.665e+03,\n",
       "       2.711e+03, 2.747e+03, 2.768e+03, 2.847e+03, 2.880e+03, 2.888e+03,\n",
       "       2.905e+03, 2.984e+03, 3.013e+03, 3.064e+03, 3.190e+03,       nan])"
      ]
     },
     "metadata": {},
     "output_type": "display_data"
    },
    {
     "data": {
      "text/plain": [
       "'ponds_around3000'"
      ]
     },
     "metadata": {},
     "output_type": "display_data"
    },
    {
     "data": {
      "text/plain": [
       "array([0, 1, 2, 3])"
      ]
     },
     "metadata": {},
     "output_type": "display_data"
    },
    {
     "data": {
      "text/plain": [
       "'ponds_nearest'"
      ]
     },
     "metadata": {},
     "output_type": "display_data"
    },
    {
     "data": {
      "text/plain": [
       "array([  13.,   16.,   19., ..., 1341., 1344.,   nan])"
      ]
     },
     "metadata": {},
     "output_type": "display_data"
    },
    {
     "data": {
      "text/plain": [
       "'days_exposition'"
      ]
     },
     "metadata": {},
     "output_type": "display_data"
    },
    {
     "data": {
      "text/plain": [
       "array([1.000e+00, 2.000e+00, 3.000e+00, ..., 1.572e+03, 1.580e+03,\n",
       "             nan])"
      ]
     },
     "metadata": {},
     "output_type": "display_data"
    }
   ],
   "source": [
    "for i in data:\n",
    "    display(i ,data[i].sort_values().unique())"
   ]
  },
  {
   "cell_type": "code",
   "execution_count": 16,
   "metadata": {
    "scrolled": false
   },
   "outputs": [
    {
     "name": "stdout",
     "output_type": "stream",
     "text": [
      "total_images \n",
      " count    23699.000000\n",
      "mean         9.858475\n",
      "std          5.682529\n",
      "min          0.000000\n",
      "25%          6.000000\n",
      "50%          9.000000\n",
      "75%         14.000000\n",
      "max         50.000000\n",
      "Name: total_images, dtype: float64\n",
      "last_price \n",
      " count    2.369900e+04\n",
      "mean     6.541549e+06\n",
      "std      1.088701e+07\n",
      "min      1.219000e+04\n",
      "25%      3.400000e+06\n",
      "50%      4.650000e+06\n",
      "75%      6.800000e+06\n",
      "max      7.630000e+08\n",
      "Name: last_price, dtype: float64\n",
      "total_area \n",
      " count    23699.000000\n",
      "mean        60.348651\n",
      "std         35.654083\n",
      "min         12.000000\n",
      "25%         40.000000\n",
      "50%         52.000000\n",
      "75%         69.900000\n",
      "max        900.000000\n",
      "Name: total_area, dtype: float64\n",
      "first_day_exposition \n",
      " count                   23699\n",
      "unique                   1491\n",
      "top       2018-02-01 00:00:00\n",
      "freq                      368\n",
      "first     2014-11-27 00:00:00\n",
      "last      2019-05-03 00:00:00\n",
      "Name: first_day_exposition, dtype: object\n",
      "rooms \n",
      " count    23699.000000\n",
      "mean         2.070636\n",
      "std          1.078405\n",
      "min          0.000000\n",
      "25%          1.000000\n",
      "50%          2.000000\n",
      "75%          3.000000\n",
      "max         19.000000\n",
      "Name: rooms, dtype: float64\n",
      "ceiling_height \n",
      " count    23699.000000\n",
      "mean         2.724358\n",
      "std          0.988298\n",
      "min          1.000000\n",
      "25%          2.600000\n",
      "50%          2.650000\n",
      "75%          2.700000\n",
      "max        100.000000\n",
      "Name: ceiling_height, dtype: float64\n",
      "floors_total \n",
      " count    23699.000000\n",
      "mean        10.671463\n",
      "std          6.595802\n",
      "min          1.000000\n",
      "25%          5.000000\n",
      "50%          9.000000\n",
      "75%         16.000000\n",
      "max         60.000000\n",
      "Name: floors_total, dtype: float64\n",
      "living_area \n",
      " count    23699.000000\n",
      "mean        34.457852\n",
      "std         22.240673\n",
      "min          2.000000\n",
      "25%         19.000000\n",
      "50%         30.000000\n",
      "75%         42.000000\n",
      "max        409.700000\n",
      "Name: living_area, dtype: float64\n",
      "floor \n",
      " count    23699.000000\n",
      "mean         5.892358\n",
      "std          4.885249\n",
      "min          1.000000\n",
      "25%          2.000000\n",
      "50%          4.000000\n",
      "75%          8.000000\n",
      "max         33.000000\n",
      "Name: floor, dtype: float64\n",
      "is_apartment \n",
      " count     23699\n",
      "unique        2\n",
      "top       False\n",
      "freq      23649\n",
      "Name: is_apartment, dtype: object\n",
      "studio \n",
      " count     23699\n",
      "unique        2\n",
      "top       False\n",
      "freq      23550\n",
      "Name: studio, dtype: object\n",
      "open_plan \n",
      " count     23699\n",
      "unique        2\n",
      "top       False\n",
      "freq      23632\n",
      "Name: open_plan, dtype: object\n",
      "kitchen_area \n",
      " count    23699.000000\n",
      "mean        10.461595\n",
      "std          6.008554\n",
      "min          1.300000\n",
      "25%          7.000000\n",
      "50%          9.000000\n",
      "75%         12.000000\n",
      "max        112.000000\n",
      "Name: kitchen_area, dtype: float64\n",
      "balcony \n",
      " count    23699.000000\n",
      "mean         0.591080\n",
      "std          0.959298\n",
      "min          0.000000\n",
      "25%          0.000000\n",
      "50%          0.000000\n",
      "75%          1.000000\n",
      "max          5.000000\n",
      "Name: balcony, dtype: float64\n",
      "locality_name \n",
      " count               23650\n",
      "unique                305\n",
      "top       Санкт-Петербург\n",
      "freq                15721\n",
      "Name: locality_name, dtype: object\n",
      "airports_nearest \n",
      " count    18157.000000\n",
      "mean     28793.672193\n",
      "std      12630.880622\n",
      "min          0.000000\n",
      "25%      18585.000000\n",
      "50%      26726.000000\n",
      "75%      37273.000000\n",
      "max      84869.000000\n",
      "Name: airports_nearest, dtype: float64\n",
      "cityCenters_nearest \n",
      " count    18180.000000\n",
      "mean     14191.277833\n",
      "std       8608.386210\n",
      "min        181.000000\n",
      "25%       9238.000000\n",
      "50%      13098.500000\n",
      "75%      16293.000000\n",
      "max      65968.000000\n",
      "Name: cityCenters_nearest, dtype: float64\n",
      "parks_around3000 \n",
      " count    23699.000000\n",
      "mean         0.469049\n",
      "std          0.748534\n",
      "min          0.000000\n",
      "25%          0.000000\n",
      "50%          0.000000\n",
      "75%          1.000000\n",
      "max          3.000000\n",
      "Name: parks_around3000, dtype: float64\n",
      "parks_nearest \n",
      " count    8079.000000\n",
      "mean      490.804555\n",
      "std       342.317995\n",
      "min         1.000000\n",
      "25%       288.000000\n",
      "50%       455.000000\n",
      "75%       612.000000\n",
      "max      3190.000000\n",
      "Name: parks_nearest, dtype: float64\n",
      "ponds_around3000 \n",
      " count    23699.000000\n",
      "mean         0.590911\n",
      "std          0.883999\n",
      "min          0.000000\n",
      "25%          0.000000\n",
      "50%          0.000000\n",
      "75%          1.000000\n",
      "max          3.000000\n",
      "Name: ponds_around3000, dtype: float64\n",
      "ponds_nearest \n",
      " count    9110.000000\n",
      "mean      517.980900\n",
      "std       277.720643\n",
      "min        13.000000\n",
      "25%       294.000000\n",
      "50%       502.000000\n",
      "75%       729.000000\n",
      "max      1344.000000\n",
      "Name: ponds_nearest, dtype: float64\n",
      "days_exposition \n",
      " count    20518.000000\n",
      "mean       180.888634\n",
      "std        219.727988\n",
      "min          1.000000\n",
      "25%         45.000000\n",
      "50%         95.000000\n",
      "75%        232.000000\n",
      "max       1580.000000\n",
      "Name: days_exposition, dtype: float64\n"
     ]
    },
    {
     "name": "stderr",
     "output_type": "stream",
     "text": [
      "/tmp/ipykernel_146/3319091153.py:2: FutureWarning: Treating datetime data as categorical rather than numeric in `.describe` is deprecated and will be removed in a future version of pandas. Specify `datetime_is_numeric=True` to silence this warning and adopt the future behavior now.\n",
      "  print(i, \"\\n\", data[i].describe())\n"
     ]
    }
   ],
   "source": [
    "for i in data:\n",
    "    print(i, \"\\n\", data[i].describe())\n"
   ]
  },
  {
   "cell_type": "markdown",
   "metadata": {},
   "source": [
    "Построим диаграммы размаха для определения выбросов"
   ]
  },
  {
   "cell_type": "code",
   "execution_count": 17,
   "metadata": {},
   "outputs": [
    {
     "data": {
      "image/png": "[encoded data removed]",
      "text/plain": [
       "<Figure size 360x360 with 1 Axes>"
      ]
     },
     "metadata": {
      "needs_background": "light"
     },
     "output_type": "display_data"
    }
   ],
   "source": [
    "data.boxplot(['total_area'], figsize=(5, 5));"
   ]
  },
  {
   "cell_type": "code",
   "execution_count": 18,
   "metadata": {},
   "outputs": [
    {
     "data": {
      "image/png": "[encoded data removed]",
      "text/plain": [
       "<Figure size 1440x360 with 1 Axes>"
      ]
     },
     "metadata": {
      "needs_background": "light"
     },
     "output_type": "display_data"
    }
   ],
   "source": [
    "data.boxplot(['rooms','total_images'], figsize=(20, 5));"
   ]
  },
  {
   "cell_type": "code",
   "execution_count": 19,
   "metadata": {},
   "outputs": [
    {
     "data": {
      "image/png": "[encoded data removed]",
      "text/plain": [
       "<Figure size 360x360 with 1 Axes>"
      ]
     },
     "metadata": {
      "needs_background": "light"
     },
     "output_type": "display_data"
    }
   ],
   "source": [
    "data.boxplot('ceiling_height', figsize=(5, 5));"
   ]
  },
  {
   "cell_type": "code",
   "execution_count": 20,
   "metadata": {},
   "outputs": [
    {
     "data": {
      "image/png": "[encoded data removed]",
      "text/plain": [
       "<Figure size 360x360 with 1 Axes>"
      ]
     },
     "metadata": {
      "needs_background": "light"
     },
     "output_type": "display_data"
    }
   ],
   "source": [
    "data.boxplot('floors_total', figsize=(5, 5));"
   ]
  },
  {
   "cell_type": "code",
   "execution_count": 21,
   "metadata": {},
   "outputs": [
    {
     "name": "stdout",
     "output_type": "stream",
     "text": [
      "<class 'pandas.core.frame.DataFrame'>\n",
      "Int64Index: 22407 entries, 0 to 23698\n",
      "Data columns (total 22 columns):\n",
      " #   Column                Non-Null Count  Dtype         \n",
      "---  ------                --------------  -----         \n",
      " 0   total_images          22407 non-null  int64         \n",
      " 1   last_price            22407 non-null  int64         \n",
      " 2   total_area            22407 non-null  float64       \n",
      " 3   first_day_exposition  22407 non-null  datetime64[ns]\n",
      " 4   rooms                 22407 non-null  int64         \n",
      " 5   ceiling_height        22407 non-null  float64       \n",
      " 6   floors_total          22407 non-null  int64         \n",
      " 7   living_area           22407 non-null  float64       \n",
      " 8   floor                 22407 non-null  int64         \n",
      " 9   is_apartment          22407 non-null  bool          \n",
      " 10  studio                22407 non-null  bool          \n",
      " 11  open_plan             22407 non-null  bool          \n",
      " 12  kitchen_area          22407 non-null  float64       \n",
      " 13  balcony               22407 non-null  int64         \n",
      " 14  locality_name         22359 non-null  object        \n",
      " 15  airports_nearest      17199 non-null  float64       \n",
      " 16  cityCenters_nearest   17218 non-null  float64       \n",
      " 17  parks_around3000      22407 non-null  int64         \n",
      " 18  parks_nearest         7698 non-null   float64       \n",
      " 19  ponds_around3000      22407 non-null  int64         \n",
      " 20  ponds_nearest         8644 non-null   float64       \n",
      " 21  days_exposition       19307 non-null  float64       \n",
      "dtypes: bool(3), datetime64[ns](1), float64(9), int64(8), object(1)\n",
      "memory usage: 3.5+ MB\n"
     ]
    }
   ],
   "source": [
    "#Устраняем аномалии по столбцу total_images\n",
    "data=data.query('total_images > 0') #Удаляем строки с отстутвующими изображениями квартир, так как без фотогракфий объявления не имеют веса, так как их не просматривают\n",
    "#Устраняем аномалии по столбцу total_area\n",
    "data=data.query('total_area < 400') #Удаляем строки где площадь больше 400, таких позиций всего 23 но на средний показатель и std они влияют\n",
    "#Устраняем аномалии по столбцу rooms\n",
    "data=data.query('0 < rooms < 12') #Удаляем все значения где нет комнат и где их больше 12\n",
    "#Устранение аномалий в по столбцу ceiling_height\n",
    "data['ceiling_height'] = data['ceiling_height'].where(data['ceiling_height'] < 15, data['ceiling_height']/10)#Значения больше 15 могли быть ошибкой в знаке, все что больше 15 поделили на 10\n",
    "data=data.query('2 < ceiling_height < 6 ')\n",
    "#Устранение аномалий в по столбцу floors_total\n",
    "#Согласно данным из открытых источников, самое высотное жилое здание в СПб 37 жтажей \n",
    "data=data.query('floors_total <= 37')\n",
    "data.info()"
   ]
  },
  {
   "cell_type": "code",
   "execution_count": 22,
   "metadata": {},
   "outputs": [
    {
     "name": "stdout",
     "output_type": "stream",
     "text": [
      "total_images \n",
      " count    22407.000000\n",
      "mean        10.333155\n",
      "std          5.388843\n",
      "min          1.000000\n",
      "25%          6.000000\n",
      "50%         10.000000\n",
      "75%         14.000000\n",
      "max         50.000000\n",
      "Name: total_images, dtype: float64\n",
      "last_price \n",
      " count    2.240700e+04\n",
      "mean     6.456955e+06\n",
      "std      8.316300e+06\n",
      "min      1.219000e+04\n",
      "25%      3.470251e+06\n",
      "50%      4.700000e+06\n",
      "75%      6.800000e+06\n",
      "max      3.300000e+08\n",
      "Name: last_price, dtype: float64\n",
      "total_area \n",
      " count    22407.000000\n",
      "mean        60.279561\n",
      "std         32.365935\n",
      "min         12.000000\n",
      "25%         40.200000\n",
      "50%         52.200000\n",
      "75%         70.000000\n",
      "max        399.000000\n",
      "Name: total_area, dtype: float64\n",
      "first_day_exposition \n",
      " count                   22407\n",
      "unique                   1480\n",
      "top       2018-02-01 00:00:00\n",
      "freq                      325\n",
      "first     2014-11-27 00:00:00\n",
      "last      2019-05-03 00:00:00\n",
      "Name: first_day_exposition, dtype: object\n",
      "rooms \n",
      " count    22407.000000\n",
      "mean         2.082608\n",
      "std          1.040381\n",
      "min          1.000000\n",
      "25%          1.000000\n",
      "50%          2.000000\n",
      "75%          3.000000\n",
      "max         11.000000\n",
      "Name: rooms, dtype: float64\n",
      "ceiling_height \n",
      " count    22407.000000\n",
      "mean         2.697846\n",
      "std          0.219668\n",
      "min          2.200000\n",
      "25%          2.600000\n",
      "50%          2.650000\n",
      "75%          2.700000\n",
      "max          5.600000\n",
      "Name: ceiling_height, dtype: float64\n",
      "floors_total \n",
      " count    22407.000000\n",
      "mean        10.668764\n",
      "std          6.579120\n",
      "min          1.000000\n",
      "25%          5.000000\n",
      "50%          9.000000\n",
      "75%         16.000000\n",
      "max         36.000000\n",
      "Name: floors_total, dtype: float64\n",
      "living_area \n",
      " count    22407.000000\n",
      "mean        34.371114\n",
      "std         20.686387\n",
      "min          2.000000\n",
      "25%         19.000000\n",
      "50%         30.000000\n",
      "75%         42.200000\n",
      "max        260.000000\n",
      "Name: living_area, dtype: float64\n",
      "floor \n",
      " count    22407.000000\n",
      "mean         5.895791\n",
      "std          4.891411\n",
      "min          1.000000\n",
      "25%          2.000000\n",
      "50%          4.000000\n",
      "75%          8.000000\n",
      "max         33.000000\n",
      "Name: floor, dtype: float64\n",
      "is_apartment \n",
      " count     22407\n",
      "unique        2\n",
      "top       False\n",
      "freq      22361\n",
      "Name: is_apartment, dtype: object\n",
      "studio \n",
      " count     22407\n",
      "unique        2\n",
      "top       False\n",
      "freq      22397\n",
      "Name: studio, dtype: object\n",
      "open_plan \n",
      " count     22407\n",
      "unique        2\n",
      "top       False\n",
      "freq      22400\n",
      "Name: open_plan, dtype: object\n",
      "kitchen_area \n",
      " count    22407.000000\n",
      "mean        10.515357\n",
      "std          5.846840\n",
      "min          1.300000\n",
      "25%          7.000000\n",
      "50%          9.100000\n",
      "75%         12.000000\n",
      "max        107.000000\n",
      "Name: kitchen_area, dtype: float64\n",
      "balcony \n",
      " count    22407.000000\n",
      "mean         0.588745\n",
      "std          0.960230\n",
      "min          0.000000\n",
      "25%          0.000000\n",
      "50%          0.000000\n",
      "75%          1.000000\n",
      "max          5.000000\n",
      "Name: balcony, dtype: float64\n",
      "locality_name \n",
      " count               22359\n",
      "unique                300\n",
      "top       Санкт-Петербург\n",
      "freq                14928\n",
      "Name: locality_name, dtype: object\n",
      "airports_nearest \n",
      " count    17199.000000\n",
      "mean     28845.337171\n",
      "std      12588.372467\n",
      "min       6450.000000\n",
      "25%      18649.000000\n",
      "50%      26803.000000\n",
      "75%      37313.000000\n",
      "max      84869.000000\n",
      "Name: airports_nearest, dtype: float64\n",
      "cityCenters_nearest \n",
      " count    17218.000000\n",
      "mean     14117.173888\n",
      "std       8519.133095\n",
      "min        181.000000\n",
      "25%       9183.000000\n",
      "50%      13058.000000\n",
      "75%      16268.000000\n",
      "max      65968.000000\n",
      "Name: cityCenters_nearest, dtype: float64\n",
      "parks_around3000 \n",
      " count    22407.000000\n",
      "mean         0.473111\n",
      "std          0.751016\n",
      "min          0.000000\n",
      "25%          0.000000\n",
      "50%          0.000000\n",
      "75%          1.000000\n",
      "max          3.000000\n",
      "Name: parks_around3000, dtype: float64\n",
      "parks_nearest \n",
      " count    7698.000000\n",
      "mean      490.868927\n",
      "std       344.683717\n",
      "min         1.000000\n",
      "25%       287.000000\n",
      "50%       451.000000\n",
      "75%       612.000000\n",
      "max      3190.000000\n",
      "Name: parks_nearest, dtype: float64\n",
      "ponds_around3000 \n",
      " count    22407.000000\n",
      "mean         0.593386\n",
      "std          0.885439\n",
      "min          0.000000\n",
      "25%          0.000000\n",
      "50%          0.000000\n",
      "75%          1.000000\n",
      "max          3.000000\n",
      "Name: ponds_around3000, dtype: float64\n",
      "ponds_nearest \n",
      " count    8644.000000\n",
      "mean      516.423646\n",
      "std       277.173564\n",
      "min        13.000000\n",
      "25%       293.000000\n",
      "50%       500.000000\n",
      "75%       724.000000\n",
      "max      1344.000000\n",
      "Name: ponds_nearest, dtype: float64\n",
      "days_exposition \n",
      " count    19307.000000\n",
      "mean       183.323095\n",
      "std        220.839024\n",
      "min          1.000000\n",
      "25%         45.000000\n",
      "50%         98.000000\n",
      "75%        235.000000\n",
      "max       1580.000000\n",
      "Name: days_exposition, dtype: float64\n"
     ]
    },
    {
     "name": "stderr",
     "output_type": "stream",
     "text": [
      "/tmp/ipykernel_146/3496866352.py:2: FutureWarning: Treating datetime data as categorical rather than numeric in `.describe` is deprecated and will be removed in a future version of pandas. Specify `datetime_is_numeric=True` to silence this warning and adopt the future behavior now.\n",
      "  print(i, \"\\n\", data[i].describe())\n"
     ]
    }
   ],
   "source": [
    "for i in data:\n",
    "    print(i, \"\\n\", data[i].describe())"
   ]
  },
  {
   "cell_type": "markdown",
   "metadata": {},
   "source": [
    "**Вывод:** Аномалли у которых ясна природа почищены, описание присутствует выше в коде. Согласно построенным диаграммам размаха количество просмотров и кол-во комнат можно ограничить еще больше, как и общую площадь, но текущих ограничений было достаточно для улучшения качества результатов."
   ]
  },
  {
   "cell_type": "code",
   "execution_count": 23,
   "metadata": {},
   "outputs": [
    {
     "data": {
      "text/plain": [
       "0"
      ]
     },
     "execution_count": 23,
     "metadata": {},
     "output_type": "execute_result"
    }
   ],
   "source": [
    "data.duplicated().sum()"
   ]
  },
  {
   "cell_type": "markdown",
   "metadata": {},
   "source": [
    "### Посчитайте и добавьте в таблицу новые столбцы"
   ]
  },
  {
   "cell_type": "code",
   "execution_count": 24,
   "metadata": {},
   "outputs": [
    {
     "data": {
      "text/html": [
       "<div>\n",
       "<style scoped>\n",
       "    .dataframe tbody tr th:only-of-type {\n",
       "        vertical-align: middle;\n",
       "    }\n",
       "\n",
       "    .dataframe tbody tr th {\n",
       "        vertical-align: top;\n",
       "    }\n",
       "\n",
       "    .dataframe thead th {\n",
       "        text-align: right;\n",
       "    }\n",
       "</style>\n",
       "<table border=\"1\" class=\"dataframe\">\n",
       "  <thead>\n",
       "    <tr style=\"text-align: right;\">\n",
       "      <th></th>\n",
       "      <th>total_images</th>\n",
       "      <th>last_price</th>\n",
       "      <th>total_area</th>\n",
       "      <th>first_day_exposition</th>\n",
       "      <th>rooms</th>\n",
       "      <th>ceiling_height</th>\n",
       "      <th>floors_total</th>\n",
       "      <th>living_area</th>\n",
       "      <th>floor</th>\n",
       "      <th>is_apartment</th>\n",
       "      <th>...</th>\n",
       "      <th>ponds_around3000</th>\n",
       "      <th>ponds_nearest</th>\n",
       "      <th>days_exposition</th>\n",
       "      <th>price_metre</th>\n",
       "      <th>day_number</th>\n",
       "      <th>day_week</th>\n",
       "      <th>month_number</th>\n",
       "      <th>year</th>\n",
       "      <th>floor_type</th>\n",
       "      <th>cityCenters_nearest_km</th>\n",
       "    </tr>\n",
       "  </thead>\n",
       "  <tbody>\n",
       "    <tr>\n",
       "      <th>0</th>\n",
       "      <td>20</td>\n",
       "      <td>13000000</td>\n",
       "      <td>108.00</td>\n",
       "      <td>2019-03-07</td>\n",
       "      <td>3</td>\n",
       "      <td>2.70</td>\n",
       "      <td>16</td>\n",
       "      <td>51.000000</td>\n",
       "      <td>8</td>\n",
       "      <td>False</td>\n",
       "      <td>...</td>\n",
       "      <td>2</td>\n",
       "      <td>755.0</td>\n",
       "      <td>NaN</td>\n",
       "      <td>120370</td>\n",
       "      <td>3</td>\n",
       "      <td>Четверг</td>\n",
       "      <td>3</td>\n",
       "      <td>2019</td>\n",
       "      <td>Другой</td>\n",
       "      <td>16.0</td>\n",
       "    </tr>\n",
       "    <tr>\n",
       "      <th>1</th>\n",
       "      <td>7</td>\n",
       "      <td>3350000</td>\n",
       "      <td>40.40</td>\n",
       "      <td>2018-12-04</td>\n",
       "      <td>1</td>\n",
       "      <td>2.65</td>\n",
       "      <td>11</td>\n",
       "      <td>18.600000</td>\n",
       "      <td>1</td>\n",
       "      <td>False</td>\n",
       "      <td>...</td>\n",
       "      <td>0</td>\n",
       "      <td>NaN</td>\n",
       "      <td>81.0</td>\n",
       "      <td>82920</td>\n",
       "      <td>1</td>\n",
       "      <td>Вторник</td>\n",
       "      <td>12</td>\n",
       "      <td>2018</td>\n",
       "      <td>Первый</td>\n",
       "      <td>19.0</td>\n",
       "    </tr>\n",
       "    <tr>\n",
       "      <th>2</th>\n",
       "      <td>10</td>\n",
       "      <td>5196000</td>\n",
       "      <td>56.00</td>\n",
       "      <td>2015-08-20</td>\n",
       "      <td>2</td>\n",
       "      <td>2.65</td>\n",
       "      <td>5</td>\n",
       "      <td>34.300000</td>\n",
       "      <td>4</td>\n",
       "      <td>False</td>\n",
       "      <td>...</td>\n",
       "      <td>2</td>\n",
       "      <td>574.0</td>\n",
       "      <td>558.0</td>\n",
       "      <td>92785</td>\n",
       "      <td>3</td>\n",
       "      <td>Четверг</td>\n",
       "      <td>8</td>\n",
       "      <td>2015</td>\n",
       "      <td>Другой</td>\n",
       "      <td>14.0</td>\n",
       "    </tr>\n",
       "    <tr>\n",
       "      <th>4</th>\n",
       "      <td>2</td>\n",
       "      <td>10000000</td>\n",
       "      <td>100.00</td>\n",
       "      <td>2018-06-19</td>\n",
       "      <td>2</td>\n",
       "      <td>3.03</td>\n",
       "      <td>14</td>\n",
       "      <td>32.000000</td>\n",
       "      <td>13</td>\n",
       "      <td>False</td>\n",
       "      <td>...</td>\n",
       "      <td>1</td>\n",
       "      <td>48.0</td>\n",
       "      <td>121.0</td>\n",
       "      <td>100000</td>\n",
       "      <td>1</td>\n",
       "      <td>Вторник</td>\n",
       "      <td>6</td>\n",
       "      <td>2018</td>\n",
       "      <td>Другой</td>\n",
       "      <td>8.0</td>\n",
       "    </tr>\n",
       "    <tr>\n",
       "      <th>5</th>\n",
       "      <td>10</td>\n",
       "      <td>2890000</td>\n",
       "      <td>30.40</td>\n",
       "      <td>2018-09-10</td>\n",
       "      <td>1</td>\n",
       "      <td>2.65</td>\n",
       "      <td>12</td>\n",
       "      <td>14.400000</td>\n",
       "      <td>5</td>\n",
       "      <td>False</td>\n",
       "      <td>...</td>\n",
       "      <td>0</td>\n",
       "      <td>NaN</td>\n",
       "      <td>55.0</td>\n",
       "      <td>95065</td>\n",
       "      <td>0</td>\n",
       "      <td>Понедельник</td>\n",
       "      <td>9</td>\n",
       "      <td>2018</td>\n",
       "      <td>Другой</td>\n",
       "      <td>NaN</td>\n",
       "    </tr>\n",
       "    <tr>\n",
       "      <th>6</th>\n",
       "      <td>6</td>\n",
       "      <td>3700000</td>\n",
       "      <td>37.30</td>\n",
       "      <td>2017-11-02</td>\n",
       "      <td>1</td>\n",
       "      <td>2.65</td>\n",
       "      <td>26</td>\n",
       "      <td>10.600000</td>\n",
       "      <td>6</td>\n",
       "      <td>False</td>\n",
       "      <td>...</td>\n",
       "      <td>0</td>\n",
       "      <td>NaN</td>\n",
       "      <td>155.0</td>\n",
       "      <td>99195</td>\n",
       "      <td>3</td>\n",
       "      <td>Четверг</td>\n",
       "      <td>11</td>\n",
       "      <td>2017</td>\n",
       "      <td>Другой</td>\n",
       "      <td>19.0</td>\n",
       "    </tr>\n",
       "    <tr>\n",
       "      <th>7</th>\n",
       "      <td>5</td>\n",
       "      <td>7915000</td>\n",
       "      <td>71.60</td>\n",
       "      <td>2019-04-18</td>\n",
       "      <td>2</td>\n",
       "      <td>2.65</td>\n",
       "      <td>24</td>\n",
       "      <td>38.963838</td>\n",
       "      <td>22</td>\n",
       "      <td>False</td>\n",
       "      <td>...</td>\n",
       "      <td>0</td>\n",
       "      <td>NaN</td>\n",
       "      <td>NaN</td>\n",
       "      <td>110544</td>\n",
       "      <td>3</td>\n",
       "      <td>Четверг</td>\n",
       "      <td>4</td>\n",
       "      <td>2019</td>\n",
       "      <td>Другой</td>\n",
       "      <td>12.0</td>\n",
       "    </tr>\n",
       "    <tr>\n",
       "      <th>8</th>\n",
       "      <td>20</td>\n",
       "      <td>2900000</td>\n",
       "      <td>33.16</td>\n",
       "      <td>2018-05-23</td>\n",
       "      <td>1</td>\n",
       "      <td>2.65</td>\n",
       "      <td>27</td>\n",
       "      <td>15.430000</td>\n",
       "      <td>26</td>\n",
       "      <td>False</td>\n",
       "      <td>...</td>\n",
       "      <td>0</td>\n",
       "      <td>NaN</td>\n",
       "      <td>189.0</td>\n",
       "      <td>87454</td>\n",
       "      <td>2</td>\n",
       "      <td>Среда</td>\n",
       "      <td>5</td>\n",
       "      <td>2018</td>\n",
       "      <td>Другой</td>\n",
       "      <td>NaN</td>\n",
       "    </tr>\n",
       "    <tr>\n",
       "      <th>9</th>\n",
       "      <td>18</td>\n",
       "      <td>5400000</td>\n",
       "      <td>61.00</td>\n",
       "      <td>2017-02-26</td>\n",
       "      <td>3</td>\n",
       "      <td>2.50</td>\n",
       "      <td>9</td>\n",
       "      <td>43.600000</td>\n",
       "      <td>7</td>\n",
       "      <td>False</td>\n",
       "      <td>...</td>\n",
       "      <td>0</td>\n",
       "      <td>NaN</td>\n",
       "      <td>289.0</td>\n",
       "      <td>88524</td>\n",
       "      <td>6</td>\n",
       "      <td>Воскресенье</td>\n",
       "      <td>2</td>\n",
       "      <td>2017</td>\n",
       "      <td>Другой</td>\n",
       "      <td>15.0</td>\n",
       "    </tr>\n",
       "    <tr>\n",
       "      <th>10</th>\n",
       "      <td>5</td>\n",
       "      <td>5050000</td>\n",
       "      <td>39.60</td>\n",
       "      <td>2017-11-16</td>\n",
       "      <td>1</td>\n",
       "      <td>2.67</td>\n",
       "      <td>12</td>\n",
       "      <td>20.300000</td>\n",
       "      <td>3</td>\n",
       "      <td>False</td>\n",
       "      <td>...</td>\n",
       "      <td>2</td>\n",
       "      <td>553.0</td>\n",
       "      <td>137.0</td>\n",
       "      <td>127525</td>\n",
       "      <td>3</td>\n",
       "      <td>Четверг</td>\n",
       "      <td>11</td>\n",
       "      <td>2017</td>\n",
       "      <td>Другой</td>\n",
       "      <td>14.0</td>\n",
       "    </tr>\n",
       "  </tbody>\n",
       "</table>\n",
       "<p>10 rows × 29 columns</p>\n",
       "</div>"
      ],
      "text/plain": [
       "    total_images  last_price  total_area first_day_exposition  rooms  \\\n",
       "0             20    13000000      108.00           2019-03-07      3   \n",
       "1              7     3350000       40.40           2018-12-04      1   \n",
       "2             10     5196000       56.00           2015-08-20      2   \n",
       "4              2    10000000      100.00           2018-06-19      2   \n",
       "5             10     2890000       30.40           2018-09-10      1   \n",
       "6              6     3700000       37.30           2017-11-02      1   \n",
       "7              5     7915000       71.60           2019-04-18      2   \n",
       "8             20     2900000       33.16           2018-05-23      1   \n",
       "9             18     5400000       61.00           2017-02-26      3   \n",
       "10             5     5050000       39.60           2017-11-16      1   \n",
       "\n",
       "    ceiling_height  floors_total  living_area  floor  is_apartment  ...  \\\n",
       "0             2.70            16    51.000000      8         False  ...   \n",
       "1             2.65            11    18.600000      1         False  ...   \n",
       "2             2.65             5    34.300000      4         False  ...   \n",
       "4             3.03            14    32.000000     13         False  ...   \n",
       "5             2.65            12    14.400000      5         False  ...   \n",
       "6             2.65            26    10.600000      6         False  ...   \n",
       "7             2.65            24    38.963838     22         False  ...   \n",
       "8             2.65            27    15.430000     26         False  ...   \n",
       "9             2.50             9    43.600000      7         False  ...   \n",
       "10            2.67            12    20.300000      3         False  ...   \n",
       "\n",
       "    ponds_around3000  ponds_nearest  days_exposition  price_metre day_number  \\\n",
       "0                  2          755.0              NaN       120370          3   \n",
       "1                  0            NaN             81.0        82920          1   \n",
       "2                  2          574.0            558.0        92785          3   \n",
       "4                  1           48.0            121.0       100000          1   \n",
       "5                  0            NaN             55.0        95065          0   \n",
       "6                  0            NaN            155.0        99195          3   \n",
       "7                  0            NaN              NaN       110544          3   \n",
       "8                  0            NaN            189.0        87454          2   \n",
       "9                  0            NaN            289.0        88524          6   \n",
       "10                 2          553.0            137.0       127525          3   \n",
       "\n",
       "       day_week  month_number  year  floor_type  cityCenters_nearest_km  \n",
       "0       Четверг             3  2019      Другой                    16.0  \n",
       "1       Вторник            12  2018      Первый                    19.0  \n",
       "2       Четверг             8  2015      Другой                    14.0  \n",
       "4       Вторник             6  2018      Другой                     8.0  \n",
       "5   Понедельник             9  2018      Другой                     NaN  \n",
       "6       Четверг            11  2017      Другой                    19.0  \n",
       "7       Четверг             4  2019      Другой                    12.0  \n",
       "8         Среда             5  2018      Другой                     NaN  \n",
       "9   Воскресенье             2  2017      Другой                    15.0  \n",
       "10      Четверг            11  2017      Другой                    14.0  \n",
       "\n",
       "[10 rows x 29 columns]"
      ]
     },
     "metadata": {},
     "output_type": "display_data"
    }
   ],
   "source": [
    "#Добавление цены одного квадратного метра\n",
    "data['price_metre'] = (data['last_price'] / data['total_area']).astype('int64')\n",
    "#Добавление дня недели публикации\n",
    "data['day_number'] = data['first_day_exposition'].dt.dayofweek\n",
    "def day_of_the_week (day):\n",
    "    if day == 0:\n",
    "        return 'Понедельник'\n",
    "    if day == 1:\n",
    "        return 'Вторник'\n",
    "    if day == 2:\n",
    "        return 'Среда'\n",
    "    if day == 3:\n",
    "        return 'Четверг'\n",
    "    if day == 4:\n",
    "        return 'Пятница'\n",
    "    if day == 5:\n",
    "        return 'Суббота'\n",
    "    if day == 6:\n",
    "        return 'Воскресенье'\n",
    "data['day_week'] = data['day_number'].apply(day_of_the_week)\n",
    "#Добавление столбца с номером месяца\n",
    "data['month_number'] = data['first_day_exposition'].dt.month\n",
    "#Добавление столбца с годом\n",
    "data['year'] = data['first_day_exposition'].dt.year\n",
    "#Добавление типа этажа\n",
    "def floor_type_func (floor, floor_total):\n",
    "    if floor == floor_total:\n",
    "        return 'Последний'\n",
    "    if floor == 1:\n",
    "        return 'Первый'\n",
    "    return 'Другой'\n",
    "data['floor_type'] = data.apply(lambda x: floor_type_func(x['floor'], x['floors_total']), axis=1)\n",
    "#Добавление расстояние до центра в км\n",
    "data['cityCenters_nearest_km'] = (data['cityCenters_nearest'] / 1000).round()\n",
    "\n",
    "display(data.head(10))"
   ]
  },
  {
   "cell_type": "markdown",
   "metadata": {},
   "source": [
    "### Проведите исследовательский анализ данных"
   ]
  },
  {
   "cell_type": "markdown",
   "metadata": {},
   "source": [
    "#### Построим гистограммы для основных параметров для дальнейшего понимания"
   ]
  },
  {
   "cell_type": "code",
   "execution_count": 25,
   "metadata": {},
   "outputs": [
    {
     "data": {
      "image/png": "[encoded data removed]",
      "text/plain": [
       "<Figure size 1080x360 with 1 Axes>"
      ]
     },
     "metadata": {
      "needs_background": "light"
     },
     "output_type": "display_data"
    },
    {
     "data": {
      "text/plain": [
       "count    22407.000000\n",
       "mean        60.279561\n",
       "std         32.365935\n",
       "min         12.000000\n",
       "25%         40.200000\n",
       "50%         52.200000\n",
       "75%         70.000000\n",
       "max        399.000000\n",
       "Name: total_area, dtype: float64"
      ]
     },
     "execution_count": 25,
     "metadata": {},
     "output_type": "execute_result"
    }
   ],
   "source": [
    "#Строим гистограмму по общей площади\n",
    "data['total_area'].hist(legend  = 'total_area', figsize=(15, 5),bins=50, range=(12, 150))\n",
    "plt.show()\n",
    "#Изучаем параметр по общей площади\n",
    "data['total_area'].describe()"
   ]
  },
  {
   "cell_type": "markdown",
   "metadata": {},
   "source": [
    "**Вывод:** Основная часть значений находится в диапазоне от 30 до 100, пиковые значения в районе 45."
   ]
  },
  {
   "cell_type": "code",
   "execution_count": 26,
   "metadata": {},
   "outputs": [
    {
     "data": {
      "image/png": "[encoded data removed]",
      "text/plain": [
       "<Figure size 1080x360 with 1 Axes>"
      ]
     },
     "metadata": {
      "needs_background": "light"
     },
     "output_type": "display_data"
    },
    {
     "data": {
      "text/plain": [
       "count    22407.000000\n",
       "mean        34.371114\n",
       "std         20.686387\n",
       "min          2.000000\n",
       "25%         19.000000\n",
       "50%         30.000000\n",
       "75%         42.200000\n",
       "max        260.000000\n",
       "Name: living_area, dtype: float64"
      ]
     },
     "execution_count": 26,
     "metadata": {},
     "output_type": "execute_result"
    }
   ],
   "source": [
    "#Строим гистограмму по жилой площади\n",
    "data['living_area'].hist(legend  = 'living_area', figsize=(15, 5),bins=50, range=(0, 100))\n",
    "plt.show()\n",
    "#Изучаем параметр по жилой площади\n",
    "data['living_area'].describe()"
   ]
  },
  {
   "cell_type": "markdown",
   "metadata": {},
   "source": [
    "**Вывод:** Основная часть значений находится в диапазоне от 10 до 50, пиковые значения в районе 15-20, так же есть пик в районе 30."
   ]
  },
  {
   "cell_type": "code",
   "execution_count": 27,
   "metadata": {},
   "outputs": [
    {
     "data": {
      "image/png": "[encoded data removed]",
      "text/plain": [
       "<Figure size 1080x360 with 1 Axes>"
      ]
     },
     "metadata": {
      "needs_background": "light"
     },
     "output_type": "display_data"
    },
    {
     "data": {
      "text/plain": [
       "count    22407.000000\n",
       "mean        10.515357\n",
       "std          5.846840\n",
       "min          1.300000\n",
       "25%          7.000000\n",
       "50%          9.100000\n",
       "75%         12.000000\n",
       "max        107.000000\n",
       "Name: kitchen_area, dtype: float64"
      ]
     },
     "execution_count": 27,
     "metadata": {},
     "output_type": "execute_result"
    }
   ],
   "source": [
    "#Строим гистограмму по кухонной площади\n",
    "data['kitchen_area'].hist(legend  = 'kitchen_area', figsize=(15, 5),bins=50, range=(0, 25))\n",
    "plt.show()\n",
    "#Изучаем параметр по кухонной площади\n",
    "data['kitchen_area'].describe()"
   ]
  },
  {
   "cell_type": "markdown",
   "metadata": {},
   "source": [
    "**Вывод:** Основная часть значений находится в диапазоне от 5 до 16, пиковые значения в районах 6, 7, 10."
   ]
  },
  {
   "cell_type": "code",
   "execution_count": 28,
   "metadata": {},
   "outputs": [
    {
     "data": {
      "image/png": "[encoded data removed]",
      "text/plain": [
       "<Figure size 1080x360 with 1 Axes>"
      ]
     },
     "metadata": {
      "needs_background": "light"
     },
     "output_type": "display_data"
    },
    {
     "data": {
      "image/png": "[encoded data removed]",
      "text/plain": [
       "<Figure size 1080x360 with 1 Axes>"
      ]
     },
     "metadata": {
      "needs_background": "light"
     },
     "output_type": "display_data"
    },
    {
     "data": {
      "text/plain": [
       "count    2.240700e+04\n",
       "mean     6.456955e+06\n",
       "std      8.316300e+06\n",
       "min      1.219000e+04\n",
       "25%      3.470251e+06\n",
       "50%      4.700000e+06\n",
       "75%      6.800000e+06\n",
       "max      3.300000e+08\n",
       "Name: last_price, dtype: float64"
      ]
     },
     "execution_count": 28,
     "metadata": {},
     "output_type": "execute_result"
    }
   ],
   "source": [
    "#Строим гистограмму по цене укруппенную и более точную\n",
    "data['last_price'].hist(legend  = 'last_price', figsize=(15, 5),bins=50)\n",
    "plt.show()\n",
    "data['last_price'].hist(legend  = 'last_price', figsize=(15, 5),bins=50, range=(0, 20000000))\n",
    "plt.show()\n",
    "#Изучаем параметр по цене\n",
    "data['last_price'].describe()\n"
   ]
  },
  {
   "cell_type": "markdown",
   "metadata": {},
   "source": [
    "**Вывод:** Основная часть значений находится в диапазоне от 0.1 до 1 (от 1 до 10 млн), пиковые значения в районе 0.3 (3 млн)."
   ]
  },
  {
   "cell_type": "code",
   "execution_count": 29,
   "metadata": {},
   "outputs": [
    {
     "data": {
      "image/png": "[encoded data removed]",
      "text/plain": [
       "<Figure size 1080x360 with 1 Axes>"
      ]
     },
     "metadata": {
      "needs_background": "light"
     },
     "output_type": "display_data"
    },
    {
     "data": {
      "text/plain": [
       "count    22407.000000\n",
       "mean         2.082608\n",
       "std          1.040381\n",
       "min          1.000000\n",
       "25%          1.000000\n",
       "50%          2.000000\n",
       "75%          3.000000\n",
       "max         11.000000\n",
       "Name: rooms, dtype: float64"
      ]
     },
     "execution_count": 29,
     "metadata": {},
     "output_type": "execute_result"
    }
   ],
   "source": [
    "#Строим гистограмму по комнатам\n",
    "data['rooms'].hist(legend  = 'rooms', figsize=(15, 5),bins=50, range=(data['rooms'].min(), data['rooms'].max()))\n",
    "plt.show()\n",
    "#Изучаем параметр по комнатам\n",
    "data['rooms'].describe()"
   ]
  },
  {
   "cell_type": "markdown",
   "metadata": {},
   "source": [
    "**Вывод:** Самые популярныне кол-ва комнат - 1-3, пик находится в районе 1 и 2-х комнатных."
   ]
  },
  {
   "cell_type": "code",
   "execution_count": 30,
   "metadata": {},
   "outputs": [
    {
     "data": {
      "image/png": "[encoded data removed]",
      "text/plain": [
       "<Figure size 1080x360 with 1 Axes>"
      ]
     },
     "metadata": {
      "needs_background": "light"
     },
     "output_type": "display_data"
    },
    {
     "data": {
      "text/plain": [
       "count    22407.000000\n",
       "mean         2.697846\n",
       "std          0.219668\n",
       "min          2.200000\n",
       "25%          2.600000\n",
       "50%          2.650000\n",
       "75%          2.700000\n",
       "max          5.600000\n",
       "Name: ceiling_height, dtype: float64"
      ]
     },
     "execution_count": 30,
     "metadata": {},
     "output_type": "execute_result"
    }
   ],
   "source": [
    "#Строим гистограмму по высоте потолков\n",
    "data['ceiling_height'].hist(legend  = 'ceiling_height', figsize=(15, 5),bins=50, range=(2, 4))\n",
    "plt.show()\n",
    "#Изучаем параметр по высоте потолков\n",
    "data['ceiling_height'].describe()"
   ]
  },
  {
   "cell_type": "markdown",
   "metadata": {},
   "source": [
    "**Вывод:** Основная часть значений находится в диапазоне от 2.4. до 3, пиковые значения в районе 2.6."
   ]
  },
  {
   "cell_type": "code",
   "execution_count": 31,
   "metadata": {},
   "outputs": [
    {
     "data": {
      "image/png": "[encoded data removed]",
      "text/plain": [
       "<Figure size 1080x360 with 1 Axes>"
      ]
     },
     "metadata": {
      "needs_background": "light"
     },
     "output_type": "display_data"
    },
    {
     "data": {
      "text/plain": [
       "count    22407.000000\n",
       "mean         5.895791\n",
       "std          4.891411\n",
       "min          1.000000\n",
       "25%          2.000000\n",
       "50%          4.000000\n",
       "75%          8.000000\n",
       "max         33.000000\n",
       "Name: floor, dtype: float64"
      ]
     },
     "execution_count": 31,
     "metadata": {},
     "output_type": "execute_result"
    }
   ],
   "source": [
    "#Строим гистограмму по этажу картиры\n",
    "data['floor'].hist(legend  = 'floor', figsize=(15, 5),bins=50, range=(data['floor'].min(), 20))\n",
    "plt.show()\n",
    "#Изучаем параметр по этажу квартиры\n",
    "data['floor'].describe()"
   ]
  },
  {
   "cell_type": "markdown",
   "metadata": {},
   "source": [
    "**Вывод:** Основная часть объявлений составляет из квартир на этажах с 1 по 12, пики в раоне 2, 3 и 5 этажей."
   ]
  },
  {
   "cell_type": "code",
   "execution_count": 32,
   "metadata": {
    "scrolled": false
   },
   "outputs": [
    {
     "data": {
      "image/png": "[encoded data removed]",
      "text/plain": [
       "<Figure size 360x360 with 1 Axes>"
      ]
     },
     "metadata": {
      "needs_background": "light"
     },
     "output_type": "display_data"
    },
    {
     "data": {
      "text/plain": [
       "count      22407\n",
       "unique         3\n",
       "top       Другой\n",
       "freq       16456\n",
       "Name: floor_type, dtype: object"
      ]
     },
     "execution_count": 32,
     "metadata": {},
     "output_type": "execute_result"
    }
   ],
   "source": [
    "#Строим гистограмму по типу этажа\n",
    "data['floor_type'].hist(legend  = 'floor_type', figsize=(5, 5),bins=10)\n",
    "plt.show()\n",
    "#Изучаем параметр по типу этажа\n",
    "data['floor_type'].describe()"
   ]
  },
  {
   "cell_type": "markdown",
   "metadata": {},
   "source": [
    "**Вывод:** Основная часть объявлений - это квартиры на этажах отличных от первого и последнего."
   ]
  },
  {
   "cell_type": "code",
   "execution_count": 33,
   "metadata": {},
   "outputs": [
    {
     "data": {
      "image/png": "[encoded data removed]",
      "text/plain": [
       "<Figure size 1080x360 with 1 Axes>"
      ]
     },
     "metadata": {
      "needs_background": "light"
     },
     "output_type": "display_data"
    },
    {
     "data": {
      "text/plain": [
       "count    22407.000000\n",
       "mean        10.668764\n",
       "std          6.579120\n",
       "min          1.000000\n",
       "25%          5.000000\n",
       "50%          9.000000\n",
       "75%         16.000000\n",
       "max         36.000000\n",
       "Name: floors_total, dtype: float64"
      ]
     },
     "execution_count": 33,
     "metadata": {},
     "output_type": "execute_result"
    }
   ],
   "source": [
    "#Строим гистограмму по общей этажности дома\n",
    "data['floors_total'].hist(legend  = 'floors_total', figsize=(15, 5),bins=50, range=(data['floors_total'].min(), 27))\n",
    "plt.show()\n",
    "#Изучаем параметр по общей этажности дома\n",
    "data['floors_total'].describe()"
   ]
  },
  {
   "cell_type": "markdown",
   "metadata": {},
   "source": [
    "**Вывод:** Основная этажность домов от 5 до 17, пики в районе 5 и 9 этажек, что логично так как это основная застройка на настоящее время, многоэтажные дома появились не так давно, особенно в СПб."
   ]
  },
  {
   "cell_type": "code",
   "execution_count": 34,
   "metadata": {},
   "outputs": [
    {
     "data": {
      "image/png": "[encoded data removed]",
      "text/plain": [
       "<Figure size 1080x360 with 1 Axes>"
      ]
     },
     "metadata": {
      "needs_background": "light"
     },
     "output_type": "display_data"
    },
    {
     "data": {
      "text/plain": [
       "count    17218.000000\n",
       "mean     14117.173888\n",
       "std       8519.133095\n",
       "min        181.000000\n",
       "25%       9183.000000\n",
       "50%      13058.000000\n",
       "75%      16268.000000\n",
       "max      65968.000000\n",
       "Name: cityCenters_nearest, dtype: float64"
      ]
     },
     "execution_count": 34,
     "metadata": {},
     "output_type": "execute_result"
    }
   ],
   "source": [
    "#Строим гистограмму по удаленности от центра в метрах\n",
    "data['cityCenters_nearest'].hist(legend  = 'cityCenters_nearest', figsize=(15, 5),bins=50, range=(data['cityCenters_nearest'].min(), data['cityCenters_nearest'].max()))\n",
    "plt.show()\n",
    "#Изучаем параметр по удаленности от центра в метрах\n",
    "data['cityCenters_nearest'].describe()"
   ]
  },
  {
   "cell_type": "markdown",
   "metadata": {},
   "source": [
    "**Вывод:** Основная часть объявлений расположена в диапазоне от 5 до 20 км от центра города, пиковое кол-во районе 11-15 км."
   ]
  },
  {
   "cell_type": "code",
   "execution_count": 35,
   "metadata": {},
   "outputs": [
    {
     "data": {
      "image/png": "[encoded data removed]",
      "text/plain": [
       "<Figure size 1080x360 with 1 Axes>"
      ]
     },
     "metadata": {
      "needs_background": "light"
     },
     "output_type": "display_data"
    },
    {
     "data": {
      "text/plain": [
       "count    17199.000000\n",
       "mean     28845.337171\n",
       "std      12588.372467\n",
       "min       6450.000000\n",
       "25%      18649.000000\n",
       "50%      26803.000000\n",
       "75%      37313.000000\n",
       "max      84869.000000\n",
       "Name: airports_nearest, dtype: float64"
      ]
     },
     "execution_count": 35,
     "metadata": {},
     "output_type": "execute_result"
    }
   ],
   "source": [
    "#Строим гистограмму по удаленности от аэропорта\n",
    "data['airports_nearest'].hist(legend  = 'airports_nearest', figsize=(15, 5),bins=50, range=(data['airports_nearest'].min(), data['airports_nearest'].max()))\n",
    "plt.show()\n",
    "#Изучаем параметр по удаленности от аэропорта\n",
    "data['airports_nearest'].describe()"
   ]
  },
  {
   "cell_type": "markdown",
   "metadata": {},
   "source": [
    "**Вывод:** Основная часть объявлений расположена в 10-50 км от аэропорта пиковое кол-во объявлений в раоне от 12 до 17 км."
   ]
  },
  {
   "cell_type": "code",
   "execution_count": 36,
   "metadata": {},
   "outputs": [
    {
     "data": {
      "image/png": "[encoded data removed]",
      "text/plain": [
       "<Figure size 1080x360 with 1 Axes>"
      ]
     },
     "metadata": {
      "needs_background": "light"
     },
     "output_type": "display_data"
    },
    {
     "data": {
      "text/plain": [
       "count    7698.000000\n",
       "mean      490.868927\n",
       "std       344.683717\n",
       "min         1.000000\n",
       "25%       287.000000\n",
       "50%       451.000000\n",
       "75%       612.000000\n",
       "max      3190.000000\n",
       "Name: parks_nearest, dtype: float64"
      ]
     },
     "execution_count": 36,
     "metadata": {},
     "output_type": "execute_result"
    }
   ],
   "source": [
    "#Строим гистограмму по удаленности от парка\n",
    "data['parks_nearest'].hist(legend  = 'parks_nearest', figsize=(15, 5),bins=50, range=(data['parks_nearest'].min(), 2000))\n",
    "plt.show()\n",
    "#Изучаем параметр по удаленности от парка\n",
    "data['parks_nearest'].describe()"
   ]
  },
  {
   "cell_type": "markdown",
   "metadata": {},
   "source": [
    "**Вывод:** Основная часть объявлений расположена в 200-700 м от парка пиковое кол-во объявлений в раоне 400 м."
   ]
  },
  {
   "cell_type": "code",
   "execution_count": 37,
   "metadata": {},
   "outputs": [
    {
     "data": {
      "image/png": "[encoded data removed]",
      "text/plain": [
       "<Figure size 1080x360 with 1 Axes>"
      ]
     },
     "metadata": {
      "needs_background": "light"
     },
     "output_type": "display_data"
    },
    {
     "data": {
      "text/plain": [
       "count       22407\n",
       "unique          7\n",
       "top       Четверг\n",
       "freq         4067\n",
       "Name: day_week, dtype: object"
      ]
     },
     "execution_count": 37,
     "metadata": {},
     "output_type": "execute_result"
    }
   ],
   "source": [
    "#Строим гистограмму по дням недели\n",
    "data['day_week'].hist(legend  = 'day_week', figsize=(15, 5),bins=50)\n",
    "plt.show()\n",
    "#Изучаем параметр по дням недели\n",
    "data['day_week'].describe()"
   ]
  },
  {
   "cell_type": "markdown",
   "metadata": {},
   "source": [
    "**Вывод:** В выходные ожидаемо объявлений меньше, все отдыхают"
   ]
  },
  {
   "cell_type": "code",
   "execution_count": 38,
   "metadata": {},
   "outputs": [
    {
     "data": {
      "image/png": "[encoded data removed]",
      "text/plain": [
       "<Figure size 1080x360 with 1 Axes>"
      ]
     },
     "metadata": {
      "needs_background": "light"
     },
     "output_type": "display_data"
    },
    {
     "data": {
      "text/plain": [
       "count    22407.000000\n",
       "mean         6.383853\n",
       "std          3.486777\n",
       "min          1.000000\n",
       "25%          3.000000\n",
       "50%          6.000000\n",
       "75%         10.000000\n",
       "max         12.000000\n",
       "Name: month_number, dtype: float64"
      ]
     },
     "execution_count": 38,
     "metadata": {},
     "output_type": "execute_result"
    }
   ],
   "source": [
    "#Строим гистограмму по месяцу\n",
    "data['month_number'].hist(legend  = 'month_number', figsize=(15, 5),bins=50)\n",
    "plt.show()\n",
    "#Изучаем параметр по месяцу\n",
    "data['month_number'].describe()"
   ]
  },
  {
   "cell_type": "markdown",
   "metadata": {},
   "source": [
    "**Вывод:** А в мае все на картошку, сажать поехали). А в январе пока проснулись)"
   ]
  },
  {
   "cell_type": "markdown",
   "metadata": {},
   "source": [
    "#### Исследование по скорости продажи квартир"
   ]
  },
  {
   "cell_type": "code",
   "execution_count": 39,
   "metadata": {},
   "outputs": [
    {
     "data": {
      "image/png": "[encoded data removed]",
      "text/plain": [
       "<Figure size 1080x360 with 1 Axes>"
      ]
     },
     "metadata": {
      "needs_background": "light"
     },
     "output_type": "display_data"
    },
    {
     "data": {
      "image/png": "[encoded data removed]",
      "text/plain": [
       "<Figure size 1080x360 with 1 Axes>"
      ]
     },
     "metadata": {
      "needs_background": "light"
     },
     "output_type": "display_data"
    },
    {
     "data": {
      "image/png": "[encoded data removed]",
      "text/plain": [
       "<Figure size 432x288 with 1 Axes>"
      ]
     },
     "metadata": {
      "needs_background": "light"
     },
     "output_type": "display_data"
    },
    {
     "name": "stdout",
     "output_type": "stream",
     "text": [
      "Медианное значение составляет 98.0\n"
     ]
    },
    {
     "data": {
      "text/plain": [
       "count    19307.000000\n",
       "mean       183.323095\n",
       "std        220.839024\n",
       "min          1.000000\n",
       "25%         45.000000\n",
       "50%         98.000000\n",
       "75%        235.000000\n",
       "max       1580.000000\n",
       "Name: days_exposition, dtype: float64"
      ]
     },
     "execution_count": 39,
     "metadata": {},
     "output_type": "execute_result"
    }
   ],
   "source": [
    "#Проводим исследование как быстро продавались квартиры\n",
    "data['days_exposition'].hist(legend  = 'days_exposition', figsize=(15, 5),bins=50) # Построим общую гистограмму\n",
    "plt.show()\n",
    "data['days_exposition'].hist(legend  = 'days_exposition', figsize=(15, 5),bins=50, range=(0,200)) #Укрупним для наглядности пиковых значений\n",
    "plt.show()\n",
    "data.boxplot('days_exposition')\n",
    "plt.show()\n",
    "print('Медианное значение составляет', data['days_exposition'].median())\n",
    "data['days_exposition'].describe()"
   ]
  },
  {
   "cell_type": "markdown",
   "metadata": {},
   "source": [
    "**Вывод:** Супер быстрыми и редкими можно считать продажи быстрее 3-х дней, но их очень мало. Супер долгими можно считать продажи больше 600 дней. В среднем же продажи занимают 183 дня.\n",
    "Так же наблюдаются всплески в районе 45, 60 и 90 дней, скорее всего эти объявления были сняты автоматически с продажи (возможно было введено условие, что после n кол-ва дней продажи снимать объявление и выставлять заново для попадания в топы например) или эти объявления выставлялись как платные и были оплачены на данное кол-во дней к показу."
   ]
  },
  {
   "cell_type": "markdown",
   "metadata": {},
   "source": [
    "#### Узучение факторов наиболее влияющих на стоимость"
   ]
  },
  {
   "cell_type": "code",
   "execution_count": 40,
   "metadata": {},
   "outputs": [
    {
     "data": {
      "image/png": "[encoded data removed]",
      "text/plain": [
       "<Figure size 432x288 with 1 Axes>"
      ]
     },
     "metadata": {
      "needs_background": "light"
     },
     "output_type": "display_data"
    },
    {
     "data": {
      "image/png": "[encoded data removed]",
      "text/plain": [
       "<Figure size 432x288 with 1 Axes>"
      ]
     },
     "metadata": {
      "needs_background": "light"
     },
     "output_type": "display_data"
    },
    {
     "name": "stdout",
     "output_type": "stream",
     "text": [
      "Вывод корреляции (коэффициент Пирсона) 0.6875353305087966\n"
     ]
    },
    {
     "data": {
      "image/png": "[encoded data removed]",
      "text/plain": [
       "<Figure size 432x288 with 2 Axes>"
      ]
     },
     "metadata": {
      "needs_background": "light"
     },
     "output_type": "display_data"
    }
   ],
   "source": [
    "#Изучаем какие факторы больше всего влияют на общую (полную) стоимость объекта\n",
    "#Влияние Общей площади на стоимость\n",
    "data.pivot_table(index='total_area', values='last_price',aggfunc='mean').plot()\n",
    "plt.show()\n",
    "data.plot(x='total_area', y='last_price', kind='scatter', grid=True)\n",
    "plt.show()\n",
    "print('Вывод корреляции (коэффициент Пирсона)', data['total_area'].corr(data['last_price']))\n",
    "data.plot(x='total_area', y='last_price', kind='hexbin',gridsize=10, grid=True, xlim=(0, 300), ylim=((0, 200000000))) #Не показательно но красиво для визуала\n",
    "plt.show()"
   ]
  },
  {
   "cell_type": "markdown",
   "metadata": {},
   "source": [
    "**Вывод:** По построенным графикам можно сказать, что в зависимости от увеличения площади увеличивается цена квартир, но явной сильной зависимости тут нет, так как сумма больше зависит от нескольких факторов в совокупности\n",
    "Полученное значение коэффициента Пирсона в 0.65 говорит о налиции связи между общей площадью и ценой, однако не слишком сильной (увеличение площади не сильно влияет на цену, но все же влияет)."
   ]
  },
  {
   "cell_type": "code",
   "execution_count": 41,
   "metadata": {},
   "outputs": [
    {
     "data": {
      "image/png": "[encoded data removed]",
      "text/plain": [
       "<Figure size 432x288 with 1 Axes>"
      ]
     },
     "metadata": {
      "needs_background": "light"
     },
     "output_type": "display_data"
    },
    {
     "data": {
      "image/png": "[encoded data removed]",
      "text/plain": [
       "<Figure size 432x288 with 1 Axes>"
      ]
     },
     "metadata": {
      "needs_background": "light"
     },
     "output_type": "display_data"
    },
    {
     "name": "stdout",
     "output_type": "stream",
     "text": [
      "Вывод корреляции (коэффициент Пирсона) 0.6142968765550074\n"
     ]
    },
    {
     "data": {
      "image/png": "[encoded data removed]",
      "text/plain": [
       "<Figure size 432x288 with 2 Axes>"
      ]
     },
     "metadata": {
      "needs_background": "light"
     },
     "output_type": "display_data"
    }
   ],
   "source": [
    "#Влияние жилой площади на стоимость\n",
    "data.pivot_table(index='living_area', values='last_price',aggfunc='mean').plot()\n",
    "plt.show()\n",
    "data.plot(x='living_area', y='last_price', kind='scatter', grid=True)\n",
    "plt.show()\n",
    "print('Вывод корреляции (коэффициент Пирсона)', data['living_area'].corr(data['last_price']))\n",
    "data.plot(x='living_area', y='last_price', kind='hexbin',gridsize=10, grid=True, xlim=(0, 300), ylim=((0, 200000000))) #Не показательно но красиво для визуала\n",
    "plt.show()"
   ]
  },
  {
   "cell_type": "markdown",
   "metadata": {},
   "source": [
    "**Вывод:** Зависимость аналогична прошлому графику, так как жилая площадь является составляющей частью общей. Коэффициент корренляции однако уменьшился до 0.5, что говорит об уменьшении взяимосвязи цены от жилой площади нежели от общей."
   ]
  },
  {
   "cell_type": "code",
   "execution_count": 42,
   "metadata": {},
   "outputs": [
    {
     "data": {
      "image/png": "[encoded data removed]",
      "text/plain": [
       "<Figure size 432x288 with 1 Axes>"
      ]
     },
     "metadata": {
      "needs_background": "light"
     },
     "output_type": "display_data"
    },
    {
     "data": {
      "image/png": "[encoded data removed]",
      "text/plain": [
       "<Figure size 432x288 with 1 Axes>"
      ]
     },
     "metadata": {
      "needs_background": "light"
     },
     "output_type": "display_data"
    },
    {
     "name": "stdout",
     "output_type": "stream",
     "text": [
      "Вывод корреляции (коэффициент Пирсона) 0.551303923324143\n"
     ]
    },
    {
     "data": {
      "image/png": "[encoded data removed]",
      "text/plain": [
       "<Figure size 432x288 with 2 Axes>"
      ]
     },
     "metadata": {
      "needs_background": "light"
     },
     "output_type": "display_data"
    }
   ],
   "source": [
    "#Влияние кухонной площади на стоимость\n",
    "data.pivot_table(index='kitchen_area', values='last_price',aggfunc='mean').plot()\n",
    "plt.show()\n",
    "data.plot(x='kitchen_area', y='last_price', kind='scatter', grid=True)\n",
    "plt.show()\n",
    "print('Вывод корреляции (коэффициент Пирсона)', data['kitchen_area'].corr(data['last_price']))\n",
    "data.plot(x='kitchen_area', y='last_price', kind='hexbin',gridsize=10, grid=True, xlim=(0, 300), ylim=((0, 200000000))) #Не показательно но красиво для визуала\n",
    "plt.show()"
   ]
  },
  {
   "cell_type": "markdown",
   "metadata": {},
   "source": [
    "**Вывод:** Зависимость аналогична прошлому графику, так как кухонная площадь является составляющей частью общей. Коэффициент корренляции однако уменьшился до 0.51, что говорит об уменьшении взяимосвязи цены от кухонной площади нежели от общей."
   ]
  },
  {
   "cell_type": "code",
   "execution_count": 43,
   "metadata": {},
   "outputs": [
    {
     "data": {
      "image/png": "[encoded data removed]",
      "text/plain": [
       "<Figure size 432x288 with 1 Axes>"
      ]
     },
     "metadata": {
      "needs_background": "light"
     },
     "output_type": "display_data"
    }
   ],
   "source": [
    "#Влияние кол-ва комнат на стоимость\n",
    "data.groupby('rooms')['last_price'].mean().plot.bar()\n",
    "plt.show()"
   ]
  },
  {
   "cell_type": "markdown",
   "metadata": {},
   "source": [
    "**Вывод:** Судя по графику можно сказать, что при увеличении кол-ва комнат до определенного кол-ва (6) средняя цена растет => зависимость от кол-ва комнат имеется."
   ]
  },
  {
   "cell_type": "code",
   "execution_count": 44,
   "metadata": {},
   "outputs": [
    {
     "data": {
      "image/png": "[encoded data removed]",
      "text/plain": [
       "<Figure size 432x288 with 1 Axes>"
      ]
     },
     "metadata": {
      "needs_background": "light"
     },
     "output_type": "display_data"
    }
   ],
   "source": [
    "#Влияние типа этажа на стоимость \n",
    "data.groupby('floor_type')['last_price'].mean().plot.bar()\n",
    "plt.show()"
   ]
  },
  {
   "cell_type": "markdown",
   "metadata": {},
   "source": [
    "**Вывод:** Судя по графику явно заметно, что квартиры на первых этажах стоят дешевле."
   ]
  },
  {
   "cell_type": "code",
   "execution_count": 45,
   "metadata": {},
   "outputs": [
    {
     "data": {
      "image/png": "[encoded data removed]",
      "text/plain": [
       "<Figure size 432x288 with 1 Axes>"
      ]
     },
     "metadata": {
      "needs_background": "light"
     },
     "output_type": "display_data"
    }
   ],
   "source": [
    "#Влияние дня недели продажи на стоимость \n",
    "data.groupby('day_week')['last_price'].mean().plot.bar()\n",
    "plt.show()"
   ]
  },
  {
   "cell_type": "markdown",
   "metadata": {},
   "source": [
    "**Вывод:** Зависимости цены от дня продажи нет."
   ]
  },
  {
   "cell_type": "code",
   "execution_count": 46,
   "metadata": {},
   "outputs": [
    {
     "data": {
      "image/png": "[encoded data removed]",
      "text/plain": [
       "<Figure size 432x288 with 1 Axes>"
      ]
     },
     "metadata": {
      "needs_background": "light"
     },
     "output_type": "display_data"
    }
   ],
   "source": [
    "#Влияние месяца продажи на стоимость \n",
    "data.groupby('month_number')['last_price'].mean().plot.bar()\n",
    "plt.show()"
   ]
  },
  {
   "cell_type": "markdown",
   "metadata": {},
   "source": [
    "**Вывод:** Зависимости цены от месяца продажи нет."
   ]
  },
  {
   "cell_type": "code",
   "execution_count": 47,
   "metadata": {},
   "outputs": [
    {
     "data": {
      "image/png": "[encoded data removed]",
      "text/plain": [
       "<Figure size 432x288 with 1 Axes>"
      ]
     },
     "metadata": {
      "needs_background": "light"
     },
     "output_type": "display_data"
    }
   ],
   "source": [
    "#Влияние года продажи на стоимость \n",
    "data.groupby('year')['last_price'].mean().plot.bar()\n",
    "plt.show()"
   ]
  },
  {
   "cell_type": "code",
   "execution_count": 48,
   "metadata": {},
   "outputs": [
    {
     "data": {
      "image/png": "[encoded data removed]",
      "text/plain": [
       "<Figure size 432x288 with 1 Axes>"
      ]
     },
     "metadata": {
      "needs_background": "light"
     },
     "output_type": "display_data"
    }
   ],
   "source": [
    "#Влияние года продажи на общую площадь \n",
    "data.groupby('year')['total_area'].mean().plot.bar()\n",
    "plt.show()"
   ]
  },
  {
   "cell_type": "markdown",
   "metadata": {},
   "source": [
    "**Вывод:** Зависимость цены от года продажи видна, можно сказать что с 2014 до 2016 цены уменьшались с 2016 по 2019 цены в среднем отавались на одном уровне. Но при этом и уменьшилась средняя площадь продаваемых квартир, от чего и уменьшились суммы=> зависимости от года продаж нет, а вот то, что с годами площадь уменьшается - это факт."
   ]
  },
  {
   "cell_type": "code",
   "execution_count": 49,
   "metadata": {},
   "outputs": [
    {
     "name": "stdout",
     "output_type": "stream",
     "text": [
      "                 count           mean\n",
      "locality_name                        \n",
      "Санкт-Петербург  14927  114739.447913\n",
      "Мурино             547   85416.970750\n",
      "Кудрово            433   95311.337182\n",
      "Шушары             415   78714.431325\n",
      "Всеволожск         379   68818.361478\n",
      "Пушкин             346  103796.323699\n",
      "Парголово          314   90051.550955\n",
      "Колпино            297   75626.592593\n",
      "Гатчина            296   68492.658784\n",
      "Выборг             230   58310.878261\n",
      "\n",
      "Самый дорогой квадрат                  price_metre\n",
      "locality_name               \n",
      "Санкт-Петербург      1736842\n",
      "Самый дешевый квадрат                price_metre\n",
      "locality_name             \n",
      "Свирь                 7962\n"
     ]
    }
   ],
   "source": [
    "#Расчет средней цены одного квадратного метра в 10 населённых пунктах с наибольшим числом объявлений.\n",
    "data=data.query('price_metre > 1000')\n",
    "new = data.pivot_table(index='locality_name', values='price_metre', aggfunc=['count','mean'])\n",
    "new.columns = ['count','mean']\n",
    "print(new.sort_values(by='count',ascending=False).head(10))\n",
    "print()\n",
    "#Поиск и вывод самого дорогого города с квадратным метром\n",
    "print('Самый дорогой квадрат',data.pivot_table(index='locality_name', values='price_metre', aggfunc='max').sort_values(by='price_metre',ascending=False).head(1))\n",
    "#Поиск и вывод самого дешевого города с квадратным метром\n",
    "print('Самый дешевый квадрат', data.pivot_table(index='locality_name', values='price_metre', aggfunc='min').sort_values(by='price_metre',ascending=True).head(1))"
   ]
  },
  {
   "cell_type": "code",
   "execution_count": 50,
   "metadata": {},
   "outputs": [
    {
     "name": "stdout",
     "output_type": "stream",
     "text": [
      "                 count    median\n",
      "locality_name                   \n",
      "Санкт-Петербург  14927  104878.0\n",
      "Мурино             547   84507.0\n",
      "Кудрово            433   95762.0\n",
      "Шушары             415   77272.0\n",
      "Всеволожск         379   65789.0\n",
      "Пушкин             346  100066.5\n",
      "Парголово          314   91579.0\n",
      "Колпино            297   75000.0\n",
      "Гатчина            296   67745.5\n",
      "Выборг             230   58357.0\n",
      "\n",
      "Самый дорогой квадрат                  price_metre\n",
      "locality_name               \n",
      "Санкт-Петербург      1736842\n",
      "Самый дешевый квадрат                price_metre\n",
      "locality_name             \n",
      "Свирь                 7962\n"
     ]
    }
   ],
   "source": [
    "#Расчет средней цены одного квадратного метра в 10 населённых пунктах с наибольшим числом объявлений.\n",
    "data=data.query('price_metre > 1000')\n",
    "new = data.pivot_table(index='locality_name', values='price_metre', aggfunc=['count','median'])\n",
    "new.columns = ['count','median']\n",
    "print(new.sort_values(by='count',ascending=False).head(10))\n",
    "print()\n",
    "#Поиск и вывод самого дорогого города с квадратным метром\n",
    "print('Самый дорогой квадрат',data.pivot_table(index='locality_name', values='price_metre', aggfunc='max').sort_values(by='price_metre',ascending=False).head(1))\n",
    "#Поиск и вывод самого дешевого города с квадратным метром\n",
    "print('Самый дешевый квадрат', data.pivot_table(index='locality_name', values='price_metre', aggfunc='min').sort_values(by='price_metre',ascending=True).head(1))"
   ]
  },
  {
   "cell_type": "markdown",
   "metadata": {},
   "source": [
    "**Вывод:** Самая высокая средняя стоимость квадратного метра ожибаемо в Санкт-Петербурге. Самая дешевая стоимость квадратного метра обнаружена в деревне Свирь."
   ]
  },
  {
   "cell_type": "code",
   "execution_count": 51,
   "metadata": {},
   "outputs": [
    {
     "data": {
      "image/png": "[encoded data removed]",
      "text/plain": [
       "<Figure size 432x288 with 1 Axes>"
      ]
     },
     "metadata": {
      "needs_background": "light"
     },
     "output_type": "display_data"
    },
    {
     "data": {
      "image/png": "[encoded data removed]",
      "text/plain": [
       "<Figure size 432x288 with 1 Axes>"
      ]
     },
     "metadata": {
      "needs_background": "light"
     },
     "output_type": "display_data"
    }
   ],
   "source": [
    "#Вычисление средней цены каждого километра в городе Санкт-Петербург\n",
    "data_spb = data.query('locality_name == \"Санкт-Петербург\"') #Создание отдельного датасета под предложения по продаже из Санкт-Петербурга\n",
    "data_spb.groupby('cityCenters_nearest_km')['price_metre'].mean().plot.bar(title = 'Зависимость цены за кв. метр от растояния до центра')\n",
    "plt.show()\n",
    "data_spb.groupby('cityCenters_nearest_km')['last_price'].mean().plot.bar(title = 'Зависимость общей стоимости от растояния до центра')\n",
    "plt.show()"
   ]
  },
  {
   "cell_type": "markdown",
   "metadata": {},
   "source": [
    "**Вывод:** В результате полученных данных видна зависимость, что при отдалении от центра города средняя общая цеда и средняя цена за квадратный метр уменьшается. Есть высплеск в районе 6-7 км от центра, что обусловлено дорогими районами около воды."
   ]
  },
  {
   "cell_type": "markdown",
   "metadata": {},
   "source": [
    "### Общий вывод"
   ]
  },
  {
   "cell_type": "markdown",
   "metadata": {},
   "source": [
    "В рамках анализы были проделаны следующие основные пункты:\n",
    "   1. Открытие и получение информации о файле и содержащейся в нем информации;\n",
    "   2. Выполнены задачи по поиску и обработке пропусков;\n",
    "   3. Выполнены изменения типов данных, а так же устранены и исследованы основные аномалии в данных;\n",
    "   4. Были определены и добавлены данные о днях недели продаж квартир;\n",
    "   5. Была расчитана средняя стоимость квадратного метра квартиры;\n",
    "   6. Расчитаны и добавлены значения до центра города в КМ для удобства просмотра;\n",
    "   7. Были построены и исследованы основные направления от чего может зависеть цена квартиры;\n",
    "   8. Были определены города в которых самые дорогие и самые дешевые квартиры;\n",
    "   9. Отдельно для Санкт-Петербурга были построены графики зависимости цены квартиры от ее удаленности от центра города."
   ]
  },
  {
   "cell_type": "markdown",
   "metadata": {},
   "source": [
    "В рамках проведенного анализа было выявлено, что больше всего объявлений было в Санкт-Петербурге (ожидаемо, так как это самый большой населенный пункт в Лен. области). Самая большая цена за квадратный метр так же в Санкт-Петербурге. Самыми дорогими квартирами являются квартиры находящиеся в Санкт-Петербурге ближе к центру, не находящиеся на первых этажах с большой площадью."
   ]
  },
  {
   "cell_type": "markdown",
   "metadata": {},
   "source": [
    "В результате проведенного анализа можно точно сказать, что цена квартиры не всегда зависит от одного фактора. К основыным влияющим показаьелям относятся: Удаленность от центра, этаж (1-ый или другие), год продажи, кол-во комнат. Кол-во квадратных метром тоже влияет но нужно строить разбивки по отдельным городам/районам для улучшения точности и выявления закономерности.\n",
    "Самые дорогие квартиры и квадраты находятся в Санкт-Петербурге как и ожидалось.\n",
    "В процессе предобработки данных были выявлены ошибки по квадратам этажам и тд, которые были почищены."
   ]
  },
  {
   "cell_type": "markdown",
   "metadata": {},
   "source": [
    "**По итогам выполненного анализа можно дать следующие рекомендации:**\n",
    "   1. Проставить обязательные поля к заполнению при заведении объявления на продажу (например добавить в обязательные поля указание этажности дома, наименование локации и другие) для точности анализируемых данных в дальнейшем;\n",
    "   2. Отсекать/дополнительно проверять объявления в которых проставлены значения по умолчанию (например этаж=0 или число фотографий=0 и другие);\n",
    "   3. Проверять объявления, которые снимаются через 45, 60 и 90 дней, возможно эти же квартиры потом выставляются заново но уже с новыми параметрами или просто для поднятия в списке.\n",
    "   4. Добавить дополнительную сверку на предмет, что одна и та же квартира выставленна два раза с разными ценами;\n",
    "   5. Для расчета нагрузки сервиса можно так же учесть, что по выходным и в мае кол-во продаж и нагрузка снижется.\n",
    "\n",
    "    "
   ]
  },
  {
   "cell_type": "markdown",
   "metadata": {},
   "source": [
    "**Чек-лист готовности проекта**\n",
    "\n",
    "Поставьте 'x' в выполненных пунктах. Далее нажмите Shift+Enter."
   ]
  },
  {
   "cell_type": "markdown",
   "metadata": {},
   "source": [
    "- [x]  открыт файл\n",
    "- [x]  файлы изучены (выведены первые строки, метод `info()`, гистограммы и т.д.)\n",
    "- [x]  определены пропущенные значения\n",
    "- [x]  заполнены пропущенные значения там, где это возможно\n",
    "- [x]  есть пояснение, какие пропущенные значения обнаружены\n",
    "- [x]  изменены типы данных\n",
    "- [x]  есть пояснение, в каких столбцах изменены типы и почему\n",
    "- [x]  устранены неявные дубликаты в названиях населённых пунктов\n",
    "- [x]  устранены редкие и выбивающиеся значения (аномалии) во всех столбцах\n",
    "- [x]  посчитано и добавлено в таблицу: цена одного квадратного метра\n",
    "- [X]  посчитано и добавлено в таблицу: день публикации объявления (0 - понедельник, 1 - вторник и т.д.)\n",
    "- [x]  посчитано и добавлено в таблицу: месяц публикации объявления\n",
    "- [x]  посчитано и добавлено в таблицу: год публикации объявления\n",
    "- [x]  посчитано и добавлено в таблицу: тип этажа квартиры (значения — «первый», «последний», «другой»)\n",
    "- [x]  посчитано и добавлено в таблицу: расстояние в км до центра города\n",
    "- [x]  изучены и описаны следующие параметры:\n",
    "        - общая площадь;\n",
    "        - жилая площадь;\n",
    "        - площадь кухни;\n",
    "        - цена объекта;\n",
    "        - количество комнат;\n",
    "        - высота потолков;\n",
    "        - этаж квартиры;\n",
    "        - тип этажа квартиры («первый», «последний», «другой»);\n",
    "        - общее количество этажей в доме;\n",
    "        - расстояние до центра города в метрах;\n",
    "        - расстояние до ближайшего аэропорта;\n",
    "        - расстояние до ближайшего парка;\n",
    "        - день и месяц публикации объявления\n",
    "- [x]  построены гистограммы для каждого параметра\n",
    "- [x]  выполнено задание: \"Изучите, как быстро продавались квартиры (столбец days_exposition). Этот параметр показывает, сколько дней «висело» каждое объявление.\n",
    "    - Постройте гистограмму.\n",
    "    - Посчитайте среднее и медиану.\n",
    "    - В ячейке типа markdown опишите, сколько обычно занимает продажа. Какие продажи можно считать быстрыми, а какие — необычно долгими?\"\n",
    "- [x]  выполнено задание: \"Какие факторы больше всего влияют на общую (полную) стоимость объекта? Постройте графики, которые покажут зависимость цены от указанных ниже параметров. Для подготовки данных перед визуализацией вы можете использовать сводные таблицы.\"\n",
    "        - общей площади;\n",
    "        - жилой площади;\n",
    "        - площади кухни;\n",
    "        - количество комнат;\n",
    "        - типа этажа, на котором расположена квартира (первый, последний, другой);\n",
    "        - даты размещения (день недели, месяц, год);\n",
    "- [x]  выполнено задание: \"Посчитайте среднюю цену одного квадратного метра в 10 населённых пунктах с наибольшим числом объявлений. Выделите населённые пункты с самой высокой и низкой стоимостью квадратного метра. Эти данные можно найти по имени в столбце `locality_name`.\"\n",
    "- [x]  выполнено задание: \"Ранее вы посчитали расстояние до центра в километрах. Теперь выделите квартиры в Санкт-Петербурге с помощью столбца `locality_name` и вычислите среднюю цену каждого километра. Опишите, как стоимость объектов зависит от расстояния до центра города.\"\n",
    "- [x]  в каждом этапе есть промежуточные выводы\n",
    "- [x]  есть общий вывод"
   ]
  },
  {
   "cell_type": "code",
   "execution_count": null,
   "metadata": {},
   "outputs": [],
   "source": []
  }
 ],
 "metadata": {
  "ExecuteTimeLog": [
   {
    "duration": 1034,
    "start_time": "2022-09-06T10:54:11.428Z"
   },
   {
    "duration": 94,
    "start_time": "2022-09-06T10:54:43.737Z"
   },
   {
    "duration": 104,
    "start_time": "2022-09-06T10:57:32.133Z"
   },
   {
    "duration": 107,
    "start_time": "2022-09-06T10:57:57.985Z"
   },
   {
    "duration": 110,
    "start_time": "2022-09-06T11:07:01.616Z"
   },
   {
    "duration": 92,
    "start_time": "2022-09-06T11:07:13.463Z"
   },
   {
    "duration": 105,
    "start_time": "2022-09-06T11:07:28.061Z"
   },
   {
    "duration": 13,
    "start_time": "2022-09-06T11:07:32.756Z"
   },
   {
    "duration": 12,
    "start_time": "2022-09-06T11:15:12.256Z"
   },
   {
    "duration": 2097,
    "start_time": "2022-09-06T11:15:15.032Z"
   },
   {
    "duration": 1749,
    "start_time": "2022-09-06T11:25:14.461Z"
   },
   {
    "duration": 1741,
    "start_time": "2022-09-06T11:25:22.224Z"
   },
   {
    "duration": 106,
    "start_time": "2022-09-06T12:29:10.765Z"
   },
   {
    "duration": 1606,
    "start_time": "2022-09-06T12:40:47.685Z"
   },
   {
    "duration": 22,
    "start_time": "2022-09-06T12:42:57.332Z"
   },
   {
    "duration": 9,
    "start_time": "2022-09-06T12:43:12.594Z"
   },
   {
    "duration": 9,
    "start_time": "2022-09-06T12:46:06.299Z"
   },
   {
    "duration": 72,
    "start_time": "2022-09-06T13:23:38.724Z"
   },
   {
    "duration": 5,
    "start_time": "2022-09-06T13:23:45.973Z"
   },
   {
    "duration": 108,
    "start_time": "2022-09-06T13:28:17.618Z"
   },
   {
    "duration": 7,
    "start_time": "2022-09-06T13:28:56.205Z"
   },
   {
    "duration": 7,
    "start_time": "2022-09-06T13:29:18.750Z"
   },
   {
    "duration": 5,
    "start_time": "2022-09-06T13:30:21.471Z"
   },
   {
    "duration": 6,
    "start_time": "2022-09-06T13:31:53.255Z"
   },
   {
    "duration": 62,
    "start_time": "2022-09-06T13:38:40.239Z"
   },
   {
    "duration": 35,
    "start_time": "2022-09-06T13:39:23.323Z"
   },
   {
    "duration": 49,
    "start_time": "2022-09-06T13:39:34.339Z"
   },
   {
    "duration": 21,
    "start_time": "2022-09-06T13:40:40.564Z"
   },
   {
    "duration": 5,
    "start_time": "2022-09-06T13:41:29.417Z"
   },
   {
    "duration": 35,
    "start_time": "2022-09-06T13:41:45.203Z"
   },
   {
    "duration": 40,
    "start_time": "2022-09-06T13:45:14.263Z"
   },
   {
    "duration": 5,
    "start_time": "2022-09-06T13:45:21.995Z"
   },
   {
    "duration": 8,
    "start_time": "2022-09-06T13:45:39.325Z"
   },
   {
    "duration": 4,
    "start_time": "2022-09-06T13:46:19.712Z"
   },
   {
    "duration": 7,
    "start_time": "2022-09-06T13:46:51.889Z"
   },
   {
    "duration": 6,
    "start_time": "2022-09-06T13:47:20.692Z"
   },
   {
    "duration": 32,
    "start_time": "2022-09-06T13:55:43.281Z"
   },
   {
    "duration": 9,
    "start_time": "2022-09-06T14:00:42.191Z"
   },
   {
    "duration": 35,
    "start_time": "2022-09-06T14:01:56.021Z"
   },
   {
    "duration": 31,
    "start_time": "2022-09-06T14:02:38.590Z"
   },
   {
    "duration": 7,
    "start_time": "2022-09-06T14:05:28.184Z"
   },
   {
    "duration": 6,
    "start_time": "2022-09-06T14:05:37.047Z"
   },
   {
    "duration": 9,
    "start_time": "2022-09-06T14:08:51.260Z"
   },
   {
    "duration": 10,
    "start_time": "2022-09-06T14:12:30.689Z"
   },
   {
    "duration": 11,
    "start_time": "2022-09-06T14:13:43.310Z"
   },
   {
    "duration": 9,
    "start_time": "2022-09-06T14:14:05.890Z"
   },
   {
    "duration": 6,
    "start_time": "2022-09-06T14:14:24.121Z"
   },
   {
    "duration": 7,
    "start_time": "2022-09-06T14:14:40.221Z"
   },
   {
    "duration": 6,
    "start_time": "2022-09-06T14:15:18.997Z"
   },
   {
    "duration": 6,
    "start_time": "2022-09-06T14:15:53.949Z"
   },
   {
    "duration": 5,
    "start_time": "2022-09-06T14:28:27.990Z"
   },
   {
    "duration": 11,
    "start_time": "2022-09-06T14:30:29.762Z"
   },
   {
    "duration": 9,
    "start_time": "2022-09-06T14:30:43.674Z"
   },
   {
    "duration": 9,
    "start_time": "2022-09-06T14:30:53.474Z"
   },
   {
    "duration": 25,
    "start_time": "2022-09-06T14:31:21.746Z"
   },
   {
    "duration": 25,
    "start_time": "2022-09-06T14:32:19.702Z"
   },
   {
    "duration": 6,
    "start_time": "2022-09-06T14:32:27.104Z"
   },
   {
    "duration": 505,
    "start_time": "2022-09-06T14:32:35.568Z"
   },
   {
    "duration": 13,
    "start_time": "2022-09-06T14:32:36.075Z"
   },
   {
    "duration": 1911,
    "start_time": "2022-09-06T14:32:36.090Z"
   },
   {
    "duration": 9,
    "start_time": "2022-09-06T14:32:38.003Z"
   },
   {
    "duration": 10,
    "start_time": "2022-09-06T14:32:38.013Z"
   },
   {
    "duration": 13,
    "start_time": "2022-09-06T14:32:38.024Z"
   },
   {
    "duration": 25,
    "start_time": "2022-09-06T14:33:05.964Z"
   },
   {
    "duration": 122,
    "start_time": "2022-09-06T14:33:40.254Z"
   },
   {
    "duration": 30,
    "start_time": "2022-09-06T14:33:58.821Z"
   },
   {
    "duration": 26,
    "start_time": "2022-09-06T14:34:59.758Z"
   },
   {
    "duration": 9,
    "start_time": "2022-09-06T14:39:22.802Z"
   },
   {
    "duration": 8,
    "start_time": "2022-09-06T14:39:30.401Z"
   },
   {
    "duration": 454,
    "start_time": "2022-09-06T14:39:58.041Z"
   },
   {
    "duration": 13,
    "start_time": "2022-09-06T14:39:58.497Z"
   },
   {
    "duration": 1930,
    "start_time": "2022-09-06T14:39:58.512Z"
   },
   {
    "duration": 9,
    "start_time": "2022-09-06T14:40:00.444Z"
   },
   {
    "duration": 15,
    "start_time": "2022-09-06T14:40:00.454Z"
   },
   {
    "duration": 33,
    "start_time": "2022-09-06T14:40:00.470Z"
   },
   {
    "duration": 26,
    "start_time": "2022-09-06T14:41:52.232Z"
   },
   {
    "duration": 11,
    "start_time": "2022-09-06T14:46:22.768Z"
   },
   {
    "duration": 5,
    "start_time": "2022-09-06T14:47:33.414Z"
   },
   {
    "duration": 5,
    "start_time": "2022-09-06T14:48:42.672Z"
   },
   {
    "duration": 8,
    "start_time": "2022-09-06T14:48:46.144Z"
   },
   {
    "duration": 4,
    "start_time": "2022-09-06T15:05:11.839Z"
   },
   {
    "duration": 8,
    "start_time": "2022-09-06T15:05:14.000Z"
   },
   {
    "duration": 23,
    "start_time": "2022-09-06T15:05:40.759Z"
   },
   {
    "duration": 5,
    "start_time": "2022-09-06T18:46:15.494Z"
   },
   {
    "duration": 12,
    "start_time": "2022-09-06T18:48:18.778Z"
   },
   {
    "duration": 60,
    "start_time": "2022-09-07T08:51:02.613Z"
   },
   {
    "duration": 736,
    "start_time": "2022-09-07T08:51:11.605Z"
   },
   {
    "duration": 17,
    "start_time": "2022-09-07T08:51:12.343Z"
   },
   {
    "duration": 2674,
    "start_time": "2022-09-07T08:51:12.361Z"
   },
   {
    "duration": 10,
    "start_time": "2022-09-07T08:51:15.037Z"
   },
   {
    "duration": 36,
    "start_time": "2022-09-07T08:51:15.049Z"
   },
   {
    "duration": 16,
    "start_time": "2022-09-07T08:51:15.087Z"
   },
   {
    "duration": 5,
    "start_time": "2022-09-07T08:51:15.105Z"
   },
   {
    "duration": 14,
    "start_time": "2022-09-07T08:51:15.112Z"
   },
   {
    "duration": 15,
    "start_time": "2022-09-07T08:51:15.128Z"
   },
   {
    "duration": 27,
    "start_time": "2022-09-07T08:51:15.145Z"
   },
   {
    "duration": 9,
    "start_time": "2022-09-07T08:51:52.108Z"
   },
   {
    "duration": 7,
    "start_time": "2022-09-07T08:51:54.764Z"
   },
   {
    "duration": 8,
    "start_time": "2022-09-07T08:52:02.317Z"
   },
   {
    "duration": 87,
    "start_time": "2022-09-07T08:52:39.452Z"
   },
   {
    "duration": 101,
    "start_time": "2022-09-07T08:52:53.204Z"
   },
   {
    "duration": 7,
    "start_time": "2022-09-07T08:52:59.525Z"
   },
   {
    "duration": 7,
    "start_time": "2022-09-07T08:53:14.781Z"
   },
   {
    "duration": 7,
    "start_time": "2022-09-07T08:53:26.462Z"
   },
   {
    "duration": 7,
    "start_time": "2022-09-07T08:53:34.739Z"
   },
   {
    "duration": 7,
    "start_time": "2022-09-07T09:08:01.526Z"
   },
   {
    "duration": 6,
    "start_time": "2022-09-07T09:08:47.229Z"
   },
   {
    "duration": 8,
    "start_time": "2022-09-07T09:10:27.070Z"
   },
   {
    "duration": 9,
    "start_time": "2022-09-07T09:10:29.765Z"
   },
   {
    "duration": 42,
    "start_time": "2022-09-07T09:10:35.483Z"
   },
   {
    "duration": 9,
    "start_time": "2022-09-07T09:20:47.309Z"
   },
   {
    "duration": 24,
    "start_time": "2022-09-07T09:31:31.089Z"
   },
   {
    "duration": 11,
    "start_time": "2022-09-07T09:34:54.851Z"
   },
   {
    "duration": 13,
    "start_time": "2022-09-07T09:35:04.970Z"
   },
   {
    "duration": 31,
    "start_time": "2022-09-07T09:35:14.088Z"
   },
   {
    "duration": 12,
    "start_time": "2022-09-07T09:35:22.351Z"
   },
   {
    "duration": 17,
    "start_time": "2022-09-07T09:35:28.823Z"
   },
   {
    "duration": 19,
    "start_time": "2022-09-07T09:35:44.087Z"
   },
   {
    "duration": 33,
    "start_time": "2022-09-07T09:35:55.736Z"
   },
   {
    "duration": 14,
    "start_time": "2022-09-07T11:44:15.568Z"
   },
   {
    "duration": 43,
    "start_time": "2022-09-07T11:45:45.895Z"
   },
   {
    "duration": 42,
    "start_time": "2022-09-07T11:45:50.019Z"
   },
   {
    "duration": 669,
    "start_time": "2022-09-07T11:46:03.010Z"
   },
   {
    "duration": 23,
    "start_time": "2022-09-07T11:46:03.681Z"
   },
   {
    "duration": 3048,
    "start_time": "2022-09-07T11:46:03.706Z"
   },
   {
    "duration": 15,
    "start_time": "2022-09-07T11:46:06.757Z"
   },
   {
    "duration": 77,
    "start_time": "2022-09-07T11:46:06.774Z"
   },
   {
    "duration": 7,
    "start_time": "2022-09-07T11:46:06.854Z"
   },
   {
    "duration": 8,
    "start_time": "2022-09-07T11:46:06.863Z"
   },
   {
    "duration": 10,
    "start_time": "2022-09-07T11:46:06.875Z"
   },
   {
    "duration": 14,
    "start_time": "2022-09-07T11:46:06.887Z"
   },
   {
    "duration": 56,
    "start_time": "2022-09-07T11:46:06.912Z"
   },
   {
    "duration": 137,
    "start_time": "2022-09-07T11:46:06.971Z"
   },
   {
    "duration": 0,
    "start_time": "2022-09-07T11:46:07.110Z"
   },
   {
    "duration": 45,
    "start_time": "2022-09-07T11:47:06.890Z"
   },
   {
    "duration": 26,
    "start_time": "2022-09-07T11:47:10.395Z"
   },
   {
    "duration": 45,
    "start_time": "2022-09-07T11:47:12.689Z"
   },
   {
    "duration": 10,
    "start_time": "2022-09-07T11:51:23.109Z"
   },
   {
    "duration": 7,
    "start_time": "2022-09-07T11:51:42.861Z"
   },
   {
    "duration": 21,
    "start_time": "2022-09-07T11:52:25.939Z"
   },
   {
    "duration": 39,
    "start_time": "2022-09-07T11:52:34.687Z"
   },
   {
    "duration": 28,
    "start_time": "2022-09-07T11:52:42.411Z"
   },
   {
    "duration": 8,
    "start_time": "2022-09-07T11:52:44.953Z"
   },
   {
    "duration": 33,
    "start_time": "2022-09-07T11:52:46.990Z"
   },
   {
    "duration": 21,
    "start_time": "2022-09-07T11:53:06.343Z"
   },
   {
    "duration": 26,
    "start_time": "2022-09-07T11:53:09.586Z"
   },
   {
    "duration": 107,
    "start_time": "2022-09-07T11:57:07.555Z"
   },
   {
    "duration": 17,
    "start_time": "2022-09-07T11:57:13.623Z"
   },
   {
    "duration": 14,
    "start_time": "2022-09-07T11:57:24.639Z"
   },
   {
    "duration": 26,
    "start_time": "2022-09-07T11:57:31.310Z"
   },
   {
    "duration": 14,
    "start_time": "2022-09-07T11:57:33.038Z"
   },
   {
    "duration": 24,
    "start_time": "2022-09-07T11:58:25.813Z"
   },
   {
    "duration": 37,
    "start_time": "2022-09-07T11:58:28.196Z"
   },
   {
    "duration": 17,
    "start_time": "2022-09-07T12:00:25.848Z"
   },
   {
    "duration": 15,
    "start_time": "2022-09-07T12:00:30.567Z"
   },
   {
    "duration": 14,
    "start_time": "2022-09-07T12:00:43.538Z"
   },
   {
    "duration": 15,
    "start_time": "2022-09-07T12:00:45.840Z"
   },
   {
    "duration": 14,
    "start_time": "2022-09-07T12:01:09.255Z"
   },
   {
    "duration": 22,
    "start_time": "2022-09-07T12:01:11.574Z"
   },
   {
    "duration": 695,
    "start_time": "2022-09-07T12:01:21.790Z"
   },
   {
    "duration": 25,
    "start_time": "2022-09-07T12:01:22.488Z"
   },
   {
    "duration": 2689,
    "start_time": "2022-09-07T12:01:22.523Z"
   },
   {
    "duration": 17,
    "start_time": "2022-09-07T12:01:25.221Z"
   },
   {
    "duration": 40,
    "start_time": "2022-09-07T12:01:25.241Z"
   },
   {
    "duration": 19,
    "start_time": "2022-09-07T12:01:25.283Z"
   },
   {
    "duration": 46,
    "start_time": "2022-09-07T12:01:25.308Z"
   },
   {
    "duration": 17,
    "start_time": "2022-09-07T12:01:25.356Z"
   },
   {
    "duration": 13,
    "start_time": "2022-09-07T12:01:25.375Z"
   },
   {
    "duration": 27,
    "start_time": "2022-09-07T12:01:25.391Z"
   },
   {
    "duration": 40,
    "start_time": "2022-09-07T12:01:25.427Z"
   },
   {
    "duration": 19,
    "start_time": "2022-09-07T12:01:25.470Z"
   },
   {
    "duration": 104,
    "start_time": "2022-09-07T12:02:33.441Z"
   },
   {
    "duration": 25,
    "start_time": "2022-09-07T12:02:54.326Z"
   },
   {
    "duration": 43,
    "start_time": "2022-09-07T12:03:05.983Z"
   },
   {
    "duration": 13,
    "start_time": "2022-09-07T12:03:15.242Z"
   },
   {
    "duration": 18,
    "start_time": "2022-09-07T12:03:19.437Z"
   },
   {
    "duration": 29,
    "start_time": "2022-09-07T12:04:32.040Z"
   },
   {
    "duration": 118,
    "start_time": "2022-09-07T12:04:40.238Z"
   },
   {
    "duration": 24,
    "start_time": "2022-09-07T12:05:26.527Z"
   },
   {
    "duration": 23,
    "start_time": "2022-09-07T12:05:35.882Z"
   },
   {
    "duration": 56,
    "start_time": "2022-09-07T12:05:51.882Z"
   },
   {
    "duration": 15,
    "start_time": "2022-09-07T12:06:32.771Z"
   },
   {
    "duration": 14,
    "start_time": "2022-09-07T12:06:37.649Z"
   },
   {
    "duration": 15,
    "start_time": "2022-09-07T12:06:48.835Z"
   },
   {
    "duration": 37,
    "start_time": "2022-09-07T12:06:54.609Z"
   },
   {
    "duration": 27,
    "start_time": "2022-09-07T12:06:59.090Z"
   },
   {
    "duration": 19,
    "start_time": "2022-09-07T12:07:26.421Z"
   },
   {
    "duration": 21,
    "start_time": "2022-09-07T12:07:28.411Z"
   },
   {
    "duration": 20,
    "start_time": "2022-09-07T12:08:05.940Z"
   },
   {
    "duration": 22,
    "start_time": "2022-09-07T12:08:07.619Z"
   },
   {
    "duration": 106,
    "start_time": "2022-09-07T12:08:21.268Z"
   },
   {
    "duration": 19,
    "start_time": "2022-09-07T12:10:13.922Z"
   },
   {
    "duration": 5,
    "start_time": "2022-09-07T12:14:18.427Z"
   },
   {
    "duration": 5,
    "start_time": "2022-09-07T12:14:20.546Z"
   },
   {
    "duration": 6,
    "start_time": "2022-09-07T12:14:22.969Z"
   },
   {
    "duration": 14,
    "start_time": "2022-09-07T12:14:23.985Z"
   },
   {
    "duration": 15,
    "start_time": "2022-09-07T12:14:36.649Z"
   },
   {
    "duration": 17,
    "start_time": "2022-09-07T12:15:11.231Z"
   },
   {
    "duration": 20,
    "start_time": "2022-09-07T12:15:12.816Z"
   },
   {
    "duration": 20,
    "start_time": "2022-09-07T12:16:59.219Z"
   },
   {
    "duration": 26,
    "start_time": "2022-09-07T12:17:00.092Z"
   },
   {
    "duration": 5,
    "start_time": "2022-09-07T12:33:29.411Z"
   },
   {
    "duration": 12,
    "start_time": "2022-09-07T12:33:32.142Z"
   },
   {
    "duration": 4,
    "start_time": "2022-09-07T12:34:21.232Z"
   },
   {
    "duration": 11,
    "start_time": "2022-09-07T12:34:23.624Z"
   },
   {
    "duration": 18,
    "start_time": "2022-09-07T12:35:24.134Z"
   },
   {
    "duration": 29,
    "start_time": "2022-09-07T12:35:25.375Z"
   },
   {
    "duration": 13,
    "start_time": "2022-09-07T12:37:28.064Z"
   },
   {
    "duration": 8,
    "start_time": "2022-09-07T12:46:29.635Z"
   },
   {
    "duration": 9,
    "start_time": "2022-09-07T12:47:06.675Z"
   },
   {
    "duration": 7,
    "start_time": "2022-09-07T12:52:43.748Z"
   },
   {
    "duration": 8,
    "start_time": "2022-09-07T12:55:10.111Z"
   },
   {
    "duration": 11,
    "start_time": "2022-09-07T12:55:17.711Z"
   },
   {
    "duration": 10,
    "start_time": "2022-09-07T12:55:43.566Z"
   },
   {
    "duration": 11,
    "start_time": "2022-09-07T12:56:04.236Z"
   },
   {
    "duration": 10,
    "start_time": "2022-09-07T12:56:07.812Z"
   },
   {
    "duration": 8,
    "start_time": "2022-09-07T12:56:54.478Z"
   },
   {
    "duration": 26,
    "start_time": "2022-09-07T13:06:52.243Z"
   },
   {
    "duration": 35,
    "start_time": "2022-09-07T13:06:57.744Z"
   },
   {
    "duration": 11,
    "start_time": "2022-09-07T13:07:38.612Z"
   },
   {
    "duration": 550,
    "start_time": "2022-09-07T13:08:09.252Z"
   },
   {
    "duration": 18,
    "start_time": "2022-09-07T13:08:09.810Z"
   },
   {
    "duration": 2684,
    "start_time": "2022-09-07T13:08:09.831Z"
   },
   {
    "duration": 11,
    "start_time": "2022-09-07T13:08:12.518Z"
   },
   {
    "duration": 38,
    "start_time": "2022-09-07T13:08:12.530Z"
   },
   {
    "duration": 9,
    "start_time": "2022-09-07T13:08:12.570Z"
   },
   {
    "duration": 20,
    "start_time": "2022-09-07T13:08:12.582Z"
   },
   {
    "duration": 27,
    "start_time": "2022-09-07T13:08:12.605Z"
   },
   {
    "duration": 6,
    "start_time": "2022-09-07T13:08:12.634Z"
   },
   {
    "duration": 14,
    "start_time": "2022-09-07T13:08:12.643Z"
   },
   {
    "duration": 17,
    "start_time": "2022-09-07T13:08:12.659Z"
   },
   {
    "duration": 28,
    "start_time": "2022-09-07T13:08:12.679Z"
   },
   {
    "duration": 28,
    "start_time": "2022-09-07T13:08:12.713Z"
   },
   {
    "duration": 10,
    "start_time": "2022-09-07T13:08:12.743Z"
   },
   {
    "duration": 39,
    "start_time": "2022-09-07T13:09:10.873Z"
   },
   {
    "duration": 84,
    "start_time": "2022-09-07T13:09:41.663Z"
   },
   {
    "duration": 33,
    "start_time": "2022-09-07T13:10:08.112Z"
   },
   {
    "duration": 84,
    "start_time": "2022-09-07T13:12:59.833Z"
   },
   {
    "duration": 120,
    "start_time": "2022-09-07T13:13:40.947Z"
   },
   {
    "duration": 127,
    "start_time": "2022-09-07T13:25:40.542Z"
   },
   {
    "duration": 230,
    "start_time": "2022-09-07T13:43:21.816Z"
   },
   {
    "duration": 175,
    "start_time": "2022-09-07T13:43:24.485Z"
   },
   {
    "duration": 184,
    "start_time": "2022-09-07T13:44:25.260Z"
   },
   {
    "duration": 180,
    "start_time": "2022-09-07T13:45:48.509Z"
   },
   {
    "duration": 199,
    "start_time": "2022-09-07T13:46:45.062Z"
   },
   {
    "duration": 200,
    "start_time": "2022-09-07T13:51:49.139Z"
   },
   {
    "duration": 213,
    "start_time": "2022-09-07T13:52:49.756Z"
   },
   {
    "duration": 116,
    "start_time": "2022-09-07T13:58:44.193Z"
   },
   {
    "duration": 144,
    "start_time": "2022-09-07T13:59:02.838Z"
   },
   {
    "duration": 174,
    "start_time": "2022-09-07T14:00:08.743Z"
   },
   {
    "duration": 204,
    "start_time": "2022-09-07T14:00:24.466Z"
   },
   {
    "duration": 192,
    "start_time": "2022-09-07T14:00:30.854Z"
   },
   {
    "duration": 118,
    "start_time": "2022-09-07T14:00:38.310Z"
   },
   {
    "duration": 864,
    "start_time": "2022-09-07T14:00:44.939Z"
   },
   {
    "duration": 268,
    "start_time": "2022-09-07T14:00:54.358Z"
   },
   {
    "duration": 7,
    "start_time": "2022-09-07T14:01:06.757Z"
   },
   {
    "duration": 4,
    "start_time": "2022-09-07T14:01:10.168Z"
   },
   {
    "duration": 6,
    "start_time": "2022-09-07T14:01:26.031Z"
   },
   {
    "duration": 174,
    "start_time": "2022-09-07T14:04:25.466Z"
   },
   {
    "duration": 159,
    "start_time": "2022-09-07T14:04:52.390Z"
   },
   {
    "duration": 950,
    "start_time": "2022-09-07T14:05:06.712Z"
   },
   {
    "duration": 222,
    "start_time": "2022-09-07T14:05:12.168Z"
   },
   {
    "duration": 8121,
    "start_time": "2022-09-07T14:05:17.866Z"
   },
   {
    "duration": 8244,
    "start_time": "2022-09-07T14:05:50.866Z"
   },
   {
    "duration": 175,
    "start_time": "2022-09-07T14:06:19.575Z"
   },
   {
    "duration": 155,
    "start_time": "2022-09-07T14:06:27.032Z"
   },
   {
    "duration": 589,
    "start_time": "2022-09-07T14:07:37.453Z"
   },
   {
    "duration": 23,
    "start_time": "2022-09-07T14:07:38.046Z"
   },
   {
    "duration": 2604,
    "start_time": "2022-09-07T14:07:38.071Z"
   },
   {
    "duration": 11,
    "start_time": "2022-09-07T14:07:40.677Z"
   },
   {
    "duration": 51,
    "start_time": "2022-09-07T14:07:40.691Z"
   },
   {
    "duration": 6,
    "start_time": "2022-09-07T14:07:40.744Z"
   },
   {
    "duration": 7,
    "start_time": "2022-09-07T14:07:40.752Z"
   },
   {
    "duration": 11,
    "start_time": "2022-09-07T14:07:40.761Z"
   },
   {
    "duration": 3,
    "start_time": "2022-09-07T14:07:40.774Z"
   },
   {
    "duration": 29,
    "start_time": "2022-09-07T14:07:40.779Z"
   },
   {
    "duration": 17,
    "start_time": "2022-09-07T14:07:40.811Z"
   },
   {
    "duration": 17,
    "start_time": "2022-09-07T14:07:40.830Z"
   },
   {
    "duration": 14,
    "start_time": "2022-09-07T14:07:40.848Z"
   },
   {
    "duration": 199,
    "start_time": "2022-09-07T14:07:40.893Z"
   },
   {
    "duration": 0,
    "start_time": "2022-09-07T14:08:26.812Z"
   },
   {
    "duration": 5379,
    "start_time": "2022-09-07T14:08:31.785Z"
   },
   {
    "duration": 881,
    "start_time": "2022-09-07T14:08:48.107Z"
   },
   {
    "duration": 6,
    "start_time": "2022-09-07T14:11:09.504Z"
   },
   {
    "duration": 10,
    "start_time": "2022-09-07T14:12:14.242Z"
   },
   {
    "duration": 10,
    "start_time": "2022-09-07T14:12:47.404Z"
   },
   {
    "duration": 13,
    "start_time": "2022-09-07T14:13:13.554Z"
   },
   {
    "duration": 14,
    "start_time": "2022-09-07T14:14:24.588Z"
   },
   {
    "duration": 16,
    "start_time": "2022-09-07T14:18:33.205Z"
   },
   {
    "duration": 17,
    "start_time": "2022-09-07T14:18:55.645Z"
   },
   {
    "duration": 17,
    "start_time": "2022-09-07T14:19:26.038Z"
   },
   {
    "duration": 17,
    "start_time": "2022-09-07T14:20:02.718Z"
   },
   {
    "duration": 10,
    "start_time": "2022-09-07T14:20:45.855Z"
   },
   {
    "duration": 23,
    "start_time": "2022-09-07T14:25:19.583Z"
   },
   {
    "duration": 155,
    "start_time": "2022-09-07T14:27:22.417Z"
   },
   {
    "duration": 183,
    "start_time": "2022-09-07T14:27:29.746Z"
   },
   {
    "duration": 197,
    "start_time": "2022-09-07T14:27:36.938Z"
   },
   {
    "duration": 18,
    "start_time": "2022-09-07T14:37:40.536Z"
   },
   {
    "duration": 17,
    "start_time": "2022-09-07T14:37:59.008Z"
   },
   {
    "duration": 9,
    "start_time": "2022-09-07T14:38:53.328Z"
   },
   {
    "duration": 651,
    "start_time": "2022-09-07T14:39:12.080Z"
   },
   {
    "duration": 27,
    "start_time": "2022-09-07T14:39:12.733Z"
   },
   {
    "duration": 2984,
    "start_time": "2022-09-07T14:39:12.762Z"
   },
   {
    "duration": 12,
    "start_time": "2022-09-07T14:39:15.748Z"
   },
   {
    "duration": 56,
    "start_time": "2022-09-07T14:39:15.763Z"
   },
   {
    "duration": 7,
    "start_time": "2022-09-07T14:39:15.821Z"
   },
   {
    "duration": 14,
    "start_time": "2022-09-07T14:39:15.829Z"
   },
   {
    "duration": 12,
    "start_time": "2022-09-07T14:39:15.845Z"
   },
   {
    "duration": 5,
    "start_time": "2022-09-07T14:39:15.860Z"
   },
   {
    "duration": 33,
    "start_time": "2022-09-07T14:39:15.867Z"
   },
   {
    "duration": 18,
    "start_time": "2022-09-07T14:39:15.906Z"
   },
   {
    "duration": 17,
    "start_time": "2022-09-07T14:39:15.926Z"
   },
   {
    "duration": 23,
    "start_time": "2022-09-07T14:39:15.944Z"
   },
   {
    "duration": 213,
    "start_time": "2022-09-07T14:39:15.970Z"
   },
   {
    "duration": 9,
    "start_time": "2022-09-07T14:39:16.185Z"
   },
   {
    "duration": 11,
    "start_time": "2022-09-07T14:40:27.964Z"
   },
   {
    "duration": 13,
    "start_time": "2022-09-07T14:40:38.304Z"
   },
   {
    "duration": 85,
    "start_time": "2022-09-07T14:41:49.702Z"
   },
   {
    "duration": 566,
    "start_time": "2022-09-07T14:42:06.853Z"
   },
   {
    "duration": 16,
    "start_time": "2022-09-07T14:42:07.421Z"
   },
   {
    "duration": 2638,
    "start_time": "2022-09-07T14:42:07.441Z"
   },
   {
    "duration": 11,
    "start_time": "2022-09-07T14:42:10.082Z"
   },
   {
    "duration": 51,
    "start_time": "2022-09-07T14:42:10.094Z"
   },
   {
    "duration": 6,
    "start_time": "2022-09-07T14:42:10.147Z"
   },
   {
    "duration": 8,
    "start_time": "2022-09-07T14:42:10.155Z"
   },
   {
    "duration": 31,
    "start_time": "2022-09-07T14:42:10.164Z"
   },
   {
    "duration": 16,
    "start_time": "2022-09-07T14:42:10.197Z"
   },
   {
    "duration": 11,
    "start_time": "2022-09-07T14:42:10.215Z"
   },
   {
    "duration": 15,
    "start_time": "2022-09-07T14:42:10.228Z"
   },
   {
    "duration": 20,
    "start_time": "2022-09-07T14:42:10.245Z"
   },
   {
    "duration": 40,
    "start_time": "2022-09-07T14:42:10.268Z"
   },
   {
    "duration": 227,
    "start_time": "2022-09-07T14:42:10.310Z"
   },
   {
    "duration": 12,
    "start_time": "2022-09-07T14:42:10.539Z"
   },
   {
    "duration": 10,
    "start_time": "2022-09-07T14:49:54.084Z"
   },
   {
    "duration": 12,
    "start_time": "2022-09-07T14:50:02.019Z"
   },
   {
    "duration": 10,
    "start_time": "2022-09-07T14:50:27.170Z"
   },
   {
    "duration": 593,
    "start_time": "2022-09-07T14:51:28.373Z"
   },
   {
    "duration": 15,
    "start_time": "2022-09-07T14:51:28.968Z"
   },
   {
    "duration": 2477,
    "start_time": "2022-09-07T14:51:28.994Z"
   },
   {
    "duration": 10,
    "start_time": "2022-09-07T14:51:31.473Z"
   },
   {
    "duration": 49,
    "start_time": "2022-09-07T14:51:31.486Z"
   },
   {
    "duration": 6,
    "start_time": "2022-09-07T14:51:31.537Z"
   },
   {
    "duration": 30,
    "start_time": "2022-09-07T14:51:31.544Z"
   },
   {
    "duration": 42,
    "start_time": "2022-09-07T14:51:31.576Z"
   },
   {
    "duration": 17,
    "start_time": "2022-09-07T14:51:31.620Z"
   },
   {
    "duration": 30,
    "start_time": "2022-09-07T14:51:31.639Z"
   },
   {
    "duration": 39,
    "start_time": "2022-09-07T14:51:31.671Z"
   },
   {
    "duration": 39,
    "start_time": "2022-09-07T14:51:31.715Z"
   },
   {
    "duration": 29,
    "start_time": "2022-09-07T14:51:31.756Z"
   },
   {
    "duration": 240,
    "start_time": "2022-09-07T14:51:31.789Z"
   },
   {
    "duration": 8,
    "start_time": "2022-09-07T14:51:32.031Z"
   },
   {
    "duration": 12,
    "start_time": "2022-09-07T14:51:57.834Z"
   },
   {
    "duration": 11,
    "start_time": "2022-09-07T15:08:36.284Z"
   },
   {
    "duration": 603,
    "start_time": "2022-09-07T15:09:03.414Z"
   },
   {
    "duration": 17,
    "start_time": "2022-09-07T15:09:04.020Z"
   },
   {
    "duration": 2548,
    "start_time": "2022-09-07T15:09:04.039Z"
   },
   {
    "duration": 17,
    "start_time": "2022-09-07T15:09:06.589Z"
   },
   {
    "duration": 48,
    "start_time": "2022-09-07T15:09:06.609Z"
   },
   {
    "duration": 9,
    "start_time": "2022-09-07T15:09:06.659Z"
   },
   {
    "duration": 8,
    "start_time": "2022-09-07T15:09:06.670Z"
   },
   {
    "duration": 20,
    "start_time": "2022-09-07T15:09:06.680Z"
   },
   {
    "duration": 6,
    "start_time": "2022-09-07T15:09:06.707Z"
   },
   {
    "duration": 16,
    "start_time": "2022-09-07T15:09:06.714Z"
   },
   {
    "duration": 19,
    "start_time": "2022-09-07T15:09:06.732Z"
   },
   {
    "duration": 18,
    "start_time": "2022-09-07T15:09:06.753Z"
   },
   {
    "duration": 36,
    "start_time": "2022-09-07T15:09:06.774Z"
   },
   {
    "duration": 214,
    "start_time": "2022-09-07T15:09:06.813Z"
   },
   {
    "duration": 12,
    "start_time": "2022-09-07T15:09:07.029Z"
   },
   {
    "duration": 554,
    "start_time": "2022-09-07T15:09:23.357Z"
   },
   {
    "duration": 15,
    "start_time": "2022-09-07T15:09:23.913Z"
   },
   {
    "duration": 2446,
    "start_time": "2022-09-07T15:09:23.930Z"
   },
   {
    "duration": 10,
    "start_time": "2022-09-07T15:09:26.377Z"
   },
   {
    "duration": 43,
    "start_time": "2022-09-07T15:09:26.390Z"
   },
   {
    "duration": 6,
    "start_time": "2022-09-07T15:09:26.435Z"
   },
   {
    "duration": 10,
    "start_time": "2022-09-07T15:09:26.442Z"
   },
   {
    "duration": 9,
    "start_time": "2022-09-07T15:09:26.454Z"
   },
   {
    "duration": 31,
    "start_time": "2022-09-07T15:09:26.464Z"
   },
   {
    "duration": 20,
    "start_time": "2022-09-07T15:09:26.501Z"
   },
   {
    "duration": 16,
    "start_time": "2022-09-07T15:09:26.523Z"
   },
   {
    "duration": 18,
    "start_time": "2022-09-07T15:09:26.541Z"
   },
   {
    "duration": 32,
    "start_time": "2022-09-07T15:09:26.561Z"
   },
   {
    "duration": 189,
    "start_time": "2022-09-07T15:09:26.596Z"
   },
   {
    "duration": 16,
    "start_time": "2022-09-07T15:09:26.787Z"
   },
   {
    "duration": 13,
    "start_time": "2022-09-07T15:09:56.084Z"
   },
   {
    "duration": 29,
    "start_time": "2022-09-07T15:13:14.178Z"
   },
   {
    "duration": 18,
    "start_time": "2022-09-07T15:14:34.503Z"
   },
   {
    "duration": 23,
    "start_time": "2022-09-07T15:14:47.910Z"
   },
   {
    "duration": 19,
    "start_time": "2022-09-07T15:14:58.237Z"
   },
   {
    "duration": 16,
    "start_time": "2022-09-07T15:15:10.156Z"
   },
   {
    "duration": 33,
    "start_time": "2022-09-07T15:15:28.412Z"
   },
   {
    "duration": 35,
    "start_time": "2022-09-07T15:15:59.604Z"
   },
   {
    "duration": 23,
    "start_time": "2022-09-07T15:16:22.523Z"
   },
   {
    "duration": 33,
    "start_time": "2022-09-07T15:17:06.373Z"
   },
   {
    "duration": 31,
    "start_time": "2022-09-07T15:18:40.671Z"
   },
   {
    "duration": 2483,
    "start_time": "2022-09-07T15:20:18.123Z"
   },
   {
    "duration": 7,
    "start_time": "2022-09-07T15:21:20.804Z"
   },
   {
    "duration": 9,
    "start_time": "2022-09-07T15:23:41.440Z"
   },
   {
    "duration": 46,
    "start_time": "2022-09-08T07:33:34.840Z"
   },
   {
    "duration": 539,
    "start_time": "2022-09-08T07:33:42.975Z"
   },
   {
    "duration": 12,
    "start_time": "2022-09-08T07:33:43.516Z"
   },
   {
    "duration": 2161,
    "start_time": "2022-09-08T07:33:43.530Z"
   },
   {
    "duration": 9,
    "start_time": "2022-09-08T07:33:45.693Z"
   },
   {
    "duration": 29,
    "start_time": "2022-09-08T07:33:45.704Z"
   },
   {
    "duration": 5,
    "start_time": "2022-09-08T07:33:45.735Z"
   },
   {
    "duration": 11,
    "start_time": "2022-09-08T07:33:45.741Z"
   },
   {
    "duration": 14,
    "start_time": "2022-09-08T07:33:45.753Z"
   },
   {
    "duration": 8,
    "start_time": "2022-09-08T07:33:45.769Z"
   },
   {
    "duration": 9,
    "start_time": "2022-09-08T07:33:45.779Z"
   },
   {
    "duration": 13,
    "start_time": "2022-09-08T07:33:45.789Z"
   },
   {
    "duration": 13,
    "start_time": "2022-09-08T07:33:45.803Z"
   },
   {
    "duration": 12,
    "start_time": "2022-09-08T07:33:45.817Z"
   },
   {
    "duration": 172,
    "start_time": "2022-09-08T07:33:45.831Z"
   },
   {
    "duration": 19,
    "start_time": "2022-09-08T07:33:46.004Z"
   },
   {
    "duration": 83,
    "start_time": "2022-09-08T07:33:46.024Z"
   },
   {
    "duration": 23,
    "start_time": "2022-09-08T07:34:59.371Z"
   },
   {
    "duration": 29,
    "start_time": "2022-09-08T07:35:20.983Z"
   },
   {
    "duration": 685,
    "start_time": "2022-09-08T07:35:33.112Z"
   },
   {
    "duration": 353,
    "start_time": "2022-09-08T07:35:39.674Z"
   },
   {
    "duration": 7,
    "start_time": "2022-09-08T07:35:46.688Z"
   },
   {
    "duration": 254,
    "start_time": "2022-09-08T07:35:53.680Z"
   },
   {
    "duration": 173,
    "start_time": "2022-09-08T07:39:05.753Z"
   },
   {
    "duration": 160,
    "start_time": "2022-09-08T07:39:11.182Z"
   },
   {
    "duration": 387,
    "start_time": "2022-09-08T07:39:30.241Z"
   },
   {
    "duration": 31,
    "start_time": "2022-09-08T07:39:37.512Z"
   },
   {
    "duration": 28,
    "start_time": "2022-09-08T07:39:49.777Z"
   },
   {
    "duration": 74,
    "start_time": "2022-09-08T07:42:37.577Z"
   },
   {
    "duration": 145,
    "start_time": "2022-09-08T07:50:20.146Z"
   },
   {
    "duration": 63,
    "start_time": "2022-09-08T07:50:34.623Z"
   },
   {
    "duration": 7,
    "start_time": "2022-09-08T07:51:02.477Z"
   },
   {
    "duration": 132,
    "start_time": "2022-09-08T07:51:19.128Z"
   },
   {
    "duration": 31,
    "start_time": "2022-09-08T07:58:22.373Z"
   },
   {
    "duration": 594,
    "start_time": "2022-09-08T07:58:47.381Z"
   },
   {
    "duration": 22,
    "start_time": "2022-09-08T07:58:47.977Z"
   },
   {
    "duration": 2196,
    "start_time": "2022-09-08T07:58:48.001Z"
   },
   {
    "duration": 8,
    "start_time": "2022-09-08T07:58:50.199Z"
   },
   {
    "duration": 43,
    "start_time": "2022-09-08T07:58:50.209Z"
   },
   {
    "duration": 9,
    "start_time": "2022-09-08T07:58:50.254Z"
   },
   {
    "duration": 38,
    "start_time": "2022-09-08T07:58:50.265Z"
   },
   {
    "duration": 14,
    "start_time": "2022-09-08T07:58:50.305Z"
   },
   {
    "duration": 4,
    "start_time": "2022-09-08T07:58:50.320Z"
   },
   {
    "duration": 12,
    "start_time": "2022-09-08T07:58:50.326Z"
   },
   {
    "duration": 12,
    "start_time": "2022-09-08T07:58:50.339Z"
   },
   {
    "duration": 20,
    "start_time": "2022-09-08T07:58:50.352Z"
   },
   {
    "duration": 28,
    "start_time": "2022-09-08T07:58:50.374Z"
   },
   {
    "duration": 157,
    "start_time": "2022-09-08T07:58:50.404Z"
   },
   {
    "duration": 158,
    "start_time": "2022-09-08T07:58:50.563Z"
   },
   {
    "duration": 114,
    "start_time": "2022-09-08T07:58:50.722Z"
   },
   {
    "duration": 37,
    "start_time": "2022-09-08T07:58:50.838Z"
   },
   {
    "duration": 23,
    "start_time": "2022-09-08T08:22:06.664Z"
   },
   {
    "duration": 32,
    "start_time": "2022-09-08T08:31:49.153Z"
   },
   {
    "duration": 26,
    "start_time": "2022-09-08T08:31:59.130Z"
   },
   {
    "duration": 35,
    "start_time": "2022-09-08T08:32:28.481Z"
   },
   {
    "duration": 35,
    "start_time": "2022-09-08T08:33:12.613Z"
   },
   {
    "duration": 38,
    "start_time": "2022-09-08T08:33:21.735Z"
   },
   {
    "duration": 37,
    "start_time": "2022-09-08T08:33:25.525Z"
   },
   {
    "duration": 39,
    "start_time": "2022-09-08T08:33:31.205Z"
   },
   {
    "duration": 40,
    "start_time": "2022-09-08T08:33:41.495Z"
   },
   {
    "duration": 9,
    "start_time": "2022-09-08T08:35:03.584Z"
   },
   {
    "duration": 9,
    "start_time": "2022-09-08T08:35:37.558Z"
   },
   {
    "duration": 29,
    "start_time": "2022-09-08T08:35:43.578Z"
   },
   {
    "duration": 33,
    "start_time": "2022-09-08T08:36:11.758Z"
   },
   {
    "duration": 24,
    "start_time": "2022-09-08T08:37:43.529Z"
   },
   {
    "duration": 33,
    "start_time": "2022-09-08T08:37:54.918Z"
   },
   {
    "duration": 24,
    "start_time": "2022-09-08T08:38:58.192Z"
   },
   {
    "duration": 25,
    "start_time": "2022-09-08T08:39:14.831Z"
   },
   {
    "duration": 25,
    "start_time": "2022-09-08T08:40:22.461Z"
   },
   {
    "duration": 70,
    "start_time": "2022-09-08T08:40:44.842Z"
   },
   {
    "duration": 23,
    "start_time": "2022-09-08T08:42:44.780Z"
   },
   {
    "duration": 24,
    "start_time": "2022-09-08T08:42:56.774Z"
   },
   {
    "duration": 493,
    "start_time": "2022-09-08T08:43:13.115Z"
   },
   {
    "duration": 13,
    "start_time": "2022-09-08T08:43:13.610Z"
   },
   {
    "duration": 1897,
    "start_time": "2022-09-08T08:43:13.624Z"
   },
   {
    "duration": 12,
    "start_time": "2022-09-08T08:43:15.523Z"
   },
   {
    "duration": 35,
    "start_time": "2022-09-08T08:43:15.536Z"
   },
   {
    "duration": 7,
    "start_time": "2022-09-08T08:43:15.573Z"
   },
   {
    "duration": 9,
    "start_time": "2022-09-08T08:43:15.582Z"
   },
   {
    "duration": 10,
    "start_time": "2022-09-08T08:43:15.592Z"
   },
   {
    "duration": 7,
    "start_time": "2022-09-08T08:43:15.603Z"
   },
   {
    "duration": 10,
    "start_time": "2022-09-08T08:43:15.612Z"
   },
   {
    "duration": 12,
    "start_time": "2022-09-08T08:43:15.623Z"
   },
   {
    "duration": 28,
    "start_time": "2022-09-08T08:43:15.636Z"
   },
   {
    "duration": 11,
    "start_time": "2022-09-08T08:43:15.666Z"
   },
   {
    "duration": 157,
    "start_time": "2022-09-08T08:43:15.679Z"
   },
   {
    "duration": 150,
    "start_time": "2022-09-08T08:43:15.837Z"
   },
   {
    "duration": 100,
    "start_time": "2022-09-08T08:43:15.988Z"
   },
   {
    "duration": 26,
    "start_time": "2022-09-08T08:43:16.089Z"
   },
   {
    "duration": 84,
    "start_time": "2022-09-08T08:43:16.116Z"
   },
   {
    "duration": 31,
    "start_time": "2022-09-08T08:44:00.553Z"
   },
   {
    "duration": 69,
    "start_time": "2022-09-08T08:44:15.089Z"
   },
   {
    "duration": 22,
    "start_time": "2022-09-08T08:45:15.214Z"
   },
   {
    "duration": 21,
    "start_time": "2022-09-08T08:45:27.543Z"
   },
   {
    "duration": 25,
    "start_time": "2022-09-08T08:45:33.084Z"
   },
   {
    "duration": 27,
    "start_time": "2022-09-08T08:45:54.647Z"
   },
   {
    "duration": 27,
    "start_time": "2022-09-08T08:46:04.095Z"
   },
   {
    "duration": 40,
    "start_time": "2022-09-08T08:46:08.625Z"
   },
   {
    "duration": 30,
    "start_time": "2022-09-08T08:46:15.968Z"
   },
   {
    "duration": 31,
    "start_time": "2022-09-08T08:47:01.152Z"
   },
   {
    "duration": 71,
    "start_time": "2022-09-08T08:47:12.480Z"
   },
   {
    "duration": 33,
    "start_time": "2022-09-08T08:52:30.611Z"
   },
   {
    "duration": 74,
    "start_time": "2022-09-08T08:52:35.851Z"
   },
   {
    "duration": 30,
    "start_time": "2022-09-08T08:55:27.019Z"
   },
   {
    "duration": 74,
    "start_time": "2022-09-08T08:55:30.356Z"
   },
   {
    "duration": 23,
    "start_time": "2022-09-08T09:38:31.474Z"
   },
   {
    "duration": 8,
    "start_time": "2022-09-08T09:48:14.669Z"
   },
   {
    "duration": 34,
    "start_time": "2022-09-08T09:48:27.431Z"
   },
   {
    "duration": 27,
    "start_time": "2022-09-08T09:48:52.122Z"
   },
   {
    "duration": 57,
    "start_time": "2022-09-08T09:54:47.779Z"
   },
   {
    "duration": 73,
    "start_time": "2022-09-08T10:05:51.886Z"
   },
   {
    "duration": 34,
    "start_time": "2022-09-08T10:06:14.297Z"
   },
   {
    "duration": 36,
    "start_time": "2022-09-08T10:09:12.297Z"
   },
   {
    "duration": 1431,
    "start_time": "2022-09-08T10:26:33.976Z"
   },
   {
    "duration": 37,
    "start_time": "2022-09-08T10:26:58.522Z"
   },
   {
    "duration": 270,
    "start_time": "2022-09-08T10:28:24.479Z"
   },
   {
    "duration": 355,
    "start_time": "2022-09-08T10:28:56.094Z"
   },
   {
    "duration": 278,
    "start_time": "2022-09-08T10:29:09.371Z"
   },
   {
    "duration": 106,
    "start_time": "2022-09-08T10:34:13.287Z"
   },
   {
    "duration": 303,
    "start_time": "2022-09-08T10:35:26.765Z"
   },
   {
    "duration": 273,
    "start_time": "2022-09-08T10:35:53.379Z"
   },
   {
    "duration": 351,
    "start_time": "2022-09-08T10:36:13.114Z"
   },
   {
    "duration": 260,
    "start_time": "2022-09-08T10:37:13.074Z"
   },
   {
    "duration": 260,
    "start_time": "2022-09-08T10:37:33.331Z"
   },
   {
    "duration": 294,
    "start_time": "2022-09-08T10:37:39.746Z"
   },
   {
    "duration": 256,
    "start_time": "2022-09-08T10:39:26.986Z"
   },
   {
    "duration": 371,
    "start_time": "2022-09-08T10:40:06.977Z"
   },
   {
    "duration": 143,
    "start_time": "2022-09-08T10:41:40.195Z"
   },
   {
    "duration": 207,
    "start_time": "2022-09-08T10:41:59.759Z"
   },
   {
    "duration": 127,
    "start_time": "2022-09-08T10:42:11.916Z"
   },
   {
    "duration": 147,
    "start_time": "2022-09-08T10:42:17.660Z"
   },
   {
    "duration": 149,
    "start_time": "2022-09-08T10:42:21.278Z"
   },
   {
    "duration": 126,
    "start_time": "2022-09-08T10:42:28.051Z"
   },
   {
    "duration": 169,
    "start_time": "2022-09-08T10:42:43.107Z"
   },
   {
    "duration": 3025,
    "start_time": "2022-09-08T10:43:15.443Z"
   },
   {
    "duration": 3724,
    "start_time": "2022-09-08T10:43:24.940Z"
   },
   {
    "duration": 178,
    "start_time": "2022-09-08T10:43:51.603Z"
   },
   {
    "duration": 223,
    "start_time": "2022-09-08T10:44:50.150Z"
   },
   {
    "duration": 175,
    "start_time": "2022-09-08T10:45:00.587Z"
   },
   {
    "duration": 191,
    "start_time": "2022-09-08T11:18:18.649Z"
   },
   {
    "duration": 430,
    "start_time": "2022-09-08T11:18:26.650Z"
   },
   {
    "duration": 198,
    "start_time": "2022-09-08T11:18:31.367Z"
   },
   {
    "duration": 202,
    "start_time": "2022-09-08T11:18:48.489Z"
   },
   {
    "duration": 476,
    "start_time": "2022-09-08T11:18:57.762Z"
   },
   {
    "duration": 15,
    "start_time": "2022-09-08T11:18:58.240Z"
   },
   {
    "duration": 1953,
    "start_time": "2022-09-08T11:18:58.256Z"
   },
   {
    "duration": 8,
    "start_time": "2022-09-08T11:19:00.212Z"
   },
   {
    "duration": 37,
    "start_time": "2022-09-08T11:19:00.221Z"
   },
   {
    "duration": 6,
    "start_time": "2022-09-08T11:19:00.259Z"
   },
   {
    "duration": 15,
    "start_time": "2022-09-08T11:19:00.266Z"
   },
   {
    "duration": 29,
    "start_time": "2022-09-08T11:19:00.283Z"
   },
   {
    "duration": 4,
    "start_time": "2022-09-08T11:19:00.314Z"
   },
   {
    "duration": 32,
    "start_time": "2022-09-08T11:19:00.320Z"
   },
   {
    "duration": 34,
    "start_time": "2022-09-08T11:19:00.353Z"
   },
   {
    "duration": 29,
    "start_time": "2022-09-08T11:19:00.389Z"
   },
   {
    "duration": 33,
    "start_time": "2022-09-08T11:19:00.419Z"
   },
   {
    "duration": 183,
    "start_time": "2022-09-08T11:19:00.454Z"
   },
   {
    "duration": 141,
    "start_time": "2022-09-08T11:19:00.639Z"
   },
   {
    "duration": 92,
    "start_time": "2022-09-08T11:19:00.781Z"
   },
   {
    "duration": 33,
    "start_time": "2022-09-08T11:19:00.874Z"
   },
   {
    "duration": 93,
    "start_time": "2022-09-08T11:19:00.908Z"
   },
   {
    "duration": 287,
    "start_time": "2022-09-08T11:19:01.003Z"
   },
   {
    "duration": 263,
    "start_time": "2022-09-08T11:19:01.292Z"
   },
   {
    "duration": 201,
    "start_time": "2022-09-08T11:19:10.457Z"
   },
   {
    "duration": 342,
    "start_time": "2022-09-08T11:19:23.584Z"
   },
   {
    "duration": 213,
    "start_time": "2022-09-08T11:19:44.608Z"
   },
   {
    "duration": 210,
    "start_time": "2022-09-08T11:20:54.866Z"
   },
   {
    "duration": 8,
    "start_time": "2022-09-08T11:21:11.505Z"
   },
   {
    "duration": 204,
    "start_time": "2022-09-08T11:21:15.193Z"
   },
   {
    "duration": 188,
    "start_time": "2022-09-08T11:24:23.298Z"
   },
   {
    "duration": 193,
    "start_time": "2022-09-08T11:24:47.735Z"
   },
   {
    "duration": 284,
    "start_time": "2022-09-08T11:24:56.451Z"
   },
   {
    "duration": 205,
    "start_time": "2022-09-08T11:25:01.555Z"
   },
   {
    "duration": 215,
    "start_time": "2022-09-08T11:25:37.620Z"
   },
   {
    "duration": 211,
    "start_time": "2022-09-08T11:25:57.714Z"
   },
   {
    "duration": 205,
    "start_time": "2022-09-08T11:26:26.362Z"
   },
   {
    "duration": 269,
    "start_time": "2022-09-08T11:26:42.972Z"
   },
   {
    "duration": 237,
    "start_time": "2022-09-08T11:26:49.763Z"
   },
   {
    "duration": 199,
    "start_time": "2022-09-08T11:27:08.139Z"
   },
   {
    "duration": 218,
    "start_time": "2022-09-08T11:27:36.355Z"
   },
   {
    "duration": 1495,
    "start_time": "2022-09-08T11:28:28.892Z"
   },
   {
    "duration": 200,
    "start_time": "2022-09-08T11:28:49.622Z"
   },
   {
    "duration": 210,
    "start_time": "2022-09-08T11:30:21.508Z"
   },
   {
    "duration": 202,
    "start_time": "2022-09-08T11:30:31.023Z"
   },
   {
    "duration": 205,
    "start_time": "2022-09-08T11:33:16.232Z"
   },
   {
    "duration": 354,
    "start_time": "2022-09-08T11:33:33.301Z"
   },
   {
    "duration": 227,
    "start_time": "2022-09-08T11:33:38.870Z"
   },
   {
    "duration": 209,
    "start_time": "2022-09-08T11:34:22.205Z"
   },
   {
    "duration": 214,
    "start_time": "2022-09-08T11:34:36.743Z"
   },
   {
    "duration": 200,
    "start_time": "2022-09-08T11:34:54.279Z"
   },
   {
    "duration": 188,
    "start_time": "2022-09-08T11:35:55.648Z"
   },
   {
    "duration": 220,
    "start_time": "2022-09-08T11:36:04.807Z"
   },
   {
    "duration": 14,
    "start_time": "2022-09-08T11:37:55.087Z"
   },
   {
    "duration": 14,
    "start_time": "2022-09-08T11:37:58.927Z"
   },
   {
    "duration": 510,
    "start_time": "2022-09-08T11:38:07.440Z"
   },
   {
    "duration": 13,
    "start_time": "2022-09-08T11:38:07.952Z"
   },
   {
    "duration": 1967,
    "start_time": "2022-09-08T11:38:07.966Z"
   },
   {
    "duration": 7,
    "start_time": "2022-09-08T11:38:09.935Z"
   },
   {
    "duration": 28,
    "start_time": "2022-09-08T11:38:09.944Z"
   },
   {
    "duration": 5,
    "start_time": "2022-09-08T11:38:09.973Z"
   },
   {
    "duration": 8,
    "start_time": "2022-09-08T11:38:09.980Z"
   },
   {
    "duration": 9,
    "start_time": "2022-09-08T11:38:09.989Z"
   },
   {
    "duration": 3,
    "start_time": "2022-09-08T11:38:09.999Z"
   },
   {
    "duration": 11,
    "start_time": "2022-09-08T11:38:10.004Z"
   },
   {
    "duration": 12,
    "start_time": "2022-09-08T11:38:10.017Z"
   },
   {
    "duration": 34,
    "start_time": "2022-09-08T11:38:10.030Z"
   },
   {
    "duration": 11,
    "start_time": "2022-09-08T11:38:10.065Z"
   },
   {
    "duration": 163,
    "start_time": "2022-09-08T11:38:10.077Z"
   },
   {
    "duration": 144,
    "start_time": "2022-09-08T11:38:10.242Z"
   },
   {
    "duration": 101,
    "start_time": "2022-09-08T11:38:10.388Z"
   },
   {
    "duration": 34,
    "start_time": "2022-09-08T11:38:10.490Z"
   },
   {
    "duration": 91,
    "start_time": "2022-09-08T11:38:10.526Z"
   },
   {
    "duration": 283,
    "start_time": "2022-09-08T11:38:10.618Z"
   },
   {
    "duration": 211,
    "start_time": "2022-09-08T11:38:10.902Z"
   },
   {
    "duration": 219,
    "start_time": "2022-09-08T11:38:11.115Z"
   },
   {
    "duration": 271,
    "start_time": "2022-09-08T11:38:11.335Z"
   },
   {
    "duration": 206,
    "start_time": "2022-09-08T11:38:11.608Z"
   },
   {
    "duration": 270,
    "start_time": "2022-09-08T11:39:13.639Z"
   },
   {
    "duration": 203,
    "start_time": "2022-09-08T11:39:35.045Z"
   },
   {
    "duration": 210,
    "start_time": "2022-09-08T11:40:00.957Z"
   },
   {
    "duration": 200,
    "start_time": "2022-09-08T11:43:34.304Z"
   },
   {
    "duration": 208,
    "start_time": "2022-09-08T11:43:40.679Z"
   },
   {
    "duration": 304,
    "start_time": "2022-09-08T11:43:44.927Z"
   },
   {
    "duration": 200,
    "start_time": "2022-09-08T11:43:50.783Z"
   },
   {
    "duration": 193,
    "start_time": "2022-09-08T11:43:53.648Z"
   },
   {
    "duration": 191,
    "start_time": "2022-09-08T11:44:12.447Z"
   },
   {
    "duration": 261,
    "start_time": "2022-09-08T11:44:47.488Z"
   },
   {
    "duration": 487,
    "start_time": "2022-09-08T11:45:37.555Z"
   },
   {
    "duration": 385,
    "start_time": "2022-09-08T11:45:43.632Z"
   },
   {
    "duration": 402,
    "start_time": "2022-09-08T11:45:56.087Z"
   },
   {
    "duration": 205,
    "start_time": "2022-09-08T11:47:12.498Z"
   },
   {
    "duration": 372,
    "start_time": "2022-09-08T11:47:25.121Z"
   },
   {
    "duration": 191,
    "start_time": "2022-09-08T11:47:46.016Z"
   },
   {
    "duration": 9,
    "start_time": "2022-09-08T11:49:03.117Z"
   },
   {
    "duration": 131,
    "start_time": "2022-09-08T11:49:12.065Z"
   },
   {
    "duration": 189,
    "start_time": "2022-09-08T11:49:18.290Z"
   },
   {
    "duration": 190,
    "start_time": "2022-09-08T11:50:03.034Z"
   },
   {
    "duration": 201,
    "start_time": "2022-09-08T11:52:22.779Z"
   },
   {
    "duration": 189,
    "start_time": "2022-09-08T11:55:20.378Z"
   },
   {
    "duration": 256,
    "start_time": "2022-09-08T11:56:17.349Z"
   },
   {
    "duration": 293,
    "start_time": "2022-09-08T11:58:08.252Z"
   },
   {
    "duration": 10,
    "start_time": "2022-09-08T12:00:02.216Z"
   },
   {
    "duration": 8,
    "start_time": "2022-09-08T12:00:11.053Z"
   },
   {
    "duration": 332,
    "start_time": "2022-09-08T12:03:04.183Z"
   },
   {
    "duration": 456,
    "start_time": "2022-09-08T12:04:08.616Z"
   },
   {
    "duration": 226,
    "start_time": "2022-09-08T12:05:16.655Z"
   },
   {
    "duration": 176,
    "start_time": "2022-09-08T12:05:28.165Z"
   },
   {
    "duration": 789,
    "start_time": "2022-09-08T12:05:36.343Z"
   },
   {
    "duration": 252,
    "start_time": "2022-09-08T12:05:43.300Z"
   },
   {
    "duration": 243,
    "start_time": "2022-09-08T12:05:47.594Z"
   },
   {
    "duration": 194,
    "start_time": "2022-09-08T12:06:52.120Z"
   },
   {
    "duration": 213,
    "start_time": "2022-09-08T12:10:51.234Z"
   },
   {
    "duration": 197,
    "start_time": "2022-09-08T12:11:54.402Z"
   },
   {
    "duration": 200,
    "start_time": "2022-09-08T12:13:03.218Z"
   },
   {
    "duration": 182,
    "start_time": "2022-09-08T12:14:31.728Z"
   },
   {
    "duration": 207,
    "start_time": "2022-09-08T12:14:48.319Z"
   },
   {
    "duration": 214,
    "start_time": "2022-09-08T12:14:59.584Z"
   },
   {
    "duration": 185,
    "start_time": "2022-09-08T12:15:43.067Z"
   },
   {
    "duration": 200,
    "start_time": "2022-09-08T12:24:02.375Z"
   },
   {
    "duration": 471,
    "start_time": "2022-09-08T12:26:25.071Z"
   },
   {
    "duration": 17,
    "start_time": "2022-09-08T12:26:25.544Z"
   },
   {
    "duration": 2079,
    "start_time": "2022-09-08T12:26:25.562Z"
   },
   {
    "duration": 8,
    "start_time": "2022-09-08T12:26:27.642Z"
   },
   {
    "duration": 29,
    "start_time": "2022-09-08T12:26:27.652Z"
   },
   {
    "duration": 5,
    "start_time": "2022-09-08T12:26:27.683Z"
   },
   {
    "duration": 7,
    "start_time": "2022-09-08T12:26:27.689Z"
   },
   {
    "duration": 9,
    "start_time": "2022-09-08T12:26:27.697Z"
   },
   {
    "duration": 2,
    "start_time": "2022-09-08T12:26:27.708Z"
   },
   {
    "duration": 11,
    "start_time": "2022-09-08T12:26:27.712Z"
   },
   {
    "duration": 34,
    "start_time": "2022-09-08T12:26:27.724Z"
   },
   {
    "duration": 15,
    "start_time": "2022-09-08T12:26:27.760Z"
   },
   {
    "duration": 14,
    "start_time": "2022-09-08T12:26:27.776Z"
   },
   {
    "duration": 165,
    "start_time": "2022-09-08T12:26:27.793Z"
   },
   {
    "duration": 132,
    "start_time": "2022-09-08T12:26:27.959Z"
   },
   {
    "duration": 103,
    "start_time": "2022-09-08T12:26:28.092Z"
   },
   {
    "duration": 34,
    "start_time": "2022-09-08T12:26:28.197Z"
   },
   {
    "duration": 84,
    "start_time": "2022-09-08T12:26:28.233Z"
   },
   {
    "duration": 287,
    "start_time": "2022-09-08T12:26:28.319Z"
   },
   {
    "duration": 215,
    "start_time": "2022-09-08T12:26:28.608Z"
   },
   {
    "duration": 220,
    "start_time": "2022-09-08T12:26:28.824Z"
   },
   {
    "duration": 277,
    "start_time": "2022-09-08T12:26:29.045Z"
   },
   {
    "duration": 412,
    "start_time": "2022-09-08T12:26:29.323Z"
   },
   {
    "duration": 205,
    "start_time": "2022-09-08T12:26:29.736Z"
   },
   {
    "duration": 194,
    "start_time": "2022-09-08T12:26:29.943Z"
   },
   {
    "duration": 210,
    "start_time": "2022-09-08T12:26:30.138Z"
   },
   {
    "duration": 137,
    "start_time": "2022-09-08T12:26:30.355Z"
   },
   {
    "duration": 291,
    "start_time": "2022-09-08T12:26:30.493Z"
   },
   {
    "duration": 212,
    "start_time": "2022-09-08T12:26:30.785Z"
   },
   {
    "duration": 199,
    "start_time": "2022-09-08T12:26:30.998Z"
   },
   {
    "duration": 224,
    "start_time": "2022-09-08T12:26:31.198Z"
   },
   {
    "duration": 212,
    "start_time": "2022-09-08T12:26:31.423Z"
   },
   {
    "duration": 198,
    "start_time": "2022-09-08T12:26:31.636Z"
   },
   {
    "duration": 200,
    "start_time": "2022-09-08T12:29:14.846Z"
   },
   {
    "duration": 285,
    "start_time": "2022-09-08T12:29:35.933Z"
   },
   {
    "duration": 207,
    "start_time": "2022-09-08T12:36:54.840Z"
   },
   {
    "duration": 387,
    "start_time": "2022-09-08T12:37:12.445Z"
   },
   {
    "duration": 402,
    "start_time": "2022-09-08T12:37:36.312Z"
   },
   {
    "duration": 517,
    "start_time": "2022-09-08T12:37:57.105Z"
   },
   {
    "duration": 401,
    "start_time": "2022-09-08T12:38:41.795Z"
   },
   {
    "duration": 392,
    "start_time": "2022-09-08T12:39:23.130Z"
   },
   {
    "duration": 82,
    "start_time": "2022-09-08T12:40:12.714Z"
   },
   {
    "duration": 510,
    "start_time": "2022-09-08T12:40:48.954Z"
   },
   {
    "duration": 468,
    "start_time": "2022-09-08T12:41:19.225Z"
   },
   {
    "duration": 409,
    "start_time": "2022-09-08T12:41:38.662Z"
   },
   {
    "duration": 528,
    "start_time": "2022-09-08T12:41:50.838Z"
   },
   {
    "duration": 386,
    "start_time": "2022-09-08T12:43:14.518Z"
   },
   {
    "duration": 461,
    "start_time": "2022-09-08T12:45:09.110Z"
   },
   {
    "duration": 580,
    "start_time": "2022-09-08T12:45:23.787Z"
   },
   {
    "duration": 218,
    "start_time": "2022-09-08T12:54:41.025Z"
   },
   {
    "duration": 193,
    "start_time": "2022-09-08T12:55:01.451Z"
   },
   {
    "duration": 330,
    "start_time": "2022-09-08T12:55:05.456Z"
   },
   {
    "duration": 179,
    "start_time": "2022-09-08T12:55:08.888Z"
   },
   {
    "duration": 170,
    "start_time": "2022-09-08T12:55:14.745Z"
   },
   {
    "duration": 329,
    "start_time": "2022-09-08T12:55:49.306Z"
   },
   {
    "duration": 347,
    "start_time": "2022-09-08T12:56:13.729Z"
   },
   {
    "duration": 269,
    "start_time": "2022-09-08T12:56:21.303Z"
   },
   {
    "duration": 372,
    "start_time": "2022-09-08T12:57:27.738Z"
   },
   {
    "duration": 478,
    "start_time": "2022-09-08T12:57:58.969Z"
   },
   {
    "duration": 615,
    "start_time": "2022-09-08T12:58:52.154Z"
   },
   {
    "duration": 886,
    "start_time": "2022-09-08T12:59:37.221Z"
   },
   {
    "duration": 1174,
    "start_time": "2022-09-08T13:00:54.531Z"
   },
   {
    "duration": 1062,
    "start_time": "2022-09-08T13:01:31.341Z"
   },
   {
    "duration": 1449,
    "start_time": "2022-09-08T13:02:10.524Z"
   },
   {
    "duration": 22,
    "start_time": "2022-09-08T13:11:53.483Z"
   },
   {
    "duration": 1216,
    "start_time": "2022-09-08T13:12:03.832Z"
   },
   {
    "duration": 1201,
    "start_time": "2022-09-08T13:13:12.083Z"
   },
   {
    "duration": 1334,
    "start_time": "2022-09-08T13:13:39.147Z"
   },
   {
    "duration": 22,
    "start_time": "2022-09-08T13:13:56.232Z"
   },
   {
    "duration": 1204,
    "start_time": "2022-09-08T13:13:58.865Z"
   },
   {
    "duration": 1407,
    "start_time": "2022-09-08T13:14:06.530Z"
   },
   {
    "duration": 1361,
    "start_time": "2022-09-08T13:14:54.332Z"
   },
   {
    "duration": 1338,
    "start_time": "2022-09-08T13:15:03.738Z"
   },
   {
    "duration": 1286,
    "start_time": "2022-09-08T13:15:45.835Z"
   },
   {
    "duration": 519,
    "start_time": "2022-09-08T13:20:20.460Z"
   },
   {
    "duration": 1411,
    "start_time": "2022-09-08T13:22:39.880Z"
   },
   {
    "duration": 469,
    "start_time": "2022-09-08T13:23:58.756Z"
   },
   {
    "duration": 488,
    "start_time": "2022-09-08T13:24:39.900Z"
   },
   {
    "duration": 14,
    "start_time": "2022-09-08T13:24:40.390Z"
   },
   {
    "duration": 1936,
    "start_time": "2022-09-08T13:24:40.405Z"
   },
   {
    "duration": 9,
    "start_time": "2022-09-08T13:24:42.342Z"
   },
   {
    "duration": 31,
    "start_time": "2022-09-08T13:24:42.352Z"
   },
   {
    "duration": 5,
    "start_time": "2022-09-08T13:24:42.384Z"
   },
   {
    "duration": 7,
    "start_time": "2022-09-08T13:24:42.390Z"
   },
   {
    "duration": 8,
    "start_time": "2022-09-08T13:24:42.398Z"
   },
   {
    "duration": 3,
    "start_time": "2022-09-08T13:24:42.408Z"
   },
   {
    "duration": 10,
    "start_time": "2022-09-08T13:24:42.412Z"
   },
   {
    "duration": 34,
    "start_time": "2022-09-08T13:24:42.424Z"
   },
   {
    "duration": 14,
    "start_time": "2022-09-08T13:24:42.459Z"
   },
   {
    "duration": 11,
    "start_time": "2022-09-08T13:24:42.475Z"
   },
   {
    "duration": 153,
    "start_time": "2022-09-08T13:24:42.488Z"
   },
   {
    "duration": 138,
    "start_time": "2022-09-08T13:24:42.643Z"
   },
   {
    "duration": 99,
    "start_time": "2022-09-08T13:24:42.782Z"
   },
   {
    "duration": 35,
    "start_time": "2022-09-08T13:24:42.882Z"
   },
   {
    "duration": 92,
    "start_time": "2022-09-08T13:24:42.918Z"
   },
   {
    "duration": 286,
    "start_time": "2022-09-08T13:24:43.013Z"
   },
   {
    "duration": 202,
    "start_time": "2022-09-08T13:24:43.301Z"
   },
   {
    "duration": 208,
    "start_time": "2022-09-08T13:24:43.504Z"
   },
   {
    "duration": 266,
    "start_time": "2022-09-08T13:24:43.714Z"
   },
   {
    "duration": 404,
    "start_time": "2022-09-08T13:24:43.981Z"
   },
   {
    "duration": 200,
    "start_time": "2022-09-08T13:24:44.386Z"
   },
   {
    "duration": 192,
    "start_time": "2022-09-08T13:24:44.588Z"
   },
   {
    "duration": 206,
    "start_time": "2022-09-08T13:24:44.781Z"
   },
   {
    "duration": 143,
    "start_time": "2022-09-08T13:24:44.988Z"
   },
   {
    "duration": 282,
    "start_time": "2022-09-08T13:24:45.133Z"
   },
   {
    "duration": 211,
    "start_time": "2022-09-08T13:24:45.417Z"
   },
   {
    "duration": 198,
    "start_time": "2022-09-08T13:24:45.630Z"
   },
   {
    "duration": 212,
    "start_time": "2022-09-08T13:24:45.830Z"
   },
   {
    "duration": 206,
    "start_time": "2022-09-08T13:24:46.044Z"
   },
   {
    "duration": 190,
    "start_time": "2022-09-08T13:24:46.254Z"
   },
   {
    "duration": 629,
    "start_time": "2022-09-08T13:24:46.445Z"
   },
   {
    "duration": 0,
    "start_time": "2022-09-08T13:25:30.934Z"
   },
   {
    "duration": 1270,
    "start_time": "2022-09-08T13:25:32.586Z"
   },
   {
    "duration": 2572,
    "start_time": "2022-09-08T13:28:25.743Z"
   },
   {
    "duration": 1302,
    "start_time": "2022-09-08T13:28:57.253Z"
   },
   {
    "duration": 483,
    "start_time": "2022-09-08T13:36:27.877Z"
   },
   {
    "duration": 504,
    "start_time": "2022-09-08T13:36:36.053Z"
   },
   {
    "duration": 1236,
    "start_time": "2022-09-08T13:36:51.998Z"
   },
   {
    "duration": 1252,
    "start_time": "2022-09-08T13:37:44.303Z"
   },
   {
    "duration": 1211,
    "start_time": "2022-09-08T13:38:02.501Z"
   },
   {
    "duration": 1235,
    "start_time": "2022-09-08T13:38:15.874Z"
   },
   {
    "duration": 1231,
    "start_time": "2022-09-08T13:38:24.199Z"
   },
   {
    "duration": 1210,
    "start_time": "2022-09-08T13:39:08.150Z"
   },
   {
    "duration": 1284,
    "start_time": "2022-09-08T13:43:20.073Z"
   },
   {
    "duration": 1281,
    "start_time": "2022-09-08T13:44:07.339Z"
   },
   {
    "duration": 1316,
    "start_time": "2022-09-08T13:46:13.982Z"
   },
   {
    "duration": 1358,
    "start_time": "2022-09-08T13:46:37.314Z"
   },
   {
    "duration": 1248,
    "start_time": "2022-09-08T13:47:07.194Z"
   },
   {
    "duration": 1294,
    "start_time": "2022-09-08T13:47:29.450Z"
   },
   {
    "duration": 1261,
    "start_time": "2022-09-08T13:47:48.640Z"
   },
   {
    "duration": 1354,
    "start_time": "2022-09-08T13:48:06.962Z"
   },
   {
    "duration": 1219,
    "start_time": "2022-09-08T13:48:13.652Z"
   },
   {
    "duration": 1281,
    "start_time": "2022-09-08T13:49:00.691Z"
   },
   {
    "duration": 1260,
    "start_time": "2022-09-08T13:49:19.402Z"
   },
   {
    "duration": 1355,
    "start_time": "2022-09-08T13:49:36.715Z"
   },
   {
    "duration": 1038,
    "start_time": "2022-09-08T13:50:38.640Z"
   },
   {
    "duration": 1090,
    "start_time": "2022-09-08T14:12:02.299Z"
   },
   {
    "duration": 1348,
    "start_time": "2022-09-08T14:12:26.027Z"
   },
   {
    "duration": 107,
    "start_time": "2022-09-08T14:12:42.822Z"
   },
   {
    "duration": 14951,
    "start_time": "2022-09-08T14:12:47.580Z"
   },
   {
    "duration": 105,
    "start_time": "2022-09-08T14:13:11.283Z"
   },
   {
    "duration": 1187,
    "start_time": "2022-09-08T14:13:14.578Z"
   },
   {
    "duration": 383,
    "start_time": "2022-09-08T14:14:27.292Z"
   },
   {
    "duration": 324,
    "start_time": "2022-09-08T14:18:26.798Z"
   },
   {
    "duration": 309,
    "start_time": "2022-09-08T14:20:23.205Z"
   },
   {
    "duration": 152,
    "start_time": "2022-09-08T14:21:21.149Z"
   },
   {
    "duration": 121,
    "start_time": "2022-09-08T14:22:06.158Z"
   },
   {
    "duration": 499,
    "start_time": "2022-09-08T14:24:17.335Z"
   },
   {
    "duration": 128,
    "start_time": "2022-09-08T14:25:54.855Z"
   },
   {
    "duration": 146,
    "start_time": "2022-09-08T14:26:07.640Z"
   },
   {
    "duration": 166,
    "start_time": "2022-09-08T14:27:18.960Z"
   },
   {
    "duration": 104,
    "start_time": "2022-09-08T14:29:12.226Z"
   },
   {
    "duration": 111,
    "start_time": "2022-09-08T14:29:25.457Z"
   },
   {
    "duration": 11,
    "start_time": "2022-09-08T14:37:35.152Z"
   },
   {
    "duration": 10,
    "start_time": "2022-09-08T14:38:42.740Z"
   },
   {
    "duration": 16,
    "start_time": "2022-09-08T14:39:13.550Z"
   },
   {
    "duration": 8,
    "start_time": "2022-09-08T14:39:27.174Z"
   },
   {
    "duration": 12,
    "start_time": "2022-09-08T14:40:19.436Z"
   },
   {
    "duration": 11,
    "start_time": "2022-09-08T14:40:32.798Z"
   },
   {
    "duration": 200,
    "start_time": "2022-09-08T14:40:53.045Z"
   },
   {
    "duration": 11,
    "start_time": "2022-09-08T14:40:58.845Z"
   },
   {
    "duration": 11,
    "start_time": "2022-09-08T14:41:05.594Z"
   },
   {
    "duration": 10,
    "start_time": "2022-09-08T14:41:37.999Z"
   },
   {
    "duration": 11,
    "start_time": "2022-09-08T14:41:42.942Z"
   },
   {
    "duration": 18,
    "start_time": "2022-09-08T14:42:12.646Z"
   },
   {
    "duration": 16,
    "start_time": "2022-09-08T14:42:30.979Z"
   },
   {
    "duration": 12,
    "start_time": "2022-09-08T14:42:45.529Z"
   },
   {
    "duration": 40,
    "start_time": "2022-09-08T14:44:54.352Z"
   },
   {
    "duration": 39,
    "start_time": "2022-09-08T14:45:41.434Z"
   },
   {
    "duration": 328,
    "start_time": "2022-09-08T14:47:08.410Z"
   },
   {
    "duration": 30,
    "start_time": "2022-09-08T14:47:14.680Z"
   },
   {
    "duration": 25,
    "start_time": "2022-09-08T14:48:22.088Z"
   },
   {
    "duration": 49,
    "start_time": "2022-09-08T14:49:16.737Z"
   },
   {
    "duration": 35,
    "start_time": "2022-09-08T14:49:23.522Z"
   },
   {
    "duration": 24,
    "start_time": "2022-09-08T14:49:41.731Z"
   },
   {
    "duration": 21,
    "start_time": "2022-09-08T14:49:50.273Z"
   },
   {
    "duration": 507,
    "start_time": "2022-09-08T14:50:30.899Z"
   },
   {
    "duration": 15,
    "start_time": "2022-09-08T14:50:31.408Z"
   },
   {
    "duration": 2028,
    "start_time": "2022-09-08T14:50:31.425Z"
   },
   {
    "duration": 8,
    "start_time": "2022-09-08T14:50:33.455Z"
   },
   {
    "duration": 30,
    "start_time": "2022-09-08T14:50:33.466Z"
   },
   {
    "duration": 5,
    "start_time": "2022-09-08T14:50:33.497Z"
   },
   {
    "duration": 11,
    "start_time": "2022-09-08T14:50:33.504Z"
   },
   {
    "duration": 9,
    "start_time": "2022-09-08T14:50:33.517Z"
   },
   {
    "duration": 4,
    "start_time": "2022-09-08T14:50:33.555Z"
   },
   {
    "duration": 12,
    "start_time": "2022-09-08T14:50:33.561Z"
   },
   {
    "duration": 24,
    "start_time": "2022-09-08T14:50:33.575Z"
   },
   {
    "duration": 15,
    "start_time": "2022-09-08T14:50:33.600Z"
   },
   {
    "duration": 11,
    "start_time": "2022-09-08T14:50:33.617Z"
   },
   {
    "duration": 167,
    "start_time": "2022-09-08T14:50:33.630Z"
   },
   {
    "duration": 177,
    "start_time": "2022-09-08T14:50:33.798Z"
   },
   {
    "duration": 108,
    "start_time": "2022-09-08T14:50:33.977Z"
   },
   {
    "duration": 39,
    "start_time": "2022-09-08T14:50:34.086Z"
   },
   {
    "duration": 110,
    "start_time": "2022-09-08T14:50:34.126Z"
   },
   {
    "duration": 302,
    "start_time": "2022-09-08T14:50:34.237Z"
   },
   {
    "duration": 222,
    "start_time": "2022-09-08T14:50:34.540Z"
   },
   {
    "duration": 223,
    "start_time": "2022-09-08T14:50:34.764Z"
   },
   {
    "duration": 287,
    "start_time": "2022-09-08T14:50:34.990Z"
   },
   {
    "duration": 457,
    "start_time": "2022-09-08T14:50:35.278Z"
   },
   {
    "duration": 219,
    "start_time": "2022-09-08T14:50:35.737Z"
   },
   {
    "duration": 201,
    "start_time": "2022-09-08T14:50:35.958Z"
   },
   {
    "duration": 233,
    "start_time": "2022-09-08T14:50:36.160Z"
   },
   {
    "duration": 146,
    "start_time": "2022-09-08T14:50:36.395Z"
   },
   {
    "duration": 359,
    "start_time": "2022-09-08T14:50:36.543Z"
   },
   {
    "duration": 226,
    "start_time": "2022-09-08T14:50:36.903Z"
   },
   {
    "duration": 212,
    "start_time": "2022-09-08T14:50:37.131Z"
   },
   {
    "duration": 236,
    "start_time": "2022-09-08T14:50:37.345Z"
   },
   {
    "duration": 322,
    "start_time": "2022-09-08T14:50:37.583Z"
   },
   {
    "duration": 195,
    "start_time": "2022-09-08T14:50:37.906Z"
   },
   {
    "duration": 619,
    "start_time": "2022-09-08T14:50:38.103Z"
   },
   {
    "duration": 329,
    "start_time": "2022-09-08T14:50:38.723Z"
   },
   {
    "duration": 287,
    "start_time": "2022-09-08T14:50:39.055Z"
   },
   {
    "duration": 330,
    "start_time": "2022-09-08T14:50:39.343Z"
   },
   {
    "duration": 130,
    "start_time": "2022-09-08T14:50:39.675Z"
   },
   {
    "duration": 109,
    "start_time": "2022-09-08T14:50:39.806Z"
   },
   {
    "duration": 127,
    "start_time": "2022-09-08T14:50:39.916Z"
   },
   {
    "duration": 144,
    "start_time": "2022-09-08T14:50:40.047Z"
   },
   {
    "duration": 233,
    "start_time": "2022-09-08T14:50:40.193Z"
   },
   {
    "duration": 31,
    "start_time": "2022-09-08T14:50:40.428Z"
   },
   {
    "duration": 20,
    "start_time": "2022-09-08T14:51:22.619Z"
   },
   {
    "duration": 87,
    "start_time": "2022-09-08T14:52:21.707Z"
   },
   {
    "duration": 72,
    "start_time": "2022-09-08T14:52:36.939Z"
   },
   {
    "duration": 73,
    "start_time": "2022-09-08T14:52:52.308Z"
   },
   {
    "duration": 26,
    "start_time": "2022-09-08T14:53:01.475Z"
   },
   {
    "duration": 38,
    "start_time": "2022-09-08T14:54:05.612Z"
   },
   {
    "duration": 50,
    "start_time": "2022-09-08T14:54:25.721Z"
   },
   {
    "duration": 20,
    "start_time": "2022-09-08T14:54:34.378Z"
   },
   {
    "duration": 23,
    "start_time": "2022-09-08T14:55:16.943Z"
   },
   {
    "duration": 40,
    "start_time": "2022-09-08T14:57:41.644Z"
   },
   {
    "duration": 40,
    "start_time": "2022-09-08T14:58:23.477Z"
   },
   {
    "duration": 36,
    "start_time": "2022-09-08T14:58:59.941Z"
   },
   {
    "duration": 53,
    "start_time": "2022-09-08T14:59:19.965Z"
   },
   {
    "duration": 37,
    "start_time": "2022-09-08T14:59:30.750Z"
   },
   {
    "duration": 56,
    "start_time": "2022-09-08T14:59:39.678Z"
   },
   {
    "duration": 36,
    "start_time": "2022-09-08T15:00:13.342Z"
   },
   {
    "duration": 48,
    "start_time": "2022-09-08T15:00:53.239Z"
   },
   {
    "duration": 31,
    "start_time": "2022-09-08T15:01:35.601Z"
   },
   {
    "duration": 36,
    "start_time": "2022-09-08T15:01:40.740Z"
   },
   {
    "duration": 48,
    "start_time": "2022-09-08T15:02:07.539Z"
   },
   {
    "duration": 45,
    "start_time": "2022-09-08T15:03:20.740Z"
   },
   {
    "duration": 62,
    "start_time": "2022-09-08T15:03:26.686Z"
   },
   {
    "duration": 42,
    "start_time": "2022-09-08T15:03:47.145Z"
   },
   {
    "duration": 41,
    "start_time": "2022-09-08T15:03:55.041Z"
   },
   {
    "duration": 59,
    "start_time": "2022-09-08T15:05:00.438Z"
   },
   {
    "duration": 9,
    "start_time": "2022-09-08T15:58:05.776Z"
   },
   {
    "duration": 58,
    "start_time": "2022-09-08T15:58:20.108Z"
   },
   {
    "duration": 16,
    "start_time": "2022-09-08T16:02:58.121Z"
   },
   {
    "duration": 13,
    "start_time": "2022-09-08T16:03:30.319Z"
   },
   {
    "duration": 219,
    "start_time": "2022-09-08T16:04:08.686Z"
   },
   {
    "duration": 250,
    "start_time": "2022-09-08T16:05:02.792Z"
   },
   {
    "duration": 444,
    "start_time": "2022-09-08T16:05:13.857Z"
   },
   {
    "duration": 75,
    "start_time": "2022-09-08T16:05:52.245Z"
   },
   {
    "duration": 46,
    "start_time": "2022-09-08T16:06:05.324Z"
   },
   {
    "duration": 500,
    "start_time": "2022-09-08T16:56:59.544Z"
   },
   {
    "duration": 17,
    "start_time": "2022-09-08T16:57:00.046Z"
   },
   {
    "duration": 1965,
    "start_time": "2022-09-08T16:57:00.065Z"
   },
   {
    "duration": 9,
    "start_time": "2022-09-08T16:57:02.033Z"
   },
   {
    "duration": 32,
    "start_time": "2022-09-08T16:57:02.054Z"
   },
   {
    "duration": 5,
    "start_time": "2022-09-08T16:57:02.087Z"
   },
   {
    "duration": 18,
    "start_time": "2022-09-08T16:57:02.093Z"
   },
   {
    "duration": 10,
    "start_time": "2022-09-08T16:57:02.113Z"
   },
   {
    "duration": 4,
    "start_time": "2022-09-08T16:57:02.124Z"
   },
   {
    "duration": 16,
    "start_time": "2022-09-08T16:57:02.130Z"
   },
   {
    "duration": 18,
    "start_time": "2022-09-08T16:57:02.147Z"
   },
   {
    "duration": 26,
    "start_time": "2022-09-08T16:57:02.167Z"
   },
   {
    "duration": 13,
    "start_time": "2022-09-08T16:57:02.194Z"
   },
   {
    "duration": 149,
    "start_time": "2022-09-08T16:57:02.209Z"
   },
   {
    "duration": 146,
    "start_time": "2022-09-08T16:57:02.360Z"
   },
   {
    "duration": 112,
    "start_time": "2022-09-08T16:57:02.508Z"
   },
   {
    "duration": 54,
    "start_time": "2022-09-08T16:57:02.621Z"
   },
   {
    "duration": 97,
    "start_time": "2022-09-08T16:57:02.676Z"
   },
   {
    "duration": 293,
    "start_time": "2022-09-08T16:57:02.774Z"
   },
   {
    "duration": 223,
    "start_time": "2022-09-08T16:57:03.068Z"
   },
   {
    "duration": 233,
    "start_time": "2022-09-08T16:57:03.293Z"
   },
   {
    "duration": 322,
    "start_time": "2022-09-08T16:57:03.527Z"
   },
   {
    "duration": 470,
    "start_time": "2022-09-08T16:57:03.852Z"
   },
   {
    "duration": 207,
    "start_time": "2022-09-08T16:57:04.323Z"
   },
   {
    "duration": 229,
    "start_time": "2022-09-08T16:57:04.531Z"
   },
   {
    "duration": 213,
    "start_time": "2022-09-08T16:57:04.761Z"
   },
   {
    "duration": 160,
    "start_time": "2022-09-08T16:57:04.975Z"
   },
   {
    "duration": 288,
    "start_time": "2022-09-08T16:57:05.139Z"
   },
   {
    "duration": 236,
    "start_time": "2022-09-08T16:57:05.429Z"
   },
   {
    "duration": 201,
    "start_time": "2022-09-08T16:57:05.667Z"
   },
   {
    "duration": 218,
    "start_time": "2022-09-08T16:57:05.870Z"
   },
   {
    "duration": 257,
    "start_time": "2022-09-08T16:57:06.090Z"
   },
   {
    "duration": 201,
    "start_time": "2022-09-08T16:57:06.355Z"
   },
   {
    "duration": 649,
    "start_time": "2022-09-08T16:57:06.558Z"
   },
   {
    "duration": 315,
    "start_time": "2022-09-08T16:57:07.209Z"
   },
   {
    "duration": 359,
    "start_time": "2022-09-08T16:57:07.526Z"
   },
   {
    "duration": 293,
    "start_time": "2022-09-08T16:57:07.887Z"
   },
   {
    "duration": 123,
    "start_time": "2022-09-08T16:57:08.182Z"
   },
   {
    "duration": 101,
    "start_time": "2022-09-08T16:57:08.307Z"
   },
   {
    "duration": 122,
    "start_time": "2022-09-08T16:57:08.410Z"
   },
   {
    "duration": 129,
    "start_time": "2022-09-08T16:57:08.534Z"
   },
   {
    "duration": 194,
    "start_time": "2022-09-08T16:57:08.664Z"
   },
   {
    "duration": 39,
    "start_time": "2022-09-08T16:57:08.859Z"
   },
   {
    "duration": 428,
    "start_time": "2022-09-08T16:57:08.900Z"
   },
   {
    "duration": 45,
    "start_time": "2022-09-08T16:59:32.986Z"
   },
   {
    "duration": 477,
    "start_time": "2022-09-08T17:04:56.595Z"
   },
   {
    "duration": 141,
    "start_time": "2022-09-09T08:00:03.117Z"
   },
   {
    "duration": 38,
    "start_time": "2022-09-09T08:04:59.165Z"
   },
   {
    "duration": 660,
    "start_time": "2022-09-09T08:05:07.049Z"
   },
   {
    "duration": 16,
    "start_time": "2022-09-09T08:05:07.711Z"
   },
   {
    "duration": 2220,
    "start_time": "2022-09-09T08:05:07.729Z"
   },
   {
    "duration": 10,
    "start_time": "2022-09-09T08:05:09.951Z"
   },
   {
    "duration": 45,
    "start_time": "2022-09-09T08:05:09.963Z"
   },
   {
    "duration": 6,
    "start_time": "2022-09-09T08:05:10.010Z"
   },
   {
    "duration": 12,
    "start_time": "2022-09-09T08:05:10.017Z"
   },
   {
    "duration": 29,
    "start_time": "2022-09-09T08:05:10.031Z"
   },
   {
    "duration": 4,
    "start_time": "2022-09-09T08:05:10.061Z"
   },
   {
    "duration": 18,
    "start_time": "2022-09-09T08:05:10.067Z"
   },
   {
    "duration": 14,
    "start_time": "2022-09-09T08:05:10.086Z"
   },
   {
    "duration": 15,
    "start_time": "2022-09-09T08:05:10.101Z"
   },
   {
    "duration": 12,
    "start_time": "2022-09-09T08:05:10.118Z"
   },
   {
    "duration": 301,
    "start_time": "2022-09-09T08:05:10.156Z"
   },
   {
    "duration": 219,
    "start_time": "2022-09-09T08:05:10.458Z"
   },
   {
    "duration": 198,
    "start_time": "2022-09-09T08:05:10.679Z"
   },
   {
    "duration": 85,
    "start_time": "2022-09-09T08:05:10.879Z"
   },
   {
    "duration": 132,
    "start_time": "2022-09-09T08:05:10.965Z"
   },
   {
    "duration": 588,
    "start_time": "2022-09-09T08:05:11.099Z"
   },
   {
    "duration": 435,
    "start_time": "2022-09-09T08:05:11.688Z"
   },
   {
    "duration": 318,
    "start_time": "2022-09-09T08:05:12.125Z"
   },
   {
    "duration": 211,
    "start_time": "2022-09-09T08:05:12.444Z"
   },
   {
    "duration": 411,
    "start_time": "2022-09-09T08:05:12.656Z"
   },
   {
    "duration": 214,
    "start_time": "2022-09-09T08:05:13.069Z"
   },
   {
    "duration": 195,
    "start_time": "2022-09-09T08:05:13.284Z"
   },
   {
    "duration": 204,
    "start_time": "2022-09-09T08:05:13.480Z"
   },
   {
    "duration": 134,
    "start_time": "2022-09-09T08:05:13.685Z"
   },
   {
    "duration": 265,
    "start_time": "2022-09-09T08:05:13.821Z"
   },
   {
    "duration": 497,
    "start_time": "2022-09-09T08:05:14.088Z"
   },
   {
    "duration": 468,
    "start_time": "2022-09-09T08:05:14.587Z"
   },
   {
    "duration": 400,
    "start_time": "2022-09-09T08:05:15.057Z"
   },
   {
    "duration": 304,
    "start_time": "2022-09-09T08:05:15.458Z"
   },
   {
    "duration": 205,
    "start_time": "2022-09-09T08:05:15.763Z"
   },
   {
    "duration": 596,
    "start_time": "2022-09-09T08:05:15.970Z"
   },
   {
    "duration": 334,
    "start_time": "2022-09-09T08:05:16.568Z"
   },
   {
    "duration": 562,
    "start_time": "2022-09-09T08:05:16.904Z"
   },
   {
    "duration": 622,
    "start_time": "2022-09-09T08:05:17.468Z"
   },
   {
    "duration": 272,
    "start_time": "2022-09-09T08:05:18.091Z"
   },
   {
    "duration": 197,
    "start_time": "2022-09-09T08:05:18.365Z"
   },
   {
    "duration": 218,
    "start_time": "2022-09-09T08:05:18.564Z"
   },
   {
    "duration": 404,
    "start_time": "2022-09-09T08:05:18.785Z"
   },
   {
    "duration": 211,
    "start_time": "2022-09-09T08:05:19.191Z"
   },
   {
    "duration": 87,
    "start_time": "2022-09-09T08:05:19.404Z"
   },
   {
    "duration": 909,
    "start_time": "2022-09-09T08:05:19.493Z"
   },
   {
    "duration": 107,
    "start_time": "2022-09-09T08:10:26.840Z"
   },
   {
    "duration": 67,
    "start_time": "2022-09-09T08:14:39.956Z"
   },
   {
    "duration": 52,
    "start_time": "2022-09-09T08:14:53.196Z"
   },
   {
    "duration": 21,
    "start_time": "2022-09-09T08:15:15.100Z"
   },
   {
    "duration": 20,
    "start_time": "2022-09-09T08:18:54.452Z"
   },
   {
    "duration": 24,
    "start_time": "2022-09-09T08:41:28.342Z"
   },
   {
    "duration": 547,
    "start_time": "2022-09-09T09:06:47.104Z"
   },
   {
    "duration": 557,
    "start_time": "2022-09-09T09:07:08.080Z"
   },
   {
    "duration": 563,
    "start_time": "2022-09-09T09:07:16.742Z"
   },
   {
    "duration": 12,
    "start_time": "2022-09-09T09:07:54.448Z"
   },
   {
    "duration": 124,
    "start_time": "2022-09-09T09:08:21.288Z"
   },
   {
    "duration": 114,
    "start_time": "2022-09-09T09:09:33.734Z"
   },
   {
    "duration": 115,
    "start_time": "2022-09-09T09:10:04.603Z"
   },
   {
    "duration": 150,
    "start_time": "2022-09-09T09:10:53.794Z"
   },
   {
    "duration": 136,
    "start_time": "2022-09-09T09:11:08.489Z"
   },
   {
    "duration": 519,
    "start_time": "2022-09-09T09:11:28.598Z"
   },
   {
    "duration": 209,
    "start_time": "2022-09-09T09:11:37.734Z"
   },
   {
    "duration": 133,
    "start_time": "2022-09-09T09:16:33.266Z"
   },
   {
    "duration": 108,
    "start_time": "2022-09-09T09:16:52.461Z"
   },
   {
    "duration": 120,
    "start_time": "2022-09-09T09:16:57.396Z"
   },
   {
    "duration": 130,
    "start_time": "2022-09-09T09:17:08.942Z"
   },
   {
    "duration": 85,
    "start_time": "2022-09-09T09:17:43.331Z"
   },
   {
    "duration": 103,
    "start_time": "2022-09-09T09:17:50.240Z"
   },
   {
    "duration": 113,
    "start_time": "2022-09-09T09:18:28.788Z"
   },
   {
    "duration": 111,
    "start_time": "2022-09-09T09:18:37.860Z"
   },
   {
    "duration": 86,
    "start_time": "2022-09-09T09:18:42.240Z"
   },
   {
    "duration": 94,
    "start_time": "2022-09-09T09:19:36.861Z"
   },
   {
    "duration": 193,
    "start_time": "2022-09-09T09:25:08.302Z"
   },
   {
    "duration": 203,
    "start_time": "2022-09-09T09:25:16.334Z"
   },
   {
    "duration": 361,
    "start_time": "2022-09-09T09:26:47.167Z"
   },
   {
    "duration": 207,
    "start_time": "2022-09-09T09:26:59.407Z"
   },
   {
    "duration": 210,
    "start_time": "2022-09-09T09:27:14.368Z"
   },
   {
    "duration": 186,
    "start_time": "2022-09-09T09:56:47.042Z"
   },
   {
    "duration": 414,
    "start_time": "2022-09-09T09:59:46.770Z"
   },
   {
    "duration": 195,
    "start_time": "2022-09-09T10:21:24.810Z"
   },
   {
    "duration": 271,
    "start_time": "2022-09-09T10:21:35.477Z"
   },
   {
    "duration": 217,
    "start_time": "2022-09-09T10:21:40.119Z"
   },
   {
    "duration": 199,
    "start_time": "2022-09-09T10:22:04.748Z"
   },
   {
    "duration": 77,
    "start_time": "2022-09-09T10:22:22.449Z"
   },
   {
    "duration": 183,
    "start_time": "2022-09-09T10:22:34.217Z"
   },
   {
    "duration": 202,
    "start_time": "2022-09-09T10:22:59.055Z"
   },
   {
    "duration": 631,
    "start_time": "2022-09-09T10:27:03.768Z"
   },
   {
    "duration": 75,
    "start_time": "2022-09-09T10:33:53.536Z"
   },
   {
    "duration": 268,
    "start_time": "2022-09-09T10:34:19.158Z"
   },
   {
    "duration": 280,
    "start_time": "2022-09-09T10:35:39.909Z"
   },
   {
    "duration": 490,
    "start_time": "2022-09-09T10:38:58.448Z"
   },
   {
    "duration": 427,
    "start_time": "2022-09-09T10:39:24.030Z"
   },
   {
    "duration": 514,
    "start_time": "2022-09-09T10:39:28.704Z"
   },
   {
    "duration": 522,
    "start_time": "2022-09-09T10:41:20.912Z"
   },
   {
    "duration": 462,
    "start_time": "2022-09-09T10:41:30.784Z"
   },
   {
    "duration": 456,
    "start_time": "2022-09-09T10:42:14.343Z"
   },
   {
    "duration": 540,
    "start_time": "2022-09-09T10:42:19.378Z"
   },
   {
    "duration": 438,
    "start_time": "2022-09-09T10:42:24.895Z"
   },
   {
    "duration": 496,
    "start_time": "2022-09-09T10:42:37.079Z"
   },
   {
    "duration": 442,
    "start_time": "2022-09-09T10:42:43.071Z"
   },
   {
    "duration": 528,
    "start_time": "2022-09-09T10:42:53.601Z"
   },
   {
    "duration": 482,
    "start_time": "2022-09-09T10:43:00.145Z"
   },
   {
    "duration": 443,
    "start_time": "2022-09-09T10:43:04.775Z"
   },
   {
    "duration": 479,
    "start_time": "2022-09-09T10:43:26.487Z"
   },
   {
    "duration": 560,
    "start_time": "2022-09-09T10:45:03.098Z"
   },
   {
    "duration": 448,
    "start_time": "2022-09-09T10:47:33.547Z"
   },
   {
    "duration": 13,
    "start_time": "2022-09-09T10:49:37.339Z"
   },
   {
    "duration": 10,
    "start_time": "2022-09-09T10:50:02.162Z"
   },
   {
    "duration": 699,
    "start_time": "2022-09-09T10:50:07.879Z"
   },
   {
    "duration": 13,
    "start_time": "2022-09-09T10:50:08.579Z"
   },
   {
    "duration": 1732,
    "start_time": "2022-09-09T10:50:08.593Z"
   },
   {
    "duration": 66,
    "start_time": "2022-09-09T10:50:10.328Z"
   },
   {
    "duration": 34,
    "start_time": "2022-09-09T10:50:10.396Z"
   },
   {
    "duration": 5,
    "start_time": "2022-09-09T10:50:10.431Z"
   },
   {
    "duration": 5,
    "start_time": "2022-09-09T10:50:10.455Z"
   },
   {
    "duration": 9,
    "start_time": "2022-09-09T10:50:10.461Z"
   },
   {
    "duration": 3,
    "start_time": "2022-09-09T10:50:10.472Z"
   },
   {
    "duration": 9,
    "start_time": "2022-09-09T10:50:10.477Z"
   },
   {
    "duration": 12,
    "start_time": "2022-09-09T10:50:10.487Z"
   },
   {
    "duration": 14,
    "start_time": "2022-09-09T10:50:10.501Z"
   },
   {
    "duration": 49,
    "start_time": "2022-09-09T10:50:10.516Z"
   },
   {
    "duration": 147,
    "start_time": "2022-09-09T10:50:10.566Z"
   },
   {
    "duration": 162,
    "start_time": "2022-09-09T10:50:10.715Z"
   },
   {
    "duration": 89,
    "start_time": "2022-09-09T10:50:10.879Z"
   },
   {
    "duration": 107,
    "start_time": "2022-09-09T10:50:10.970Z"
   },
   {
    "duration": 145,
    "start_time": "2022-09-09T10:50:11.078Z"
   },
   {
    "duration": 106,
    "start_time": "2022-09-09T10:50:11.225Z"
   },
   {
    "duration": 107,
    "start_time": "2022-09-09T10:50:11.333Z"
   },
   {
    "duration": 40,
    "start_time": "2022-09-09T10:50:11.441Z"
   },
   {
    "duration": 83,
    "start_time": "2022-09-09T10:50:11.483Z"
   },
   {
    "duration": 16,
    "start_time": "2022-09-09T10:50:11.567Z"
   },
   {
    "duration": 371,
    "start_time": "2022-09-09T10:50:11.585Z"
   },
   {
    "duration": 202,
    "start_time": "2022-09-09T10:50:11.958Z"
   },
   {
    "duration": 196,
    "start_time": "2022-09-09T10:50:12.161Z"
   },
   {
    "duration": 208,
    "start_time": "2022-09-09T10:50:12.359Z"
   },
   {
    "duration": 409,
    "start_time": "2022-09-09T10:50:12.571Z"
   },
   {
    "duration": 210,
    "start_time": "2022-09-09T10:50:12.982Z"
   },
   {
    "duration": 280,
    "start_time": "2022-09-09T10:50:13.194Z"
   },
   {
    "duration": 202,
    "start_time": "2022-09-09T10:50:13.476Z"
   },
   {
    "duration": 133,
    "start_time": "2022-09-09T10:50:13.679Z"
   },
   {
    "duration": 198,
    "start_time": "2022-09-09T10:50:13.813Z"
   },
   {
    "duration": 207,
    "start_time": "2022-09-09T10:50:14.013Z"
   },
   {
    "duration": 200,
    "start_time": "2022-09-09T10:50:14.221Z"
   },
   {
    "duration": 206,
    "start_time": "2022-09-09T10:50:14.422Z"
   },
   {
    "duration": 272,
    "start_time": "2022-09-09T10:50:14.629Z"
   },
   {
    "duration": 214,
    "start_time": "2022-09-09T10:50:14.902Z"
   },
   {
    "duration": 504,
    "start_time": "2022-09-09T10:50:15.118Z"
   },
   {
    "duration": 493,
    "start_time": "2022-09-09T10:50:15.623Z"
   },
   {
    "duration": 524,
    "start_time": "2022-09-09T10:50:16.117Z"
   },
   {
    "duration": 497,
    "start_time": "2022-09-09T10:50:16.642Z"
   },
   {
    "duration": 134,
    "start_time": "2022-09-09T10:50:17.140Z"
   },
   {
    "duration": 114,
    "start_time": "2022-09-09T10:50:17.275Z"
   },
   {
    "duration": 157,
    "start_time": "2022-09-09T10:50:17.391Z"
   },
   {
    "duration": 144,
    "start_time": "2022-09-09T10:50:17.549Z"
   },
   {
    "duration": 108,
    "start_time": "2022-09-09T10:50:17.694Z"
   },
   {
    "duration": 37,
    "start_time": "2022-09-09T10:50:17.803Z"
   },
   {
    "duration": 523,
    "start_time": "2022-09-09T10:50:17.842Z"
   },
   {
    "duration": 92,
    "start_time": "2022-09-09T10:50:41.415Z"
   },
   {
    "duration": 91,
    "start_time": "2022-09-09T10:52:49.462Z"
   },
   {
    "duration": 47,
    "start_time": "2022-09-09T10:54:26.760Z"
   },
   {
    "duration": 437,
    "start_time": "2022-09-09T10:56:50.682Z"
   },
   {
    "duration": 524,
    "start_time": "2022-09-09T10:57:18.563Z"
   },
   {
    "duration": 760,
    "start_time": "2022-09-09T11:18:33.412Z"
   },
   {
    "duration": 13,
    "start_time": "2022-09-09T11:18:34.173Z"
   },
   {
    "duration": 1754,
    "start_time": "2022-09-09T11:18:34.187Z"
   },
   {
    "duration": 51,
    "start_time": "2022-09-09T11:18:35.943Z"
   },
   {
    "duration": 31,
    "start_time": "2022-09-09T11:18:35.995Z"
   },
   {
    "duration": 5,
    "start_time": "2022-09-09T11:18:36.027Z"
   },
   {
    "duration": 22,
    "start_time": "2022-09-09T11:18:36.033Z"
   },
   {
    "duration": 9,
    "start_time": "2022-09-09T11:18:36.057Z"
   },
   {
    "duration": 4,
    "start_time": "2022-09-09T11:18:36.068Z"
   },
   {
    "duration": 9,
    "start_time": "2022-09-09T11:18:36.074Z"
   },
   {
    "duration": 12,
    "start_time": "2022-09-09T11:18:36.084Z"
   },
   {
    "duration": 13,
    "start_time": "2022-09-09T11:18:36.097Z"
   },
   {
    "duration": 19,
    "start_time": "2022-09-09T11:18:36.112Z"
   },
   {
    "duration": 157,
    "start_time": "2022-09-09T11:18:36.132Z"
   },
   {
    "duration": 121,
    "start_time": "2022-09-09T11:18:36.291Z"
   },
   {
    "duration": 105,
    "start_time": "2022-09-09T11:18:36.414Z"
   },
   {
    "duration": 105,
    "start_time": "2022-09-09T11:18:36.520Z"
   },
   {
    "duration": 162,
    "start_time": "2022-09-09T11:18:36.627Z"
   },
   {
    "duration": 108,
    "start_time": "2022-09-09T11:18:36.791Z"
   },
   {
    "duration": 98,
    "start_time": "2022-09-09T11:18:36.900Z"
   },
   {
    "duration": 33,
    "start_time": "2022-09-09T11:18:36.999Z"
   },
   {
    "duration": 83,
    "start_time": "2022-09-09T11:18:37.033Z"
   },
   {
    "duration": 15,
    "start_time": "2022-09-09T11:18:37.117Z"
   },
   {
    "duration": 399,
    "start_time": "2022-09-09T11:18:37.133Z"
   },
   {
    "duration": 216,
    "start_time": "2022-09-09T11:18:37.534Z"
   },
   {
    "duration": 197,
    "start_time": "2022-09-09T11:18:37.755Z"
   },
   {
    "duration": 205,
    "start_time": "2022-09-09T11:18:37.954Z"
   },
   {
    "duration": 432,
    "start_time": "2022-09-09T11:18:38.163Z"
   },
   {
    "duration": 200,
    "start_time": "2022-09-09T11:18:38.596Z"
   },
   {
    "duration": 283,
    "start_time": "2022-09-09T11:18:38.797Z"
   },
   {
    "duration": 217,
    "start_time": "2022-09-09T11:18:39.081Z"
   },
   {
    "duration": 140,
    "start_time": "2022-09-09T11:18:39.299Z"
   },
   {
    "duration": 199,
    "start_time": "2022-09-09T11:18:39.441Z"
   },
   {
    "duration": 217,
    "start_time": "2022-09-09T11:18:39.641Z"
   },
   {
    "duration": 197,
    "start_time": "2022-09-09T11:18:39.860Z"
   },
   {
    "duration": 212,
    "start_time": "2022-09-09T11:18:40.059Z"
   },
   {
    "duration": 298,
    "start_time": "2022-09-09T11:18:40.273Z"
   },
   {
    "duration": 198,
    "start_time": "2022-09-09T11:18:40.573Z"
   },
   {
    "duration": 533,
    "start_time": "2022-09-09T11:18:40.772Z"
   },
   {
    "duration": 492,
    "start_time": "2022-09-09T11:18:41.306Z"
   },
   {
    "duration": 522,
    "start_time": "2022-09-09T11:18:41.800Z"
   },
   {
    "duration": 449,
    "start_time": "2022-09-09T11:18:42.323Z"
   },
   {
    "duration": 121,
    "start_time": "2022-09-09T11:18:42.773Z"
   },
   {
    "duration": 100,
    "start_time": "2022-09-09T11:18:42.896Z"
   },
   {
    "duration": 123,
    "start_time": "2022-09-09T11:18:42.998Z"
   },
   {
    "duration": 125,
    "start_time": "2022-09-09T11:18:43.123Z"
   },
   {
    "duration": 121,
    "start_time": "2022-09-09T11:18:43.250Z"
   },
   {
    "duration": 97,
    "start_time": "2022-09-09T11:18:43.374Z"
   },
   {
    "duration": 118,
    "start_time": "2022-09-09T11:18:43.473Z"
   },
   {
    "duration": 39,
    "start_time": "2022-09-09T11:18:43.593Z"
   },
   {
    "duration": 439,
    "start_time": "2022-09-09T11:18:43.634Z"
   },
   {
    "duration": 737,
    "start_time": "2022-09-09T13:03:36.676Z"
   },
   {
    "duration": 16,
    "start_time": "2022-09-09T13:03:37.414Z"
   },
   {
    "duration": 1693,
    "start_time": "2022-09-09T13:03:37.432Z"
   },
   {
    "duration": 62,
    "start_time": "2022-09-09T13:03:39.127Z"
   },
   {
    "duration": 27,
    "start_time": "2022-09-09T13:03:39.190Z"
   },
   {
    "duration": 4,
    "start_time": "2022-09-09T13:03:39.219Z"
   },
   {
    "duration": 6,
    "start_time": "2022-09-09T13:03:39.225Z"
   },
   {
    "duration": 26,
    "start_time": "2022-09-09T13:03:39.232Z"
   },
   {
    "duration": 3,
    "start_time": "2022-09-09T13:03:39.259Z"
   },
   {
    "duration": 11,
    "start_time": "2022-09-09T13:03:39.264Z"
   },
   {
    "duration": 12,
    "start_time": "2022-09-09T13:03:39.277Z"
   },
   {
    "duration": 14,
    "start_time": "2022-09-09T13:03:39.291Z"
   },
   {
    "duration": 12,
    "start_time": "2022-09-09T13:03:39.307Z"
   },
   {
    "duration": 169,
    "start_time": "2022-09-09T13:03:39.321Z"
   },
   {
    "duration": 118,
    "start_time": "2022-09-09T13:03:39.492Z"
   },
   {
    "duration": 105,
    "start_time": "2022-09-09T13:03:39.611Z"
   },
   {
    "duration": 107,
    "start_time": "2022-09-09T13:03:39.717Z"
   },
   {
    "duration": 152,
    "start_time": "2022-09-09T13:03:39.826Z"
   },
   {
    "duration": 105,
    "start_time": "2022-09-09T13:03:39.980Z"
   },
   {
    "duration": 101,
    "start_time": "2022-09-09T13:03:40.086Z"
   },
   {
    "duration": 35,
    "start_time": "2022-09-09T13:03:40.188Z"
   },
   {
    "duration": 95,
    "start_time": "2022-09-09T13:03:40.224Z"
   },
   {
    "duration": 18,
    "start_time": "2022-09-09T13:03:40.321Z"
   },
   {
    "duration": 351,
    "start_time": "2022-09-09T13:03:40.355Z"
   },
   {
    "duration": 201,
    "start_time": "2022-09-09T13:03:40.708Z"
   },
   {
    "duration": 190,
    "start_time": "2022-09-09T13:03:40.911Z"
   },
   {
    "duration": 208,
    "start_time": "2022-09-09T13:03:41.102Z"
   },
   {
    "duration": 444,
    "start_time": "2022-09-09T13:03:41.314Z"
   },
   {
    "duration": 199,
    "start_time": "2022-09-09T13:03:41.759Z"
   },
   {
    "duration": 263,
    "start_time": "2022-09-09T13:03:41.960Z"
   },
   {
    "duration": 209,
    "start_time": "2022-09-09T13:03:42.225Z"
   },
   {
    "duration": 128,
    "start_time": "2022-09-09T13:03:42.435Z"
   },
   {
    "duration": 197,
    "start_time": "2022-09-09T13:03:42.565Z"
   },
   {
    "duration": 211,
    "start_time": "2022-09-09T13:03:42.764Z"
   },
   {
    "duration": 209,
    "start_time": "2022-09-09T13:03:42.977Z"
   },
   {
    "duration": 205,
    "start_time": "2022-09-09T13:03:43.187Z"
   },
   {
    "duration": 277,
    "start_time": "2022-09-09T13:03:43.393Z"
   },
   {
    "duration": 195,
    "start_time": "2022-09-09T13:03:43.672Z"
   },
   {
    "duration": 509,
    "start_time": "2022-09-09T13:03:43.868Z"
   },
   {
    "duration": 511,
    "start_time": "2022-09-09T13:03:44.378Z"
   },
   {
    "duration": 540,
    "start_time": "2022-09-09T13:03:44.891Z"
   },
   {
    "duration": 462,
    "start_time": "2022-09-09T13:03:45.433Z"
   },
   {
    "duration": 134,
    "start_time": "2022-09-09T13:03:45.897Z"
   },
   {
    "duration": 101,
    "start_time": "2022-09-09T13:03:46.033Z"
   },
   {
    "duration": 120,
    "start_time": "2022-09-09T13:03:46.135Z"
   },
   {
    "duration": 128,
    "start_time": "2022-09-09T13:03:46.257Z"
   },
   {
    "duration": 112,
    "start_time": "2022-09-09T13:03:46.387Z"
   },
   {
    "duration": 95,
    "start_time": "2022-09-09T13:03:46.501Z"
   },
   {
    "duration": 109,
    "start_time": "2022-09-09T13:03:46.597Z"
   },
   {
    "duration": 54,
    "start_time": "2022-09-09T13:03:46.708Z"
   },
   {
    "duration": 450,
    "start_time": "2022-09-09T13:03:46.764Z"
   },
   {
    "duration": 789,
    "start_time": "2023-05-22T15:49:59.426Z"
   },
   {
    "duration": 16,
    "start_time": "2023-05-22T15:50:00.217Z"
   },
   {
    "duration": 2043,
    "start_time": "2023-05-22T15:50:00.235Z"
   },
   {
    "duration": 62,
    "start_time": "2023-05-22T15:50:02.281Z"
   },
   {
    "duration": 48,
    "start_time": "2023-05-22T15:50:02.345Z"
   },
   {
    "duration": 6,
    "start_time": "2023-05-22T15:50:02.395Z"
   },
   {
    "duration": 27,
    "start_time": "2023-05-22T15:50:02.403Z"
   },
   {
    "duration": 35,
    "start_time": "2023-05-22T15:50:02.431Z"
   },
   {
    "duration": 16,
    "start_time": "2023-05-22T15:50:02.468Z"
   },
   {
    "duration": 28,
    "start_time": "2023-05-22T15:50:02.488Z"
   },
   {
    "duration": 23,
    "start_time": "2023-05-22T15:50:02.518Z"
   },
   {
    "duration": 16,
    "start_time": "2023-05-22T15:50:02.543Z"
   },
   {
    "duration": 23,
    "start_time": "2023-05-22T15:50:02.561Z"
   },
   {
    "duration": 164,
    "start_time": "2023-05-22T15:50:02.586Z"
   },
   {
    "duration": 163,
    "start_time": "2023-05-22T15:50:02.752Z"
   },
   {
    "duration": 128,
    "start_time": "2023-05-22T15:50:02.917Z"
   },
   {
    "duration": 115,
    "start_time": "2023-05-22T15:50:03.046Z"
   },
   {
    "duration": 162,
    "start_time": "2023-05-22T15:50:03.163Z"
   },
   {
    "duration": 127,
    "start_time": "2023-05-22T15:50:03.327Z"
   },
   {
    "duration": 120,
    "start_time": "2023-05-22T15:50:03.456Z"
   },
   {
    "duration": 41,
    "start_time": "2023-05-22T15:50:03.578Z"
   },
   {
    "duration": 116,
    "start_time": "2023-05-22T15:50:03.621Z"
   },
   {
    "duration": 20,
    "start_time": "2023-05-22T15:50:03.739Z"
   },
   {
    "duration": 418,
    "start_time": "2023-05-22T15:50:03.761Z"
   },
   {
    "duration": 253,
    "start_time": "2023-05-22T15:50:04.181Z"
   },
   {
    "duration": 227,
    "start_time": "2023-05-22T15:50:04.435Z"
   },
   {
    "duration": 279,
    "start_time": "2023-05-22T15:50:04.663Z"
   },
   {
    "duration": 551,
    "start_time": "2023-05-22T15:50:04.946Z"
   },
   {
    "duration": 249,
    "start_time": "2023-05-22T15:50:05.499Z"
   },
   {
    "duration": 332,
    "start_time": "2023-05-22T15:50:05.750Z"
   },
   {
    "duration": 230,
    "start_time": "2023-05-22T15:50:06.084Z"
   },
   {
    "duration": 152,
    "start_time": "2023-05-22T15:50:06.315Z"
   },
   {
    "duration": 218,
    "start_time": "2023-05-22T15:50:06.469Z"
   },
   {
    "duration": 251,
    "start_time": "2023-05-22T15:50:06.688Z"
   },
   {
    "duration": 220,
    "start_time": "2023-05-22T15:50:06.940Z"
   },
   {
    "duration": 229,
    "start_time": "2023-05-22T15:50:07.162Z"
   },
   {
    "duration": 376,
    "start_time": "2023-05-22T15:50:07.392Z"
   },
   {
    "duration": 232,
    "start_time": "2023-05-22T15:50:07.770Z"
   },
   {
    "duration": 562,
    "start_time": "2023-05-22T15:50:08.004Z"
   },
   {
    "duration": 548,
    "start_time": "2023-05-22T15:50:08.568Z"
   },
   {
    "duration": 616,
    "start_time": "2023-05-22T15:50:09.118Z"
   },
   {
    "duration": 525,
    "start_time": "2023-05-22T15:50:09.735Z"
   },
   {
    "duration": 145,
    "start_time": "2023-05-22T15:50:10.262Z"
   },
   {
    "duration": 127,
    "start_time": "2023-05-22T15:50:10.409Z"
   },
   {
    "duration": 150,
    "start_time": "2023-05-22T15:50:10.538Z"
   },
   {
    "duration": 159,
    "start_time": "2023-05-22T15:50:10.689Z"
   },
   {
    "duration": 130,
    "start_time": "2023-05-22T15:50:10.850Z"
   },
   {
    "duration": 120,
    "start_time": "2023-05-22T15:50:10.982Z"
   },
   {
    "duration": 128,
    "start_time": "2023-05-22T15:50:11.104Z"
   },
   {
    "duration": 61,
    "start_time": "2023-05-22T15:50:11.234Z"
   },
   {
    "duration": 526,
    "start_time": "2023-05-22T15:50:11.297Z"
   }
  ],
  "kernelspec": {
   "display_name": "Python 3 (ipykernel)",
   "language": "python",
   "name": "python3"
  },
  "language_info": {
   "codemirror_mode": {
    "name": "ipython",
    "version": 3
   },
   "file_extension": ".py",
   "mimetype": "text/x-python",
   "name": "python",
   "nbconvert_exporter": "python",
   "pygments_lexer": "ipython3",
   "version": "3.9.12"
  },
  "toc": {
   "base_numbering": 1,
   "nav_menu": {},
   "number_sections": true,
   "sideBar": true,
   "skip_h1_title": true,
   "title_cell": "Table of Contents",
   "title_sidebar": "Contents",
   "toc_cell": false,
   "toc_position": {
    "height": "calc(100% - 180px)",
    "left": "10px",
    "top": "150px",
    "width": "273.775px"
   },
   "toc_section_display": true,
   "toc_window_display": true
  }
 },
 "nbformat": 4,
 "nbformat_minor": 2
}
