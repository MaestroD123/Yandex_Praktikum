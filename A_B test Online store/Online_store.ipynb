{
 "cells": [
  {
   "cell_type": "markdown",
   "metadata": {},
   "source": [
    "# Приоритизация маркетинговых гипотез и анализ результатов проведенного A/B-теста\n",
    "\n",
    "В данном исследовании проводится приоритизация маркетинговых гипотез и последующий анализ результатов проведенного A/B-теста крупного интернет-магазина.\n",
    "Основные цели проекта:\n",
    "- Приоритезация гипотез по увеличению выручки интернет-магазина с использованием фреймворков ICE и RICE - на основе файла hypothesis.csv с заявленными параметрами Reach, Impact, Confidence, Effort.\n",
    "- Анализ результатов проведенного A/B-теста - на основе данных из файлов о заказах (orders.csv) и посетителях (visitors.csv)."
   ]
  },
  {
   "cell_type": "markdown",
   "metadata": {},
   "source": [
    "# План работы:\n",
    "\n",
    "<b>Часть 1 </b>\n",
    "\n",
    "<b>Приоритизация гипотез:</b>\n",
    "- Приоритизация маркетинговых гипотез с использованием фреймворка ICE;\n",
    "- Приоритизация маркетинговых гипотез с использованием фреймворка RICE;\n",
    "- Определение изенений приоритизации гипотез при применении RICE вместо ICE;\n",
    "- Выводы.\n",
    "\n",
    "<b>Входные данные</b>\n",
    "- Файл /datasets/hypothesis.csv;\n",
    "- Hypothesis — краткое описание гипотезы;\n",
    "- Reach — охват пользователей по 10-балльной шкале;\n",
    "- Impact — влияние на пользователей по 10-балльной шкале;\n",
    "- Confidence — уверенность в гипотезе по 10-балльной шкале;\n",
    "- Efforts — затраты ресурсов на проверку гипотезы по 10-балльной шкале. Чем больше значение Efforts, тем дороже проверка гипотезы.\n",
    "\n",
    "<b> Часть 2 </b>\n",
    "<b>Анализ A/B-теста</b>\n",
    "- График кумулятивной выручки по группам. Выводы и предположения.\n",
    "- График кумулятивного среднего чека по группам. Выводы и предположения.\n",
    "- График относительного изменения кумулятивного среднего чека группы B к группе A. Выводы и предположения.\n",
    "- График кумулятивного среднего количества заказов на посетителя по группам. Выводы и предположения.\n",
    "- График относительного изменения кумулятивного среднего количества заказов на посетителя группы B к группе A. Выводы и предположения.\n",
    "- График количества заказов по пользователям. Выводы и предположения.\n",
    "- Посчитать 95-й и 99-й перцентили количества заказов на пользователя. Выбор границы для определения аномальных пользователей.\n",
    "- График стоимостей заказов. Выводы и предположения.\n",
    "- Посчитать 95-й и 99-й перцентили стоимости заказов. Выбор границы для определения аномальных заказов.\n",
    "- Посчитать статистическую значимость различий в среднем количестве заказов на посетителя между группами по «сырым» данным. Выводы и предположения.\n",
    "- Посчитать статистическую значимость различий в среднем чеке заказа между группами по «сырым» данным. Выводы и предположения.\n",
    "- Посчитать статистическую значимость различий в среднем количестве заказов на посетителя между группами по «очищенным» данным. Выводы и предположения.\n",
    "- Посчитать статистическую значимость различий в среднем чеке заказа между группами по «очищенным» данным. Выводы и предположения.\n",
    "- Принятие решений по результатам теста и объяснить их.\n",
    "\n",
    "<b>Входные данные</b>\n",
    "- Файл /datasets/orders.csv.\n",
    " - transactionId — идентификатор заказа;\n",
    " - visitorId — идентификатор пользователя, совершившего заказ;\n",
    " - date — дата, когда был совершён заказ;\n",
    " - revenue — выручка заказа;\n",
    " - group — группа A/B-теста, в которую попал заказ.\n",
    "- Файл /datasets/visitors.csv.\n",
    " - date — дата;\n",
    " - group — группа A/B-теста;\n",
    " - visitors — количество пользователей в указанную дату в указанной группе A/B-теста"
   ]
  },
  {
   "cell_type": "markdown",
   "metadata": {},
   "source": [
    "## <b>Импорт библтотек и данных</b>"
   ]
  },
  {
   "cell_type": "code",
   "execution_count": 1,
   "metadata": {},
   "outputs": [],
   "source": [
    "import pandas as pd\n",
    "import numpy as np\n",
    "import matplotlib.pyplot as plt\n",
    "import matplotlib.ticker as ticker\n",
    "import seaborn as sns\n",
    "import datetime as dt\n",
    "from scipy import stats as st\n",
    "from datetime import datetime, timedelta\n",
    "\n",
    "pd.options.display.max_colwidth = 150\n",
    "plt.rcParams[\"figure.figsize\"] = (10,10)"
   ]
  },
  {
   "cell_type": "code",
   "execution_count": 2,
   "metadata": {},
   "outputs": [],
   "source": [
    "# Чтение файлов с данными и сохранение\n",
    "\n",
    "try:\n",
    "    hypothesis, orders, visitors = (\n",
    "        pd.read_csv('/datasets/hypothesis.csv'),\n",
    "        pd.read_csv('/datasets/orders.csv'),\n",
    "        pd.read_csv('/datasets/visitors.csv')\n",
    "    )\n",
    "\n",
    "\n",
    "except:\n",
    "    hypothesis, orders, visitors = (\n",
    "        pd.read_csv('hypothesis.csv'),\n",
    "        pd.read_csv('orders.csv'),\n",
    "        pd.read_csv('visitors.csv')\n",
    "    )"
   ]
  },
  {
   "cell_type": "markdown",
   "metadata": {},
   "source": [
    "## <b>Предобработка данных</b>"
   ]
  },
  {
   "cell_type": "code",
   "execution_count": 3,
   "metadata": {},
   "outputs": [
    {
     "data": {
      "text/html": [
       "<div>\n",
       "<style scoped>\n",
       "    .dataframe tbody tr th:only-of-type {\n",
       "        vertical-align: middle;\n",
       "    }\n",
       "\n",
       "    .dataframe tbody tr th {\n",
       "        vertical-align: top;\n",
       "    }\n",
       "\n",
       "    .dataframe thead th {\n",
       "        text-align: right;\n",
       "    }\n",
       "</style>\n",
       "<table border=\"1\" class=\"dataframe\">\n",
       "  <thead>\n",
       "    <tr style=\"text-align: right;\">\n",
       "      <th></th>\n",
       "      <th>Hypothesis</th>\n",
       "      <th>Reach</th>\n",
       "      <th>Impact</th>\n",
       "      <th>Confidence</th>\n",
       "      <th>Efforts</th>\n",
       "    </tr>\n",
       "  </thead>\n",
       "  <tbody>\n",
       "    <tr>\n",
       "      <th>0</th>\n",
       "      <td>Добавить два новых канала привлечения трафика, что позволит привлекать на 30% больше пользователей</td>\n",
       "      <td>3</td>\n",
       "      <td>10</td>\n",
       "      <td>8</td>\n",
       "      <td>6</td>\n",
       "    </tr>\n",
       "    <tr>\n",
       "      <th>1</th>\n",
       "      <td>Запустить собственную службу доставки, что сократит срок доставки заказов</td>\n",
       "      <td>2</td>\n",
       "      <td>5</td>\n",
       "      <td>4</td>\n",
       "      <td>10</td>\n",
       "    </tr>\n",
       "    <tr>\n",
       "      <th>2</th>\n",
       "      <td>Добавить блоки рекомендаций товаров на сайт интернет магазина, чтобы повысить конверсию и средний чек заказа</td>\n",
       "      <td>8</td>\n",
       "      <td>3</td>\n",
       "      <td>7</td>\n",
       "      <td>3</td>\n",
       "    </tr>\n",
       "    <tr>\n",
       "      <th>3</th>\n",
       "      <td>Изменить структура категорий, что увеличит конверсию, т.к. пользователи быстрее найдут нужный товар</td>\n",
       "      <td>8</td>\n",
       "      <td>3</td>\n",
       "      <td>3</td>\n",
       "      <td>8</td>\n",
       "    </tr>\n",
       "    <tr>\n",
       "      <th>4</th>\n",
       "      <td>Изменить цвет фона главной страницы, чтобы увеличить вовлеченность пользователей</td>\n",
       "      <td>3</td>\n",
       "      <td>1</td>\n",
       "      <td>1</td>\n",
       "      <td>1</td>\n",
       "    </tr>\n",
       "    <tr>\n",
       "      <th>5</th>\n",
       "      <td>Добавить страницу отзывов клиентов о магазине, что позволит увеличить количество заказов</td>\n",
       "      <td>3</td>\n",
       "      <td>2</td>\n",
       "      <td>2</td>\n",
       "      <td>3</td>\n",
       "    </tr>\n",
       "    <tr>\n",
       "      <th>6</th>\n",
       "      <td>Показать на главной странице баннеры с актуальными акциями и распродажами, чтобы увеличить конверсию</td>\n",
       "      <td>5</td>\n",
       "      <td>3</td>\n",
       "      <td>8</td>\n",
       "      <td>3</td>\n",
       "    </tr>\n",
       "    <tr>\n",
       "      <th>7</th>\n",
       "      <td>Добавить форму подписки на все основные страницы, чтобы собрать базу клиентов для email-рассылок</td>\n",
       "      <td>10</td>\n",
       "      <td>7</td>\n",
       "      <td>8</td>\n",
       "      <td>5</td>\n",
       "    </tr>\n",
       "    <tr>\n",
       "      <th>8</th>\n",
       "      <td>Запустить акцию, дающую скидку на товар в день рождения</td>\n",
       "      <td>1</td>\n",
       "      <td>9</td>\n",
       "      <td>9</td>\n",
       "      <td>5</td>\n",
       "    </tr>\n",
       "  </tbody>\n",
       "</table>\n",
       "</div>"
      ],
      "text/plain": [
       "                                                                                                     Hypothesis  \\\n",
       "0            Добавить два новых канала привлечения трафика, что позволит привлекать на 30% больше пользователей   \n",
       "1                                     Запустить собственную службу доставки, что сократит срок доставки заказов   \n",
       "2  Добавить блоки рекомендаций товаров на сайт интернет магазина, чтобы повысить конверсию и средний чек заказа   \n",
       "3           Изменить структура категорий, что увеличит конверсию, т.к. пользователи быстрее найдут нужный товар   \n",
       "4                              Изменить цвет фона главной страницы, чтобы увеличить вовлеченность пользователей   \n",
       "5                      Добавить страницу отзывов клиентов о магазине, что позволит увеличить количество заказов   \n",
       "6          Показать на главной странице баннеры с актуальными акциями и распродажами, чтобы увеличить конверсию   \n",
       "7              Добавить форму подписки на все основные страницы, чтобы собрать базу клиентов для email-рассылок   \n",
       "8                                                       Запустить акцию, дающую скидку на товар в день рождения   \n",
       "\n",
       "   Reach  Impact  Confidence  Efforts  \n",
       "0      3      10           8        6  \n",
       "1      2       5           4       10  \n",
       "2      8       3           7        3  \n",
       "3      8       3           3        8  \n",
       "4      3       1           1        1  \n",
       "5      3       2           2        3  \n",
       "6      5       3           8        3  \n",
       "7     10       7           8        5  \n",
       "8      1       9           9        5  "
      ]
     },
     "metadata": {},
     "output_type": "display_data"
    },
    {
     "name": "stdout",
     "output_type": "stream",
     "text": [
      "<class 'pandas.core.frame.DataFrame'>\n",
      "RangeIndex: 9 entries, 0 to 8\n",
      "Data columns (total 5 columns):\n",
      " #   Column      Non-Null Count  Dtype \n",
      "---  ------      --------------  ----- \n",
      " 0   Hypothesis  9 non-null      object\n",
      " 1   Reach       9 non-null      int64 \n",
      " 2   Impact      9 non-null      int64 \n",
      " 3   Confidence  9 non-null      int64 \n",
      " 4   Efforts     9 non-null      int64 \n",
      "dtypes: int64(4), object(1)\n",
      "memory usage: 488.0+ bytes\n"
     ]
    },
    {
     "data": {
      "text/plain": [
       "None"
      ]
     },
     "metadata": {},
     "output_type": "display_data"
    }
   ],
   "source": [
    "display(hypothesis)\n",
    "display(hypothesis.info())"
   ]
  },
  {
   "cell_type": "code",
   "execution_count": 4,
   "metadata": {},
   "outputs": [
    {
     "data": {
      "text/html": [
       "<div>\n",
       "<style scoped>\n",
       "    .dataframe tbody tr th:only-of-type {\n",
       "        vertical-align: middle;\n",
       "    }\n",
       "\n",
       "    .dataframe tbody tr th {\n",
       "        vertical-align: top;\n",
       "    }\n",
       "\n",
       "    .dataframe thead th {\n",
       "        text-align: right;\n",
       "    }\n",
       "</style>\n",
       "<table border=\"1\" class=\"dataframe\">\n",
       "  <thead>\n",
       "    <tr style=\"text-align: right;\">\n",
       "      <th></th>\n",
       "      <th>transactionId</th>\n",
       "      <th>visitorId</th>\n",
       "      <th>date</th>\n",
       "      <th>revenue</th>\n",
       "      <th>group</th>\n",
       "    </tr>\n",
       "  </thead>\n",
       "  <tbody>\n",
       "    <tr>\n",
       "      <th>0</th>\n",
       "      <td>3667963787</td>\n",
       "      <td>3312258926</td>\n",
       "      <td>2019-08-15</td>\n",
       "      <td>1650</td>\n",
       "      <td>B</td>\n",
       "    </tr>\n",
       "    <tr>\n",
       "      <th>1</th>\n",
       "      <td>2804400009</td>\n",
       "      <td>3642806036</td>\n",
       "      <td>2019-08-15</td>\n",
       "      <td>730</td>\n",
       "      <td>B</td>\n",
       "    </tr>\n",
       "    <tr>\n",
       "      <th>2</th>\n",
       "      <td>2961555356</td>\n",
       "      <td>4069496402</td>\n",
       "      <td>2019-08-15</td>\n",
       "      <td>400</td>\n",
       "      <td>A</td>\n",
       "    </tr>\n",
       "    <tr>\n",
       "      <th>3</th>\n",
       "      <td>3797467345</td>\n",
       "      <td>1196621759</td>\n",
       "      <td>2019-08-15</td>\n",
       "      <td>9759</td>\n",
       "      <td>B</td>\n",
       "    </tr>\n",
       "    <tr>\n",
       "      <th>4</th>\n",
       "      <td>2282983706</td>\n",
       "      <td>2322279887</td>\n",
       "      <td>2019-08-15</td>\n",
       "      <td>2308</td>\n",
       "      <td>B</td>\n",
       "    </tr>\n",
       "    <tr>\n",
       "      <th>...</th>\n",
       "      <td>...</td>\n",
       "      <td>...</td>\n",
       "      <td>...</td>\n",
       "      <td>...</td>\n",
       "      <td>...</td>\n",
       "    </tr>\n",
       "    <tr>\n",
       "      <th>1192</th>\n",
       "      <td>2662137336</td>\n",
       "      <td>3733762160</td>\n",
       "      <td>2019-08-14</td>\n",
       "      <td>6490</td>\n",
       "      <td>B</td>\n",
       "    </tr>\n",
       "    <tr>\n",
       "      <th>1193</th>\n",
       "      <td>2203539145</td>\n",
       "      <td>370388673</td>\n",
       "      <td>2019-08-14</td>\n",
       "      <td>3190</td>\n",
       "      <td>A</td>\n",
       "    </tr>\n",
       "    <tr>\n",
       "      <th>1194</th>\n",
       "      <td>1807773912</td>\n",
       "      <td>573423106</td>\n",
       "      <td>2019-08-14</td>\n",
       "      <td>10550</td>\n",
       "      <td>A</td>\n",
       "    </tr>\n",
       "    <tr>\n",
       "      <th>1195</th>\n",
       "      <td>1947021204</td>\n",
       "      <td>1614305549</td>\n",
       "      <td>2019-08-14</td>\n",
       "      <td>100</td>\n",
       "      <td>A</td>\n",
       "    </tr>\n",
       "    <tr>\n",
       "      <th>1196</th>\n",
       "      <td>3936777065</td>\n",
       "      <td>2108080724</td>\n",
       "      <td>2019-08-15</td>\n",
       "      <td>202740</td>\n",
       "      <td>B</td>\n",
       "    </tr>\n",
       "  </tbody>\n",
       "</table>\n",
       "<p>1197 rows × 5 columns</p>\n",
       "</div>"
      ],
      "text/plain": [
       "      transactionId   visitorId        date  revenue group\n",
       "0        3667963787  3312258926  2019-08-15     1650     B\n",
       "1        2804400009  3642806036  2019-08-15      730     B\n",
       "2        2961555356  4069496402  2019-08-15      400     A\n",
       "3        3797467345  1196621759  2019-08-15     9759     B\n",
       "4        2282983706  2322279887  2019-08-15     2308     B\n",
       "...             ...         ...         ...      ...   ...\n",
       "1192     2662137336  3733762160  2019-08-14     6490     B\n",
       "1193     2203539145   370388673  2019-08-14     3190     A\n",
       "1194     1807773912   573423106  2019-08-14    10550     A\n",
       "1195     1947021204  1614305549  2019-08-14      100     A\n",
       "1196     3936777065  2108080724  2019-08-15   202740     B\n",
       "\n",
       "[1197 rows x 5 columns]"
      ]
     },
     "metadata": {},
     "output_type": "display_data"
    },
    {
     "name": "stdout",
     "output_type": "stream",
     "text": [
      "<class 'pandas.core.frame.DataFrame'>\n",
      "RangeIndex: 1197 entries, 0 to 1196\n",
      "Data columns (total 5 columns):\n",
      " #   Column         Non-Null Count  Dtype \n",
      "---  ------         --------------  ----- \n",
      " 0   transactionId  1197 non-null   int64 \n",
      " 1   visitorId      1197 non-null   int64 \n",
      " 2   date           1197 non-null   object\n",
      " 3   revenue        1197 non-null   int64 \n",
      " 4   group          1197 non-null   object\n",
      "dtypes: int64(3), object(2)\n",
      "memory usage: 46.9+ KB\n"
     ]
    },
    {
     "data": {
      "text/plain": [
       "None"
      ]
     },
     "metadata": {},
     "output_type": "display_data"
    }
   ],
   "source": [
    "display(orders)\n",
    "display(orders.info())"
   ]
  },
  {
   "cell_type": "code",
   "execution_count": 5,
   "metadata": {},
   "outputs": [
    {
     "data": {
      "text/html": [
       "<div>\n",
       "<style scoped>\n",
       "    .dataframe tbody tr th:only-of-type {\n",
       "        vertical-align: middle;\n",
       "    }\n",
       "\n",
       "    .dataframe tbody tr th {\n",
       "        vertical-align: top;\n",
       "    }\n",
       "\n",
       "    .dataframe thead th {\n",
       "        text-align: right;\n",
       "    }\n",
       "</style>\n",
       "<table border=\"1\" class=\"dataframe\">\n",
       "  <thead>\n",
       "    <tr style=\"text-align: right;\">\n",
       "      <th></th>\n",
       "      <th>date</th>\n",
       "      <th>group</th>\n",
       "      <th>visitors</th>\n",
       "    </tr>\n",
       "  </thead>\n",
       "  <tbody>\n",
       "    <tr>\n",
       "      <th>0</th>\n",
       "      <td>2019-08-01</td>\n",
       "      <td>A</td>\n",
       "      <td>719</td>\n",
       "    </tr>\n",
       "    <tr>\n",
       "      <th>1</th>\n",
       "      <td>2019-08-02</td>\n",
       "      <td>A</td>\n",
       "      <td>619</td>\n",
       "    </tr>\n",
       "    <tr>\n",
       "      <th>2</th>\n",
       "      <td>2019-08-03</td>\n",
       "      <td>A</td>\n",
       "      <td>507</td>\n",
       "    </tr>\n",
       "    <tr>\n",
       "      <th>3</th>\n",
       "      <td>2019-08-04</td>\n",
       "      <td>A</td>\n",
       "      <td>717</td>\n",
       "    </tr>\n",
       "    <tr>\n",
       "      <th>4</th>\n",
       "      <td>2019-08-05</td>\n",
       "      <td>A</td>\n",
       "      <td>756</td>\n",
       "    </tr>\n",
       "    <tr>\n",
       "      <th>...</th>\n",
       "      <td>...</td>\n",
       "      <td>...</td>\n",
       "      <td>...</td>\n",
       "    </tr>\n",
       "    <tr>\n",
       "      <th>57</th>\n",
       "      <td>2019-08-27</td>\n",
       "      <td>B</td>\n",
       "      <td>720</td>\n",
       "    </tr>\n",
       "    <tr>\n",
       "      <th>58</th>\n",
       "      <td>2019-08-28</td>\n",
       "      <td>B</td>\n",
       "      <td>654</td>\n",
       "    </tr>\n",
       "    <tr>\n",
       "      <th>59</th>\n",
       "      <td>2019-08-29</td>\n",
       "      <td>B</td>\n",
       "      <td>531</td>\n",
       "    </tr>\n",
       "    <tr>\n",
       "      <th>60</th>\n",
       "      <td>2019-08-30</td>\n",
       "      <td>B</td>\n",
       "      <td>490</td>\n",
       "    </tr>\n",
       "    <tr>\n",
       "      <th>61</th>\n",
       "      <td>2019-08-31</td>\n",
       "      <td>B</td>\n",
       "      <td>718</td>\n",
       "    </tr>\n",
       "  </tbody>\n",
       "</table>\n",
       "<p>62 rows × 3 columns</p>\n",
       "</div>"
      ],
      "text/plain": [
       "          date group  visitors\n",
       "0   2019-08-01     A       719\n",
       "1   2019-08-02     A       619\n",
       "2   2019-08-03     A       507\n",
       "3   2019-08-04     A       717\n",
       "4   2019-08-05     A       756\n",
       "..         ...   ...       ...\n",
       "57  2019-08-27     B       720\n",
       "58  2019-08-28     B       654\n",
       "59  2019-08-29     B       531\n",
       "60  2019-08-30     B       490\n",
       "61  2019-08-31     B       718\n",
       "\n",
       "[62 rows x 3 columns]"
      ]
     },
     "metadata": {},
     "output_type": "display_data"
    },
    {
     "name": "stdout",
     "output_type": "stream",
     "text": [
      "<class 'pandas.core.frame.DataFrame'>\n",
      "RangeIndex: 62 entries, 0 to 61\n",
      "Data columns (total 3 columns):\n",
      " #   Column    Non-Null Count  Dtype \n",
      "---  ------    --------------  ----- \n",
      " 0   date      62 non-null     object\n",
      " 1   group     62 non-null     object\n",
      " 2   visitors  62 non-null     int64 \n",
      "dtypes: int64(1), object(2)\n",
      "memory usage: 1.6+ KB\n"
     ]
    },
    {
     "data": {
      "text/plain": [
       "None"
      ]
     },
     "metadata": {},
     "output_type": "display_data"
    }
   ],
   "source": [
    "display(visitors)\n",
    "display(visitors.info())"
   ]
  },
  {
   "cell_type": "code",
   "execution_count": 6,
   "metadata": {},
   "outputs": [
    {
     "data": {
      "text/plain": [
       "Index(['hypothesis', 'reach', 'impact', 'confidence', 'efforts'], dtype='object')"
      ]
     },
     "metadata": {},
     "output_type": "display_data"
    },
    {
     "data": {
      "text/plain": [
       "Index(['transaction_id', 'visitor_id', 'date', 'revenue', 'group'], dtype='object')"
      ]
     },
     "metadata": {},
     "output_type": "display_data"
    }
   ],
   "source": [
    "# Корректировка названия колонок\n",
    "hypothesis.columns = hypothesis.columns.str.lower()\n",
    "orders.columns = [name.replace('Id', '_id') for name in orders.columns]\n",
    "display(hypothesis.columns)\n",
    "display(orders.columns)"
   ]
  },
  {
   "cell_type": "code",
   "execution_count": 7,
   "metadata": {},
   "outputs": [
    {
     "name": "stdout",
     "output_type": "stream",
     "text": [
      "<class 'pandas.core.frame.DataFrame'>\n",
      "RangeIndex: 1197 entries, 0 to 1196\n",
      "Data columns (total 5 columns):\n",
      " #   Column          Non-Null Count  Dtype         \n",
      "---  ------          --------------  -----         \n",
      " 0   transaction_id  1197 non-null   int64         \n",
      " 1   visitor_id      1197 non-null   int64         \n",
      " 2   date            1197 non-null   datetime64[ns]\n",
      " 3   revenue         1197 non-null   int64         \n",
      " 4   group           1197 non-null   object        \n",
      "dtypes: datetime64[ns](1), int64(3), object(1)\n",
      "memory usage: 46.9+ KB\n"
     ]
    },
    {
     "data": {
      "text/plain": [
       "None"
      ]
     },
     "metadata": {},
     "output_type": "display_data"
    },
    {
     "name": "stdout",
     "output_type": "stream",
     "text": [
      "<class 'pandas.core.frame.DataFrame'>\n",
      "RangeIndex: 62 entries, 0 to 61\n",
      "Data columns (total 3 columns):\n",
      " #   Column    Non-Null Count  Dtype         \n",
      "---  ------    --------------  -----         \n",
      " 0   date      62 non-null     datetime64[ns]\n",
      " 1   group     62 non-null     object        \n",
      " 2   visitors  62 non-null     int64         \n",
      "dtypes: datetime64[ns](1), int64(1), object(1)\n",
      "memory usage: 1.6+ KB\n"
     ]
    },
    {
     "data": {
      "text/plain": [
       "None"
      ]
     },
     "metadata": {},
     "output_type": "display_data"
    }
   ],
   "source": [
    "# Изменение типа данных для столбцов с датами\n",
    "orders['date'] = pd.to_datetime(orders['date'])\n",
    "visitors['date'] = pd.to_datetime(visitors['date'])\n",
    "display(orders.info())\n",
    "display(visitors.info())"
   ]
  },
  {
   "cell_type": "code",
   "execution_count": 8,
   "metadata": {},
   "outputs": [
    {
     "name": "stdout",
     "output_type": "stream",
     "text": [
      "Дубликаты orders: 0\n",
      "Дубликаты visitors: 0\n"
     ]
    }
   ],
   "source": [
    "# Проверка на явные дубликаты\n",
    "print ('Дубликаты orders:', orders.duplicated().sum())\n",
    "print ('Дубликаты visitors:', visitors.duplicated().sum())"
   ]
  },
  {
   "cell_type": "code",
   "execution_count": 9,
   "metadata": {
    "scrolled": true
   },
   "outputs": [
    {
     "name": "stdout",
     "output_type": "stream",
     "text": [
      "Пропуски hypothesis:\n",
      "hypothesis    0\n",
      "reach         0\n",
      "impact        0\n",
      "confidence    0\n",
      "efforts       0\n",
      "dtype: int64\n",
      "Пропуски visitors:\n",
      "date        0\n",
      "group       0\n",
      "visitors    0\n",
      "dtype: int64\n",
      "Пропуски orders:\n",
      "transaction_id    0\n",
      "visitor_id        0\n",
      "date              0\n",
      "revenue           0\n",
      "group             0\n",
      "dtype: int64\n"
     ]
    }
   ],
   "source": [
    "# Проверка на наличие пропусков в таблицах\n",
    "print ('Пропуски hypothesis:')\n",
    "print(hypothesis.isna().sum())\n",
    "print ('Пропуски visitors:')\n",
    "print(visitors.isna().sum())\n",
    "print ('Пропуски orders:')\n",
    "print(orders.isna().sum())"
   ]
  },
  {
   "cell_type": "markdown",
   "metadata": {},
   "source": [
    "## <b>Приоритизация гипотез</b>"
   ]
  },
  {
   "cell_type": "code",
   "execution_count": 10,
   "metadata": {},
   "outputs": [
    {
     "data": {
      "text/html": [
       "<div>\n",
       "<style scoped>\n",
       "    .dataframe tbody tr th:only-of-type {\n",
       "        vertical-align: middle;\n",
       "    }\n",
       "\n",
       "    .dataframe tbody tr th {\n",
       "        vertical-align: top;\n",
       "    }\n",
       "\n",
       "    .dataframe thead th {\n",
       "        text-align: right;\n",
       "    }\n",
       "</style>\n",
       "<table border=\"1\" class=\"dataframe\">\n",
       "  <thead>\n",
       "    <tr style=\"text-align: right;\">\n",
       "      <th></th>\n",
       "      <th>hypothesis</th>\n",
       "      <th>ice</th>\n",
       "    </tr>\n",
       "  </thead>\n",
       "  <tbody>\n",
       "    <tr>\n",
       "      <th>8</th>\n",
       "      <td>Запустить акцию, дающую скидку на товар в день рождения</td>\n",
       "      <td>16.20</td>\n",
       "    </tr>\n",
       "    <tr>\n",
       "      <th>0</th>\n",
       "      <td>Добавить два новых канала привлечения трафика, что позволит привлекать на 30% больше пользователей</td>\n",
       "      <td>13.33</td>\n",
       "    </tr>\n",
       "    <tr>\n",
       "      <th>7</th>\n",
       "      <td>Добавить форму подписки на все основные страницы, чтобы собрать базу клиентов для email-рассылок</td>\n",
       "      <td>11.20</td>\n",
       "    </tr>\n",
       "    <tr>\n",
       "      <th>6</th>\n",
       "      <td>Показать на главной странице баннеры с актуальными акциями и распродажами, чтобы увеличить конверсию</td>\n",
       "      <td>8.00</td>\n",
       "    </tr>\n",
       "    <tr>\n",
       "      <th>2</th>\n",
       "      <td>Добавить блоки рекомендаций товаров на сайт интернет магазина, чтобы повысить конверсию и средний чек заказа</td>\n",
       "      <td>7.00</td>\n",
       "    </tr>\n",
       "    <tr>\n",
       "      <th>1</th>\n",
       "      <td>Запустить собственную службу доставки, что сократит срок доставки заказов</td>\n",
       "      <td>2.00</td>\n",
       "    </tr>\n",
       "    <tr>\n",
       "      <th>5</th>\n",
       "      <td>Добавить страницу отзывов клиентов о магазине, что позволит увеличить количество заказов</td>\n",
       "      <td>1.33</td>\n",
       "    </tr>\n",
       "    <tr>\n",
       "      <th>3</th>\n",
       "      <td>Изменить структура категорий, что увеличит конверсию, т.к. пользователи быстрее найдут нужный товар</td>\n",
       "      <td>1.12</td>\n",
       "    </tr>\n",
       "    <tr>\n",
       "      <th>4</th>\n",
       "      <td>Изменить цвет фона главной страницы, чтобы увеличить вовлеченность пользователей</td>\n",
       "      <td>1.00</td>\n",
       "    </tr>\n",
       "  </tbody>\n",
       "</table>\n",
       "</div>"
      ],
      "text/plain": [
       "                                                                                                     hypothesis  \\\n",
       "8                                                       Запустить акцию, дающую скидку на товар в день рождения   \n",
       "0            Добавить два новых канала привлечения трафика, что позволит привлекать на 30% больше пользователей   \n",
       "7              Добавить форму подписки на все основные страницы, чтобы собрать базу клиентов для email-рассылок   \n",
       "6          Показать на главной странице баннеры с актуальными акциями и распродажами, чтобы увеличить конверсию   \n",
       "2  Добавить блоки рекомендаций товаров на сайт интернет магазина, чтобы повысить конверсию и средний чек заказа   \n",
       "1                                     Запустить собственную службу доставки, что сократит срок доставки заказов   \n",
       "5                      Добавить страницу отзывов клиентов о магазине, что позволит увеличить количество заказов   \n",
       "3           Изменить структура категорий, что увеличит конверсию, т.к. пользователи быстрее найдут нужный товар   \n",
       "4                              Изменить цвет фона главной страницы, чтобы увеличить вовлеченность пользователей   \n",
       "\n",
       "     ice  \n",
       "8  16.20  \n",
       "0  13.33  \n",
       "7  11.20  \n",
       "6   8.00  \n",
       "2   7.00  \n",
       "1   2.00  \n",
       "5   1.33  \n",
       "3   1.12  \n",
       "4   1.00  "
      ]
     },
     "metadata": {},
     "output_type": "display_data"
    }
   ],
   "source": [
    "# ICE\n",
    "pd.set_option('display.max_colwidth', None) # Сняли ограничение для визуала\n",
    "hypothesis['ice'] = hypothesis['impact'] * hypothesis['confidence'] / hypothesis['efforts']\n",
    "hypothesis['ice'] = hypothesis['ice'].round(2) # Округлили за ненадобностью\n",
    "\n",
    "display(hypothesis[['hypothesis', 'ice']].sort_values(by='ice', ascending=False))"
   ]
  },
  {
   "cell_type": "code",
   "execution_count": 11,
   "metadata": {},
   "outputs": [
    {
     "data": {
      "text/html": [
       "<div>\n",
       "<style scoped>\n",
       "    .dataframe tbody tr th:only-of-type {\n",
       "        vertical-align: middle;\n",
       "    }\n",
       "\n",
       "    .dataframe tbody tr th {\n",
       "        vertical-align: top;\n",
       "    }\n",
       "\n",
       "    .dataframe thead th {\n",
       "        text-align: right;\n",
       "    }\n",
       "</style>\n",
       "<table border=\"1\" class=\"dataframe\">\n",
       "  <thead>\n",
       "    <tr style=\"text-align: right;\">\n",
       "      <th></th>\n",
       "      <th>hypothesis</th>\n",
       "      <th>rice</th>\n",
       "    </tr>\n",
       "  </thead>\n",
       "  <tbody>\n",
       "    <tr>\n",
       "      <th>7</th>\n",
       "      <td>Добавить форму подписки на все основные страницы, чтобы собрать базу клиентов для email-рассылок</td>\n",
       "      <td>112.0</td>\n",
       "    </tr>\n",
       "    <tr>\n",
       "      <th>2</th>\n",
       "      <td>Добавить блоки рекомендаций товаров на сайт интернет магазина, чтобы повысить конверсию и средний чек заказа</td>\n",
       "      <td>56.0</td>\n",
       "    </tr>\n",
       "    <tr>\n",
       "      <th>0</th>\n",
       "      <td>Добавить два новых канала привлечения трафика, что позволит привлекать на 30% больше пользователей</td>\n",
       "      <td>40.0</td>\n",
       "    </tr>\n",
       "    <tr>\n",
       "      <th>6</th>\n",
       "      <td>Показать на главной странице баннеры с актуальными акциями и распродажами, чтобы увеличить конверсию</td>\n",
       "      <td>40.0</td>\n",
       "    </tr>\n",
       "    <tr>\n",
       "      <th>8</th>\n",
       "      <td>Запустить акцию, дающую скидку на товар в день рождения</td>\n",
       "      <td>16.2</td>\n",
       "    </tr>\n",
       "    <tr>\n",
       "      <th>3</th>\n",
       "      <td>Изменить структура категорий, что увеличит конверсию, т.к. пользователи быстрее найдут нужный товар</td>\n",
       "      <td>9.0</td>\n",
       "    </tr>\n",
       "    <tr>\n",
       "      <th>1</th>\n",
       "      <td>Запустить собственную службу доставки, что сократит срок доставки заказов</td>\n",
       "      <td>4.0</td>\n",
       "    </tr>\n",
       "    <tr>\n",
       "      <th>5</th>\n",
       "      <td>Добавить страницу отзывов клиентов о магазине, что позволит увеличить количество заказов</td>\n",
       "      <td>4.0</td>\n",
       "    </tr>\n",
       "    <tr>\n",
       "      <th>4</th>\n",
       "      <td>Изменить цвет фона главной страницы, чтобы увеличить вовлеченность пользователей</td>\n",
       "      <td>3.0</td>\n",
       "    </tr>\n",
       "  </tbody>\n",
       "</table>\n",
       "</div>"
      ],
      "text/plain": [
       "                                                                                                     hypothesis  \\\n",
       "7              Добавить форму подписки на все основные страницы, чтобы собрать базу клиентов для email-рассылок   \n",
       "2  Добавить блоки рекомендаций товаров на сайт интернет магазина, чтобы повысить конверсию и средний чек заказа   \n",
       "0            Добавить два новых канала привлечения трафика, что позволит привлекать на 30% больше пользователей   \n",
       "6          Показать на главной странице баннеры с актуальными акциями и распродажами, чтобы увеличить конверсию   \n",
       "8                                                       Запустить акцию, дающую скидку на товар в день рождения   \n",
       "3           Изменить структура категорий, что увеличит конверсию, т.к. пользователи быстрее найдут нужный товар   \n",
       "1                                     Запустить собственную службу доставки, что сократит срок доставки заказов   \n",
       "5                      Добавить страницу отзывов клиентов о магазине, что позволит увеличить количество заказов   \n",
       "4                              Изменить цвет фона главной страницы, чтобы увеличить вовлеченность пользователей   \n",
       "\n",
       "    rice  \n",
       "7  112.0  \n",
       "2   56.0  \n",
       "0   40.0  \n",
       "6   40.0  \n",
       "8   16.2  \n",
       "3    9.0  \n",
       "1    4.0  \n",
       "5    4.0  \n",
       "4    3.0  "
      ]
     },
     "metadata": {},
     "output_type": "display_data"
    }
   ],
   "source": [
    "# Аналогично для RICE\n",
    "hypothesis['rice']=(hypothesis['reach']*hypothesis['impact']*hypothesis['confidence'])/hypothesis['efforts']\n",
    "hypothesis['rice'] = hypothesis['rice'].round(2) # Округлили за ненадобностью\n",
    "display (hypothesis[['hypothesis','rice']].sort_values(by='rice', ascending=False))"
   ]
  },
  {
   "cell_type": "markdown",
   "metadata": {},
   "source": [
    "<b>Выводы этапа:</b>\n",
    "\n",
    "- Согласно фреймворку ICE, топ приоритетных гипотез: 8,0,7,6.\n",
    "- Согласно фреймворку RICE, топ приоритетных гипотез: 7,2,0,6.\n",
    "\n",
    "Различия обусловлены тем, что при расчете RICE учитывается параметр охвата пользователей.\n",
    "\n",
    "Гипотезы 0 и 7 попали в топ в обоих фреймворках. Данные гипотезы нужно взять в работу в первую очередь - они имеют потенциально высокий результат и охват."
   ]
  },
  {
   "cell_type": "markdown",
   "metadata": {},
   "source": [
    "## <b>Анализ A/B-теста</b>"
   ]
  },
  {
   "cell_type": "code",
   "execution_count": 12,
   "metadata": {},
   "outputs": [
    {
     "data": {
      "text/plain": [
       "503"
      ]
     },
     "metadata": {},
     "output_type": "display_data"
    },
    {
     "data": {
      "text/plain": [
       "586"
      ]
     },
     "metadata": {},
     "output_type": "display_data"
    },
    {
     "data": {
      "text/plain": [
       "0.16500994035785288"
      ]
     },
     "metadata": {},
     "output_type": "display_data"
    }
   ],
   "source": [
    "#Проверка сбалансированности групп по числу покупателей\n",
    "\n",
    "display(orders.query('group == \"A\"')['visitor_id'].nunique())\n",
    "display(orders.query('group == \"B\"')['visitor_id'].nunique())\n",
    "display((orders.query('group == \"B\"')['visitor_id'].nunique()-orders.query('group == \"A\"')['visitor_id'].nunique())/orders.query('group == \"A\"')['visitor_id'].nunique())"
   ]
  },
  {
   "cell_type": "markdown",
   "metadata": {},
   "source": [
    "Группы не сбалансированы"
   ]
  },
  {
   "cell_type": "code",
   "execution_count": 13,
   "metadata": {},
   "outputs": [
    {
     "data": {
      "text/plain": [
       "'Кол-во покупателей, попавших в обе группы: 58'"
      ]
     },
     "metadata": {},
     "output_type": "display_data"
    }
   ],
   "source": [
    "# Проверка на попадание в обе группы\n",
    "\n",
    "duplicated_users = orders.groupby('visitor_id')['group'].nunique()\n",
    "duplicated_users = duplicated_users[duplicated_users > 1]\n",
    "\n",
    "display(f\"Кол-во покупателей, попавших в обе группы: {len(duplicated_users)}\")"
   ]
  },
  {
   "cell_type": "code",
   "execution_count": 14,
   "metadata": {},
   "outputs": [],
   "source": [
    "# Зафиксировано 58 покупателя участвовавших в обоих группах теста.Удалим их во избежание искажений результатов\n",
    "raw_orders = orders.query('visitor_id not in @duplicated_users.index')"
   ]
  },
  {
   "cell_type": "code",
   "execution_count": 15,
   "metadata": {},
   "outputs": [
    {
     "name": "stdout",
     "output_type": "stream",
     "text": [
      "2019-08-01 00:00:00\n",
      "2019-08-31 00:00:00\n",
      "2019-08-01 00:00:00\n",
      "2019-08-31 00:00:00\n"
     ]
    }
   ],
   "source": [
    "print(orders['date'].min())\n",
    "print(orders['date'].max())\n",
    "print(visitors['date'].min())\n",
    "print(visitors['date'].max())"
   ]
  },
  {
   "cell_type": "markdown",
   "metadata": {},
   "source": [
    "Даты теста с 1 по 31 августа 2019 года"
   ]
  },
  {
   "cell_type": "code",
   "execution_count": 16,
   "metadata": {},
   "outputs": [
    {
     "name": "stdout",
     "output_type": "stream",
     "text": [
      "['B' 'A']\n"
     ]
    },
    {
     "data": {
      "text/html": [
       "<div>\n",
       "<style scoped>\n",
       "    .dataframe tbody tr th:only-of-type {\n",
       "        vertical-align: middle;\n",
       "    }\n",
       "\n",
       "    .dataframe tbody tr th {\n",
       "        vertical-align: top;\n",
       "    }\n",
       "\n",
       "    .dataframe thead th {\n",
       "        text-align: right;\n",
       "    }\n",
       "</style>\n",
       "<table border=\"1\" class=\"dataframe\">\n",
       "  <thead>\n",
       "    <tr style=\"text-align: right;\">\n",
       "      <th></th>\n",
       "      <th>date</th>\n",
       "      <th>group</th>\n",
       "    </tr>\n",
       "  </thead>\n",
       "  <tbody>\n",
       "    <tr>\n",
       "      <th>0</th>\n",
       "      <td>2019-08-15</td>\n",
       "      <td>B</td>\n",
       "    </tr>\n",
       "    <tr>\n",
       "      <th>7</th>\n",
       "      <td>2019-08-15</td>\n",
       "      <td>A</td>\n",
       "    </tr>\n",
       "    <tr>\n",
       "      <th>45</th>\n",
       "      <td>2019-08-16</td>\n",
       "      <td>A</td>\n",
       "    </tr>\n",
       "    <tr>\n",
       "      <th>47</th>\n",
       "      <td>2019-08-16</td>\n",
       "      <td>B</td>\n",
       "    </tr>\n",
       "    <tr>\n",
       "      <th>55</th>\n",
       "      <td>2019-08-01</td>\n",
       "      <td>A</td>\n",
       "    </tr>\n",
       "  </tbody>\n",
       "</table>\n",
       "</div>"
      ],
      "text/plain": [
       "         date group\n",
       "0  2019-08-15     B\n",
       "7  2019-08-15     A\n",
       "45 2019-08-16     A\n",
       "47 2019-08-16     B\n",
       "55 2019-08-01     A"
      ]
     },
     "execution_count": 16,
     "metadata": {},
     "output_type": "execute_result"
    }
   ],
   "source": [
    "# создаем массив уникальных пар значений дат и групп теста\n",
    "dates_groups = raw_orders[['date','group']].drop_duplicates()\n",
    "print(dates_groups['group'].unique())\n",
    "dates_groups.head ()"
   ]
  },
  {
   "cell_type": "code",
   "execution_count": 17,
   "metadata": {},
   "outputs": [],
   "source": [
    "# получаем агрегированные кумулятивные по дням данные о заказах \n",
    "ordersAggregated = dates_groups.apply(\n",
    "    lambda x: raw_orders[\n",
    "        np.logical_and(\n",
    "            raw_orders['date'] <= x['date'], raw_orders['group'] == x['group']\n",
    "        )\n",
    "    ].agg(\n",
    "        {\n",
    "            'date': 'max',\n",
    "            'group': 'max',\n",
    "            'transaction_id': 'nunique',\n",
    "            'visitor_id': 'nunique',\n",
    "            'revenue': 'sum',\n",
    "        }\n",
    "    ),\n",
    "    axis=1,\n",
    ").sort_values(by=['date', 'group'])"
   ]
  },
  {
   "cell_type": "code",
   "execution_count": 18,
   "metadata": {},
   "outputs": [],
   "source": [
    "# получаем агрегированные кумулятивные по дням данные о посетителях\n",
    "visitorsAggregated = dates_groups.apply(\n",
    "    lambda x: visitors[\n",
    "        np.logical_and(\n",
    "            visitors['date'] <= x['date'], visitors['group'] == x['group']\n",
    "        )\n",
    "    ].agg(\n",
    "        {\n",
    "            'date': 'max', \n",
    "            'group': 'max', \n",
    "            'visitors': 'sum'\n",
    "        }\n",
    "    ),\n",
    "    axis=1,\n",
    ").sort_values(by=['date', 'group'])"
   ]
  },
  {
   "cell_type": "code",
   "execution_count": 19,
   "metadata": {},
   "outputs": [
    {
     "data": {
      "text/html": [
       "<div>\n",
       "<style scoped>\n",
       "    .dataframe tbody tr th:only-of-type {\n",
       "        vertical-align: middle;\n",
       "    }\n",
       "\n",
       "    .dataframe tbody tr th {\n",
       "        vertical-align: top;\n",
       "    }\n",
       "\n",
       "    .dataframe thead th {\n",
       "        text-align: right;\n",
       "    }\n",
       "</style>\n",
       "<table border=\"1\" class=\"dataframe\">\n",
       "  <thead>\n",
       "    <tr style=\"text-align: right;\">\n",
       "      <th></th>\n",
       "      <th>date</th>\n",
       "      <th>group</th>\n",
       "      <th>orders</th>\n",
       "      <th>buyers</th>\n",
       "      <th>revenue</th>\n",
       "      <th>visitors</th>\n",
       "    </tr>\n",
       "  </thead>\n",
       "  <tbody>\n",
       "    <tr>\n",
       "      <th>0</th>\n",
       "      <td>2019-08-01</td>\n",
       "      <td>A</td>\n",
       "      <td>23</td>\n",
       "      <td>19</td>\n",
       "      <td>142779</td>\n",
       "      <td>719</td>\n",
       "    </tr>\n",
       "    <tr>\n",
       "      <th>1</th>\n",
       "      <td>2019-08-01</td>\n",
       "      <td>B</td>\n",
       "      <td>17</td>\n",
       "      <td>17</td>\n",
       "      <td>59758</td>\n",
       "      <td>713</td>\n",
       "    </tr>\n",
       "    <tr>\n",
       "      <th>2</th>\n",
       "      <td>2019-08-02</td>\n",
       "      <td>A</td>\n",
       "      <td>42</td>\n",
       "      <td>36</td>\n",
       "      <td>234381</td>\n",
       "      <td>1338</td>\n",
       "    </tr>\n",
       "    <tr>\n",
       "      <th>3</th>\n",
       "      <td>2019-08-02</td>\n",
       "      <td>B</td>\n",
       "      <td>40</td>\n",
       "      <td>39</td>\n",
       "      <td>221801</td>\n",
       "      <td>1294</td>\n",
       "    </tr>\n",
       "    <tr>\n",
       "      <th>4</th>\n",
       "      <td>2019-08-03</td>\n",
       "      <td>A</td>\n",
       "      <td>66</td>\n",
       "      <td>60</td>\n",
       "      <td>346854</td>\n",
       "      <td>1845</td>\n",
       "    </tr>\n",
       "  </tbody>\n",
       "</table>\n",
       "</div>"
      ],
      "text/plain": [
       "        date group  orders  buyers  revenue  visitors\n",
       "0 2019-08-01     A      23      19   142779       719\n",
       "1 2019-08-01     B      17      17    59758       713\n",
       "2 2019-08-02     A      42      36   234381      1338\n",
       "3 2019-08-02     B      40      39   221801      1294\n",
       "4 2019-08-03     A      66      60   346854      1845"
      ]
     },
     "metadata": {},
     "output_type": "display_data"
    }
   ],
   "source": [
    "# объединяем кумулятивные данные в одной таблице и присваиваем ее столбцам понятные названия\n",
    "cumulativeData = ordersAggregated.merge(visitorsAggregated, left_on=['date', 'group'], right_on=['date', 'group'])\n",
    "cumulativeData.columns = ['date', 'group', 'orders', 'buyers', 'revenue', 'visitors']\n",
    "\n",
    "display(cumulativeData.head(5)) "
   ]
  },
  {
   "cell_type": "code",
   "execution_count": 20,
   "metadata": {},
   "outputs": [],
   "source": [
    "# датафрейм с кумулятивным количеством заказов и кумулятивной выручкой по дням в группе А\n",
    "cumulativeRevenueA = cumulativeData[cumulativeData['group']=='A'][['date','revenue', 'orders']]\n",
    "\n",
    "# датафрейм с кумулятивным количеством заказов и кумулятивной выручкой по дням в группе B\n",
    "cumulativeRevenueB = cumulativeData[cumulativeData['group']=='B'][['date','revenue', 'orders']]"
   ]
  },
  {
   "cell_type": "markdown",
   "metadata": {},
   "source": [
    "### <b>Построение графика кумулятивной выручки по группам</b>"
   ]
  },
  {
   "cell_type": "code",
   "execution_count": 21,
   "metadata": {},
   "outputs": [
    {
     "data": {
      "image/png": "[encoded data removed]",
      "text/plain": [
       "<Figure size 720x720 with 1 Axes>"
      ]
     },
     "metadata": {
      "needs_background": "light"
     },
     "output_type": "display_data"
    }
   ],
   "source": [
    "plt.plot(cumulativeRevenueA['date'], cumulativeRevenueA['revenue'], label='A')\n",
    "plt.plot(cumulativeRevenueB['date'], cumulativeRevenueB['revenue'], label='B')\n",
    "plt.legend()\n",
    "plt.title('График кумулятивной выручки по группам А и В')\n",
    "plt.xlabel('Дата')\n",
    "plt.ylabel('Выручка')\n",
    "plt.grid ('True')\n",
    "plt.show()"
   ]
  },
  {
   "cell_type": "markdown",
   "metadata": {},
   "source": [
    "<b>Вывод:</b>\n",
    "- Выручка по группе А увеличивается равномерно без явных скачков.\n",
    "- Выручка по группе B находится выше,а в районе 19 числа зафиксирована точка резкого роста (всплеск числа или дорогих заказов)"
   ]
  },
  {
   "cell_type": "markdown",
   "metadata": {},
   "source": [
    "### <b>Построение графика кумулятивного среднего чека по группам</b>"
   ]
  },
  {
   "cell_type": "code",
   "execution_count": 22,
   "metadata": {},
   "outputs": [
    {
     "data": {
      "image/png": "[encoded data removed]",
      "text/plain": [
       "<Figure size 720x720 with 1 Axes>"
      ]
     },
     "metadata": {
      "needs_background": "light"
     },
     "output_type": "display_data"
    }
   ],
   "source": [
    "plt.plot(cumulativeRevenueA['date'], cumulativeRevenueA['revenue']/cumulativeRevenueA['orders'], label='A')\n",
    "plt.plot(cumulativeRevenueB['date'], cumulativeRevenueB['revenue']/cumulativeRevenueB['orders'], label='B')\n",
    "plt.legend()\n",
    "plt.title('График кумулятивного среднего чека по группам')\n",
    "plt.xlabel('Дата')\n",
    "plt.ylabel('Средний чек')\n",
    "plt.grid ('True')\n",
    "plt.show()"
   ]
  },
  {
   "cell_type": "markdown",
   "metadata": {},
   "source": [
    "<b>Вывод:</b>\n",
    "- Средний чек по группе А сначала имеет нисходящий тренд, после 5-го числа виден быстрый рост начиная с 13-ого числа сильно не изменяется;\n",
    "- Средний чек по группе В имеет ступенчатый вид с резкими ростами 1 и 17 числа, имеет лучшие результаты относительно группы А, начиная с 19 числа наблюдается нисходящий тренд"
   ]
  },
  {
   "cell_type": "markdown",
   "metadata": {},
   "source": [
    "### <b> Построение графика относительного изменения кумулятивного среднего чека группы B к группе A</b>"
   ]
  },
  {
   "cell_type": "code",
   "execution_count": 23,
   "metadata": {},
   "outputs": [
    {
     "data": {
      "image/png": "[encoded data removed]",
      "text/plain": [
       "<Figure size 720x720 with 1 Axes>"
      ]
     },
     "metadata": {
      "needs_background": "light"
     },
     "output_type": "display_data"
    }
   ],
   "source": [
    "mergedCumulativeRevenue = cumulativeRevenueA.merge(cumulativeRevenueB, left_on='date', right_on='date', how='left', suffixes=['A', 'B'])\n",
    "\n",
    "plt.plot(mergedCumulativeRevenue['date'], \n",
    "         (mergedCumulativeRevenue['revenueB']/mergedCumulativeRevenue['ordersB'])/(mergedCumulativeRevenue['revenueA']/mergedCumulativeRevenue['ordersA'])-1)\n",
    "\n",
    "plt.axhline(y=0, color='black', linestyle='--')\n",
    "plt.title('График относительного изменения кумулятивного среднего чека группы B к группе A')\n",
    "plt.xlabel('Дата')\n",
    "plt.ylabel('Изменение кумулятивного среднего чека')\n",
    "plt.grid ('True')\n",
    "plt.show()"
   ]
  },
  {
   "cell_type": "markdown",
   "metadata": {},
   "source": [
    "<b>Вывод:</b>\n",
    "- Зафиксированы несколько областей резкого роста:в начале теста и всередине. Между ними - резкое падение.\n",
    "- Вероятная причина - аномальные выбросы, крупные заказы."
   ]
  },
  {
   "cell_type": "markdown",
   "metadata": {},
   "source": [
    "### <b>Построение графика кумулятивного среднего количества заказов на посетителя по группам</b>"
   ]
  },
  {
   "cell_type": "code",
   "execution_count": 24,
   "metadata": {},
   "outputs": [
    {
     "data": {
      "image/png": "[encoded data removed]",
      "text/plain": [
       "<Figure size 720x720 with 1 Axes>"
      ]
     },
     "metadata": {
      "needs_background": "light"
     },
     "output_type": "display_data"
    }
   ],
   "source": [
    "# считаем конверсию\n",
    "cumulativeData['conversion'] = cumulativeData['orders']/cumulativeData['visitors']\n",
    "\n",
    "# отделяем данные по группе A\n",
    "cumulativeDataA = cumulativeData[cumulativeData['group']=='A']\n",
    "\n",
    "# отделяем данные по группе B\n",
    "cumulativeDataB = cumulativeData[cumulativeData['group']=='B']\n",
    "\n",
    "# строим графики\n",
    "plt.plot(cumulativeDataA['date'], cumulativeDataA['conversion'], label='A')\n",
    "plt.plot(cumulativeDataB['date'], cumulativeDataB['conversion'], label='B')\n",
    "plt.legend()\n",
    "plt.title('График кумулятивного среднего количества заказов на посетителя по группам')\n",
    "plt.xlabel('Дата')\n",
    "plt.ylabel('Кумулятивное среднее кол-ва заказов на посетителя')\n",
    "plt.grid ('True')\n",
    "plt.show()"
   ]
  },
  {
   "cell_type": "markdown",
   "metadata": {},
   "source": [
    "<b>Вывод:</b>\n",
    "Группы колебались около одного значения на старте, затем среднее количества заказов на посетителя по групе B постепенно выровнялось и зафиксировалось выше значения группы А."
   ]
  },
  {
   "cell_type": "markdown",
   "metadata": {},
   "source": [
    "### <b>Построение графика относительного изменения кумулятивного среднего количества заказов на посетителя группы B к группе А</b>"
   ]
  },
  {
   "cell_type": "code",
   "execution_count": 25,
   "metadata": {},
   "outputs": [
    {
     "data": {
      "image/png": "[encoded data removed]",
      "text/plain": [
       "<Figure size 720x720 with 1 Axes>"
      ]
     },
     "metadata": {
      "needs_background": "light"
     },
     "output_type": "display_data"
    }
   ],
   "source": [
    "mergedCumulativeConversions = cumulativeDataA[['date','conversion']].merge(cumulativeDataB[['date','conversion']], left_on='date', right_on='date', how='left', suffixes=['A', 'B'])\n",
    "\n",
    "plt.plot(mergedCumulativeConversions['date'], \n",
    "         mergedCumulativeConversions['conversionB']/mergedCumulativeConversions['conversionA']-1, label=\"Относительный прирост группы B к группе A\")\n",
    "plt.axhline(y=0, color='black', linestyle='--')\n",
    "plt.axhline(y=0.15, color='grey', linestyle='--')\n",
    "plt.title('График относительного изменения кумулятивного среднего количества заказов на посетителя группы B к группе A')\n",
    "plt.xlabel('Дата')\n",
    "plt.ylabel('Относительное изменения кумулятивного среднего количества заказов на посетителя')\n",
    "plt.grid ('True')\n",
    "plt.show()\n"
   ]
  },
  {
   "cell_type": "markdown",
   "metadata": {},
   "source": [
    "<b>Вывод:</b>\n",
    "- В начале теста группа B уступает группе A, затем уверенно вырывается вперёд и фиксируется около прироста в 15% относительно группы А"
   ]
  },
  {
   "cell_type": "markdown",
   "metadata": {},
   "source": [
    "### <b>Построение skatter графика количества заказов по пользователям</b>"
   ]
  },
  {
   "cell_type": "code",
   "execution_count": 26,
   "metadata": {},
   "outputs": [
    {
     "data": {
      "image/png": "[encoded data removed]",
      "text/plain": [
       "<Figure size 720x720 with 1 Axes>"
      ]
     },
     "metadata": {
      "needs_background": "light"
     },
     "output_type": "display_data"
    }
   ],
   "source": [
    "ordersbyusers = (\n",
    "    raw_orders.groupby('visitor_id', as_index=False)\n",
    "    .agg({'transaction_id': 'nunique'}))\n",
    "\n",
    "ordersbyusers.columns = ['user_id', 'orders']\n",
    "\n",
    "x_values = pd.Series(range(0, len(ordersbyusers)))\n",
    "plt.scatter(x_values, ordersbyusers['orders'])\n",
    "plt.title('Точечный график количества заказов по пользователям')\n",
    "plt.xlabel('Пользователи')\n",
    "plt.ylabel('Кол-во заказов')\n",
    "plt.grid ('True')\n",
    "plt.show()"
   ]
  },
  {
   "cell_type": "markdown",
   "metadata": {},
   "source": [
    "<b>Вывод:</b>\n",
    "- Большинство покупателей заказывали только один раз"
   ]
  },
  {
   "cell_type": "markdown",
   "metadata": {},
   "source": [
    "### <b>Расчет 95-го и 99-го перцентилей количества заказов на пользователя</b>"
   ]
  },
  {
   "cell_type": "code",
   "execution_count": 27,
   "metadata": {},
   "outputs": [
    {
     "name": "stdout",
     "output_type": "stream",
     "text": [
      "[1. 2.]\n"
     ]
    }
   ],
   "source": [
    "print (np.percentile(ordersbyusers['orders'], [95, 99])) "
   ]
  },
  {
   "cell_type": "markdown",
   "metadata": {},
   "source": [
    "<b>Вывод:</b>\n",
    "- Не более 5% пользователей оформляли более 1 заказа, не более 1% - более 2 заказов. Следовательно, можно выбрать 2 заказа на одного пользователя за верхнюю границу"
   ]
  },
  {
   "cell_type": "markdown",
   "metadata": {},
   "source": [
    "### <b>Построение skatter графика стоимостей заказов </b>"
   ]
  },
  {
   "cell_type": "code",
   "execution_count": 28,
   "metadata": {},
   "outputs": [
    {
     "data": {
      "image/png": "[encoded data removed]",
      "text/plain": [
       "<Figure size 720x720 with 1 Axes>"
      ]
     },
     "metadata": {
      "needs_background": "light"
     },
     "output_type": "display_data"
    }
   ],
   "source": [
    "x_values = pd.Series(range(0, len(raw_orders['revenue'])))\n",
    "plt.scatter(x_values, raw_orders['revenue'])\n",
    "plt.title('Точечный график стоимостей заказов')\n",
    "plt.xlabel('Пользователи')\n",
    "plt.ylabel('Стоимость заказов, млн.')\n",
    "plt.grid ('True')"
   ]
  },
  {
   "cell_type": "markdown",
   "metadata": {},
   "source": [
    "<b>Вывод:</b>\n",
    "- Стоимость свыше 200 тыс. аномальна"
   ]
  },
  {
   "cell_type": "code",
   "execution_count": 29,
   "metadata": {},
   "outputs": [
    {
     "data": {
      "image/png": "[encoded data removed]",
      "text/plain": [
       "<Figure size 720x720 with 1 Axes>"
      ]
     },
     "metadata": {
      "needs_background": "light"
     },
     "output_type": "display_data"
    }
   ],
   "source": [
    "new_raw_orders= raw_orders[raw_orders['revenue'] < 200000]\n",
    "\n",
    "x_values = pd.Series(range(0, len(new_raw_orders['revenue'])))\n",
    "plt.scatter(x_values, new_raw_orders['revenue'])\n",
    "plt.title('Точечный график стоимостей заказов менее 200 тыс.')\n",
    "plt.xlabel('Пользователи')\n",
    "plt.ylabel('Стоимость заказов, млн.')\n",
    "plt.grid ('True')"
   ]
  },
  {
   "cell_type": "markdown",
   "metadata": {},
   "source": [
    "### <b>Расчет 95-го и 99-го перцентилей стоимости заказов</b>"
   ]
  },
  {
   "cell_type": "code",
   "execution_count": 30,
   "metadata": {},
   "outputs": [
    {
     "name": "stdout",
     "output_type": "stream",
     "text": [
      "[26785. 53904.]\n"
     ]
    }
   ],
   "source": [
    "print(np.percentile(raw_orders['revenue'], [95, 99])) "
   ]
  },
  {
   "cell_type": "markdown",
   "metadata": {},
   "source": [
    "<b>Вывод:</b>\n",
    "Не более 5% заказов имеют чек дороже 26785. Следовательно, можно выбрать это значение в каестве верхней границы."
   ]
  },
  {
   "cell_type": "markdown",
   "metadata": {},
   "source": [
    "### <b>Расчет статистической значимости различий в среднем количестве заказов на посетителя между группами по «сырым» данным</b>"
   ]
  },
  {
   "cell_type": "markdown",
   "metadata": {},
   "source": [
    "Для расчета статистической значимости различий в среднем количестве заказов на посетителя между группами по «сырым» данным сформируем гипотезы:\n",
    "\n",
    "- H0: Различий в среднем количестве заказов на посетителя между группами нет.\n",
    "\n",
    "- H1: Различия в среднем количестве заказов на посетителя между группами есть.\n",
    "\n",
    "Критический уровень значимости (альфа): 0,05.\n",
    "\n",
    "Метод проверки гипотез: критерий Манна-Уитни."
   ]
  },
  {
   "cell_type": "code",
   "execution_count": 31,
   "metadata": {},
   "outputs": [],
   "source": [
    "visitorsADaily = visitors[visitors['group'] == 'A'][['date', 'visitors']]\n",
    "visitorsADaily.columns = ['date', 'visitorsPerDateA']\n",
    "visitorsACummulative = visitorsADaily.apply(\n",
    "    lambda x: visitorsADaily[visitorsADaily['date'] <= x['date']].agg(\n",
    "        {'date': 'max', 'visitorsPerDateA': 'sum'}\n",
    "    ),\n",
    "    axis=1,\n",
    ")\n",
    "visitorsACummulative.columns = ['date', 'visitorsCummulativeA']\n",
    "\n",
    "visitorsBDaily = visitors[visitors['group'] == 'B'][['date', 'visitors']]\n",
    "visitorsBDaily.columns = ['date', 'visitorsPerDateB']\n",
    "visitorsBCummulative = visitorsBDaily.apply(\n",
    "    lambda x: visitorsBDaily[visitorsBDaily['date'] <= x['date']].agg(\n",
    "        {'date': 'max', 'visitorsPerDateB': 'sum'}\n",
    "    ),\n",
    "    axis=1,\n",
    ")\n",
    "visitorsBCummulative.columns = ['date', 'visitorsCummulativeB']\n",
    "\n",
    "ordersADaily = (\n",
    "    raw_orders[raw_orders['group'] == 'A'][['date', 'transaction_id', 'visitor_id', 'revenue']]\n",
    "    .groupby('date', as_index=False)\n",
    "    .agg({'transaction_id': pd.Series.nunique, 'revenue': 'sum'})\n",
    ")\n",
    "ordersADaily.columns = ['date', 'ordersPerDateA', 'revenuePerDateA']\n",
    "\n",
    "ordersACummulative = ordersADaily.apply(\n",
    "    lambda x: ordersADaily[ordersADaily['date'] <= x['date']].agg(\n",
    "        {'date': 'max', 'ordersPerDateA': 'sum', 'revenuePerDateA': 'sum'}\n",
    "    ),\n",
    "    axis=1,\n",
    ").sort_values(by=['date'])\n",
    "ordersACummulative.columns = [\n",
    "    'date',\n",
    "    'ordersCummulativeA',\n",
    "    'revenueCummulativeA',\n",
    "]\n",
    "\n",
    "ordersBDaily = (\n",
    "    raw_orders[raw_orders['group'] == 'B'][['date', 'transaction_id', 'visitor_id', 'revenue']]\n",
    "    .groupby('date', as_index=False)\n",
    "    .agg({'transaction_id': pd.Series.nunique, 'revenue': 'sum'})\n",
    ")\n",
    "ordersBDaily.columns = ['date', 'ordersPerDateB', 'revenuePerDateB']\n",
    "\n",
    "ordersBCummulative = ordersBDaily.apply(\n",
    "    lambda x: ordersBDaily[ordersBDaily['date'] <= x['date']].agg(\n",
    "        {'date': 'max', 'ordersPerDateB': 'sum', 'revenuePerDateB': 'sum'}\n",
    "    ),\n",
    "    axis=1,\n",
    ").sort_values(by=['date'])\n",
    "ordersBCummulative.columns = [\n",
    "    'date',\n",
    "    'ordersCummulativeB',\n",
    "    'revenueCummulativeB',\n",
    "]\n",
    "\n",
    "\n",
    "data = (\n",
    "    ordersADaily.merge(\n",
    "        ordersBDaily, left_on='date', right_on='date', how='left'\n",
    "    )\n",
    "    .merge(ordersACummulative, left_on='date', right_on='date', how='left')\n",
    "    .merge(ordersBCummulative, left_on='date', right_on='date', how='left')\n",
    "    .merge(visitorsADaily, left_on='date', right_on='date', how='left')\n",
    "    .merge(visitorsBDaily, left_on='date', right_on='date', how='left')\n",
    "    .merge(visitorsACummulative, left_on='date', right_on='date', how='left')\n",
    "    .merge(visitorsBCummulative, left_on='date', right_on='date', how='left')\n",
    ")"
   ]
  },
  {
   "cell_type": "code",
   "execution_count": 32,
   "metadata": {},
   "outputs": [],
   "source": [
    "ordersByUsersA = (\n",
    "    raw_orders[raw_orders['group'] == 'A']\n",
    "    .groupby('visitor_id', as_index=False)\n",
    "    .agg({'transaction_id': pd.Series.nunique})\n",
    ")\n",
    "ordersByUsersA.columns = ['user_Id', 'orders']\n",
    "\n",
    "ordersByUsersB = (\n",
    "    raw_orders[raw_orders['group'] == 'B']\n",
    "    .groupby('visitor_id', as_index=False)\n",
    "    .agg({'transaction_id': pd.Series.nunique})\n",
    ")\n",
    "ordersByUsersB.columns = ['user_Id', 'orders'] "
   ]
  },
  {
   "cell_type": "code",
   "execution_count": 33,
   "metadata": {},
   "outputs": [
    {
     "name": "stdout",
     "output_type": "stream",
     "text": [
      "p-value = 0.01102\n",
      "Относительная разница: 0.160\n",
      "Отвергаем нулевую гипотезу\n"
     ]
    }
   ],
   "source": [
    "sampleA = pd.concat([ordersByUsersA['orders'],pd.Series(0, index=np.arange(data['visitorsPerDateA'].sum() - len(ordersByUsersA['orders'])), name='orders')],axis=0)\n",
    "\n",
    "sampleB = pd.concat([ordersByUsersB['orders'],pd.Series(0, index=np.arange(data['visitorsPerDateB'].sum() - len(ordersByUsersB['orders'])), name='orders')],axis=0)\n",
    "\n",
    "print(\"p-value = {0:.5f}\".format(st.mannwhitneyu(sampleA, sampleB)[1]))\n",
    "\n",
    "print(\"Относительная разница: {0:.3f}\".format(sampleB.mean() / sampleA.mean() - 1))\n",
    "if st.mannwhitneyu(sampleA, sampleB)[1] < 0.05:\n",
    "    print('Отвергаем нулевую гипотезу')\n",
    "else:\n",
    "    print(\n",
    "        'Не получилось отвергнуть нулевую гипотезу'\n",
    "    ) "
   ]
  },
  {
   "cell_type": "markdown",
   "metadata": {},
   "source": [
    "Относительный прирост группы B к группе А равен 16%."
   ]
  },
  {
   "cell_type": "markdown",
   "metadata": {},
   "source": [
    "### <b>Расчет статистической значимости различий в среднем чеке заказа между группами по «сырым» данным</b>"
   ]
  },
  {
   "cell_type": "markdown",
   "metadata": {},
   "source": [
    "Для расчета статистической значимости различий в среднем чеке заказа между группами по «сырым» данным сформируем гипотезы:\n",
    "\n",
    " - H0: Различий в среднем чеке между группами нет.\n",
    "\n",
    " - H1: Различия в среднем чеке между группами есть.\n",
    "\n",
    "Критический уровень значимости (альфа): 0,05.\n",
    "\n",
    "Метод проверки гипотез: критерий Манна-Уитни."
   ]
  },
  {
   "cell_type": "code",
   "execution_count": 34,
   "metadata": {},
   "outputs": [
    {
     "name": "stdout",
     "output_type": "stream",
     "text": [
      "p-value = 0.829\n",
      "Относительная разница: 0.287\n",
      "Не получилось отвергнуть нулевую гипотезу\n"
     ]
    }
   ],
   "source": [
    "print('p-value = {0:.3f}'.format(st.mannwhitneyu(raw_orders[raw_orders['group']=='A']['revenue'], raw_orders[raw_orders['group']=='B']['revenue'])[1]))\n",
    "print('Относительная разница: {0:.3f}'.format(raw_orders[raw_orders['group']=='B']['revenue'].mean()/raw_orders[raw_orders['group']=='A']['revenue'].mean()-1))\n",
    "\n",
    "if st.mannwhitneyu(raw_orders[raw_orders['group']=='A']['revenue'], raw_orders[raw_orders['group']=='B']['revenue'])[1] < 0.05:\n",
    "    print('Отвергаем нулевую гипотезу')\n",
    "else:\n",
    "    print(\n",
    "        'Не получилось отвергнуть нулевую гипотезу'\n",
    "    ) "
   ]
  },
  {
   "cell_type": "markdown",
   "metadata": {},
   "source": [
    " Различий в среднем чеке между группами нет. Средний чек группы B чека группы A на 28.7%."
   ]
  },
  {
   "cell_type": "markdown",
   "metadata": {},
   "source": [
    "### <b>Расчет статистической значимости различий в среднем количестве заказов на посетителя между группами по «очищенным» данным</b>"
   ]
  },
  {
   "cell_type": "code",
   "execution_count": 35,
   "metadata": {},
   "outputs": [
    {
     "name": "stdout",
     "output_type": "stream",
     "text": [
      "568     113298937\n",
      "1099    148427295\n",
      "928     204675465\n",
      "33      249864742\n",
      "684     358944393\n",
      "dtype: int64\n",
      "Кол-во аномальных пользователей: 58\n",
      "Доля аномальных пользователей относительно общего кол-ва пользователей: 5.96%\n"
     ]
    }
   ],
   "source": [
    "cost_orders = np.percentile(raw_orders['revenue'], 95)\n",
    "\n",
    "usersWithManyOrders = pd.concat(\n",
    "    [\n",
    "        ordersByUsersA[ordersByUsersA['orders'] > 2]['user_Id'],\n",
    "        ordersByUsersB[ordersByUsersB['orders'] > 2]['user_Id'],\n",
    "    ],\n",
    "    axis=0,\n",
    ")\n",
    "usersWithExpensiveOrders = raw_orders[raw_orders['revenue'] > cost_orders]['visitor_id']\n",
    "abnormalUsers = (\n",
    "    pd.concat([usersWithManyOrders, usersWithExpensiveOrders], axis=0)\n",
    "    .drop_duplicates()\n",
    "    .sort_values()\n",
    ")\n",
    "print(abnormalUsers.head(5))\n",
    "\n",
    "\n",
    "#оценим аномалии в относительном выражении\n",
    "\n",
    "duplicated_users = orders.groupby('visitor_id')['group'].nunique()\n",
    "duplicated_users = duplicated_users[duplicated_users > 1]\n",
    "\n",
    "print(f\"Кол-во аномальных пользователей: {abnormalUsers.shape[0]}\")\n",
    "print (f\"Доля аномальных пользователей относительно общего кол-ва пользователей: {abnormalUsers.shape[0]/raw_orders['visitor_id'].nunique():.2%}\")"
   ]
  },
  {
   "cell_type": "markdown",
   "metadata": {},
   "source": [
    "Для расчета статистической значимости различий в среднем количестве заказов на посетителя между группами по «очищенным» данным сформируем гипотезы:\n",
    "\n",
    " - H0: Различий в среднем количестве заказов на посетителя между группами по «очищенным» данным нет.\n",
    "\n",
    " - H1: Различия в среднем количестве заказов на посетителя между группами по «очищенным» данным есть.\n",
    "\n",
    "Критический уровень значимости (альфа): 0,05.\n",
    "\n",
    "Метод проверки гипотез: критерий Манна-Уитни."
   ]
  },
  {
   "cell_type": "code",
   "execution_count": 36,
   "metadata": {},
   "outputs": [
    {
     "name": "stdout",
     "output_type": "stream",
     "text": [
      "p-value = 0.01235\n",
      "Относительная разница: 0.182\n",
      "Отвергаем нулевую гипотезу\n"
     ]
    }
   ],
   "source": [
    "sampleAFiltered = pd.concat(\n",
    "    [\n",
    "        ordersByUsersA[\n",
    "            np.logical_not(ordersByUsersA['user_Id'].isin(abnormalUsers))\n",
    "        ]['orders'],\n",
    "        pd.Series(\n",
    "            0,\n",
    "            index=np.arange(\n",
    "                data['visitorsPerDateA'].sum() - len(ordersByUsersA['orders'])\n",
    "            ),\n",
    "            name='orders',\n",
    "        ),\n",
    "    ],\n",
    "    axis=0,\n",
    ")\n",
    "\n",
    "sampleBFiltered = pd.concat(\n",
    "    [\n",
    "        ordersByUsersB[\n",
    "            np.logical_not(ordersByUsersB['user_Id'].isin(abnormalUsers))\n",
    "        ]['orders'],\n",
    "        pd.Series(\n",
    "            0,\n",
    "            index=np.arange(\n",
    "                data['visitorsPerDateB'].sum() - len(ordersByUsersB['orders'])\n",
    "            ),\n",
    "            name='orders',\n",
    "        ),\n",
    "    ],\n",
    "    axis=0,\n",
    ")\n",
    "\n",
    "print('p-value = {0:.5f}'.format(st.mannwhitneyu(sampleAFiltered, sampleBFiltered)[1]))\n",
    "print('Относительная разница: {0:.3f}'.format(sampleBFiltered.mean()/sampleAFiltered.mean()-1))\n",
    "\n",
    "if st.mannwhitneyu(sampleAFiltered, sampleBFiltered)[1] < 0.05:\n",
    "    print('Отвергаем нулевую гипотезу')\n",
    "else:\n",
    "    print(\n",
    "        'Не получилось отвергнуть нулевую гипотезу'\n",
    "    ) "
   ]
  },
  {
   "cell_type": "markdown",
   "metadata": {},
   "source": [
    "Относительный прирост группы B к группе А равен 18,2%. B лучше A."
   ]
  },
  {
   "cell_type": "markdown",
   "metadata": {},
   "source": [
    "### <b>Расчет статистической значимости различий в среднем чеке заказа между группами по «очищенным» данным</b>"
   ]
  },
  {
   "cell_type": "markdown",
   "metadata": {},
   "source": [
    "Для расчета статистической значимости различий в среднем чеке заказа между группами по «очищенным» данным сформируем гипотезы:\n",
    "\n",
    " - H0: Различий в среднем чеке заказа между группами по «очищенным» данным данным нет.\n",
    "\n",
    " - H1: Различия в среднем чеке заказа между группами по «очищенным» данным есть.\n",
    "\n",
    "Критический уровень значимости (альфа): 0,05.\n",
    "\n",
    "Метод проверки гипотез: критерий Манна-Уитни."
   ]
  },
  {
   "cell_type": "code",
   "execution_count": 37,
   "metadata": {},
   "outputs": [
    {
     "name": "stdout",
     "output_type": "stream",
     "text": [
      "p-value = 0.646\n",
      "Относительная разница: -0.048\n",
      "Не получилось отвергнуть нулевую гипотезу\n"
     ]
    }
   ],
   "source": [
    "print(\n",
    "    'p-value = {0:.3f}'.format(\n",
    "        st.mannwhitneyu(\n",
    "            raw_orders[\n",
    "                np.logical_and(\n",
    "                    raw_orders['group'] == 'A',\n",
    "                    np.logical_not(raw_orders['visitor_id'].isin(abnormalUsers)),\n",
    "                )\n",
    "            ]['revenue'],\n",
    "            raw_orders[\n",
    "                np.logical_and(\n",
    "                    raw_orders['group'] == 'B',\n",
    "                    np.logical_not(raw_orders['visitor_id'].isin(abnormalUsers)),\n",
    "                )\n",
    "            ]['revenue'],\n",
    "        )[1]\n",
    "    )\n",
    ")\n",
    "\n",
    "print(\n",
    "    \"Относительная разница: {0:.3f}\".format(\n",
    "        raw_orders[\n",
    "            np.logical_and(\n",
    "                raw_orders['group'] == 'B',\n",
    "                np.logical_not(raw_orders['visitor_id'].isin(abnormalUsers)),\n",
    "            )\n",
    "        ]['revenue'].mean()\n",
    "        / raw_orders[\n",
    "            np.logical_and(\n",
    "                raw_orders['group'] == 'A',\n",
    "                np.logical_not(raw_orders['visitor_id'].isin(abnormalUsers)),\n",
    "            )\n",
    "        ]['revenue'].mean()\n",
    "        - 1\n",
    "    )\n",
    ")\n",
    "\n",
    "if st.mannwhitneyu(\n",
    "            raw_orders[\n",
    "                np.logical_and(\n",
    "                    raw_orders['group'] == 'A',\n",
    "                    np.logical_not(raw_orders['visitor_id'].isin(abnormalUsers)),\n",
    "                )\n",
    "            ]['revenue'],\n",
    "            raw_orders[\n",
    "                np.logical_and(\n",
    "                    raw_orders['group'] == 'B',\n",
    "                    np.logical_not(raw_orders['visitor_id'].isin(abnormalUsers)),\n",
    "                )\n",
    "            ]['revenue'],\n",
    "        )[1] < 0.05:\n",
    "    print('Отвергаем нулевую гипотезу')\n",
    "else:\n",
    "    print(\n",
    "        'Не получилось отвергнуть нулевую гипотезу'\n",
    "    ) "
   ]
  },
  {
   "cell_type": "markdown",
   "metadata": {},
   "source": [
    "Разница между сегментами изменилась с 29% до -5%.\n",
    "После удаления выбросов в данных меньше шума, дисперсия снизилась."
   ]
  },
  {
   "cell_type": "markdown",
   "metadata": {},
   "source": [
    "## <b>Итоговые выводы по результатам теста:</b>\n",
    "\n",
    "Исходя из проведенного анализа по результатам теста рекомендуется остановить тест, зафиксировав победу группы B:\n",
    "- После стабилизации метрики по выручке, среднему чеку и среднему количества заказов на посетителя практически всегда лидировали в группе B;\n",
    "- После очистки разница между средними чеками стала минимальна;\n",
    "- После \"очистки\" данных показатель среднего количества заказов на посетителя изменился с 16% на 18% - данная разница является статистически значимой."
   ]
  }
 ],
 "metadata": {
  "ExecuteTimeLog": [
   {
    "duration": 1377,
    "start_time": "2023-04-25T12:09:03.014Z"
   },
   {
    "duration": 229,
    "start_time": "2023-04-25T12:10:31.601Z"
   },
   {
    "duration": 4,
    "start_time": "2023-04-25T12:15:44.687Z"
   },
   {
    "duration": 77,
    "start_time": "2023-04-25T12:15:45.444Z"
   },
   {
    "duration": 151,
    "start_time": "2023-04-25T12:16:39.196Z"
   },
   {
    "duration": 8,
    "start_time": "2023-04-25T12:16:44.844Z"
   },
   {
    "duration": 12,
    "start_time": "2023-04-25T12:16:54.035Z"
   },
   {
    "duration": 14,
    "start_time": "2023-04-25T12:17:12.352Z"
   },
   {
    "duration": 29,
    "start_time": "2023-04-25T12:17:32.145Z"
   },
   {
    "duration": 20,
    "start_time": "2023-04-25T12:18:22.683Z"
   },
   {
    "duration": 25,
    "start_time": "2023-04-25T12:18:43.511Z"
   },
   {
    "duration": 31,
    "start_time": "2023-04-25T12:18:54.238Z"
   },
   {
    "duration": 7,
    "start_time": "2023-04-25T12:23:41.288Z"
   },
   {
    "duration": 6,
    "start_time": "2023-04-25T12:25:55.179Z"
   },
   {
    "duration": 24,
    "start_time": "2023-04-25T12:26:26.163Z"
   },
   {
    "duration": 17,
    "start_time": "2023-04-25T12:28:06.720Z"
   },
   {
    "duration": 11,
    "start_time": "2023-04-25T12:28:15.915Z"
   },
   {
    "duration": 7,
    "start_time": "2023-04-25T12:28:36.391Z"
   },
   {
    "duration": 7,
    "start_time": "2023-04-25T12:28:59.078Z"
   },
   {
    "duration": 13,
    "start_time": "2023-04-25T12:43:20.124Z"
   },
   {
    "duration": 11,
    "start_time": "2023-04-25T12:44:00.337Z"
   },
   {
    "duration": 12,
    "start_time": "2023-04-25T12:46:20.739Z"
   },
   {
    "duration": 12,
    "start_time": "2023-04-25T12:47:06.152Z"
   },
   {
    "duration": 10,
    "start_time": "2023-04-25T12:48:12.052Z"
   },
   {
    "duration": 11,
    "start_time": "2023-04-25T12:48:18.120Z"
   },
   {
    "duration": 13,
    "start_time": "2023-04-25T12:50:03.599Z"
   },
   {
    "duration": 11,
    "start_time": "2023-04-25T12:50:29.405Z"
   },
   {
    "duration": 74,
    "start_time": "2023-04-25T12:52:00.636Z"
   },
   {
    "duration": 960,
    "start_time": "2023-04-25T13:00:17.496Z"
   },
   {
    "duration": 926,
    "start_time": "2023-04-25T13:00:48.731Z"
   },
   {
    "duration": 1097,
    "start_time": "2023-04-25T13:01:45.003Z"
   },
   {
    "duration": 3,
    "start_time": "2023-04-25T13:01:52.220Z"
   },
   {
    "duration": 97,
    "start_time": "2023-04-25T13:01:52.224Z"
   },
   {
    "duration": 15,
    "start_time": "2023-04-25T13:01:52.323Z"
   },
   {
    "duration": 19,
    "start_time": "2023-04-25T13:01:52.340Z"
   },
   {
    "duration": 17,
    "start_time": "2023-04-25T13:01:52.361Z"
   },
   {
    "duration": 7,
    "start_time": "2023-04-25T13:01:52.379Z"
   },
   {
    "duration": 22,
    "start_time": "2023-04-25T13:01:52.387Z"
   },
   {
    "duration": 7,
    "start_time": "2023-04-25T13:01:52.411Z"
   },
   {
    "duration": 50,
    "start_time": "2023-04-25T13:01:52.420Z"
   },
   {
    "duration": 21,
    "start_time": "2023-04-25T13:01:52.472Z"
   },
   {
    "duration": 14,
    "start_time": "2023-04-25T13:01:52.496Z"
   },
   {
    "duration": 13,
    "start_time": "2023-04-25T13:03:15.829Z"
   },
   {
    "duration": 16,
    "start_time": "2023-04-25T13:03:37.915Z"
   },
   {
    "duration": 7,
    "start_time": "2023-04-25T13:06:45.496Z"
   },
   {
    "duration": 7,
    "start_time": "2023-04-25T13:07:36.334Z"
   },
   {
    "duration": 28,
    "start_time": "2023-04-25T13:08:45.303Z"
   },
   {
    "duration": 6,
    "start_time": "2023-04-25T13:08:53.287Z"
   },
   {
    "duration": 10,
    "start_time": "2023-04-25T13:11:52.095Z"
   },
   {
    "duration": 10,
    "start_time": "2023-04-25T13:15:54.999Z"
   },
   {
    "duration": 10,
    "start_time": "2023-04-25T13:17:29.592Z"
   },
   {
    "duration": 173,
    "start_time": "2023-04-25T13:18:04.484Z"
   },
   {
    "duration": 147,
    "start_time": "2023-04-25T13:19:14.950Z"
   },
   {
    "duration": 122,
    "start_time": "2023-04-25T13:19:32.095Z"
   },
   {
    "duration": 10,
    "start_time": "2023-04-25T13:20:07.556Z"
   },
   {
    "duration": 161,
    "start_time": "2023-04-25T13:20:20.457Z"
   },
   {
    "duration": 119,
    "start_time": "2023-04-25T13:20:21.048Z"
   },
   {
    "duration": 14,
    "start_time": "2023-04-25T13:20:21.639Z"
   },
   {
    "duration": 6,
    "start_time": "2023-04-25T13:20:54.428Z"
   },
   {
    "duration": 308,
    "start_time": "2023-04-25T13:25:35.824Z"
   },
   {
    "duration": 256,
    "start_time": "2023-04-25T13:26:12.649Z"
   },
   {
    "duration": 247,
    "start_time": "2023-04-25T13:26:18.645Z"
   },
   {
    "duration": 249,
    "start_time": "2023-04-25T13:26:34.123Z"
   },
   {
    "duration": 263,
    "start_time": "2023-04-25T13:27:00.436Z"
   },
   {
    "duration": 4,
    "start_time": "2023-04-25T13:27:05.025Z"
   },
   {
    "duration": 102,
    "start_time": "2023-04-25T13:27:05.031Z"
   },
   {
    "duration": 15,
    "start_time": "2023-04-25T13:27:05.135Z"
   },
   {
    "duration": 30,
    "start_time": "2023-04-25T13:27:05.151Z"
   },
   {
    "duration": 19,
    "start_time": "2023-04-25T13:27:05.184Z"
   },
   {
    "duration": 7,
    "start_time": "2023-04-25T13:27:05.204Z"
   },
   {
    "duration": 28,
    "start_time": "2023-04-25T13:27:05.213Z"
   },
   {
    "duration": 15,
    "start_time": "2023-04-25T13:27:05.267Z"
   },
   {
    "duration": 99,
    "start_time": "2023-04-25T13:27:05.283Z"
   },
   {
    "duration": 17,
    "start_time": "2023-04-25T13:27:05.384Z"
   },
   {
    "duration": 22,
    "start_time": "2023-04-25T13:27:05.403Z"
   },
   {
    "duration": 6,
    "start_time": "2023-04-25T13:27:05.427Z"
   },
   {
    "duration": 32,
    "start_time": "2023-04-25T13:27:05.435Z"
   },
   {
    "duration": 18,
    "start_time": "2023-04-25T13:27:05.469Z"
   },
   {
    "duration": 159,
    "start_time": "2023-04-25T13:27:05.489Z"
   },
   {
    "duration": 136,
    "start_time": "2023-04-25T13:27:05.649Z"
   },
   {
    "duration": 12,
    "start_time": "2023-04-25T13:27:05.786Z"
   },
   {
    "duration": 11,
    "start_time": "2023-04-25T13:27:05.799Z"
   },
   {
    "duration": 246,
    "start_time": "2023-04-25T13:27:05.812Z"
   },
   {
    "duration": 247,
    "start_time": "2023-04-25T13:36:36.792Z"
   },
   {
    "duration": 384,
    "start_time": "2023-04-25T13:45:39.836Z"
   },
   {
    "duration": 241,
    "start_time": "2023-04-25T13:51:08.312Z"
   },
   {
    "duration": 368,
    "start_time": "2023-04-25T13:56:22.431Z"
   },
   {
    "duration": 222,
    "start_time": "2023-04-25T13:57:01.987Z"
   },
   {
    "duration": 216,
    "start_time": "2023-04-25T13:57:45.475Z"
   },
   {
    "duration": 367,
    "start_time": "2023-04-25T14:34:39.520Z"
   },
   {
    "duration": 18,
    "start_time": "2023-04-25T14:38:17.321Z"
   },
   {
    "duration": 208,
    "start_time": "2023-04-25T14:38:31.338Z"
   },
   {
    "duration": 6,
    "start_time": "2023-04-25T14:40:58.764Z"
   },
   {
    "duration": 4,
    "start_time": "2023-04-25T14:41:06.580Z"
   },
   {
    "duration": 167,
    "start_time": "2023-04-25T14:43:48.575Z"
   },
   {
    "duration": 4,
    "start_time": "2023-04-25T14:45:12.516Z"
   },
   {
    "duration": 142,
    "start_time": "2023-04-25T14:51:20.992Z"
   },
   {
    "duration": 12,
    "start_time": "2023-04-25T14:51:46.596Z"
   },
   {
    "duration": 11,
    "start_time": "2023-04-25T14:52:38.140Z"
   },
   {
    "duration": 16,
    "start_time": "2023-04-25T14:54:02.699Z"
   },
   {
    "duration": 23,
    "start_time": "2023-04-25T14:54:36.796Z"
   },
   {
    "duration": 60,
    "start_time": "2023-04-25T14:54:54.193Z"
   },
   {
    "duration": 135,
    "start_time": "2023-04-25T14:55:14.819Z"
   },
   {
    "duration": 132,
    "start_time": "2023-04-25T14:55:33.357Z"
   },
   {
    "duration": 145,
    "start_time": "2023-04-25T14:55:49.892Z"
   },
   {
    "duration": 298,
    "start_time": "2023-04-25T14:56:04.592Z"
   },
   {
    "duration": 113,
    "start_time": "2023-04-25T14:56:08.124Z"
   },
   {
    "duration": 26,
    "start_time": "2023-04-25T14:56:09.114Z"
   },
   {
    "duration": 62,
    "start_time": "2023-04-25T14:59:37.536Z"
   },
   {
    "duration": 54,
    "start_time": "2023-04-25T15:00:26.815Z"
   },
   {
    "duration": 5,
    "start_time": "2023-04-25T15:03:43.796Z"
   },
   {
    "duration": 20,
    "start_time": "2023-04-25T15:04:00.237Z"
   },
   {
    "duration": 776,
    "start_time": "2023-04-25T15:06:16.649Z"
   },
   {
    "duration": 730,
    "start_time": "2023-04-25T15:06:32.700Z"
   },
   {
    "duration": 15,
    "start_time": "2023-04-25T15:06:40.204Z"
   },
   {
    "duration": 806,
    "start_time": "2023-04-25T15:06:41.884Z"
   },
   {
    "duration": 3,
    "start_time": "2023-04-25T15:06:48.705Z"
   },
   {
    "duration": 89,
    "start_time": "2023-04-25T15:06:48.710Z"
   },
   {
    "duration": 17,
    "start_time": "2023-04-25T15:06:48.801Z"
   },
   {
    "duration": 25,
    "start_time": "2023-04-25T15:06:48.819Z"
   },
   {
    "duration": 19,
    "start_time": "2023-04-25T15:06:48.847Z"
   },
   {
    "duration": 8,
    "start_time": "2023-04-25T15:06:48.868Z"
   },
   {
    "duration": 22,
    "start_time": "2023-04-25T15:06:48.877Z"
   },
   {
    "duration": 7,
    "start_time": "2023-04-25T15:06:48.900Z"
   },
   {
    "duration": 13,
    "start_time": "2023-04-25T15:06:48.909Z"
   },
   {
    "duration": 50,
    "start_time": "2023-04-25T15:06:48.924Z"
   },
   {
    "duration": 17,
    "start_time": "2023-04-25T15:06:48.975Z"
   },
   {
    "duration": 6,
    "start_time": "2023-04-25T15:06:48.994Z"
   },
   {
    "duration": 5,
    "start_time": "2023-04-25T15:06:49.001Z"
   },
   {
    "duration": 24,
    "start_time": "2023-04-25T15:06:49.009Z"
   },
   {
    "duration": 171,
    "start_time": "2023-04-25T15:06:49.035Z"
   },
   {
    "duration": 130,
    "start_time": "2023-04-25T15:06:49.208Z"
   },
   {
    "duration": 25,
    "start_time": "2023-04-25T15:06:49.340Z"
   },
   {
    "duration": 7,
    "start_time": "2023-04-25T15:06:49.369Z"
   },
   {
    "duration": 232,
    "start_time": "2023-04-25T15:06:49.377Z"
   },
   {
    "duration": 229,
    "start_time": "2023-04-25T15:06:49.610Z"
   },
   {
    "duration": 348,
    "start_time": "2023-04-25T15:06:49.841Z"
   },
   {
    "duration": 259,
    "start_time": "2023-04-25T15:06:50.191Z"
   },
   {
    "duration": 372,
    "start_time": "2023-04-25T15:06:50.452Z"
   },
   {
    "duration": 183,
    "start_time": "2023-04-25T15:06:50.826Z"
   },
   {
    "duration": 4,
    "start_time": "2023-04-25T15:06:51.011Z"
   },
   {
    "duration": 179,
    "start_time": "2023-04-25T15:06:51.016Z"
   },
   {
    "duration": 4,
    "start_time": "2023-04-25T15:06:51.197Z"
   },
   {
    "duration": 245,
    "start_time": "2023-04-25T15:06:51.203Z"
   },
   {
    "duration": 137,
    "start_time": "2023-04-25T15:06:51.449Z"
   },
   {
    "duration": 45,
    "start_time": "2023-04-25T15:06:51.587Z"
   },
   {
    "duration": 32,
    "start_time": "2023-04-25T15:06:51.634Z"
   },
   {
    "duration": 763,
    "start_time": "2023-04-25T15:06:51.668Z"
   },
   {
    "duration": 13,
    "start_time": "2023-04-25T15:07:01.811Z"
   },
   {
    "duration": 13,
    "start_time": "2023-04-25T15:07:43.730Z"
   },
   {
    "duration": 771,
    "start_time": "2023-04-25T15:10:55.895Z"
   },
   {
    "duration": 54,
    "start_time": "2023-04-25T15:11:13.720Z"
   },
   {
    "duration": 20,
    "start_time": "2023-04-25T15:15:40.656Z"
   },
   {
    "duration": 21,
    "start_time": "2023-04-25T15:16:30.596Z"
   },
   {
    "duration": 1259,
    "start_time": "2023-04-25T15:19:33.243Z"
   },
   {
    "duration": 74,
    "start_time": "2023-04-25T15:19:34.504Z"
   },
   {
    "duration": 22,
    "start_time": "2023-04-25T15:19:34.580Z"
   },
   {
    "duration": 23,
    "start_time": "2023-04-25T15:19:34.604Z"
   },
   {
    "duration": 40,
    "start_time": "2023-04-25T15:19:34.629Z"
   },
   {
    "duration": 6,
    "start_time": "2023-04-25T15:19:34.673Z"
   },
   {
    "duration": 31,
    "start_time": "2023-04-25T15:19:34.681Z"
   },
   {
    "duration": 8,
    "start_time": "2023-04-25T15:19:34.713Z"
   },
   {
    "duration": 43,
    "start_time": "2023-04-25T15:19:34.723Z"
   },
   {
    "duration": 18,
    "start_time": "2023-04-25T15:19:34.768Z"
   },
   {
    "duration": 28,
    "start_time": "2023-04-25T15:19:34.788Z"
   },
   {
    "duration": 7,
    "start_time": "2023-04-25T15:19:34.817Z"
   },
   {
    "duration": 40,
    "start_time": "2023-04-25T15:19:34.826Z"
   },
   {
    "duration": 11,
    "start_time": "2023-04-25T15:19:34.870Z"
   },
   {
    "duration": 196,
    "start_time": "2023-04-25T15:19:34.883Z"
   },
   {
    "duration": 142,
    "start_time": "2023-04-25T15:19:35.081Z"
   },
   {
    "duration": 13,
    "start_time": "2023-04-25T15:19:35.225Z"
   },
   {
    "duration": 26,
    "start_time": "2023-04-25T15:19:35.240Z"
   },
   {
    "duration": 300,
    "start_time": "2023-04-25T15:19:35.268Z"
   },
   {
    "duration": 229,
    "start_time": "2023-04-25T15:19:35.571Z"
   },
   {
    "duration": 328,
    "start_time": "2023-04-25T15:19:35.802Z"
   },
   {
    "duration": 234,
    "start_time": "2023-04-25T15:19:36.132Z"
   },
   {
    "duration": 353,
    "start_time": "2023-04-25T15:19:36.368Z"
   },
   {
    "duration": 178,
    "start_time": "2023-04-25T15:19:36.723Z"
   },
   {
    "duration": 5,
    "start_time": "2023-04-25T15:19:36.904Z"
   },
   {
    "duration": 191,
    "start_time": "2023-04-25T15:19:36.911Z"
   },
   {
    "duration": 5,
    "start_time": "2023-04-25T15:19:37.104Z"
   },
   {
    "duration": 388,
    "start_time": "2023-04-25T15:19:37.110Z"
   },
   {
    "duration": 229,
    "start_time": "2023-04-25T15:19:37.500Z"
   },
   {
    "duration": 57,
    "start_time": "2023-04-25T15:19:37.731Z"
   },
   {
    "duration": 17,
    "start_time": "2023-04-25T15:19:37.790Z"
   },
   {
    "duration": 21,
    "start_time": "2023-04-25T15:19:37.808Z"
   },
   {
    "duration": 71,
    "start_time": "2023-04-25T15:19:37.831Z"
   },
   {
    "duration": 20,
    "start_time": "2023-04-25T15:19:37.904Z"
   },
   {
    "duration": 1303,
    "start_time": "2023-04-26T12:58:31.546Z"
   },
   {
    "duration": 233,
    "start_time": "2023-04-26T12:58:33.451Z"
   },
   {
    "duration": 22,
    "start_time": "2023-04-26T12:58:35.733Z"
   },
   {
    "duration": 28,
    "start_time": "2023-04-26T12:58:39.085Z"
   },
   {
    "duration": 19,
    "start_time": "2023-04-26T12:58:40.959Z"
   },
   {
    "duration": 7,
    "start_time": "2023-04-26T12:58:41.928Z"
   },
   {
    "duration": 27,
    "start_time": "2023-04-26T12:58:43.008Z"
   },
   {
    "duration": 8,
    "start_time": "2023-04-26T12:58:44.364Z"
   },
   {
    "duration": 9,
    "start_time": "2023-04-26T13:00:00.259Z"
   },
   {
    "duration": 105,
    "start_time": "2023-04-26T13:00:25.558Z"
   },
   {
    "duration": 11,
    "start_time": "2023-04-26T13:00:37.923Z"
   },
   {
    "duration": 6,
    "start_time": "2023-04-26T13:01:02.151Z"
   },
   {
    "duration": 12,
    "start_time": "2023-04-26T13:03:21.841Z"
   },
   {
    "duration": 8,
    "start_time": "2023-04-26T13:04:20.686Z"
   },
   {
    "duration": 10,
    "start_time": "2023-04-26T13:05:08.558Z"
   },
   {
    "duration": 10,
    "start_time": "2023-04-26T13:05:32.096Z"
   },
   {
    "duration": 1196,
    "start_time": "2023-04-26T13:08:43.246Z"
   },
   {
    "duration": 77,
    "start_time": "2023-04-26T13:08:44.444Z"
   },
   {
    "duration": 22,
    "start_time": "2023-04-26T13:08:44.524Z"
   },
   {
    "duration": 23,
    "start_time": "2023-04-26T13:08:44.548Z"
   },
   {
    "duration": 18,
    "start_time": "2023-04-26T13:08:44.573Z"
   },
   {
    "duration": 23,
    "start_time": "2023-04-26T13:08:44.592Z"
   },
   {
    "duration": 25,
    "start_time": "2023-04-26T13:08:44.617Z"
   },
   {
    "duration": 9,
    "start_time": "2023-04-26T13:08:44.643Z"
   },
   {
    "duration": 12,
    "start_time": "2023-04-26T13:08:44.654Z"
   },
   {
    "duration": 57,
    "start_time": "2023-04-26T13:08:44.667Z"
   },
   {
    "duration": 16,
    "start_time": "2023-04-26T13:08:44.725Z"
   },
   {
    "duration": 24,
    "start_time": "2023-04-26T13:08:44.743Z"
   },
   {
    "duration": 43,
    "start_time": "2023-04-26T13:08:44.769Z"
   },
   {
    "duration": 6,
    "start_time": "2023-04-26T13:08:44.815Z"
   },
   {
    "duration": 16,
    "start_time": "2023-04-26T13:08:44.823Z"
   },
   {
    "duration": 185,
    "start_time": "2023-04-26T13:08:44.840Z"
   },
   {
    "duration": 136,
    "start_time": "2023-04-26T13:08:45.027Z"
   },
   {
    "duration": 14,
    "start_time": "2023-04-26T13:08:45.165Z"
   },
   {
    "duration": 12,
    "start_time": "2023-04-26T13:08:45.180Z"
   },
   {
    "duration": 345,
    "start_time": "2023-04-26T13:08:45.193Z"
   },
   {
    "duration": 250,
    "start_time": "2023-04-26T13:08:45.539Z"
   },
   {
    "duration": 352,
    "start_time": "2023-04-26T13:08:45.791Z"
   },
   {
    "duration": 268,
    "start_time": "2023-04-26T13:08:46.146Z"
   },
   {
    "duration": 375,
    "start_time": "2023-04-26T13:08:46.416Z"
   },
   {
    "duration": 203,
    "start_time": "2023-04-26T13:08:46.793Z"
   },
   {
    "duration": 14,
    "start_time": "2023-04-26T13:08:46.998Z"
   },
   {
    "duration": 190,
    "start_time": "2023-04-26T13:08:47.014Z"
   },
   {
    "duration": 6,
    "start_time": "2023-04-26T13:08:47.207Z"
   },
   {
    "duration": 335,
    "start_time": "2023-04-26T13:08:47.216Z"
   },
   {
    "duration": 140,
    "start_time": "2023-04-26T13:08:47.552Z"
   },
   {
    "duration": 59,
    "start_time": "2023-04-26T13:08:47.693Z"
   },
   {
    "duration": 16,
    "start_time": "2023-04-26T13:08:47.754Z"
   },
   {
    "duration": 17,
    "start_time": "2023-04-26T13:08:47.772Z"
   },
   {
    "duration": 50,
    "start_time": "2023-04-26T13:08:47.813Z"
   },
   {
    "duration": 19,
    "start_time": "2023-04-26T13:08:47.865Z"
   },
   {
    "duration": 5,
    "start_time": "2023-04-26T13:22:37.722Z"
   },
   {
    "duration": 75,
    "start_time": "2023-04-26T13:22:40.235Z"
   },
   {
    "duration": 160,
    "start_time": "2023-04-26T13:32:25.226Z"
   },
   {
    "duration": 157,
    "start_time": "2023-04-26T13:32:35.837Z"
   },
   {
    "duration": 171,
    "start_time": "2023-04-26T13:32:44.136Z"
   },
   {
    "duration": 6,
    "start_time": "2023-04-26T13:33:19.201Z"
   },
   {
    "duration": 100,
    "start_time": "2023-04-26T13:34:36.825Z"
   },
   {
    "duration": 4,
    "start_time": "2023-04-26T13:36:21.770Z"
   },
   {
    "duration": 168,
    "start_time": "2023-04-26T13:36:51.880Z"
   },
   {
    "duration": 165,
    "start_time": "2023-04-26T13:37:51.442Z"
   },
   {
    "duration": 19,
    "start_time": "2023-04-26T13:44:22.128Z"
   },
   {
    "duration": 54,
    "start_time": "2023-04-26T13:45:21.276Z"
   },
   {
    "duration": 5,
    "start_time": "2023-04-26T13:45:53.670Z"
   },
   {
    "duration": 17,
    "start_time": "2023-04-26T13:46:02.863Z"
   },
   {
    "duration": 44,
    "start_time": "2023-04-26T13:46:26.660Z"
   },
   {
    "duration": 18,
    "start_time": "2023-04-26T13:46:48.923Z"
   },
   {
    "duration": 23,
    "start_time": "2023-04-26T13:46:52.850Z"
   },
   {
    "duration": 19,
    "start_time": "2023-04-26T13:47:20.864Z"
   },
   {
    "duration": 20,
    "start_time": "2023-04-26T13:47:26.159Z"
   },
   {
    "duration": 1193,
    "start_time": "2023-04-26T13:47:33.552Z"
   },
   {
    "duration": 77,
    "start_time": "2023-04-26T13:47:34.747Z"
   },
   {
    "duration": 20,
    "start_time": "2023-04-26T13:47:34.826Z"
   },
   {
    "duration": 21,
    "start_time": "2023-04-26T13:47:34.847Z"
   },
   {
    "duration": 17,
    "start_time": "2023-04-26T13:47:34.870Z"
   },
   {
    "duration": 8,
    "start_time": "2023-04-26T13:47:34.911Z"
   },
   {
    "duration": 33,
    "start_time": "2023-04-26T13:47:34.921Z"
   },
   {
    "duration": 7,
    "start_time": "2023-04-26T13:47:34.956Z"
   },
   {
    "duration": 48,
    "start_time": "2023-04-26T13:47:34.965Z"
   },
   {
    "duration": 15,
    "start_time": "2023-04-26T13:47:35.015Z"
   },
   {
    "duration": 12,
    "start_time": "2023-04-26T13:47:35.032Z"
   },
   {
    "duration": 25,
    "start_time": "2023-04-26T13:47:35.047Z"
   },
   {
    "duration": 6,
    "start_time": "2023-04-26T13:47:35.074Z"
   },
   {
    "duration": 6,
    "start_time": "2023-04-26T13:47:35.111Z"
   },
   {
    "duration": 12,
    "start_time": "2023-04-26T13:47:35.119Z"
   },
   {
    "duration": 192,
    "start_time": "2023-04-26T13:47:35.132Z"
   },
   {
    "duration": 149,
    "start_time": "2023-04-26T13:47:35.326Z"
   },
   {
    "duration": 13,
    "start_time": "2023-04-26T13:47:35.476Z"
   },
   {
    "duration": 27,
    "start_time": "2023-04-26T13:47:35.491Z"
   },
   {
    "duration": 310,
    "start_time": "2023-04-26T13:47:35.520Z"
   },
   {
    "duration": 249,
    "start_time": "2023-04-26T13:47:35.832Z"
   },
   {
    "duration": 361,
    "start_time": "2023-04-26T13:47:36.083Z"
   },
   {
    "duration": 271,
    "start_time": "2023-04-26T13:47:36.446Z"
   },
   {
    "duration": 371,
    "start_time": "2023-04-26T13:47:36.718Z"
   },
   {
    "duration": 213,
    "start_time": "2023-04-26T13:47:37.091Z"
   },
   {
    "duration": 6,
    "start_time": "2023-04-26T13:47:37.312Z"
   },
   {
    "duration": 220,
    "start_time": "2023-04-26T13:47:37.320Z"
   },
   {
    "duration": 263,
    "start_time": "2023-04-26T13:47:37.542Z"
   },
   {
    "duration": 6,
    "start_time": "2023-04-26T13:47:37.806Z"
   },
   {
    "duration": 243,
    "start_time": "2023-04-26T13:47:37.815Z"
   },
   {
    "duration": 140,
    "start_time": "2023-04-26T13:47:38.060Z"
   },
   {
    "duration": 51,
    "start_time": "2023-04-26T13:47:38.202Z"
   },
   {
    "duration": 16,
    "start_time": "2023-04-26T13:47:38.255Z"
   },
   {
    "duration": 13,
    "start_time": "2023-04-26T13:47:38.272Z"
   },
   {
    "duration": 49,
    "start_time": "2023-04-26T13:47:38.312Z"
   },
   {
    "duration": 21,
    "start_time": "2023-04-26T13:47:38.363Z"
   },
   {
    "duration": 12,
    "start_time": "2023-04-26T13:50:14.693Z"
   },
   {
    "duration": 105,
    "start_time": "2023-04-26T13:51:40.018Z"
   },
   {
    "duration": 12,
    "start_time": "2023-04-26T13:52:30.471Z"
   },
   {
    "duration": 12,
    "start_time": "2023-04-26T13:52:42.813Z"
   },
   {
    "duration": 5,
    "start_time": "2023-04-26T13:54:44.646Z"
   },
   {
    "duration": 8,
    "start_time": "2023-04-26T13:55:12.902Z"
   },
   {
    "duration": 4,
    "start_time": "2023-04-26T13:55:28.752Z"
   },
   {
    "duration": 6,
    "start_time": "2023-04-26T13:56:14.082Z"
   },
   {
    "duration": 11,
    "start_time": "2023-04-26T13:57:08.066Z"
   },
   {
    "duration": 1233,
    "start_time": "2023-04-26T13:57:27.957Z"
   },
   {
    "duration": 78,
    "start_time": "2023-04-26T13:57:29.192Z"
   },
   {
    "duration": 20,
    "start_time": "2023-04-26T13:57:29.272Z"
   },
   {
    "duration": 21,
    "start_time": "2023-04-26T13:57:29.294Z"
   },
   {
    "duration": 18,
    "start_time": "2023-04-26T13:57:29.317Z"
   },
   {
    "duration": 6,
    "start_time": "2023-04-26T13:57:29.337Z"
   },
   {
    "duration": 24,
    "start_time": "2023-04-26T13:57:29.345Z"
   },
   {
    "duration": 44,
    "start_time": "2023-04-26T13:57:29.370Z"
   },
   {
    "duration": 13,
    "start_time": "2023-04-26T13:57:29.416Z"
   },
   {
    "duration": 28,
    "start_time": "2023-04-26T13:57:29.430Z"
   },
   {
    "duration": 27,
    "start_time": "2023-04-26T13:57:29.460Z"
   },
   {
    "duration": 35,
    "start_time": "2023-04-26T13:57:29.489Z"
   },
   {
    "duration": 17,
    "start_time": "2023-04-26T13:57:29.526Z"
   },
   {
    "duration": 53,
    "start_time": "2023-04-26T13:57:29.546Z"
   },
   {
    "duration": 31,
    "start_time": "2023-04-26T13:57:29.601Z"
   },
   {
    "duration": 68,
    "start_time": "2023-04-26T13:57:29.634Z"
   },
   {
    "duration": 199,
    "start_time": "2023-04-26T13:57:29.703Z"
   },
   {
    "duration": 125,
    "start_time": "2023-04-26T13:57:29.905Z"
   },
   {
    "duration": 17,
    "start_time": "2023-04-26T13:57:30.033Z"
   },
   {
    "duration": 34,
    "start_time": "2023-04-26T13:57:30.052Z"
   },
   {
    "duration": 350,
    "start_time": "2023-04-26T13:57:30.088Z"
   },
   {
    "duration": 290,
    "start_time": "2023-04-26T13:57:30.440Z"
   },
   {
    "duration": 337,
    "start_time": "2023-04-26T13:57:30.732Z"
   },
   {
    "duration": 278,
    "start_time": "2023-04-26T13:57:31.071Z"
   },
   {
    "duration": 337,
    "start_time": "2023-04-26T13:57:31.351Z"
   },
   {
    "duration": 193,
    "start_time": "2023-04-26T13:57:31.690Z"
   },
   {
    "duration": 4,
    "start_time": "2023-04-26T13:57:31.885Z"
   },
   {
    "duration": 197,
    "start_time": "2023-04-26T13:57:31.891Z"
   },
   {
    "duration": 256,
    "start_time": "2023-04-26T13:57:32.089Z"
   },
   {
    "duration": 4,
    "start_time": "2023-04-26T13:57:32.347Z"
   },
   {
    "duration": 233,
    "start_time": "2023-04-26T13:57:32.353Z"
   },
   {
    "duration": 127,
    "start_time": "2023-04-26T13:57:32.588Z"
   },
   {
    "duration": 46,
    "start_time": "2023-04-26T13:57:32.717Z"
   },
   {
    "duration": 14,
    "start_time": "2023-04-26T13:57:32.765Z"
   },
   {
    "duration": 37,
    "start_time": "2023-04-26T13:57:32.780Z"
   },
   {
    "duration": 85,
    "start_time": "2023-04-26T13:57:32.819Z"
   },
   {
    "duration": 22,
    "start_time": "2023-04-26T13:57:32.905Z"
   },
   {
    "duration": 2888,
    "start_time": "2023-07-06T11:24:06.889Z"
   },
   {
    "duration": 258,
    "start_time": "2023-07-06T11:24:09.779Z"
   },
   {
    "duration": 33,
    "start_time": "2023-07-06T11:24:10.040Z"
   },
   {
    "duration": 34,
    "start_time": "2023-07-06T11:24:10.075Z"
   },
   {
    "duration": 57,
    "start_time": "2023-07-06T11:24:10.112Z"
   },
   {
    "duration": 10,
    "start_time": "2023-07-06T11:24:10.171Z"
   },
   {
    "duration": 37,
    "start_time": "2023-07-06T11:24:10.183Z"
   },
   {
    "duration": 9,
    "start_time": "2023-07-06T11:24:10.256Z"
   },
   {
    "duration": 15,
    "start_time": "2023-07-06T11:24:10.267Z"
   },
   {
    "duration": 21,
    "start_time": "2023-07-06T11:24:10.284Z"
   },
   {
    "duration": 55,
    "start_time": "2023-07-06T11:24:10.307Z"
   },
   {
    "duration": 35,
    "start_time": "2023-07-06T11:24:10.364Z"
   },
   {
    "duration": 14,
    "start_time": "2023-07-06T11:24:10.402Z"
   },
   {
    "duration": 36,
    "start_time": "2023-07-06T11:24:10.421Z"
   },
   {
    "duration": 8,
    "start_time": "2023-07-06T11:24:10.460Z"
   },
   {
    "duration": 18,
    "start_time": "2023-07-06T11:24:10.470Z"
   },
   {
    "duration": 305,
    "start_time": "2023-07-06T11:24:10.490Z"
   },
   {
    "duration": 209,
    "start_time": "2023-07-06T11:24:10.798Z"
   },
   {
    "duration": 23,
    "start_time": "2023-07-06T11:24:11.012Z"
   },
   {
    "duration": 10,
    "start_time": "2023-07-06T11:24:11.054Z"
   },
   {
    "duration": 571,
    "start_time": "2023-07-06T11:24:11.067Z"
   },
   {
    "duration": 398,
    "start_time": "2023-07-06T11:24:11.641Z"
   },
   {
    "duration": 444,
    "start_time": "2023-07-06T11:24:12.041Z"
   },
   {
    "duration": 431,
    "start_time": "2023-07-06T11:24:12.488Z"
   },
   {
    "duration": 517,
    "start_time": "2023-07-06T11:24:12.921Z"
   },
   {
    "duration": 283,
    "start_time": "2023-07-06T11:24:13.440Z"
   },
   {
    "duration": 7,
    "start_time": "2023-07-06T11:24:13.726Z"
   },
   {
    "duration": 293,
    "start_time": "2023-07-06T11:24:13.753Z"
   },
   {
    "duration": 410,
    "start_time": "2023-07-06T11:24:14.053Z"
   },
   {
    "duration": 13,
    "start_time": "2023-07-06T11:24:14.465Z"
   },
   {
    "duration": 346,
    "start_time": "2023-07-06T11:24:14.481Z"
   },
   {
    "duration": 153,
    "start_time": "2023-07-06T11:24:14.829Z"
   },
   {
    "duration": 70,
    "start_time": "2023-07-06T11:24:14.984Z"
   },
   {
    "duration": 21,
    "start_time": "2023-07-06T11:24:15.057Z"
   },
   {
    "duration": 31,
    "start_time": "2023-07-06T11:24:15.080Z"
   },
   {
    "duration": 74,
    "start_time": "2023-07-06T11:24:15.114Z"
   },
   {
    "duration": 23,
    "start_time": "2023-07-06T11:24:15.190Z"
   }
  ],
  "kernelspec": {
   "display_name": "Python 3 (ipykernel)",
   "language": "python",
   "name": "python3"
  },
  "language_info": {
   "codemirror_mode": {
    "name": "ipython",
    "version": 3
   },
   "file_extension": ".py",
   "mimetype": "text/x-python",
   "name": "python",
   "nbconvert_exporter": "python",
   "pygments_lexer": "ipython3",
   "version": "3.9.12"
  },
  "toc": {
   "base_numbering": 1,
   "nav_menu": {
    "height": "198px",
    "width": "226px"
   },
   "number_sections": true,
   "sideBar": true,
   "skip_h1_title": true,
   "title_cell": "Table of Contents",
   "title_sidebar": "Contents",
   "toc_cell": false,
   "toc_position": {
    "height": "calc(100% - 180px)",
    "left": "10px",
    "top": "150px",
    "width": "358.594px"
   },
   "toc_section_display": true,
   "toc_window_display": true
  }
 },
 "nbformat": 4,
 "nbformat_minor": 2
}
